{
 "cells": [
  {
   "cell_type": "code",
   "execution_count": 1,
   "metadata": {},
   "outputs": [],
   "source": [
    "import os\n",
    "os.environ[\"CUDA_DEVICE_ORDER\"]=\"PCI_BUS_ID\"   \n",
    "os.environ[\"CUDA_VISIBLE_DEVICES\"]=\"7\"\n",
    "import torch\n",
    "import torch.autograd as autograd\n",
    "import torch.nn as nn\n",
    "import torch.nn.functional as F\n",
    "import torch.optim as optim\n",
    "from torch.utils.data import Dataset, DataLoader\n",
    "from tqdm import tqdm\n",
    "\n",
    "import time\n",
    "import numpy as np\n",
    "import gc\n",
    "import sys\n",
    "sys.setrecursionlimit(50000)\n",
    "import pickle\n",
    "import random\n",
    "torch.set_default_tensor_type('torch.cuda.FloatTensor')\n",
    "torch.nn.Module.dump_patches = True\n",
    "import copy\n",
    "import pandas as pd\n",
    "from sklearn.model_selection import KFold\n",
    "\n",
    "#then import my own modules\n",
    "# from AttentiveFP import Fingerprint, Fingerprint_viz, save_smiles_dicts, get_smiles_dicts, get_smiles_array, moltosvg_highlight\n",
    "from timeit import default_timer as timer\n",
    "from AttentiveFP.featurizing import graph_dict\n",
    "from AttentiveFP.AttentiveLayers_new2 import Fingerprint, graph_dataset, null_collate, Graph, Logger, time_to_str\n",
    "\n"
   ]
  },
  {
   "cell_type": "code",
   "execution_count": 2,
   "metadata": {},
   "outputs": [],
   "source": [
    "cuda_aviable = torch.cuda.is_available()\n",
    "device = torch.device(0)\n",
    "\n",
    "SEED = 28\n",
    "random.seed(SEED)\n",
    "np.random.seed(SEED)\n",
    "torch.manual_seed(SEED)\n",
    "\n",
    "torch.cuda.manual_seed_all(SEED)\n",
    "torch.backends.cudnn.benchmark = True\n",
    "torch.backends.cudnn.enabled = True\n",
    "torch.backends.cudnn.deterministic=True\n"
   ]
  },
  {
   "cell_type": "code",
   "execution_count": 3,
   "metadata": {},
   "outputs": [],
   "source": [
    "from rdkit import Chem\n",
    "# from rdkit.Chem import AllChem\n",
    "from rdkit.Chem import QED\n",
    "from rdkit.Chem import rdMolDescriptors, MolSurf\n",
    "from rdkit.Chem.Draw import SimilarityMaps\n",
    "from rdkit import Chem\n",
    "from rdkit.Chem import AllChem\n",
    "from rdkit.Chem import rdDepictor\n",
    "from rdkit.Chem.Draw import rdMolDraw2D\n",
    "%matplotlib inline\n",
    "from numpy.polynomial.polynomial import polyfit\n",
    "import matplotlib.pyplot as plt\n",
    "from matplotlib import gridspec\n",
    "import matplotlib.cm as cm\n",
    "import matplotlib\n",
    "import seaborn as sns; sns.set_style(\"darkgrid\")\n",
    "from IPython.display import SVG, display\n",
    "import sascorer\n",
    "import itertools\n",
    "from sklearn.metrics import r2_score\n",
    "import scipy"
   ]
  },
  {
   "cell_type": "code",
   "execution_count": 4,
   "metadata": {},
   "outputs": [
    {
     "name": "stdout",
     "output_type": "stream",
     "text": [
      "number of all smiles:  133885\n",
      "number of successfully processed smiles:  133247\n"
     ]
    },
    {
     "data": {
      "image/png": "[encoded data removed]",
      "text/plain": [
       "<Figure size 360x216 with 1 Axes>"
      ]
     },
     "metadata": {},
     "output_type": "display_data"
    }
   ],
   "source": [
    "task_name = 'qm9'\n",
    "tasks = [\n",
    "   \"mu\",\"alpha\",\"homo\",\"lumo\",\"gap\",\"r2\",\"zpve\",\"u0\",\"u298\",\"h298\",\"g298\",\"cv\"\n",
    "]\n",
    "\n",
    "raw_filename = \"../data/gdb9_smiles.csv\"\n",
    "filename = raw_filename.replace('.csv','')\n",
    "prefix_filename = raw_filename.split('/')[-1].replace('.csv','')\n",
    "smiles_tasks_df = pd.read_csv(raw_filename)\n",
    "\n",
    "smilesList = smiles_tasks_df.smiles.values\n",
    "print(\"number of all smiles: \", len(smilesList))\n",
    "atom_num_dist = []\n",
    "remained_smiles = []\n",
    "canonical_smiles_list = []\n",
    "for smiles in smilesList:\n",
    "    try:        \n",
    "        mol = Chem.MolFromSmiles(smiles)\n",
    "        atom_num_dist.append(len(mol.GetAtoms()))\n",
    "        remained_smiles.append(smiles)\n",
    "        canonical_smiles_list.append(Chem.MolToSmiles(Chem.MolFromSmiles(smiles), isomericSmiles=True))\n",
    "    except:\n",
    "#         print(smiles)\n",
    "        pass\n",
    "print(\"number of successfully processed smiles: \", len(remained_smiles))\n",
    "\n",
    "smiles_tasks_df = smiles_tasks_df[smiles_tasks_df[\"smiles\"].isin(remained_smiles)].reset_index()\n",
    "smiles_tasks_df['cano_smiles'] =canonical_smiles_list\n",
    "plt.figure(figsize=(5, 3))\n",
    "sns.set(font_scale=1.5)\n",
    "ax = sns.distplot(atom_num_dist, bins=28, kde=False)\n",
    "plt.tight_layout()\n",
    "plt.show()\n",
    "plt.close()\n"
   ]
  },
  {
   "cell_type": "code",
   "execution_count": 5,
   "metadata": {},
   "outputs": [],
   "source": [
    "start_time = str(time.ctime()).replace(':','-').replace(' ','_')\n",
    "\n",
    "batch_size = 500\n",
    "epochs = 300\n",
    "\n",
    "p_dropout= 0.5\n",
    "fingerprint_dim = 280\n",
    "\n",
    "weight_decay = 4.9 # also known as l2_regularization_lambda\n",
    "learning_rate = 3.4\n",
    "K = 2\n",
    "T = 2\n",
    "per_task_output_units_num = 1 # for regression model\n",
    "output_units_num = len(tasks) * per_task_output_units_num\n"
   ]
  },
  {
   "cell_type": "code",
   "execution_count": 6,
   "metadata": {},
   "outputs": [
    {
     "name": "stdout",
     "output_type": "stream",
     "text": [
      "batch size:  503\n"
     ]
    },
    {
     "data": {
      "text/html": [
       "<div>\n",
       "<style scoped>\n",
       "    .dataframe tbody tr th:only-of-type {\n",
       "        vertical-align: middle;\n",
       "    }\n",
       "\n",
       "    .dataframe tbody tr th {\n",
       "        vertical-align: top;\n",
       "    }\n",
       "\n",
       "    .dataframe thead th {\n",
       "        text-align: right;\n",
       "    }\n",
       "</style>\n",
       "<table border=\"1\" class=\"dataframe\">\n",
       "  <thead>\n",
       "    <tr style=\"text-align: right;\">\n",
       "      <th></th>\n",
       "      <th>Task</th>\n",
       "      <th>Mean</th>\n",
       "      <th>Standard deviation</th>\n",
       "      <th>Mean absolute deviation</th>\n",
       "      <th>ratio</th>\n",
       "    </tr>\n",
       "  </thead>\n",
       "  <tbody>\n",
       "    <tr>\n",
       "      <th>0</th>\n",
       "      <td>mu</td>\n",
       "      <td>2.708713</td>\n",
       "      <td>1.531956</td>\n",
       "      <td>1.191056</td>\n",
       "      <td>1.286217</td>\n",
       "    </tr>\n",
       "    <tr>\n",
       "      <th>1</th>\n",
       "      <td>alpha</td>\n",
       "      <td>75.190920</td>\n",
       "      <td>8.197607</td>\n",
       "      <td>6.308065</td>\n",
       "      <td>1.299544</td>\n",
       "    </tr>\n",
       "    <tr>\n",
       "      <th>2</th>\n",
       "      <td>homo</td>\n",
       "      <td>-0.239974</td>\n",
       "      <td>0.022176</td>\n",
       "      <td>0.016340</td>\n",
       "      <td>1.357178</td>\n",
       "    </tr>\n",
       "    <tr>\n",
       "      <th>3</th>\n",
       "      <td>lumo</td>\n",
       "      <td>0.011026</td>\n",
       "      <td>0.046912</td>\n",
       "      <td>0.038618</td>\n",
       "      <td>1.214779</td>\n",
       "    </tr>\n",
       "    <tr>\n",
       "      <th>4</th>\n",
       "      <td>gap</td>\n",
       "      <td>0.250999</td>\n",
       "      <td>0.047505</td>\n",
       "      <td>0.039648</td>\n",
       "      <td>1.198148</td>\n",
       "    </tr>\n",
       "    <tr>\n",
       "      <th>5</th>\n",
       "      <td>r2</td>\n",
       "      <td>1190.034973</td>\n",
       "      <td>279.648930</td>\n",
       "      <td>202.109506</td>\n",
       "      <td>1.383651</td>\n",
       "    </tr>\n",
       "    <tr>\n",
       "      <th>6</th>\n",
       "      <td>zpve</td>\n",
       "      <td>0.148522</td>\n",
       "      <td>0.033298</td>\n",
       "      <td>0.026472</td>\n",
       "      <td>1.257836</td>\n",
       "    </tr>\n",
       "    <tr>\n",
       "      <th>7</th>\n",
       "      <td>u0</td>\n",
       "      <td>-411.587569</td>\n",
       "      <td>40.087880</td>\n",
       "      <td>31.106651</td>\n",
       "      <td>1.288724</td>\n",
       "    </tr>\n",
       "    <tr>\n",
       "      <th>8</th>\n",
       "      <td>u298</td>\n",
       "      <td>-411.579095</td>\n",
       "      <td>40.087661</td>\n",
       "      <td>31.106518</td>\n",
       "      <td>1.288722</td>\n",
       "    </tr>\n",
       "    <tr>\n",
       "      <th>9</th>\n",
       "      <td>h298</td>\n",
       "      <td>-411.578151</td>\n",
       "      <td>40.087661</td>\n",
       "      <td>31.106518</td>\n",
       "      <td>1.288722</td>\n",
       "    </tr>\n",
       "    <tr>\n",
       "      <th>10</th>\n",
       "      <td>g298</td>\n",
       "      <td>-411.620986</td>\n",
       "      <td>40.088392</td>\n",
       "      <td>31.107005</td>\n",
       "      <td>1.288726</td>\n",
       "    </tr>\n",
       "    <tr>\n",
       "      <th>11</th>\n",
       "      <td>cv</td>\n",
       "      <td>31.604483</td>\n",
       "      <td>4.064031</td>\n",
       "      <td>3.204093</td>\n",
       "      <td>1.268387</td>\n",
       "    </tr>\n",
       "  </tbody>\n",
       "</table>\n",
       "</div>"
      ],
      "text/plain": [
       "     Task         Mean  Standard deviation  Mean absolute deviation     ratio\n",
       "0      mu     2.708713            1.531956                 1.191056  1.286217\n",
       "1   alpha    75.190920            8.197607                 6.308065  1.299544\n",
       "2    homo    -0.239974            0.022176                 0.016340  1.357178\n",
       "3    lumo     0.011026            0.046912                 0.038618  1.214779\n",
       "4     gap     0.250999            0.047505                 0.039648  1.198148\n",
       "5      r2  1190.034973          279.648930               202.109506  1.383651\n",
       "6    zpve     0.148522            0.033298                 0.026472  1.257836\n",
       "7      u0  -411.587569           40.087880                31.106651  1.288724\n",
       "8    u298  -411.579095           40.087661                31.106518  1.288722\n",
       "9    h298  -411.578151           40.087661                31.106518  1.288722\n",
       "10   g298  -411.620986           40.088392                31.107005  1.288726\n",
       "11     cv    31.604483            4.064031                 3.204093  1.268387"
      ]
     },
     "execution_count": 6,
     "metadata": {},
     "output_type": "execute_result"
    }
   ],
   "source": [
    "test_df = smiles_tasks_df.sample(frac=1/10, random_state=SEED) # test set\n",
    "training_data = smiles_tasks_df.drop(test_df.index) # training data\n",
    "\n",
    "# get the stats of the seen dataset (the training data)\n",
    "# which will be used to noramlize the dataset. \n",
    "columns = ['Task','Mean','Standard deviation', 'Mean absolute deviation','ratio']\n",
    "mean_list=[]\n",
    "std_list=[]\n",
    "mad_list=[]\n",
    "ratio_list=[]\n",
    "training_label_list = []\n",
    "test_label_list = []\n",
    "for task in tasks:\n",
    "    mean = training_data[task].mean()\n",
    "    mean_list.append(mean)\n",
    "    std = training_data[task].std()\n",
    "    std_list.append(std)\n",
    "    mad = training_data[task].mad()\n",
    "    mad_list.append(mad)\n",
    "    ratio_list.append(std/mad)\n",
    "    training_data[task+'_normalized'] = (training_data[task]- mean)/std\n",
    "    # the mean and standard deviation of training data is also used in test set\n",
    "    test_df[task+'_normalized'] = (test_df[task]- mean)/std\n",
    "    training_label_list.append(training_data[task+'_normalized'].values)\n",
    "    test_label_list.append(test_df[task+'_normalized'].values)\n",
    "\n",
    "training_label = np.array(training_label_list).astype(np.float).transpose()\n",
    "test_label = np.array(test_label_list).astype(np.float).transpose()\n",
    "\n",
    "    \n",
    "# training data is further divided into validation set and train set\n",
    "valid_df = training_data.sample(frac=1/9, random_state=SEED) # validation set\n",
    "train_df = training_data.drop(valid_df.index) # train set\n",
    "train_df = train_df.reset_index(drop=True)\n",
    "valid_df = valid_df.reset_index(drop=True)\n",
    "test_df = test_df.reset_index(drop=True)\n",
    "\n",
    "while (len(train_df) % batch_size) / batch_size <0.8:\n",
    "    batch_size +=1\n",
    "print(\"batch size: \", batch_size)\n",
    "\n",
    "list_of_tuples = list(zip(tasks, mean_list, std_list, mad_list, ratio_list))\n",
    "stats  = pd.DataFrame(list_of_tuples, columns = columns)\n",
    "stats\n"
   ]
  },
  {
   "cell_type": "code",
   "execution_count": 7,
   "metadata": {},
   "outputs": [],
   "source": [
    "# # check the value distribution of different tasks\n",
    "# plt.figure(figsize=(28, 8),dpi=300)\n",
    "# gs = gridspec.GridSpec(2, 6)\n",
    "# sns.set(font_scale=1.8)\n",
    "# for i, task in enumerate(tasks):\n",
    "#     plt.subplot(gs[(i)])\n",
    "#     x = pd.Series(training_data[task].values, name=task)\n",
    "#     ax = sns.distplot(x, bins=28, kde=False)\n",
    "#     plt.tight_layout()\n",
    "# plt.show()\n",
    "# plt.close()"
   ]
  },
  {
   "cell_type": "code",
   "execution_count": 8,
   "metadata": {},
   "outputs": [],
   "source": [
    "# # check the distribution after normalization (should be the same)\n",
    "\n",
    "# plt.figure(figsize=(28, 8),dpi=300)\n",
    "# gs = gridspec.GridSpec(2, 6)\n",
    "# sns.set(font_scale=1.8)\n",
    "# for i, task in enumerate(tasks):\n",
    "#     plt.subplot(gs[(i)])\n",
    "#     x = pd.Series(training_data[task+\"_normalized\"].values, name=task)\n",
    "#     ax = sns.distplot(x, bins=28, kde=False)\n",
    "#     plt.tight_layout()\n",
    "# plt.show()\n",
    "# plt.close()"
   ]
  },
  {
   "cell_type": "code",
   "execution_count": 9,
   "metadata": {},
   "outputs": [
    {
     "name": "stdout",
     "output_type": "stream",
     "text": [
      "graph dicts loaded from ../data/gdb9_smiles_training_seed28.pkl\n",
      "graph dicts loaded from ../data/gdb9_smiles_test_seed28.pkl\n"
     ]
    }
   ],
   "source": [
    "training_smiles = training_data['smiles'].values\n",
    "test_smiles = test_df['smiles'].values\n",
    "training_graph_dict = graph_dict(training_smiles, list(training_label), filename+'_training_seed'+str(SEED))\n",
    "test_graph_dict = graph_dict(test_smiles, list(test_label), filename+'_test_seed'+str(SEED))\n",
    "whole_graph_dict = {**training_graph_dict, **test_graph_dict}"
   ]
  },
  {
   "cell_type": "code",
   "execution_count": 10,
   "metadata": {
    "scrolled": true
   },
   "outputs": [
    {
     "name": "stdout",
     "output_type": "stream",
     "text": [
      "2936777\n",
      "preprocess.0.linear.weight torch.Size([280, 39])\n",
      "preprocess.0.linear.bias torch.Size([280])\n",
      "preprocess.0.bn.weight torch.Size([280])\n",
      "preprocess.0.bn.bias torch.Size([280])\n",
      "encoder.0.linear.weight torch.Size([280, 49])\n",
      "encoder.0.linear.bias torch.Size([280])\n",
      "encoder.0.bn.weight torch.Size([280])\n",
      "encoder.0.bn.bias torch.Size([280])\n",
      "align.weight torch.Size([1, 560])\n",
      "align.bias torch.Size([1])\n",
      "attend.linear.weight torch.Size([280, 280])\n",
      "attend.linear.bias torch.Size([280])\n",
      "attend.bn.weight torch.Size([280])\n",
      "attend.bn.bias torch.Size([280])\n",
      "gru.weight_ih torch.Size([840, 280])\n",
      "gru.weight_hh torch.Size([840, 280])\n",
      "gru.bias_ih torch.Size([840])\n",
      "gru.bias_hh torch.Size([840])\n",
      "propagate.0.align.weight torch.Size([1, 560])\n",
      "propagate.0.align.bias torch.Size([1])\n",
      "propagate.0.attend.linear.weight torch.Size([280, 280])\n",
      "propagate.0.attend.linear.bias torch.Size([280])\n",
      "propagate.0.attend.bn.weight torch.Size([280])\n",
      "propagate.0.attend.bn.bias torch.Size([280])\n",
      "propagate.0.gru.weight_ih torch.Size([840, 280])\n",
      "propagate.0.gru.weight_hh torch.Size([840, 280])\n",
      "propagate.0.gru.bias_ih torch.Size([840])\n",
      "propagate.0.gru.bias_hh torch.Size([840])\n",
      "propagate.1.align.weight torch.Size([1, 560])\n",
      "propagate.1.align.bias torch.Size([1])\n",
      "propagate.1.attend.linear.weight torch.Size([280, 280])\n",
      "propagate.1.attend.linear.bias torch.Size([280])\n",
      "propagate.1.attend.bn.weight torch.Size([280])\n",
      "propagate.1.attend.bn.bias torch.Size([280])\n",
      "propagate.1.gru.weight_ih torch.Size([840, 280])\n",
      "propagate.1.gru.weight_hh torch.Size([840, 280])\n",
      "propagate.1.gru.bias_ih torch.Size([840])\n",
      "propagate.1.gru.bias_hh torch.Size([840])\n",
      "superGather.0.align.weight torch.Size([1, 560])\n",
      "superGather.0.align.bias torch.Size([1])\n",
      "superGather.0.attend.linear.weight torch.Size([280, 280])\n",
      "superGather.0.attend.linear.bias torch.Size([280])\n",
      "superGather.0.attend.bn.weight torch.Size([280])\n",
      "superGather.0.attend.bn.bias torch.Size([280])\n",
      "superGather.0.gru.weight_ih torch.Size([840, 280])\n",
      "superGather.0.gru.weight_hh torch.Size([840, 280])\n",
      "superGather.0.gru.bias_ih torch.Size([840])\n",
      "superGather.0.gru.bias_hh torch.Size([840])\n",
      "superGather.1.align.weight torch.Size([1, 560])\n",
      "superGather.1.align.bias torch.Size([1])\n",
      "superGather.1.attend.linear.weight torch.Size([280, 280])\n",
      "superGather.1.attend.linear.bias torch.Size([280])\n",
      "superGather.1.attend.bn.weight torch.Size([280])\n",
      "superGather.1.attend.bn.bias torch.Size([280])\n",
      "superGather.1.gru.weight_ih torch.Size([840, 280])\n",
      "superGather.1.gru.weight_hh torch.Size([840, 280])\n",
      "superGather.1.gru.bias_ih torch.Size([840])\n",
      "superGather.1.gru.bias_hh torch.Size([840])\n",
      "predict.0.linear.weight torch.Size([512, 280])\n",
      "predict.0.linear.bias torch.Size([512])\n",
      "predict.0.bn.weight torch.Size([512])\n",
      "predict.0.bn.bias torch.Size([512])\n",
      "predict.3.weight torch.Size([12, 512])\n",
      "predict.3.bias torch.Size([12])\n"
     ]
    }
   ],
   "source": [
    "ratio_array = torch.from_numpy(np.array(ratio_list).astype(np.float)).float()\n",
    "ratio_array = ratio_array.to(device)\n",
    "std_array = torch.from_numpy(np.array(std_list).astype(np.float)).float()\n",
    "std_array = ratio_array.to(device)\n",
    "\n",
    "ratio_array_square = ratio_array[None,:]**2\n",
    "loss_function = nn.MSELoss()\n",
    "model = Fingerprint(output_units_num, fingerprint_dim, K=K, T=T, p_dropout=p_dropout)\n",
    "model.to(device)\n",
    "# optimizer = optim.Adam(model.parameters(), learning_rate, weight_decay=weight_decay)\n",
    "optimizer = optim.Adam(model.parameters(), 10**-learning_rate, weight_decay=10**-weight_decay)\n",
    "# optimizer = optim.SGD(model.parameters(), 10**-learning_rate, weight_decay=10**-weight_decay)\n",
    "\n",
    "# model_parameters = filter(lambda p: p.requires_grad, model.parameters())\n",
    "params = sum([np.prod(p.size()) for p in  model.parameters()])\n",
    "print(params)\n",
    "for name, param in model.named_parameters():\n",
    "    if param.requires_grad:\n",
    "        print(name, param.data.shape)\n",
    "        "
   ]
  },
  {
   "cell_type": "code",
   "execution_count": 11,
   "metadata": {},
   "outputs": [],
   "source": [
    "def train(model, smiles_list):\n",
    "    model.train()\n",
    "    train_loader = DataLoader(graph_dataset(smiles_list, whole_graph_dict), batch_size, collate_fn=null_collate, \\\n",
    "                              num_workers=8, pin_memory=True, shuffle=True, worker_init_fn=np.random.seed(SEED))\n",
    "    losses = []\n",
    "    for b, (smiles, atom, bond, bond_index, mol_index, label) in tqdm(enumerate(train_loader)):\n",
    "        atom = atom.to(device)\n",
    "        bond = bond.to(device)\n",
    "        bond_index = bond_index.to(device)\n",
    "        mol_index = mol_index.to(device)\n",
    "        label = label.to(device) * ratio_array_square # set STD/MAD ratio as the weights\n",
    "        mol_prediction = model(atom, bond, bond_index, mol_index) * ratio_array_square\n",
    "        \n",
    "        loss = loss_function(mol_prediction.reshape(-1), label.reshape(-1))\n",
    "        loss.backward()\n",
    "        optimizer.step()\n",
    "        optimizer.zero_grad()\n",
    "        losses.append(loss.item())\n",
    "\n",
    "    return np.mean(losses)\n",
    "\n",
    "\n",
    "def eval(model, smiles_list):\n",
    "    model.eval()\n",
    "    eval_MAE_list = {}\n",
    "    eval_MSE_list = {}\n",
    "    y_val_list = {}\n",
    "    y_pred_list = {}\n",
    "    for i,task in enumerate(tasks):\n",
    "        y_pred_list[task] = np.array([])\n",
    "        y_val_list[task] = np.array([])\n",
    "        eval_MAE_list[task] = np.array([])\n",
    "        eval_MSE_list[task] = np.array([])\n",
    "        \n",
    "    eval_loader = DataLoader(graph_dataset(smiles_list, whole_graph_dict), batch_size, collate_fn=null_collate, \\\n",
    "                              num_workers=8, pin_memory=True, shuffle=False, worker_init_fn=np.random.seed(SEED))\n",
    "    for b, (smiles, atom, bond, bond_index, mol_index, label) in tqdm(enumerate(eval_loader)):\n",
    "        atom = atom.to(device)\n",
    "        bond = bond.to(device)\n",
    "        bond_index = bond_index.to(device)\n",
    "        mol_index = mol_index.to(device)\n",
    "        label = label.to(device)\n",
    "        \n",
    "        mol_prediction = model(atom, bond, bond_index, mol_index)\n",
    "        for i,task in enumerate(tasks):\n",
    "            y_pred = mol_prediction[:, i]\n",
    "\n",
    "            MAE = F.l1_loss(y_pred, label[:,i], reduction='none')        \n",
    "            MSE = F.mse_loss(y_pred, label[:,i], reduction='none')\n",
    "        \n",
    "            y_pred_list[task] = np.concatenate([y_pred_list[task], y_pred.cpu().detach().numpy()])\n",
    "            y_val_list[task] = np.concatenate([y_val_list[task], label[:,i].cpu().detach().numpy()])\n",
    "            eval_MAE_list[task] = np.concatenate([eval_MAE_list[task],MAE.data.squeeze().cpu().numpy()])\n",
    "            eval_MSE_list[task] = np.concatenate([eval_MSE_list[task],MSE.data.squeeze().cpu().numpy()])\n",
    "#     r2_score_list = [r2_score(y_val_list[task], y_pred_list[task]) for task in tasks]\n",
    "    eval_MAE_normalized = np.array([eval_MAE_list[task].mean() for i, task in enumerate(tasks)])\n",
    "    eval_MAE = np.multiply(eval_MAE_normalized, np.array(std_list))\n",
    "    eval_RMSE_normalized = np.sqrt(np.array([eval_MSE_list[task].mean() for i, task in enumerate(tasks)]))\n",
    "    eval_RMSE = np.multiply(eval_RMSE_normalized, np.array(std_list))\n",
    "\n",
    "    return eval_MAE_normalized, eval_MAE, eval_RMSE_normalized, eval_RMSE #, r2_score_list\n",
    "\n"
   ]
  },
  {
   "cell_type": "code",
   "execution_count": null,
   "metadata": {
    "scrolled": true
   },
   "outputs": [
    {
     "name": "stderr",
     "output_type": "stream",
     "text": [
      "212it [00:13, 17.19it/s]\n",
      "212it [00:06, 32.93it/s]\n",
      "27it [00:00, 36.59it/s]"
     ]
    },
    {
     "name": "stdout",
     "output_type": "stream",
     "text": [
      "EPOCH:\t0 0.5741046395785404\n",
      "train_MAE:\n",
      "[7.80952222e-01 1.12073762e+00 8.46123282e-03 1.02877599e-02\n",
      " 1.21683914e-02 5.72127470e+01 3.52494737e-03 4.63936317e+00\n",
      " 5.73090726e+00 4.21646704e+00 6.02094474e+00 4.92395756e-01]\n",
      "valid_MAE:\n",
      "[7.70853665e-01 1.11977503e+00 8.40171382e-03 1.03908082e-02\n",
      " 1.22586156e-02 5.75629112e+01 3.55284435e-03 4.66221160e+00\n",
      " 5.75291295e+00 4.25719786e+00 6.03782636e+00 4.95980876e-01]\n",
      "train_MSE_normalized_mean: 0.26799243955858243\n",
      "valid_MSE_normalized_mean: 0.2651108161869623\n",
      "\n"
     ]
    },
    {
     "name": "stderr",
     "output_type": "stream",
     "text": [
      "\n",
      "212it [00:12, 18.66it/s]\n",
      "212it [00:05, 41.65it/s]\n",
      "27it [00:00, 39.70it/s]"
     ]
    },
    {
     "name": "stdout",
     "output_type": "stream",
     "text": [
      "EPOCH:\t1 0.3262166417432281\n",
      "train_MAE:\n",
      "[7.31423440e-01 9.89267326e-01 7.84097631e-03 8.64271462e-03\n",
      " 1.14556773e-02 5.23075990e+01 3.42764807e-03 4.45778814e+00\n",
      " 4.13343212e+00 3.67996696e+00 4.23569510e+00 4.71041697e-01]\n",
      "valid_MAE:\n",
      "[7.25193167e-01 9.94689266e-01 7.85667610e-03 8.65433334e-03\n",
      " 1.15023685e-02 5.23983255e+01 3.45291136e-03 4.49149911e+00\n",
      " 4.17079414e+00 3.72138279e+00 4.26902961e+00 4.73477199e-01]\n",
      "train_MSE_normalized_mean: 0.241450608794145\n",
      "valid_MSE_normalized_mean: 0.24060332507000695\n",
      "\n"
     ]
    },
    {
     "name": "stderr",
     "output_type": "stream",
     "text": [
      "\n",
      "212it [00:12, 16.85it/s]\n",
      "212it [00:05, 38.43it/s]\n",
      "27it [00:00, 31.61it/s]"
     ]
    },
    {
     "name": "stdout",
     "output_type": "stream",
     "text": [
      "EPOCH:\t2 0.2822828577515089\n",
      "train_MAE:\n",
      "[7.01136774e-01 1.05047451e+00 6.92883274e-03 8.92656063e-03\n",
      " 1.13354606e-02 5.04410043e+01 4.47769648e-03 4.84097985e+00\n",
      " 4.61278041e+00 4.68237546e+00 4.52706504e+00 5.11670917e-01]\n",
      "valid_MAE:\n",
      "[6.95206046e-01 1.05679040e+00 6.92628076e-03 8.91097201e-03\n",
      " 1.13689986e-02 5.08531401e+01 4.50403555e-03 4.80804763e+00\n",
      " 4.57565575e+00 4.65084724e+00 4.49439965e+00 5.12688617e-01]\n",
      "train_MSE_normalized_mean: 0.24176211346700807\n",
      "valid_MSE_normalized_mean: 0.24052606080271524\n",
      "\n"
     ]
    },
    {
     "name": "stderr",
     "output_type": "stream",
     "text": [
      "\n",
      "212it [00:12, 18.55it/s]\n",
      "212it [00:06, 32.64it/s]\n",
      "27it [00:00, 29.78it/s]"
     ]
    },
    {
     "name": "stdout",
     "output_type": "stream",
     "text": [
      "EPOCH:\t3 0.26371901658064917\n",
      "train_MAE:\n",
      "[7.09742555e-01 1.59990263e+00 6.63967232e-03 1.02388508e-02\n",
      " 1.21940670e-02 5.19853923e+01 5.31376656e-03 1.83393504e+00\n",
      " 1.76084613e+00 1.80753957e+00 1.78422363e+00 6.61668728e-01]\n",
      "valid_MAE:\n",
      "[7.05117458e-01 1.59741567e+00 6.64968206e-03 1.02023842e-02\n",
      " 1.22210959e-02 5.23630594e+01 5.32990299e-03 1.82547406e+00\n",
      " 1.75234693e+00 1.80003103e+00 1.77630294e+00 6.61073947e-01]\n",
      "train_MSE_normalized_mean: 0.22816013573950145\n",
      "valid_MSE_normalized_mean: 0.22741808235038427\n",
      "\n"
     ]
    },
    {
     "name": "stderr",
     "output_type": "stream",
     "text": [
      "\n",
      "212it [00:13, 15.35it/s]\n",
      "212it [00:05, 36.26it/s]\n",
      "27it [00:00, 30.67it/s]"
     ]
    },
    {
     "name": "stdout",
     "output_type": "stream",
     "text": [
      "EPOCH:\t4 0.2508669213725711\n",
      "train_MAE:\n",
      "[6.69326106e-01 1.07101302e+00 6.58195308e-03 8.35834133e-03\n",
      " 1.05644588e-02 4.53627054e+01 2.55039815e-03 2.62177651e+00\n",
      " 2.62850817e+00 2.58761370e+00 2.51773933e+00 4.38516859e-01]\n",
      "valid_MAE:\n",
      "[6.62925306e-01 1.07217018e+00 6.59666058e-03 8.36768878e-03\n",
      " 1.06545979e-02 4.58216425e+01 2.55478975e-03 2.63012623e+00\n",
      " 2.63812298e+00 2.60180687e+00 2.53029152e+00 4.39399612e-01]\n",
      "train_MSE_normalized_mean: 0.20755883365479041\n",
      "valid_MSE_normalized_mean: 0.20710888551584739\n",
      "\n"
     ]
    },
    {
     "name": "stderr",
     "output_type": "stream",
     "text": [
      "\n",
      "212it [00:12, 19.44it/s]\n",
      "212it [00:05, 36.51it/s]\n",
      "27it [00:00, 29.67it/s]"
     ]
    },
    {
     "name": "stdout",
     "output_type": "stream",
     "text": [
      "EPOCH:\t5 0.24450787894849507\n",
      "train_MAE:\n",
      "[6.70877981e-01 7.76137823e-01 6.41098875e-03 8.17705809e-03\n",
      " 9.77101910e-03 4.74556789e+01 2.49996242e-03 1.67854947e+00\n",
      " 1.66470762e+00 1.68790512e+00 1.70409897e+00 4.10959645e-01]\n",
      "valid_MAE:\n",
      "[6.67624161e-01 7.79648813e-01 6.41602318e-03 8.17451242e-03\n",
      " 9.82302709e-03 4.78259461e+01 2.51730341e-03 1.68265067e+00\n",
      " 1.66911531e+00 1.69009550e+00 1.70619286e+00 4.10808601e-01]\n",
      "train_MSE_normalized_mean: 0.19408631307197133\n",
      "valid_MSE_normalized_mean: 0.1932981304691693\n",
      "\n"
     ]
    },
    {
     "name": "stderr",
     "output_type": "stream",
     "text": [
      "\n",
      "212it [00:12, 17.84it/s]\n",
      "212it [00:06, 35.30it/s]\n",
      "27it [00:00, 29.19it/s]"
     ]
    },
    {
     "name": "stdout",
     "output_type": "stream",
     "text": [
      "EPOCH:\t6 0.23503148344890126\n",
      "train_MAE:\n",
      "[6.66983565e-01 8.78265831e-01 6.18299578e-03 7.57901698e-03\n",
      " 9.73672237e-03 4.38674380e+01 2.42974560e-03 2.82676668e+00\n",
      " 2.83536183e+00 2.81393144e+00 2.79374424e+00 5.70206183e-01]\n",
      "valid_MAE:\n",
      "[6.60529136e-01 8.82626340e-01 6.23764362e-03 7.52689353e-03\n",
      " 9.78529232e-03 4.39606928e+01 2.42800362e-03 2.84136588e+00\n",
      " 2.84937685e+00 2.82942387e+00 2.80886946e+00 5.72457755e-01]\n",
      "train_MSE_normalized_mean: 0.20365499741463353\n",
      "valid_MSE_normalized_mean: 0.20317168113100645\n",
      "\n"
     ]
    },
    {
     "name": "stderr",
     "output_type": "stream",
     "text": [
      "\n",
      "212it [00:12, 18.40it/s]\n",
      "212it [00:06, 34.93it/s]\n",
      "27it [00:00, 35.53it/s]"
     ]
    },
    {
     "name": "stdout",
     "output_type": "stream",
     "text": [
      "EPOCH:\t7 0.22725549059094124\n",
      "train_MAE:\n",
      "[6.75045238e-01 7.44035983e-01 6.01695315e-03 7.11137779e-03\n",
      " 8.88837673e-03 4.58956941e+01 1.96687345e-03 3.07188768e+00\n",
      " 3.03748551e+00 3.03031065e+00 3.02658631e+00 3.85155435e-01]\n",
      "valid_MAE:\n",
      "[6.72869415e-01 7.43868182e-01 6.04326617e-03 7.12854548e-03\n",
      " 8.95480059e-03 4.60408231e+01 1.98307117e-03 3.06834996e+00\n",
      " 3.03383463e+00 3.02797994e+00 3.02418192e+00 3.86332070e-01]\n",
      "train_MSE_normalized_mean: 0.19298939242398935\n",
      "valid_MSE_normalized_mean: 0.19237793671911207\n",
      "\n"
     ]
    },
    {
     "name": "stderr",
     "output_type": "stream",
     "text": [
      "\n",
      "212it [00:12, 16.43it/s]\n",
      "212it [00:06, 39.62it/s]\n",
      "27it [00:00, 31.71it/s]"
     ]
    },
    {
     "name": "stdout",
     "output_type": "stream",
     "text": [
      "EPOCH:\t8 0.22097734375944678\n",
      "train_MAE:\n",
      "[6.25446074e-01 6.98161716e-01 5.89997709e-03 6.92864151e-03\n",
      " 8.88695367e-03 4.10989327e+01 2.43010274e-03 1.22775718e+00\n",
      " 1.23210861e+00 1.24756441e+00 1.23969491e+00 4.23705970e-01]\n",
      "valid_MAE:\n",
      "[6.26628460e-01 7.00697971e-01 5.97290277e-03 6.92746598e-03\n",
      " 8.95210170e-03 4.15069722e+01 2.45353387e-03 1.22607986e+00\n",
      " 1.23055600e+00 1.24633127e+00 1.23865081e+00 4.25131191e-01]\n",
      "train_MSE_normalized_mean: 0.17447145983048193\n",
      "valid_MSE_normalized_mean: 0.1746965249577571\n",
      "\n"
     ]
    },
    {
     "name": "stderr",
     "output_type": "stream",
     "text": [
      "\n",
      "212it [00:13, 15.81it/s]\n",
      "212it [00:06, 37.86it/s]\n",
      "27it [00:00, 32.46it/s]"
     ]
    },
    {
     "name": "stdout",
     "output_type": "stream",
     "text": [
      "EPOCH:\t9 0.21548862987250653\n",
      "train_MAE:\n",
      "[6.08181770e-01 7.74604006e-01 5.98711341e-03 7.80762154e-03\n",
      " 8.84014839e-03 4.22277077e+01 1.93995930e-03 2.17415907e+00\n",
      " 2.18115690e+00 2.16429396e+00 2.16590706e+00 4.09764003e-01]\n",
      "valid_MAE:\n",
      "[6.11320802e-01 7.80533091e-01 6.08175047e-03 7.83737681e-03\n",
      " 8.91593696e-03 4.26759333e+01 1.97340949e-03 2.20129205e+00\n",
      " 2.20827713e+00 2.19164287e+00 2.19322808e+00 4.09813929e-01]\n",
      "train_MSE_normalized_mean: 0.18345803902207636\n",
      "valid_MSE_normalized_mean: 0.1843323255510071\n",
      "\n"
     ]
    },
    {
     "name": "stderr",
     "output_type": "stream",
     "text": [
      "\n",
      "212it [00:12, 16.34it/s]\n",
      "212it [00:05, 35.33it/s]\n",
      "27it [00:00, 36.13it/s]"
     ]
    },
    {
     "name": "stdout",
     "output_type": "stream",
     "text": [
      "EPOCH:\t10 0.21076815715938244\n",
      "train_MAE:\n",
      "[5.98948520e-01 9.75153129e-01 6.10090353e-03 7.14571452e-03\n",
      " 8.29053094e-03 4.54987110e+01 3.06076108e-03 2.48588048e+00\n",
      " 2.48280922e+00 2.46496057e+00 2.46865973e+00 5.34201574e-01]\n",
      "valid_MAE:\n",
      "[6.00059062e-01 9.75865179e-01 6.12461750e-03 7.09613193e-03\n",
      " 8.33595922e-03 4.58240336e+01 3.07099148e-03 2.47076753e+00\n",
      " 2.46773709e+00 2.45129698e+00 2.45494869e+00 5.34419643e-01]\n",
      "train_MSE_normalized_mean: 0.18964603547714912\n",
      "valid_MSE_normalized_mean: 0.1898812902532352\n",
      "\n"
     ]
    },
    {
     "name": "stderr",
     "output_type": "stream",
     "text": [
      "\n",
      "212it [00:12, 16.40it/s]\n",
      "212it [00:05, 36.17it/s]\n",
      "27it [00:00, 34.21it/s]"
     ]
    },
    {
     "name": "stdout",
     "output_type": "stream",
     "text": [
      "EPOCH:\t11 0.20738924688325738\n",
      "train_MAE:\n",
      "[5.97103064e-01 9.50031204e-01 5.58265406e-03 7.03016256e-03\n",
      " 8.51188664e-03 4.62394463e+01 2.35865662e-03 3.18379005e+00\n",
      " 3.17664357e+00 3.14252556e+00 3.14493915e+00 5.21884390e-01]\n",
      "valid_MAE:\n",
      "[5.98974624e-01 9.50249007e-01 5.62343138e-03 7.02264988e-03\n",
      " 8.64800776e-03 4.65382364e+01 2.37897291e-03 3.19793254e+00\n",
      " 3.19070899e+00 3.15718010e+00 3.15946784e+00 5.25682983e-01]\n",
      "train_MSE_normalized_mean: 0.19345545038539483\n",
      "valid_MSE_normalized_mean: 0.19455704527742523\n",
      "\n"
     ]
    },
    {
     "name": "stderr",
     "output_type": "stream",
     "text": [
      "\n",
      "212it [00:13, 16.29it/s]\n",
      "212it [00:05, 37.07it/s]\n",
      "27it [00:00, 33.13it/s]"
     ]
    },
    {
     "name": "stdout",
     "output_type": "stream",
     "text": [
      "EPOCH:\t12 0.20286077738932842\n",
      "train_MAE:\n",
      "[6.00733958e-01 6.34071924e-01 5.51755801e-03 6.25889127e-03\n",
      " 8.13082588e-03 3.83997107e+01 2.70333177e-03 1.99963350e+00\n",
      " 2.00489069e+00 2.02652181e+00 2.02258323e+00 3.60561769e-01]\n",
      "valid_MAE:\n",
      "[6.05860384e-01 6.41027666e-01 5.61691069e-03 6.26358268e-03\n",
      " 8.24944132e-03 3.89534846e+01 2.71994962e-03 1.99655414e+00\n",
      " 2.00154988e+00 2.02180712e+00 2.01808240e+00 3.62514941e-01]\n",
      "train_MSE_normalized_mean: 0.17125900428868515\n",
      "valid_MSE_normalized_mean: 0.17228722065990984\n",
      "\n"
     ]
    },
    {
     "name": "stderr",
     "output_type": "stream",
     "text": [
      "\n",
      "212it [00:13, 17.87it/s]\n",
      "212it [00:06, 31.87it/s]\n",
      "27it [00:00, 27.80it/s]"
     ]
    },
    {
     "name": "stdout",
     "output_type": "stream",
     "text": [
      "EPOCH:\t13 0.19892747580723943\n",
      "train_MAE:\n",
      "[5.95221793e-01 7.00956176e-01 5.79726381e-03 5.89582366e-03\n",
      " 8.13065949e-03 3.76753452e+01 2.04346087e-03 1.18969425e+00\n",
      " 1.19294419e+00 1.20208811e+00 1.20053280e+00 3.43514310e-01]\n",
      "valid_MAE:\n",
      "[5.97496667e-01 6.98836467e-01 5.89653446e-03 5.86883224e-03\n",
      " 8.23630257e-03 3.81810371e+01 2.05165918e-03 1.19671207e+00\n",
      " 1.19993198e+00 1.20898864e+00 1.20749113e+00 3.46458007e-01]\n",
      "train_MSE_normalized_mean: 0.16132089125782126\n",
      "valid_MSE_normalized_mean: 0.16224771847076672\n",
      "\n"
     ]
    },
    {
     "name": "stderr",
     "output_type": "stream",
     "text": [
      "\n",
      "212it [00:13, 17.90it/s]\n",
      "212it [00:05, 35.03it/s]\n",
      "27it [00:00, 18.39it/s]"
     ]
    },
    {
     "name": "stdout",
     "output_type": "stream",
     "text": [
      "EPOCH:\t14 0.19602489190281563\n",
      "train_MAE:\n",
      "[5.82999860e-01 7.54531388e-01 5.34014665e-03 6.90020806e-03\n",
      " 8.06605845e-03 3.76875593e+01 2.22447465e-03 2.78878015e+00\n",
      " 2.78575380e+00 2.76466921e+00 2.76811268e+00 3.57493403e-01]\n",
      "valid_MAE:\n",
      "[5.85941117e-01 7.58618008e-01 5.45942687e-03 6.90387714e-03\n",
      " 8.16302477e-03 3.83473903e+01 2.24726772e-03 2.79519049e+00\n",
      " 2.79229305e+00 2.77217684e+00 2.77553880e+00 3.58955013e-01]\n",
      "train_MSE_normalized_mean: 0.17523014216583796\n",
      "valid_MSE_normalized_mean: 0.1765937888833142\n",
      "\n"
     ]
    },
    {
     "name": "stderr",
     "output_type": "stream",
     "text": [
      "\n",
      "212it [00:12, 16.45it/s]\n",
      "212it [00:05, 39.16it/s]\n",
      "27it [00:00, 32.90it/s]"
     ]
    },
    {
     "name": "stdout",
     "output_type": "stream",
     "text": [
      "EPOCH:\t15 0.19312039172311998\n",
      "train_MAE:\n",
      "[5.82989872e-01 6.35999110e-01 5.22441887e-03 6.28712533e-03\n",
      " 7.94850719e-03 3.93403150e+01 2.05861662e-03 2.04815633e+00\n",
      " 2.04615157e+00 2.03590902e+00 2.03644772e+00 3.85948973e-01]\n",
      "valid_MAE:\n",
      "[5.87220452e-01 6.48749493e-01 5.34268035e-03 6.26065710e-03\n",
      " 8.07492692e-03 4.00598100e+01 2.07361319e-03 2.04815954e+00\n",
      " 2.04629167e+00 2.03712442e+00 2.03756423e+00 3.88616240e-01]\n",
      "train_MSE_normalized_mean: 0.1681440972330659\n",
      "valid_MSE_normalized_mean: 0.16990303824257544\n",
      "\n"
     ]
    },
    {
     "name": "stderr",
     "output_type": "stream",
     "text": [
      "\n",
      "212it [00:13, 16.17it/s]\n",
      "212it [00:05, 40.92it/s]\n",
      "27it [00:00, 32.03it/s]"
     ]
    },
    {
     "name": "stdout",
     "output_type": "stream",
     "text": [
      "EPOCH:\t16 0.19116627242205278\n",
      "train_MAE:\n",
      "[5.75178007e-01 6.59257133e-01 5.35992878e-03 6.03980171e-03\n",
      " 7.72180839e-03 4.24055796e+01 1.91174933e-03 1.10344629e+00\n",
      " 1.10295847e+00 1.10238506e+00 1.10211918e+00 3.04125032e-01]\n",
      "valid_MAE:\n",
      "[5.76766107e-01 6.65401425e-01 5.48801887e-03 6.04774908e-03\n",
      " 7.87058638e-03 4.32548972e+01 1.91367645e-03 1.10799669e+00\n",
      " 1.10741979e+00 1.10589367e+00 1.10569841e+00 3.05823035e-01]\n",
      "train_MSE_normalized_mean: 0.15642266450028533\n",
      "valid_MSE_normalized_mean: 0.15816299123156147\n",
      "\n"
     ]
    },
    {
     "name": "stderr",
     "output_type": "stream",
     "text": [
      "\n",
      "212it [00:13, 18.37it/s]\n",
      "212it [00:05, 39.65it/s]\n",
      "27it [00:00, 28.39it/s]"
     ]
    },
    {
     "name": "stdout",
     "output_type": "stream",
     "text": [
      "EPOCH:\t17 0.18814633519582027\n",
      "train_MAE:\n",
      "[5.56501998e-01 6.52416549e-01 5.30154634e-03 5.76606483e-03\n",
      " 7.64842242e-03 3.90485807e+01 1.66996347e-03 1.70710360e+00\n",
      " 1.70847957e+00 1.71618053e+00 1.71566257e+00 3.51162161e-01]\n",
      "valid_MAE:\n",
      "[5.63047344e-01 6.60503633e-01 5.42756746e-03 5.79548205e-03\n",
      " 7.81071522e-03 3.97311958e+01 1.67723941e-03 1.71694610e+00\n",
      " 1.71824274e+00 1.72585181e+00 1.72534137e+00 3.55636962e-01]\n",
      "train_MSE_normalized_mean: 0.1597997624846733\n",
      "valid_MSE_normalized_mean: 0.16197148410803117\n",
      "\n"
     ]
    },
    {
     "name": "stderr",
     "output_type": "stream",
     "text": [
      "\n",
      "212it [00:13, 17.71it/s]\n",
      "212it [00:05, 36.17it/s]\n",
      "27it [00:01, 26.55it/s]"
     ]
    },
    {
     "name": "stdout",
     "output_type": "stream",
     "text": [
      "EPOCH:\t18 0.18518880129141627\n",
      "train_MAE:\n",
      "[5.53054338e-01 8.38467885e-01 5.05243854e-03 5.82483783e-03\n",
      " 7.40969629e-03 3.87600816e+01 2.30340950e-03 1.67068342e+00\n",
      " 1.67000241e+00 1.65963234e+00 1.66101191e+00 4.03950028e-01]\n",
      "valid_MAE:\n",
      "[5.61152698e-01 8.41221067e-01 5.20875750e-03 5.86380714e-03\n",
      " 7.53559629e-03 3.95504769e+01 2.31754417e-03 1.67630273e+00\n",
      " 1.67566955e+00 1.66569537e+00 1.66701760e+00 4.04324925e-01]\n",
      "train_MSE_normalized_mean: 0.1620064749678167\n",
      "valid_MSE_normalized_mean: 0.16476611251652098\n",
      "\n"
     ]
    },
    {
     "name": "stderr",
     "output_type": "stream",
     "text": [
      "\n",
      "212it [00:12, 16.41it/s]\n",
      "212it [00:06, 34.34it/s]\n",
      "27it [00:00, 35.48it/s]"
     ]
    },
    {
     "name": "stdout",
     "output_type": "stream",
     "text": [
      "EPOCH:\t19 0.184075533992277\n",
      "train_MAE:\n",
      "[5.47795579e-01 6.64830802e-01 4.90349697e-03 6.09062572e-03\n",
      " 7.65904629e-03 3.46599136e+01 1.83431315e-03 3.09045866e+00\n",
      " 3.09267009e+00 3.10172717e+00 3.10121621e+00 3.03340729e-01]\n",
      "valid_MAE:\n",
      "[5.56247916e-01 6.68140014e-01 5.03155956e-03 6.10948767e-03\n",
      " 7.80380058e-03 3.53740819e+01 1.83725667e-03 3.09306432e+00\n",
      " 3.09521674e+00 3.10376975e+00 3.10330937e+00 3.04374858e-01]\n",
      "train_MSE_normalized_mean: 0.1658201958855712\n",
      "valid_MSE_normalized_mean: 0.16821958762662234\n",
      "\n"
     ]
    },
    {
     "name": "stderr",
     "output_type": "stream",
     "text": [
      "\n",
      "191it [00:11, 15.72it/s]"
     ]
    }
   ],
   "source": [
    "best_param ={}\n",
    "best_param[\"train_epoch\"] = 0\n",
    "best_param[\"valid_epoch\"] = 0\n",
    "best_param[\"train_MSE_normalized\"] = 800\n",
    "best_param[\"valid_MSE_normalized\"] = 800\n",
    "train_df_smiles = train_df.smiles.values\n",
    "valid_df_smiles = valid_df.smiles.values\n",
    "\n",
    "for epoch in range(300):\n",
    "    losses = train(model, train_df_smiles)\n",
    "    train_MAE_normalized, train_MAE, train_MSE_normalized, train_MSE = eval(model, train_df_smiles)\n",
    "    valid_MAE_normalized, valid_MAE, valid_MSE_normalized, valid_MSE, = eval(model, valid_df_smiles)\n",
    "    print(\"EPOCH:\\t\"+str(epoch)+' '+str(losses)+'\\n'\\\n",
    "#         +\"train_MAE_normalized: \"+str(train_MAE_normalized)+'\\n'\\\n",
    "#         +\"valid_MAE_normalized: \"+str(valid_MAE_normalized)+'\\n'\\\n",
    "        +\"train_MAE\"+\":\"+\"\\n\"+str(train_MAE)+'\\n'\\\n",
    "        +\"valid_MAE\"+\":\"+\"\\n\"+str(valid_MAE)+'\\n'\\\n",
    "          \n",
    "        +\"train_MSE_normalized_mean: \"+str(train_MSE_normalized.mean())+'\\n'\\\n",
    "        +\"valid_MSE_normalized_mean: \"+str(valid_MSE_normalized.mean())+'\\n'\\\n",
    "#         +\"train_MSE_normalized: \"+str(train_MSE_normalized)+'\\n'\\\n",
    "#         +\"valid_MSE_normalized: \"+str(valid_MSE_normalized)+'\\n'\\\n",
    "        )\n",
    "    if train_MSE_normalized.mean() < best_param[\"train_MSE_normalized\"]:\n",
    "        best_param[\"train_epoch\"] = epoch\n",
    "        best_param[\"train_MSE_normalized\"] = train_MSE_normalized.mean()\n",
    "    if valid_MSE_normalized.mean() < best_param[\"valid_MSE_normalized\"]:\n",
    "        best_param[\"valid_epoch\"] = epoch\n",
    "        best_param[\"valid_MSE_normalized\"] = valid_MSE_normalized.mean()\n",
    "        if valid_MSE_normalized.mean() < 0.06:\n",
    "             torch.save(model, 'saved_models/model_'+prefix_filename+'_'+start_time+'_'+str(epoch)+'.pt')\n",
    "#     if (epoch - best_param[\"train_epoch\"] >10) and (epoch - best_param[\"valid_epoch\"] >18):        \n",
    "#         break\n",
    "    \n"
   ]
  },
  {
   "cell_type": "markdown",
   "metadata": {},
   "source": [
    "mu, alpha, homo, lumo, gap, r2, zpve, u0, u298, h298, g298, cv"
   ]
  },
  {
   "cell_type": "code",
   "execution_count": null,
   "metadata": {},
   "outputs": [],
   "source": [
    "# evaluate model\n",
    "best_model = torch.load('saved_models/model_'+prefix_filename+'_'+start_time+'_'+str(best_param[\"valid_epoch\"])+'.pt')     \n",
    "\n",
    "test_MAE_normalized, test_MAE, test_MSE_normalized, test_MSE, = eval(best_model, test_df)\n",
    "print(\"best epoch:\"+str(best_param[\"valid_epoch\"])+'\\n'\\\n",
    "    +\"test_MAE\"+\":\"+\"\\n\"+str(test_MAE)+'\\n'\\\n",
    "    +\"test_MSE_normalized_mean: \"+str(test_MSE_normalized.mean())+'\\n'\\\n",
    "    )"
   ]
  },
  {
   "cell_type": "code",
   "execution_count": null,
   "metadata": {},
   "outputs": [],
   "source": []
  }
 ],
 "metadata": {
  "kernelspec": {
   "display_name": "Python 3",
   "language": "python",
   "name": "python3"
  },
  "language_info": {
   "codemirror_mode": {
    "name": "ipython",
    "version": 3
   },
   "file_extension": ".py",
   "mimetype": "text/x-python",
   "name": "python",
   "nbconvert_exporter": "python",
   "pygments_lexer": "ipython3",
   "version": "3.7.3"
  }
 },
 "nbformat": 4,
 "nbformat_minor": 2
}
