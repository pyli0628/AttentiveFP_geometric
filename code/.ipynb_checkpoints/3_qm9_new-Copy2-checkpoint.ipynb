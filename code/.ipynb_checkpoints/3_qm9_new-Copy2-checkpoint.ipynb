{
 "cells": [
  {
   "cell_type": "code",
   "execution_count": 1,
   "metadata": {},
   "outputs": [],
   "source": [
    "import os\n",
    "os.environ[\"CUDA_DEVICE_ORDER\"]=\"PCI_BUS_ID\"   \n",
    "os.environ[\"CUDA_VISIBLE_DEVICES\"]=\"5\"\n",
    "import torch\n",
    "import torch.autograd as autograd\n",
    "import torch.nn as nn\n",
    "import torch.nn.functional as F\n",
    "import torch.optim as optim\n",
    "from torch.utils.data import Dataset, DataLoader\n",
    "from tqdm import tqdm\n",
    "\n",
    "import time\n",
    "import numpy as np\n",
    "import gc\n",
    "import sys\n",
    "sys.setrecursionlimit(50000)\n",
    "import pickle\n",
    "import random\n",
    "torch.set_default_tensor_type('torch.cuda.FloatTensor')\n",
    "torch.nn.Module.dump_patches = True\n",
    "import copy\n",
    "import pandas as pd\n",
    "from sklearn.model_selection import KFold\n",
    "\n",
    "#then import my own modules\n",
    "# from AttentiveFP import Fingerprint, Fingerprint_viz, save_smiles_dicts, get_smiles_dicts, get_smiles_array, moltosvg_highlight\n",
    "from timeit import default_timer as timer\n",
    "from AttentiveFP.featurizing import graph_dict\n",
    "from AttentiveFP.AttentiveLayers_new3 import Fingerprint, graph_dataset, null_collate, Graph, Logger, time_to_str\n",
    "\n"
   ]
  },
  {
   "cell_type": "code",
   "execution_count": 2,
   "metadata": {},
   "outputs": [],
   "source": [
    "cuda_aviable = torch.cuda.is_available()\n",
    "device = torch.device(0)\n",
    "\n",
    "SEED = 28\n",
    "random.seed(SEED)\n",
    "np.random.seed(SEED)\n",
    "torch.manual_seed(SEED)\n",
    "\n",
    "torch.cuda.manual_seed_all(SEED)\n",
    "torch.backends.cudnn.benchmark = True\n",
    "torch.backends.cudnn.enabled = True\n",
    "torch.backends.cudnn.deterministic=True\n"
   ]
  },
  {
   "cell_type": "code",
   "execution_count": 3,
   "metadata": {},
   "outputs": [],
   "source": [
    "from rdkit import Chem\n",
    "# from rdkit.Chem import AllChem\n",
    "from rdkit.Chem import QED\n",
    "from rdkit.Chem import rdMolDescriptors, MolSurf\n",
    "from rdkit.Chem.Draw import SimilarityMaps\n",
    "from rdkit import Chem\n",
    "from rdkit.Chem import AllChem\n",
    "from rdkit.Chem import rdDepictor\n",
    "from rdkit.Chem.Draw import rdMolDraw2D\n",
    "%matplotlib inline\n",
    "from numpy.polynomial.polynomial import polyfit\n",
    "import matplotlib.pyplot as plt\n",
    "from matplotlib import gridspec\n",
    "import matplotlib.cm as cm\n",
    "import matplotlib\n",
    "import seaborn as sns; sns.set_style(\"darkgrid\")\n",
    "from IPython.display import SVG, display\n",
    "import sascorer\n",
    "import itertools\n",
    "from sklearn.metrics import r2_score\n",
    "import scipy"
   ]
  },
  {
   "cell_type": "code",
   "execution_count": 4,
   "metadata": {},
   "outputs": [
    {
     "name": "stdout",
     "output_type": "stream",
     "text": [
      "number of all smiles:  133885\n",
      "number of successfully processed smiles:  133247\n"
     ]
    },
    {
     "data": {
      "image/png": "[encoded data removed]",
      "text/plain": [
       "<Figure size 360x216 with 1 Axes>"
      ]
     },
     "metadata": {},
     "output_type": "display_data"
    }
   ],
   "source": [
    "task_name = 'qm9'\n",
    "tasks = [\n",
    "   \"mu\",\"alpha\",\"homo\",\"lumo\",\"gap\",\"r2\",\"zpve\",\"u0\",\"u298\",\"h298\",\"g298\",\"cv\"\n",
    "]\n",
    "\n",
    "raw_filename = \"../data/gdb9_smiles.csv\"\n",
    "filename = raw_filename.replace('.csv','')\n",
    "prefix_filename = raw_filename.split('/')[-1].replace('.csv','')\n",
    "smiles_tasks_df = pd.read_csv(raw_filename)\n",
    "\n",
    "smilesList = smiles_tasks_df.smiles.values\n",
    "print(\"number of all smiles: \", len(smilesList))\n",
    "atom_num_dist = []\n",
    "remained_smiles = []\n",
    "canonical_smiles_list = []\n",
    "for smiles in smilesList:\n",
    "    try:        \n",
    "        mol = Chem.MolFromSmiles(smiles)\n",
    "        atom_num_dist.append(len(mol.GetAtoms()))\n",
    "        remained_smiles.append(smiles)\n",
    "        canonical_smiles_list.append(Chem.MolToSmiles(Chem.MolFromSmiles(smiles), isomericSmiles=True))\n",
    "    except:\n",
    "#         print(smiles)\n",
    "        pass\n",
    "print(\"number of successfully processed smiles: \", len(remained_smiles))\n",
    "\n",
    "smiles_tasks_df = smiles_tasks_df[smiles_tasks_df[\"smiles\"].isin(remained_smiles)].reset_index()\n",
    "smiles_tasks_df['cano_smiles'] =canonical_smiles_list\n",
    "plt.figure(figsize=(5, 3))\n",
    "sns.set(font_scale=1.5)\n",
    "ax = sns.distplot(atom_num_dist, bins=28, kde=False)\n",
    "plt.tight_layout()\n",
    "plt.show()\n",
    "plt.close()\n"
   ]
  },
  {
   "cell_type": "code",
   "execution_count": 5,
   "metadata": {},
   "outputs": [],
   "source": [
    "start_time = str(time.ctime()).replace(':','-').replace(' ','_')\n",
    "\n",
    "batch_size = 200\n",
    "epochs = 300\n",
    "\n",
    "p_dropout= 0.2\n",
    "fingerprint_dim = 64\n",
    "\n",
    "weight_decay = 4.9 # also known as l2_regularization_lambda\n",
    "learning_rate = 3.4\n",
    "K = 2\n",
    "T = 2\n",
    "per_task_output_units_num = 1 # for regression model\n",
    "output_units_num = len(tasks) * per_task_output_units_num\n"
   ]
  },
  {
   "cell_type": "code",
   "execution_count": 6,
   "metadata": {},
   "outputs": [
    {
     "name": "stdout",
     "output_type": "stream",
     "text": [
      "batch size:  200\n"
     ]
    },
    {
     "data": {
      "text/html": [
       "<div>\n",
       "<style scoped>\n",
       "    .dataframe tbody tr th:only-of-type {\n",
       "        vertical-align: middle;\n",
       "    }\n",
       "\n",
       "    .dataframe tbody tr th {\n",
       "        vertical-align: top;\n",
       "    }\n",
       "\n",
       "    .dataframe thead th {\n",
       "        text-align: right;\n",
       "    }\n",
       "</style>\n",
       "<table border=\"1\" class=\"dataframe\">\n",
       "  <thead>\n",
       "    <tr style=\"text-align: right;\">\n",
       "      <th></th>\n",
       "      <th>Task</th>\n",
       "      <th>Mean</th>\n",
       "      <th>Standard deviation</th>\n",
       "      <th>Mean absolute deviation</th>\n",
       "      <th>ratio</th>\n",
       "    </tr>\n",
       "  </thead>\n",
       "  <tbody>\n",
       "    <tr>\n",
       "      <th>0</th>\n",
       "      <td>mu</td>\n",
       "      <td>2.708713</td>\n",
       "      <td>1.531956</td>\n",
       "      <td>1.191056</td>\n",
       "      <td>1.286217</td>\n",
       "    </tr>\n",
       "    <tr>\n",
       "      <th>1</th>\n",
       "      <td>alpha</td>\n",
       "      <td>75.190920</td>\n",
       "      <td>8.197607</td>\n",
       "      <td>6.308065</td>\n",
       "      <td>1.299544</td>\n",
       "    </tr>\n",
       "    <tr>\n",
       "      <th>2</th>\n",
       "      <td>homo</td>\n",
       "      <td>-0.239974</td>\n",
       "      <td>0.022176</td>\n",
       "      <td>0.016340</td>\n",
       "      <td>1.357178</td>\n",
       "    </tr>\n",
       "    <tr>\n",
       "      <th>3</th>\n",
       "      <td>lumo</td>\n",
       "      <td>0.011026</td>\n",
       "      <td>0.046912</td>\n",
       "      <td>0.038618</td>\n",
       "      <td>1.214779</td>\n",
       "    </tr>\n",
       "    <tr>\n",
       "      <th>4</th>\n",
       "      <td>gap</td>\n",
       "      <td>0.250999</td>\n",
       "      <td>0.047505</td>\n",
       "      <td>0.039648</td>\n",
       "      <td>1.198148</td>\n",
       "    </tr>\n",
       "    <tr>\n",
       "      <th>5</th>\n",
       "      <td>r2</td>\n",
       "      <td>1190.034973</td>\n",
       "      <td>279.648930</td>\n",
       "      <td>202.109506</td>\n",
       "      <td>1.383651</td>\n",
       "    </tr>\n",
       "    <tr>\n",
       "      <th>6</th>\n",
       "      <td>zpve</td>\n",
       "      <td>0.148522</td>\n",
       "      <td>0.033298</td>\n",
       "      <td>0.026472</td>\n",
       "      <td>1.257836</td>\n",
       "    </tr>\n",
       "    <tr>\n",
       "      <th>7</th>\n",
       "      <td>u0</td>\n",
       "      <td>-411.587569</td>\n",
       "      <td>40.087880</td>\n",
       "      <td>31.106651</td>\n",
       "      <td>1.288724</td>\n",
       "    </tr>\n",
       "    <tr>\n",
       "      <th>8</th>\n",
       "      <td>u298</td>\n",
       "      <td>-411.579095</td>\n",
       "      <td>40.087661</td>\n",
       "      <td>31.106518</td>\n",
       "      <td>1.288722</td>\n",
       "    </tr>\n",
       "    <tr>\n",
       "      <th>9</th>\n",
       "      <td>h298</td>\n",
       "      <td>-411.578151</td>\n",
       "      <td>40.087661</td>\n",
       "      <td>31.106518</td>\n",
       "      <td>1.288722</td>\n",
       "    </tr>\n",
       "    <tr>\n",
       "      <th>10</th>\n",
       "      <td>g298</td>\n",
       "      <td>-411.620986</td>\n",
       "      <td>40.088392</td>\n",
       "      <td>31.107005</td>\n",
       "      <td>1.288726</td>\n",
       "    </tr>\n",
       "    <tr>\n",
       "      <th>11</th>\n",
       "      <td>cv</td>\n",
       "      <td>31.604483</td>\n",
       "      <td>4.064031</td>\n",
       "      <td>3.204093</td>\n",
       "      <td>1.268387</td>\n",
       "    </tr>\n",
       "  </tbody>\n",
       "</table>\n",
       "</div>"
      ],
      "text/plain": [
       "     Task         Mean  Standard deviation  Mean absolute deviation     ratio\n",
       "0      mu     2.708713            1.531956                 1.191056  1.286217\n",
       "1   alpha    75.190920            8.197607                 6.308065  1.299544\n",
       "2    homo    -0.239974            0.022176                 0.016340  1.357178\n",
       "3    lumo     0.011026            0.046912                 0.038618  1.214779\n",
       "4     gap     0.250999            0.047505                 0.039648  1.198148\n",
       "5      r2  1190.034973          279.648930               202.109506  1.383651\n",
       "6    zpve     0.148522            0.033298                 0.026472  1.257836\n",
       "7      u0  -411.587569           40.087880                31.106651  1.288724\n",
       "8    u298  -411.579095           40.087661                31.106518  1.288722\n",
       "9    h298  -411.578151           40.087661                31.106518  1.288722\n",
       "10   g298  -411.620986           40.088392                31.107005  1.288726\n",
       "11     cv    31.604483            4.064031                 3.204093  1.268387"
      ]
     },
     "execution_count": 6,
     "metadata": {},
     "output_type": "execute_result"
    }
   ],
   "source": [
    "test_df = smiles_tasks_df.sample(frac=1/10, random_state=SEED) # test set\n",
    "training_data = smiles_tasks_df.drop(test_df.index) # training data\n",
    "\n",
    "# get the stats of the seen dataset (the training data)\n",
    "# which will be used to noramlize the dataset. \n",
    "columns = ['Task','Mean','Standard deviation', 'Mean absolute deviation','ratio']\n",
    "mean_list=[]\n",
    "std_list=[]\n",
    "mad_list=[]\n",
    "ratio_list=[]\n",
    "training_label_list = []\n",
    "test_label_list = []\n",
    "for task in tasks:\n",
    "    mean = training_data[task].mean()\n",
    "    mean_list.append(mean)\n",
    "    std = training_data[task].std()\n",
    "    std_list.append(std)\n",
    "    mad = training_data[task].mad()\n",
    "    mad_list.append(mad)\n",
    "    ratio_list.append(std/mad)\n",
    "    training_data[task+'_normalized'] = (training_data[task]- mean)/std\n",
    "    # the mean and standard deviation of training data is also used in test set\n",
    "    test_df[task+'_normalized'] = (test_df[task]- mean)/std\n",
    "    training_label_list.append(training_data[task+'_normalized'].values)\n",
    "    test_label_list.append(test_df[task+'_normalized'].values)\n",
    "\n",
    "training_label = np.array(training_label_list).astype(np.float).transpose()\n",
    "test_label = np.array(test_label_list).astype(np.float).transpose()\n",
    "\n",
    "    \n",
    "# training data is further divided into validation set and train set\n",
    "valid_df = training_data.sample(frac=1/9, random_state=SEED) # validation set\n",
    "train_df = training_data.drop(valid_df.index) # train set\n",
    "train_df = train_df.reset_index(drop=True)\n",
    "valid_df = valid_df.reset_index(drop=True)\n",
    "test_df = test_df.reset_index(drop=True)\n",
    "\n",
    "while (len(train_df) % batch_size) / batch_size <0.8:\n",
    "    batch_size +=1\n",
    "print(\"batch size: \", batch_size)\n",
    "\n",
    "list_of_tuples = list(zip(tasks, mean_list, std_list, mad_list, ratio_list))\n",
    "stats  = pd.DataFrame(list_of_tuples, columns = columns)\n",
    "stats\n"
   ]
  },
  {
   "cell_type": "code",
   "execution_count": 7,
   "metadata": {},
   "outputs": [],
   "source": [
    "# # check the value distribution of different tasks\n",
    "# plt.figure(figsize=(28, 8),dpi=300)\n",
    "# gs = gridspec.GridSpec(2, 6)\n",
    "# sns.set(font_scale=1.8)\n",
    "# for i, task in enumerate(tasks):\n",
    "#     plt.subplot(gs[(i)])\n",
    "#     x = pd.Series(training_data[task].values, name=task)\n",
    "#     ax = sns.distplot(x, bins=28, kde=False)\n",
    "#     plt.tight_layout()\n",
    "# plt.show()\n",
    "# plt.close()"
   ]
  },
  {
   "cell_type": "code",
   "execution_count": 8,
   "metadata": {},
   "outputs": [],
   "source": [
    "# # check the distribution after normalization (should be the same)\n",
    "\n",
    "# plt.figure(figsize=(28, 8),dpi=300)\n",
    "# gs = gridspec.GridSpec(2, 6)\n",
    "# sns.set(font_scale=1.8)\n",
    "# for i, task in enumerate(tasks):\n",
    "#     plt.subplot(gs[(i)])\n",
    "#     x = pd.Series(training_data[task+\"_normalized\"].values, name=task)\n",
    "#     ax = sns.distplot(x, bins=28, kde=False)\n",
    "#     plt.tight_layout()\n",
    "# plt.show()\n",
    "# plt.close()"
   ]
  },
  {
   "cell_type": "code",
   "execution_count": 9,
   "metadata": {},
   "outputs": [
    {
     "name": "stdout",
     "output_type": "stream",
     "text": [
      "graph dicts loaded from ../data/gdb9_smiles_training_seed28.pkl\n",
      "graph dicts loaded from ../data/gdb9_smiles_test_seed28.pkl\n"
     ]
    }
   ],
   "source": [
    "training_smiles = training_data['smiles'].values\n",
    "test_smiles = test_df['smiles'].values\n",
    "training_graph_dict = graph_dict(training_smiles, list(training_label), filename+'_training_seed'+str(SEED))\n",
    "test_graph_dict = graph_dict(test_smiles, list(test_label), filename+'_test_seed'+str(SEED))\n",
    "whole_graph_dict = {**training_graph_dict, **test_graph_dict}"
   ]
  },
  {
   "cell_type": "code",
   "execution_count": 10,
   "metadata": {},
   "outputs": [
    {
     "data": {
      "text/plain": [
       "tensor([[1.6544, 1.6888, 1.8419, 1.4757, 1.4356, 1.9145, 1.5822, 1.6608, 1.6608,\n",
       "         1.6608, 1.6608, 1.6088]])"
      ]
     },
     "execution_count": 10,
     "metadata": {},
     "output_type": "execute_result"
    }
   ],
   "source": [
    "ratio_array = torch.from_numpy(np.array(ratio_list).astype(np.float)).float()\n",
    "ratio_array = ratio_array.to(device)\n",
    "ratio_array_square = ratio_array[None,:]**2\n",
    "ratio_array_square"
   ]
  },
  {
   "cell_type": "code",
   "execution_count": 11,
   "metadata": {
    "scrolled": true
   },
   "outputs": [
    {
     "name": "stdout",
     "output_type": "stream",
     "text": [
      "82128\n",
      "preprocess.0.linear.weight torch.Size([32, 39])\n",
      "preprocess.0.linear.bias torch.Size([32])\n",
      "preprocess.0.bn.weight torch.Size([32])\n",
      "preprocess.0.bn.bias torch.Size([32])\n",
      "propagate.0.encoder.0.linear.weight torch.Size([1024, 10])\n",
      "propagate.0.encoder.0.linear.bias torch.Size([1024])\n",
      "propagate.0.encoder.0.bn.weight torch.Size([1024])\n",
      "propagate.0.encoder.0.bn.bias torch.Size([1024])\n",
      "propagate.0.align.weight torch.Size([1, 64])\n",
      "propagate.0.align.bias torch.Size([1])\n",
      "propagate.0.attend.linear.weight torch.Size([32, 32])\n",
      "propagate.0.attend.linear.bias torch.Size([32])\n",
      "propagate.0.attend.bn.weight torch.Size([32])\n",
      "propagate.0.attend.bn.bias torch.Size([32])\n",
      "propagate.0.gru.weight_ih torch.Size([96, 32])\n",
      "propagate.0.gru.weight_hh torch.Size([96, 32])\n",
      "propagate.0.gru.bias_ih torch.Size([96])\n",
      "propagate.0.gru.bias_hh torch.Size([96])\n",
      "propagate.1.encoder.0.linear.weight torch.Size([1024, 10])\n",
      "propagate.1.encoder.0.linear.bias torch.Size([1024])\n",
      "propagate.1.encoder.0.bn.weight torch.Size([1024])\n",
      "propagate.1.encoder.0.bn.bias torch.Size([1024])\n",
      "propagate.1.align.weight torch.Size([1, 64])\n",
      "propagate.1.align.bias torch.Size([1])\n",
      "propagate.1.attend.linear.weight torch.Size([32, 32])\n",
      "propagate.1.attend.linear.bias torch.Size([32])\n",
      "propagate.1.attend.bn.weight torch.Size([32])\n",
      "propagate.1.attend.bn.bias torch.Size([32])\n",
      "propagate.1.gru.weight_ih torch.Size([96, 32])\n",
      "propagate.1.gru.weight_hh torch.Size([96, 32])\n",
      "propagate.1.gru.bias_ih torch.Size([96])\n",
      "propagate.1.gru.bias_hh torch.Size([96])\n",
      "superGather.0.align.weight torch.Size([1, 64])\n",
      "superGather.0.align.bias torch.Size([1])\n",
      "superGather.0.attend.linear.weight torch.Size([32, 32])\n",
      "superGather.0.attend.linear.bias torch.Size([32])\n",
      "superGather.0.attend.bn.weight torch.Size([32])\n",
      "superGather.0.attend.bn.bias torch.Size([32])\n",
      "superGather.0.gru.weight_ih torch.Size([96, 32])\n",
      "superGather.0.gru.weight_hh torch.Size([96, 32])\n",
      "superGather.0.gru.bias_ih torch.Size([96])\n",
      "superGather.0.gru.bias_hh torch.Size([96])\n",
      "superGather.1.align.weight torch.Size([1, 64])\n",
      "superGather.1.align.bias torch.Size([1])\n",
      "superGather.1.attend.linear.weight torch.Size([32, 32])\n",
      "superGather.1.attend.linear.bias torch.Size([32])\n",
      "superGather.1.attend.bn.weight torch.Size([32])\n",
      "superGather.1.attend.bn.bias torch.Size([32])\n",
      "superGather.1.gru.weight_ih torch.Size([96, 32])\n",
      "superGather.1.gru.weight_hh torch.Size([96, 32])\n",
      "superGather.1.gru.bias_ih torch.Size([96])\n",
      "superGather.1.gru.bias_hh torch.Size([96])\n",
      "predict.0.linear.weight torch.Size([512, 32])\n",
      "predict.0.linear.bias torch.Size([512])\n",
      "predict.0.bn.weight torch.Size([512])\n",
      "predict.0.bn.bias torch.Size([512])\n",
      "predict.3.weight torch.Size([12, 512])\n",
      "predict.3.bias torch.Size([12])\n"
     ]
    }
   ],
   "source": [
    "ratio_array = torch.from_numpy(np.array(ratio_list).astype(np.float)).float()\n",
    "ratio_array = ratio_array.to(device)\n",
    "std_array = torch.from_numpy(np.array(std_list).astype(np.float)).float()\n",
    "std_array = ratio_array.to(device)\n",
    "\n",
    "ratio_array_square = ratio_array[None,:]**2\n",
    "loss_function = nn.MSELoss()\n",
    "model = Fingerprint(output_units_num, fingerprint_dim, K=K, T=T, p_dropout=p_dropout)\n",
    "model.to(device)\n",
    "# optimizer = optim.Adam(model.parameters(), learning_rate, weight_decay=weight_decay)\n",
    "optimizer = optim.Adam(model.parameters(), 10**-learning_rate, weight_decay=10**-weight_decay)\n",
    "# optimizer = optim.SGD(model.parameters(), 10**-learning_rate, weight_decay=10**-weight_decay)\n",
    "\n",
    "# model_parameters = filter(lambda p: p.requires_grad, model.parameters())\n",
    "params = sum([np.prod(p.size()) for p in  model.parameters()])\n",
    "print(params)\n",
    "for name, param in model.named_parameters():\n",
    "    if param.requires_grad:\n",
    "        print(name, param.data.shape)\n",
    "        "
   ]
  },
  {
   "cell_type": "code",
   "execution_count": 12,
   "metadata": {},
   "outputs": [],
   "source": [
    "# def train(model, smiles_list):\n",
    "#     model.train()\n",
    "#     train_loader = DataLoader(graph_dataset(smiles_list, whole_graph_dict), batch_size, collate_fn=null_collate, \\\n",
    "#                               num_workers=1, pin_memory=True, shuffle=True, worker_init_fn=np.random.seed(SEED))\n",
    "#     losses = []\n",
    "#     for b, (smiles, atom, bond, bond_index, mol_index, label) in tqdm(enumerate(train_loader)):\n",
    "#         atom = atom.to(device)\n",
    "#         bond = bond.to(device)\n",
    "#         bond_index = bond_index.to(device)\n",
    "#         mol_index = mol_index.to(device)\n",
    "#         label = label.to(device)\n",
    "        \n",
    "#         mol_prediction = model(atom, bond, bond_index, mol_index)\n",
    "        \n",
    "#         loss = 0.0\n",
    "#         for i,task in enumerate(tasks):\n",
    "#             y_pred = mol_prediction[:, i]\n",
    "#             loss += loss_function(y_pred, label[:,i])*ratio_list[i]**2\n",
    "#         loss.backward()\n",
    "#         optimizer.step()\n",
    "#         optimizer.zero_grad()\n",
    "#         losses.append(loss.item())\n",
    "\n",
    "#     return np.mean(losses)\n",
    "\n",
    "        \n",
    "# def eval(model, smiles_list):\n",
    "#     model.eval()\n",
    "#     eval_MAE_list = {}\n",
    "#     eval_MSE_list = {}\n",
    "#     y_val_list = {}\n",
    "#     y_pred_list = {}\n",
    "#     for i,task in enumerate(tasks):\n",
    "#         y_pred_list[task] = np.array([])\n",
    "#         y_val_list[task] = np.array([])\n",
    "#         eval_MAE_list[task] = np.array([])\n",
    "#         eval_MSE_list[task] = np.array([])\n",
    "        \n",
    "#     eval_loader = DataLoader(graph_dataset(smiles_list, whole_graph_dict), batch_size, collate_fn=null_collate, \\\n",
    "#                               num_workers=8, pin_memory=True, shuffle=False, worker_init_fn=np.random.seed(SEED))\n",
    "#     for b, (smiles, atom, bond, bond_index, mol_index, label) in tqdm(enumerate(eval_loader)):\n",
    "#         atom = atom.to(device)\n",
    "#         bond = bond.to(device)\n",
    "#         bond_index = bond_index.to(device)\n",
    "#         mol_index = mol_index.to(device)\n",
    "#         label = label.to(device)\n",
    "        \n",
    "#         mol_prediction = model(atom, bond, bond_index, mol_index)\n",
    "#         for i,task in enumerate(tasks):\n",
    "#             y_pred = mol_prediction[:, i]\n",
    "\n",
    "#             MAE = F.l1_loss(y_pred, label[:,i], reduction='none')        \n",
    "#             MSE = F.mse_loss(y_pred, label[:,i], reduction='none')\n",
    "        \n",
    "#             y_pred_list[task] = np.concatenate([y_pred_list[task], y_pred.cpu().detach().numpy()])\n",
    "#             y_val_list[task] = np.concatenate([y_val_list[task], label[:,i].cpu().detach().numpy()])\n",
    "#             eval_MAE_list[task] = np.concatenate([eval_MAE_list[task],MAE.data.squeeze().cpu().numpy()])\n",
    "#             eval_MSE_list[task] = np.concatenate([eval_MSE_list[task],MSE.data.squeeze().cpu().numpy()])\n",
    "# #     r2_score_list = [r2_score(y_val_list[task], y_pred_list[task]) for task in tasks]\n",
    "#     eval_MAE_normalized = np.array([eval_MAE_list[task].mean() for i, task in enumerate(tasks)])\n",
    "#     eval_MAE = np.multiply(eval_MAE_normalized, np.array(std_list))\n",
    "#     eval_RMSE_normalized = np.sqrt(np.array([eval_MSE_list[task].mean() for i, task in enumerate(tasks)]))\n",
    "#     eval_RMSE = np.multiply(eval_RMSE_normalized, np.array(std_list))\n",
    "\n",
    "#     return eval_MAE_normalized, eval_MAE, eval_RMSE_normalized, eval_RMSE #, r2_score_list\n",
    "\n"
   ]
  },
  {
   "cell_type": "code",
   "execution_count": 13,
   "metadata": {},
   "outputs": [],
   "source": [
    "def train(model, smiles_list):\n",
    "    model.train()\n",
    "    train_loader = DataLoader(graph_dataset(smiles_list, whole_graph_dict), batch_size, collate_fn=null_collate, \\\n",
    "                              num_workers=8, pin_memory=True, shuffle=True, worker_init_fn=np.random.seed(SEED))\n",
    "    losses = []\n",
    "    for b, (smiles, atom, bond, bond_index, mol_index, label) in tqdm(enumerate(train_loader)):\n",
    "        atom = atom.to(device)\n",
    "        bond = bond.to(device)\n",
    "        bond_index = bond_index.to(device)\n",
    "        mol_index = mol_index.to(device)\n",
    "        label = label.to(device) * ratio_array_square # set STD/MAD ratio as the weights\n",
    "        mol_prediction = model(atom, bond, bond_index, mol_index) * ratio_array_square\n",
    "        \n",
    "        loss = loss_function(mol_prediction.reshape(-1), label.reshape(-1))\n",
    "        loss.backward()\n",
    "        optimizer.step()\n",
    "        optimizer.zero_grad()\n",
    "        losses.append(loss.item())\n",
    "\n",
    "    return np.mean(losses)\n",
    "\n",
    "def eval(model, smiles_list):\n",
    "    model.eval()\n",
    "    eval_MAE_list = {}\n",
    "    eval_MSE_list = {}\n",
    "    y_val_list = {}\n",
    "    y_pred_list = {}\n",
    "    for i,task in enumerate(tasks):\n",
    "        y_pred_list[task] = np.array([])\n",
    "        y_val_list[task] = np.array([])\n",
    "        eval_MAE_list[task] = np.array([])\n",
    "        eval_MSE_list[task] = np.array([])\n",
    "        \n",
    "    eval_loader = DataLoader(graph_dataset(smiles_list, whole_graph_dict), batch_size, collate_fn=null_collate, \\\n",
    "                              num_workers=8, pin_memory=True, shuffle=False, worker_init_fn=np.random.seed(SEED))\n",
    "    for b, (smiles, atom, bond, bond_index, mol_index, label) in tqdm(enumerate(eval_loader)):\n",
    "        atom = atom.to(device)\n",
    "        bond = bond.to(device)\n",
    "        bond_index = bond_index.to(device)\n",
    "        mol_index = mol_index.to(device)\n",
    "        label = label.to(device)\n",
    "        \n",
    "        mol_prediction = model(atom, bond, bond_index, mol_index)\n",
    "        for i,task in enumerate(tasks):\n",
    "            y_pred = mol_prediction[:, i]\n",
    "\n",
    "            MAE = F.l1_loss(y_pred, label[:,i], reduction='none')        \n",
    "            MSE = F.mse_loss(y_pred, label[:,i], reduction='none')\n",
    "        \n",
    "            y_pred_list[task] = np.concatenate([y_pred_list[task], y_pred.cpu().detach().numpy()])\n",
    "            y_val_list[task] = np.concatenate([y_val_list[task], label[:,i].cpu().detach().numpy()])\n",
    "            eval_MAE_list[task] = np.concatenate([eval_MAE_list[task],MAE.data.squeeze().cpu().numpy()])\n",
    "            eval_MSE_list[task] = np.concatenate([eval_MSE_list[task],MSE.data.squeeze().cpu().numpy()])\n",
    "#     r2_score_list = [r2_score(y_val_list[task], y_pred_list[task]) for task in tasks]\n",
    "    eval_MAE_normalized = np.array([eval_MAE_list[task].mean() for i, task in enumerate(tasks)])\n",
    "    eval_MAE = np.multiply(eval_MAE_normalized, np.array(std_list))\n",
    "    eval_RMSE_normalized = np.sqrt(np.array([eval_MSE_list[task].mean() for i, task in enumerate(tasks)]))\n",
    "    eval_RMSE = np.multiply(eval_RMSE_normalized, np.array(std_list))\n",
    "\n",
    "    return eval_MAE_normalized, eval_MAE, eval_RMSE_normalized, eval_RMSE #, r2_score_list\n",
    "\n",
    "\n",
    "\n",
    "# def eval(model, smiles_list):\n",
    "#     model.eval()\n",
    "#     MAE_array = torch.Tensor()\n",
    "#     RMSE_array = torch.Tensor()\n",
    "#     mol_prediction_array = torch.Tensor()\n",
    "#     label_array = torch.Tensor()\n",
    "        \n",
    "#     eval_loader = DataLoader(graph_dataset(smiles_list, whole_graph_dict), batch_size, collate_fn=null_collate, \\\n",
    "#                               num_workers=8, pin_memory=True, shuffle=False, worker_init_fn=np.random.seed(SEED))\n",
    "#     for b, (smiles, atom, bond, bond_index, mol_index, label) in tqdm(enumerate(eval_loader)):\n",
    "#         atom = atom.to(device)\n",
    "#         bond = bond.to(device)\n",
    "#         bond_index = bond_index.to(device)\n",
    "#         mol_index = mol_index.to(device)\n",
    "#         label = label.to(device)\n",
    "        \n",
    "#         mol_prediction = model(atom, bond, bond_index, mol_index)\n",
    "#         MAE = F.l1_loss(mol_prediction.reshape(-1), label.reshape(-1), reduction='none')        \n",
    "#         MSE = F.mse_loss(mol_prediction.reshape(-1), label.reshape(-1), reduction='none')\n",
    "        \n",
    "#         mol_prediction_array = torch.cat([mol_prediction_array.reshape(-1,12), mol_prediction.reshape(-1,12)],0)\n",
    "        \n",
    "#         label_array = torch.cat([label_array.reshape(-1,12),label.reshape(-1,12)])\n",
    "#         MAE_array = torch.cat([MAE.reshape(-1,12),MAE.reshape(-1,12)])\n",
    "#         MSE_array = torch.cat([MSE.reshape(-1,12),MSE.reshape(-1,12)])\n",
    "# #     mol_prediction_array = mol_prediction_array.data.squeeze().cpu().numpy()\n",
    "# #     label_array = label_array.data.squeeze().cpu().numpy()    \n",
    "# #     r2_score_list = [r2_score(mol_prediction_array[:,i], label_array[:,i]) for i, task in enumerate(tasks)]\n",
    "#     MAE_normalized = MAE_array.mean(0).reshape(-1)    \n",
    "#     MAE_raw = MAE_normalized * std_array\n",
    "#     RMSE_normalized = torch.sqrt(MAE_array.mean().reshape(-1))\n",
    "#     RMSE_raw = RMSE_normalized * std_array\n",
    "\n",
    "#     return MAE_normalized, MAE_raw, RMSE_normalized, RMSE_raw #, r2_score_list\n",
    "\n"
   ]
  },
  {
   "cell_type": "code",
   "execution_count": 14,
   "metadata": {},
   "outputs": [],
   "source": [
    "# log = Logger()\n",
    "# log.open(f'{prefix_filename}_{start_time}.txt')\n",
    "\n",
    "# f = '{:^5} | {:^7.4f} | {:^7.4f} | {:^7.4f} | {:^7} \\n'\n",
    "# log.write('epoch | loss | train MSE |  valid MSE |  time \\n')\n",
    "# start = timer()\n",
    "\n",
    "# best_param ={}\n",
    "# best_param[\"train_epoch\"] = 0\n",
    "# best_param[\"valid_epoch\"] = 0\n",
    "# best_param[\"train_MSE\"] = 9e8\n",
    "# best_param[\"valid_MSE\"] = 9e8\n",
    "\n",
    "# fold_index = 3\n",
    "# for epoch in range(800):\n",
    "#     losses = train(smiles_list[train_fold[fold_index]])\n",
    "#     traine_MAE, train_MSE = eval(smiles_list[train_fold[fold_index]])\n",
    "#     valid_MAE, valid_MSE = eval(smiles_list[valid_fold[fold_index]])\n",
    "\n",
    "#     timing = time_to_str((timer() - start), 'min')  \n",
    "#     log.write(f.format(epoch, losses, train_MSE, valid_MSE, timing))\n",
    "\n",
    "#     if train_MSE < best_param[\"train_MSE\"]:\n",
    "#         best_param[\"train_epoch\"] = epoch\n",
    "#         best_param[\"train_MSE\"] = train_MSE\n",
    "#     if valid_MSE < best_param[\"valid_MSE\"]:\n",
    "#         best_param[\"valid_epoch\"] = epoch\n",
    "#         best_param[\"valid_MSE\"] = valid_MSE\n",
    "# #         if valid_MSE < 0.35:\n",
    "# #              torch.save(model, 'saved_models/model_'+prefix_filename+'_'+start_time+'_'+str(epoch)+'.pt')\n",
    "#     if (epoch - best_param[\"train_epoch\"] >10) and (epoch - best_param[\"valid_epoch\"] >18):        \n",
    "#         break\n",
    "# print(best_param[\"valid_epoch\"],best_param[\"train_MSE\"],best_param[\"valid_MSE\"])"
   ]
  },
  {
   "cell_type": "code",
   "execution_count": 15,
   "metadata": {},
   "outputs": [],
   "source": [
    "# bug_list1 = ['C[NH2+]C1C[C@H](C(N)=O)O1', 'C[C@@H](O)[C@H]1CCC([NH-])O1', '[NH-]c1nc(N)c(O)[cH+]o1', 'O=CN1[C@H]2[C@H]3[C@@H]4[C@H]3[C@H]2[C@@H]41', 'C[NH2+]C1O[CH+]N=C[CH+]1C', 'C[C@H]1O[C@@H](CO)C1NO', 'CCO[C@H]1[C@@H](C)C1(C)C', 'COCc1c[nH]c(O)n1', 'O=CCCc1ccon1', 'C#CC1=C[C@@H]2[C@@H]3[C@H]1O[C@@H]32', 'CC1=C[C@H](C#N)COC1', 'C1CC12[C@H]1[C@@H]3[C@H]1[C@H]1[C@@H]3[N@H+]12', 'CCC[C@H]1C[C@@](C)(O)C1', 'C[C@H]1C[C@@]12C[C@@H](O)C2=O', 'O[C@H]1CC=C2CCO[C@H]21', 'CC(C)(O)CCCO', 'CC[C@]12C[N@H+]1C[C@@]21CN1', 'C#C[C@H]1C[C@H](COC)C1', '[NH-]c1nc(O)nc(N)[nH+]1', 'C[C@H]1C[C@]2(CN2)[C@@]12CN2', 'C[C@@]1(O)C[C@H]2OC[C@@H]1O2', 'C[C@@]12O[C@H]3[C@@H]4C[N@@H+]([C@@H]41)[C@H]32', 'C1=C[C@]2(CC1)[C@@]13C[C@]12O3', 'C[C@H]1[C@@H](O)C(=O)C1(C)C', 'C[N@H+]1[C@H]2[C@H]3C[C@H]3[C@@H]1[C@H]2O', 'O=C1C[C@H]2COC(=O)N12', 'CC[C@H]1CC2=CCO[C@H]21', 'O=C1CC[C@H]2C[C@@H](C1)O2', 'CCn1cnc(NC)c1', 'C#CC#C[C@H](O)CCC', 'Nc1[nH]c(O)cc1O', 'O=C1COCC=C[C@@H]1O', 'O=C1O[C@H]2CO[C@@H]1OC2', 'OCC[N@H+]1[C@H]2[C@H]3C[C@H]3[C@H]21', 'O=c1[nH]ncnc1F', '[NH-]c1[nH+]cc(N)[nH]c1=O', 'C[C@H]1O[C@]12C=CCC2', '[NH-]c1[nH+]c(O)cnc1O', 'O=C[C@H]1[C@@H]2C=C[C@H]1[C@H]2O', 'C[C@H]1CC12CC1(CC1)C2', 'N#CC1(N)CC1', 'C#C[C@@](C)(C=O)C(N)=O', 'C[C@H]1OC[C@H]2N[C@H]2[C@H]1O', 'Cc1c[nH+]c([NH-])nc1F', 'O=C1C[C@@H]2NC(=O)[C@@H]2C1', 'C[C@H]1C[C@H]([C@@]2(C)CO2)O1', 'c1cnc([C@H]2CN2)cn1', 'CC[C@@H]1[C@H](C)C=C[C@@H]1C', 'C[C@]12C[C@H]1[C@H]1C=CC[C@H]12', 'C[C@]12C[C@H]1C[C@H]2CCO']\n",
    "\n",
    "# bug_list2 = ['NC(=O)[C@H]1O[C@H]1C=O', 'CC(=O)c1n[nH]cc1O', 'Cc1c[nH]c(O)c1C=O', 'OC[C@@H](O)[C@H]1CCCO1', 'CCC1=CCCNC1=O', 'CNc1cnc(O)[nH]1', 'C[C@H]1C[N@H+]2[C@@H]3[C@H](O)[C@H]2[C@@H]31', 'C[N+]1=CNNC([NH-])C1=O', 'CNC(=N)CCC(=O)O', '[NH-]c1nn[nH+]c(N)c1F', 'C[NH2+]C1OCC12CC2', 'CC(C)(O)[C@H]1CCCO1', 'CC1(C)N[C@@]12COC2=O', '[NH-]c1n[cH+]occ1N', 'C#Cc1[nH]ccc1N', 'N#C[C@H]1CCC[C@H]2O[C@@H]12', 'COC[C@@H](C)[C@H]1C[C@H]1C', 'C[C@@H]1[C@@H]2C[C@H]1[C@@]2(C)CO', 'CC(C)C(=O)C[C@@H](C)O', 'Nc1oncc1NC=O', 'C[C@H]1C[C@]2(C)[C@H]1[C@@H]1N[C@@H]12', 'C[C@@H]1C=C[C@]2(CC1)CO2', 'NCC[C@@H](O)CC(=O)O', '[NH-]C1OC[C@@H]2[C@H]1[C@@H]2C=O', 'CC1(C)[C@H]2O[CH+][NH2+][C@]21C', 'CO[C@@H]1C([NH-])OC[C@@H]1O', 'C#C[C@H](C=O)CCCC', 'Cc1ccnc(C)c1', 'C[C@H]1C[N@H+](CC(N)=O)C1', 'O=CO[CH+][NH2+]C[C@H]1CO1', 'C#CC(=O)N[C@H](C)C=O', 'C#C[C@]1(CC#CC)CN1', 'C[C@@H](O)CC(=O)C1CC1', 'CC[N@@H+]1[C@H](C#N)[C@@H]2C[C@@H]21', 'C[C@]12C(=O)O[C@]13C[C@H]2C3', 'CCCCOC(=O)CN', 'CCC#C[C@@]1(C=O)CN1', 'c1nc2ocnc2[nH]1', 'N#C[C@@]1(O)C[C@@H]1N', 'O=C1CNC2(COC2)C1', 'CC[C@H]1C[C@@]2(C)O[C@@]12C', 'CC[C@@]12C[C@@H](O1)[C@H]1O[C@H]12', 'CCc1cc([NH-])nn[nH+]1', 'C#C[C@H](C)[C@@H](C)C#N', 'CCn1cnc(NC)n1', 'C1CC1[NH+]1CC1', 'CC(=O)[C@H]1COC(N)[NH2+]1', 'C#CC1(C#C)C[C@H]2C[C@H]21', 'O=C[C@@]1(O)[C@@H]2O[C@H]3[C@@H]2[C@H]31', 'C1[C@H]2C[C@]3(C[C@H]4O[C@H]43)[C@@H]12']\n",
    "\n",
    "# bug_list3 = ['c1cc2n[nH+]ccc2[nH]1', 'COCC[C@@H]1C=CCO1', 'C#C[C@@H]1C[C@@H]1CCO', 'C[C@@]12CC[C@@H](O)[C@]1(C)N2', 'C[C@@]1(O)CC(=O)[C@@]12CN2', 'Nc1cc(N2CC2)c[nH]1', '[NH-]C1CN=CN1C(N)=O', 'CNC[C@@]1(C#N)CN1', 'Cn1ccc(O)c1C#N', 'C[C@]12C([NH-])O[C@@H]3[C@]14O[C@@]324', 'O=C[C@@H]1[C@@H]2OCC[C@@]21O', 'CC1=C[C@H]2C[C@@]13OC[C@@H]23', 'Cc1n[nH+]c(O)nc1[NH-]', 'CCOC[C@H]1[C@H]2CC[C@H]21', 'CN/C=N/c1nc[nH]n1', 'CC(C)[C@H]1[C@@H](O)[C@]1(C)O', 'C[C@@]12[C@H]3[NH2+]C[C@@H]1[C@@H]2CO3', 'C[C@]12CC[C@H](CC1)O2', 'CCc1c(C)c[nH]c1C', 'C[C@@]12C[C@H]3[C@H]4[C@@H]1[C@@H]2C[N@@H+]34', 'C[C@H]1O[C@]23CO[C@H](C2)[C@@H]13', 'CCCOCCC1CC1', 'O=C1CN=CO[C@H]2C[C@@H]12', 'O=C1CCCOCCO1', 'C#C[C@]12C[C@@H]3C(=O)N1[C@@H]32', 'C[C@@]12C[C@H]3[N@@H+]1[C@@]3(C)[C@@H]2O', 'NC1=CC(=O)OC12CC2', 'C#CC[C@H](CC)[NH+]1CC1', 'C[C@H]1O[C@@]1(C=O)CC=O', 'O[C@H]1C[C@]12[C@H]1[C@@H]3C[C@H]1[C@@H]32', 'O[C@@H]1C=C[C@@H]2C[N@@H+]2CC1', 'C[C@@]12CC[C@H]3[C@H](O)[C@@H]1[C@H]32', 'CC(=O)OCC[C@@H](C)O', 'C#CC[C@]12CC[C@H]1CC2', 'C1C[C@@]23C[C@@H](O1)O[C@@H]2C3', 'c1cc2[nH]nnc2cn1', 'C[C@H]1CC2(CC2)O[C@H]1C', 'O=CN1[C@H]2[C@@H]3[C@H](O)[C@H]2[C@@H]31', 'CC(=O)CC12CC(C1)C2', 'C1=C[C@H]2[C@@H]3CC[C@H]2O[C@H]13', 'OCC[C@]12C[C@H]1[NH2+][CH+]O2', 'C[C@]12C[C@@H]3C[C@H](C1)[N@@H+]32', 'O=C1CN[C@@H]1CCCO', 'CC#C[C@]12C[N@H+](C1)[C@H]2C', 'CC[C@H]1O[C@H]2[C@@H]1C2(C)C', 'C[C@@H]1O[C@@H]2[C@H](O1)C2(C)C', 'C[C@H]1OC([NH-])[C@H]2C[C@H]21', 'N#C[C@@H]1C[C@@H]1NCC=O', 'C[C@@H](C=O)[C@@](C)(O)CO', 'CC[C@@H](C)n1nnnn1']"
   ]
  },
  {
   "cell_type": "code",
   "execution_count": 16,
   "metadata": {},
   "outputs": [],
   "source": [
    "# losses = train(model, bug_list1)\n",
    "# print(losses)"
   ]
  },
  {
   "cell_type": "code",
   "execution_count": 17,
   "metadata": {},
   "outputs": [],
   "source": [
    "# train_df_smiles = train_df.smiles.values\n",
    "# valid_df_smiles = valid_df.smiles.values\n",
    "# test_df_smiles = test_df.smiles.values\n"
   ]
  },
  {
   "cell_type": "code",
   "execution_count": 18,
   "metadata": {
    "scrolled": true
   },
   "outputs": [],
   "source": [
    "# losses = train(model, train_df_smiles)\n",
    "# print(losses)"
   ]
  },
  {
   "cell_type": "code",
   "execution_count": 19,
   "metadata": {},
   "outputs": [],
   "source": [
    "# valid_MAE_normalized, valid_MAE, valid_RMSE_normalized, valid_RMSE, = eval(model, train_df_smiles)\n",
    "# print(valid_MAE_normalized[0])"
   ]
  },
  {
   "cell_type": "code",
   "execution_count": 20,
   "metadata": {
    "scrolled": true
   },
   "outputs": [
    {
     "name": "stderr",
     "output_type": "stream",
     "text": [
      "533it [00:20, 26.56it/s]\n",
      "533it [00:09, 58.54it/s]\n",
      "67it [00:01, 60.32it/s]"
     ]
    },
    {
     "name": "stdout",
     "output_type": "stream",
     "text": [
      "EPOCH:\t0 0.5711239306273648\n",
      "train_MAE:\n",
      "[7.68523201e-01 1.02729722e+00 8.37415194e-03 1.08043497e-02\n",
      " 1.33057843e-02 6.81607143e+01 3.55688836e-03 1.98337681e+00\n",
      " 2.01939919e+00 2.03746257e+00 1.98987681e+00 5.33622765e-01]\n",
      "valid_MAE:\n",
      "[7.61199122e-01 1.03417517e+00 8.35189167e-03 1.09185448e-02\n",
      " 1.33703310e-02 6.86064009e+01 3.54147178e-03 2.01070115e+00\n",
      " 2.03575718e+00 2.07696473e+00 2.02920624e+00 5.33834389e-01]\n",
      "train_MSE_normalized_mean: 0.2525151505198308\n",
      "valid_MSE_normalized_mean: 0.25002810221599775\n",
      "\n"
     ]
    },
    {
     "name": "stderr",
     "output_type": "stream",
     "text": [
      "\n",
      "533it [00:22, 23.25it/s]\n",
      "533it [00:10, 52.03it/s]\n",
      "67it [00:01, 60.24it/s]"
     ]
    },
    {
     "name": "stdout",
     "output_type": "stream",
     "text": [
      "EPOCH:\t1 0.31897239395422516\n",
      "train_MAE:\n",
      "[7.37413111e-01 8.80172140e-01 7.79779592e-03 9.23013264e-03\n",
      " 1.15729265e-02 5.81113731e+01 2.84307953e-03 2.40589246e+00\n",
      " 2.41352781e+00 2.27354297e+00 2.33683164e+00 4.52693470e-01]\n",
      "valid_MAE:\n",
      "[7.27219687e-01 8.76643054e-01 7.78538476e-03 9.28315275e-03\n",
      " 1.16252930e-02 5.82084095e+01 2.85809489e-03 2.39078245e+00\n",
      " 2.39231052e+00 2.25804566e+00 2.33132939e+00 4.53418338e-01]\n",
      "train_MSE_normalized_mean: 0.22929798538776033\n",
      "valid_MSE_normalized_mean: 0.227424486584611\n",
      "\n"
     ]
    },
    {
     "name": "stderr",
     "output_type": "stream",
     "text": [
      "\n",
      "533it [00:21, 23.51it/s]\n",
      "533it [00:11, 45.94it/s]\n",
      "67it [00:01, 61.15it/s]"
     ]
    },
    {
     "name": "stdout",
     "output_type": "stream",
     "text": [
      "EPOCH:\t2 0.2750728475331813\n",
      "train_MAE:\n",
      "[7.10414073e-01 9.26386563e-01 7.46188347e-03 8.64670933e-03\n",
      " 1.09823079e-02 5.51478531e+01 2.61795606e-03 2.21499838e+00\n",
      " 2.31331538e+00 2.23762481e+00 2.28468365e+00 4.50998288e-01]\n",
      "valid_MAE:\n",
      "[7.02420282e-01 9.31572540e-01 7.47572220e-03 8.67926991e-03\n",
      " 1.10123438e-02 5.53977375e+01 2.63105992e-03 2.21490833e+00\n",
      " 2.31764159e+00 2.23396351e+00 2.28708349e+00 4.51321981e-01]\n",
      "train_MSE_normalized_mean: 0.2204335116243357\n",
      "valid_MSE_normalized_mean: 0.21942357540469326\n",
      "\n"
     ]
    },
    {
     "name": "stderr",
     "output_type": "stream",
     "text": [
      "\n",
      "533it [00:18, 28.38it/s]\n",
      "533it [00:09, 56.48it/s]\n",
      "67it [00:01, 60.65it/s]"
     ]
    },
    {
     "name": "stdout",
     "output_type": "stream",
     "text": [
      "EPOCH:\t3 0.25465427188108386\n",
      "train_MAE:\n",
      "[6.91901503e-01 8.28679742e-01 7.21985314e-03 8.17647538e-03\n",
      " 1.04496498e-02 5.75265318e+01 2.27256693e-03 1.78308076e+00\n",
      " 1.71943223e+00 1.72816179e+00 1.73097670e+00 4.40867030e-01]\n",
      "valid_MAE:\n",
      "[6.85532899e-01 8.31985383e-01 7.22351708e-03 8.22571867e-03\n",
      " 1.04588793e-02 5.74728150e+01 2.29626649e-03 1.78457677e+00\n",
      " 1.73320502e+00 1.74676419e+00 1.73627818e+00 4.42539421e-01]\n",
      "train_MSE_normalized_mean: 0.20778497039850805\n",
      "valid_MSE_normalized_mean: 0.20680733569738438\n",
      "\n"
     ]
    },
    {
     "name": "stderr",
     "output_type": "stream",
     "text": [
      "\n",
      "533it [00:19, 27.77it/s]\n",
      "533it [00:09, 54.81it/s]\n",
      "67it [00:01, 58.56it/s]"
     ]
    },
    {
     "name": "stdout",
     "output_type": "stream",
     "text": [
      "EPOCH:\t4 0.24348565684474208\n",
      "train_MAE:\n",
      "[6.92275243e-01 8.34567165e-01 6.95401182e-03 8.08913770e-03\n",
      " 1.02613885e-02 5.11817747e+01 2.35046154e-03 1.22985081e+00\n",
      " 1.15521319e+00 1.16891487e+00 1.17924715e+00 4.05331315e-01]\n",
      "valid_MAE:\n",
      "[6.86163647e-01 8.33368569e-01 6.96122006e-03 8.12690980e-03\n",
      " 1.02856408e-02 5.11917819e+01 2.35420574e-03 1.23716169e+00\n",
      " 1.16550419e+00 1.18394109e+00 1.19153667e+00 4.07531032e-01]\n",
      "train_MSE_normalized_mean: 0.19804933742813427\n",
      "valid_MSE_normalized_mean: 0.19688889466225737\n",
      "\n"
     ]
    },
    {
     "name": "stderr",
     "output_type": "stream",
     "text": [
      "\n",
      "533it [00:18, 30.35it/s]\n",
      "533it [00:09, 56.74it/s]\n",
      "67it [00:01, 59.39it/s]"
     ]
    },
    {
     "name": "stdout",
     "output_type": "stream",
     "text": [
      "EPOCH:\t5 0.2332622326113717\n",
      "train_MAE:\n",
      "[6.71323996e-01 8.02307482e-01 6.76699930e-03 7.67036686e-03\n",
      " 9.94013553e-03 5.20752429e+01 2.20991429e-03 1.10360757e+00\n",
      " 1.11549744e+00 1.12361758e+00 1.10654154e+00 3.91899043e-01]\n",
      "valid_MAE:\n",
      "[6.66109132e-01 8.04959302e-01 6.78941881e-03 7.68770342e-03\n",
      " 9.95946884e-03 5.23448139e+01 2.21778962e-03 1.12021285e+00\n",
      " 1.13613361e+00 1.13910242e+00 1.12605884e+00 3.92445722e-01]\n",
      "train_MSE_normalized_mean: 0.192989681445503\n",
      "valid_MSE_normalized_mean: 0.19222606656997224\n",
      "\n"
     ]
    },
    {
     "name": "stderr",
     "output_type": "stream",
     "text": [
      "\n",
      "533it [00:19, 27.61it/s]\n",
      "533it [00:09, 55.10it/s]\n",
      "67it [00:01, 61.04it/s]"
     ]
    },
    {
     "name": "stdout",
     "output_type": "stream",
     "text": [
      "EPOCH:\t6 0.22700115311436536\n",
      "train_MAE:\n",
      "[6.95017207e-01 9.47399735e-01 6.83772726e-03 7.74787744e-03\n",
      " 1.00830544e-02 4.93392447e+01 2.16267627e-03 1.49583353e+00\n",
      " 1.50957784e+00 1.44317053e+00 1.49410931e+00 3.95950700e-01]\n",
      "valid_MAE:\n",
      "[6.91434814e-01 9.56364068e-01 6.87196251e-03 7.75189447e-03\n",
      " 1.00789548e-02 4.94663919e+01 2.18739882e-03 1.52098491e+00\n",
      " 1.53739271e+00 1.47324102e+00 1.52278008e+00 3.98478010e-01]\n",
      "train_MSE_normalized_mean: 0.1980461325089067\n",
      "valid_MSE_normalized_mean: 0.19762540746154542\n",
      "\n"
     ]
    },
    {
     "name": "stderr",
     "output_type": "stream",
     "text": [
      "\n",
      "533it [00:19, 27.78it/s]\n",
      "533it [00:09, 57.13it/s]\n",
      "67it [00:01, 61.36it/s]"
     ]
    },
    {
     "name": "stdout",
     "output_type": "stream",
     "text": [
      "EPOCH:\t7 0.21941449161877552\n",
      "train_MAE:\n",
      "[6.76887502e-01 7.75893988e-01 6.56387391e-03 7.55393630e-03\n",
      " 9.61217530e-03 5.02694472e+01 2.24427902e-03 2.03026434e+00\n",
      " 1.96040617e+00 1.99203040e+00 1.92268438e+00 4.33837837e-01]\n",
      "valid_MAE:\n",
      "[6.71650990e-01 7.76771941e-01 6.55628443e-03 7.50146333e-03\n",
      " 9.60690916e-03 5.06619536e+01 2.24411584e-03 2.04689398e+00\n",
      " 1.97828674e+00 2.00777887e+00 1.93943744e+00 4.35607800e-01]\n",
      "train_MSE_normalized_mean: 0.1987912567646933\n",
      "valid_MSE_normalized_mean: 0.19726999453938043\n",
      "\n"
     ]
    },
    {
     "name": "stderr",
     "output_type": "stream",
     "text": [
      "\n",
      "533it [00:19, 27.91it/s]\n",
      "533it [00:09, 54.73it/s]\n",
      "67it [00:01, 57.46it/s]"
     ]
    },
    {
     "name": "stdout",
     "output_type": "stream",
     "text": [
      "EPOCH:\t8 0.2151903966633956\n",
      "train_MAE:\n",
      "[6.61047001e-01 7.53247348e-01 6.74022208e-03 8.00163257e-03\n",
      " 1.05274921e-02 4.64907614e+01 2.03682192e-03 2.60757017e+00\n",
      " 2.68238164e+00 2.65296566e+00 2.62951564e+00 3.86520344e-01]\n",
      "valid_MAE:\n",
      "[6.54031936e-01 7.54327116e-01 6.74201627e-03 8.04155333e-03\n",
      " 1.05778769e-02 4.69395248e+01 2.04724484e-03 2.60049403e+00\n",
      " 2.67371439e+00 2.64335826e+00 2.62050566e+00 3.85888486e-01]\n",
      "train_MSE_normalized_mean: 0.200980509723094\n",
      "valid_MSE_normalized_mean: 0.19979768020030877\n",
      "\n"
     ]
    },
    {
     "name": "stderr",
     "output_type": "stream",
     "text": [
      "\n",
      "533it [00:19, 27.82it/s]\n",
      "533it [00:09, 57.31it/s]\n",
      "67it [00:01, 60.70it/s]"
     ]
    },
    {
     "name": "stdout",
     "output_type": "stream",
     "text": [
      "EPOCH:\t9 0.21042674939247724\n",
      "train_MAE:\n",
      "[6.59487924e-01 8.50092349e-01 6.40594652e-03 7.39776270e-03\n",
      " 9.50362548e-03 4.62203749e+01 2.37794216e-03 4.19955568e+00\n",
      " 4.09935678e+00 4.07959461e+00 4.10873331e+00 4.08471480e-01]\n",
      "valid_MAE:\n",
      "[6.54343210e-01 8.55364417e-01 6.44688268e-03 7.41971929e-03\n",
      " 9.51004899e-03 4.63790013e+01 2.40514002e-03 4.20491153e+00\n",
      " 4.10543153e+00 4.08643058e+00 4.11265620e+00 4.11376907e-01]\n",
      "train_MSE_normalized_mean: 0.2101943195773557\n",
      "valid_MSE_normalized_mean: 0.20942460972526566\n",
      "\n"
     ]
    },
    {
     "name": "stderr",
     "output_type": "stream",
     "text": [
      "\n",
      "533it [00:19, 27.96it/s]\n",
      "533it [00:09, 56.64it/s]\n",
      "67it [00:01, 58.24it/s]"
     ]
    },
    {
     "name": "stdout",
     "output_type": "stream",
     "text": [
      "EPOCH:\t10 0.2072829050317714\n",
      "train_MAE:\n",
      "[6.53687350e-01 9.18272951e-01 6.61150881e-03 7.47623653e-03\n",
      " 9.30547992e-03 4.55435663e+01 2.75411965e-03 2.53167186e+00\n",
      " 2.50191785e+00 2.49244078e+00 2.48902257e+00 4.20175207e-01]\n",
      "valid_MAE:\n",
      "[6.49403695e-01 9.20625331e-01 6.66008455e-03 7.48043047e-03\n",
      " 9.32183631e-03 4.58341461e+01 2.78483239e-03 2.54950215e+00\n",
      " 2.52114901e+00 2.51074573e+00 2.50655061e+00 4.18764820e-01]\n",
      "train_MSE_normalized_mean: 0.200218049407612\n",
      "valid_MSE_normalized_mean: 0.19927224816114786\n",
      "\n"
     ]
    },
    {
     "name": "stderr",
     "output_type": "stream",
     "text": [
      "\n",
      "533it [00:19, 27.90it/s]\n",
      "533it [00:09, 51.16it/s]\n",
      "67it [00:01, 61.17it/s]"
     ]
    },
    {
     "name": "stdout",
     "output_type": "stream",
     "text": [
      "EPOCH:\t11 0.20363967727317595\n",
      "train_MAE:\n",
      "[6.35566783e-01 7.21704615e-01 6.14540555e-03 7.16375138e-03\n",
      " 9.20203133e-03 4.53202311e+01 2.02473078e-03 1.10756778e+00\n",
      " 1.09275987e+00 1.10121025e+00 1.09891128e+00 3.91397988e-01]\n",
      "valid_MAE:\n",
      "[6.31268164e-01 7.24420710e-01 6.18572078e-03 7.19594249e-03\n",
      " 9.23831348e-03 4.55085582e+01 2.03071096e-03 1.11494023e+00\n",
      " 1.10198932e+00 1.10989397e+00 1.10905954e+00 3.92700040e-01]\n",
      "train_MSE_normalized_mean: 0.1789180876360353\n",
      "valid_MSE_normalized_mean: 0.1779838020599405\n",
      "\n"
     ]
    },
    {
     "name": "stderr",
     "output_type": "stream",
     "text": [
      "\n",
      "533it [00:19, 27.41it/s]\n",
      "533it [00:09, 51.04it/s]\n",
      "67it [00:01, 60.46it/s]"
     ]
    },
    {
     "name": "stdout",
     "output_type": "stream",
     "text": [
      "EPOCH:\t12 0.19949394397395637\n",
      "train_MAE:\n",
      "[6.46498170e-01 7.69761201e-01 6.19992537e-03 7.17414626e-03\n",
      " 9.42040108e-03 4.48846808e+01 1.98042325e-03 3.17752824e+00\n",
      " 3.16483494e+00 3.18350528e+00 3.16372583e+00 3.76733412e-01]\n",
      "valid_MAE:\n",
      "[6.42522819e-01 7.74079760e-01 6.24230094e-03 7.21522591e-03\n",
      " 9.42167199e-03 4.52880654e+01 1.98206352e-03 3.18508549e+00\n",
      " 3.17156084e+00 3.19106837e+00 3.16978781e+00 3.77693707e-01]\n",
      "train_MSE_normalized_mean: 0.1966338739368367\n",
      "valid_MSE_normalized_mean: 0.19541963453077527\n",
      "\n"
     ]
    },
    {
     "name": "stderr",
     "output_type": "stream",
     "text": [
      "\n",
      "533it [00:19, 27.31it/s]\n",
      "533it [00:09, 49.90it/s]\n",
      "67it [00:01, 58.26it/s]"
     ]
    },
    {
     "name": "stdout",
     "output_type": "stream",
     "text": [
      "EPOCH:\t13 0.197248755851114\n",
      "train_MAE:\n",
      "[6.31795168e-01 7.08637252e-01 6.42515654e-03 7.21457755e-03\n",
      " 9.02490910e-03 4.40431276e+01 1.93627051e-03 1.11219677e+00\n",
      " 1.10786362e+00 1.10646606e+00 1.11072660e+00 3.68766935e-01]\n",
      "valid_MAE:\n",
      "[6.25201519e-01 7.11398765e-01 6.46272376e-03 7.18791414e-03\n",
      " 9.04617803e-03 4.46513743e+01 1.93734994e-03 1.12583274e+00\n",
      " 1.12257753e+00 1.12044081e+00 1.12371504e+00 3.70960383e-01]\n",
      "train_MSE_normalized_mean: 0.17697810486796658\n",
      "valid_MSE_normalized_mean: 0.176050677716682\n",
      "\n"
     ]
    },
    {
     "name": "stderr",
     "output_type": "stream",
     "text": [
      "\n",
      "533it [00:19, 27.86it/s]\n",
      "533it [00:09, 56.77it/s]\n",
      "67it [00:01, 60.44it/s]"
     ]
    },
    {
     "name": "stdout",
     "output_type": "stream",
     "text": [
      "EPOCH:\t14 0.1933442361191558\n",
      "train_MAE:\n",
      "[6.23358600e-01 7.12938098e-01 6.12470647e-03 7.22412449e-03\n",
      " 8.93612147e-03 4.37510279e+01 2.03509289e-03 1.09173265e+00\n",
      " 1.10236624e+00 1.10497199e+00 1.09934367e+00 3.81286531e-01]\n",
      "valid_MAE:\n",
      "[6.18982904e-01 7.12681635e-01 6.19570723e-03 7.18594353e-03\n",
      " 8.94889691e-03 4.41888981e+01 2.03361776e-03 1.11220147e+00\n",
      " 1.12294864e+00 1.12460716e+00 1.12010867e+00 3.81356672e-01]\n",
      "train_MSE_normalized_mean: 0.17601114867221024\n",
      "valid_MSE_normalized_mean: 0.17492117975989704\n",
      "\n"
     ]
    },
    {
     "name": "stderr",
     "output_type": "stream",
     "text": [
      "\n",
      "533it [00:19, 27.68it/s]\n",
      "533it [00:09, 51.23it/s]\n",
      "67it [00:01, 58.72it/s]"
     ]
    },
    {
     "name": "stdout",
     "output_type": "stream",
     "text": [
      "EPOCH:\t15 0.1917288185955212\n",
      "train_MAE:\n",
      "[6.16262212e-01 6.83524312e-01 6.07378302e-03 7.24506813e-03\n",
      " 9.58899562e-03 4.34599532e+01 1.89579446e-03 1.99093573e+00\n",
      " 2.00312776e+00 2.00387869e+00 2.00610035e+00 3.69512365e-01]\n",
      "valid_MAE:\n",
      "[6.14342839e-01 6.88734671e-01 6.11251520e-03 7.23486036e-03\n",
      " 9.59075167e-03 4.39621141e+01 1.90416726e-03 1.98088962e+00\n",
      " 1.99252829e+00 1.99262017e+00 1.99601592e+00 3.71980427e-01]\n",
      "train_MSE_normalized_mean: 0.18292778803898982\n",
      "valid_MSE_normalized_mean: 0.18225983668183143\n",
      "\n"
     ]
    },
    {
     "name": "stderr",
     "output_type": "stream",
     "text": [
      "\n",
      "533it [00:19, 28.04it/s]\n",
      "533it [00:09, 51.25it/s]\n",
      "67it [00:01, 55.21it/s]"
     ]
    },
    {
     "name": "stdout",
     "output_type": "stream",
     "text": [
      "EPOCH:\t16 0.18916119126284994\n",
      "train_MAE:\n",
      "[6.36922214e-01 7.41990474e-01 5.96896854e-03 7.17606508e-03\n",
      " 8.81233572e-03 4.27188908e+01 2.17467159e-03 1.12273183e+00\n",
      " 1.11998275e+00 1.12356912e+00 1.12723833e+00 3.83457999e-01]\n",
      "valid_MAE:\n",
      "[6.34755848e-01 7.47236093e-01 5.98553512e-03 7.12201635e-03\n",
      " 8.81622612e-03 4.31495571e+01 2.17158293e-03 1.13755340e+00\n",
      " 1.13580507e+00 1.13888823e+00 1.14320660e+00 3.82144950e-01]\n",
      "train_MSE_normalized_mean: 0.1752906443462224\n",
      "valid_MSE_normalized_mean: 0.17452271797970273\n",
      "\n"
     ]
    },
    {
     "name": "stderr",
     "output_type": "stream",
     "text": [
      "\n",
      "533it [00:19, 30.84it/s]\n",
      "533it [00:09, 56.51it/s]\n",
      "67it [00:01, 59.41it/s]"
     ]
    },
    {
     "name": "stdout",
     "output_type": "stream",
     "text": [
      "EPOCH:\t17 0.18779793694811064\n",
      "train_MAE:\n",
      "[6.08082298e-01 6.94997236e-01 5.79708469e-03 6.79752578e-03\n",
      " 8.66776630e-03 4.31015641e+01 1.86431908e-03 2.00702031e+00\n",
      " 2.01179678e+00 2.00865737e+00 2.03433570e+00 3.83197522e-01]\n",
      "valid_MAE:\n",
      "[6.04567312e-01 7.02652061e-01 5.84930642e-03 6.82292690e-03\n",
      " 8.71113018e-03 4.35688398e+01 1.87048506e-03 2.00718234e+00\n",
      " 2.01145076e+00 2.00754941e+00 2.03428551e+00 3.82428155e-01]\n",
      "train_MSE_normalized_mean: 0.17797511989388015\n",
      "valid_MSE_normalized_mean: 0.1771205251488145\n",
      "\n"
     ]
    },
    {
     "name": "stderr",
     "output_type": "stream",
     "text": [
      "\n",
      "533it [00:19, 31.36it/s]\n",
      "533it [00:09, 57.02it/s]\n",
      "67it [00:01, 62.02it/s]"
     ]
    },
    {
     "name": "stdout",
     "output_type": "stream",
     "text": [
      "EPOCH:\t18 0.18414304851367372\n",
      "train_MAE:\n",
      "[6.43287998e-01 6.70744831e-01 5.81594536e-03 6.80339607e-03\n",
      " 8.85650776e-03 4.19818792e+01 1.80705144e-03 1.30646963e+00\n",
      " 1.29034323e+00 1.29350783e+00 1.28300462e+00 3.53895554e-01]\n",
      "valid_MAE:\n",
      "[6.42343036e-01 6.75057122e-01 5.89863114e-03 6.82588448e-03\n",
      " 8.91260601e-03 4.24315582e+01 1.80807087e-03 1.31783688e+00\n",
      " 1.30368470e+00 1.30494098e+00 1.29443750e+00 3.51878561e-01]\n",
      "train_MSE_normalized_mean: 0.17361174493579878\n",
      "valid_MSE_normalized_mean: 0.1731178226246826\n",
      "\n"
     ]
    },
    {
     "name": "stderr",
     "output_type": "stream",
     "text": [
      "\n",
      "533it [00:19, 27.66it/s]\n",
      "533it [00:09, 56.33it/s]\n",
      "67it [00:01, 59.80it/s]"
     ]
    },
    {
     "name": "stdout",
     "output_type": "stream",
     "text": [
      "EPOCH:\t19 0.1822964348891439\n",
      "train_MAE:\n",
      "[6.25978255e-01 6.66434135e-01 5.87541378e-03 6.70327047e-03\n",
      " 8.51819387e-03 4.37949327e+01 1.96840098e-03 2.63341482e+00\n",
      " 2.62820495e+00 2.62134584e+00 2.62704970e+00 3.60413641e-01]\n",
      "valid_MAE:\n",
      "[6.24828768e-01 6.73963204e-01 5.92399082e-03 6.72276193e-03\n",
      " 8.58354904e-03 4.40778280e+01 1.98253420e-03 2.64078148e+00\n",
      " 2.63693675e+00 2.63041348e+00 2.63611398e+00 3.63229042e-01]\n",
      "train_MSE_normalized_mean: 0.18443547809210922\n",
      "valid_MSE_normalized_mean: 0.18393875469220178\n",
      "\n"
     ]
    },
    {
     "name": "stderr",
     "output_type": "stream",
     "text": [
      "\n",
      "533it [00:19, 28.03it/s]\n",
      "533it [00:09, 52.25it/s]\n",
      "67it [00:01, 59.95it/s]"
     ]
    },
    {
     "name": "stdout",
     "output_type": "stream",
     "text": [
      "EPOCH:\t20 0.1814144504226842\n",
      "train_MAE:\n",
      "[5.99735900e-01 7.22293800e-01 5.69911794e-03 6.57376569e-03\n",
      " 8.54883844e-03 4.52343817e+01 1.88018959e-03 1.55126899e+00\n",
      " 1.54175745e+00 1.55863478e+00 1.55250381e+00 4.21659368e-01]\n",
      "valid_MAE:\n",
      "[5.98440767e-01 7.28554048e-01 5.74508724e-03 6.55017315e-03\n",
      " 8.57194372e-03 4.59674000e+01 1.89761573e-03 1.57113041e+00\n",
      " 1.56128537e+00 1.57780982e+00 1.57237140e+00 4.23704029e-01]\n",
      "train_MSE_normalized_mean: 0.17524773081826509\n",
      "valid_MSE_normalized_mean: 0.17461275913808608\n",
      "\n"
     ]
    },
    {
     "name": "stderr",
     "output_type": "stream",
     "text": [
      "\n",
      "533it [00:19, 27.78it/s]\n",
      "533it [00:09, 56.69it/s]\n",
      "67it [00:01, 62.37it/s]"
     ]
    },
    {
     "name": "stdout",
     "output_type": "stream",
     "text": [
      "EPOCH:\t21 0.17944874822757928\n",
      "train_MAE:\n",
      "[6.23339958e-01 6.72255533e-01 5.78201676e-03 7.26453527e-03\n",
      " 9.57533165e-03 4.07560603e+01 2.29842632e-03 1.44481575e+00\n",
      " 1.45418757e+00 1.44685352e+00 1.45521113e+00 3.45581288e-01]\n",
      "valid_MAE:\n",
      "[6.24425144e-01 6.77717289e-01 5.83229872e-03 7.20936630e-03\n",
      " 9.60351016e-03 4.11533861e+01 2.28875549e-03 1.44876918e+00\n",
      " 1.45910590e+00 1.45161732e+00 1.45932570e+00 3.43995631e-01]\n",
      "train_MSE_normalized_mean: 0.17596005151343508\n",
      "valid_MSE_normalized_mean: 0.17520930501803625\n",
      "\n"
     ]
    },
    {
     "name": "stderr",
     "output_type": "stream",
     "text": [
      "\n",
      "533it [00:19, 27.75it/s]\n",
      "533it [00:09, 56.20it/s]\n",
      "67it [00:01, 57.66it/s]"
     ]
    },
    {
     "name": "stdout",
     "output_type": "stream",
     "text": [
      "EPOCH:\t22 0.17775022197955098\n",
      "train_MAE:\n",
      "[6.08791720e-01 6.98415462e-01 5.62989617e-03 6.88511464e-03\n",
      " 8.83207066e-03 4.23509547e+01 1.74598876e-03 1.08906121e+00\n",
      " 1.09238975e+00 1.09165845e+00 1.09688052e+00 3.53591389e-01]\n",
      "valid_MAE:\n",
      "[6.06595801e-01 7.04259183e-01 5.67891086e-03 6.83678240e-03\n",
      " 8.83870630e-03 4.28861109e+01 1.75240642e-03 1.10262061e+00\n",
      " 1.10553418e+00 1.10442914e+00 1.11085752e+00 3.55055649e-01]\n",
      "train_MSE_normalized_mean: 0.16789556815648476\n",
      "valid_MSE_normalized_mean: 0.1672475130743848\n",
      "\n"
     ]
    },
    {
     "name": "stderr",
     "output_type": "stream",
     "text": [
      "\n",
      "533it [00:18, 30.85it/s]\n",
      "533it [00:09, 56.12it/s]\n",
      "67it [00:01, 60.41it/s]"
     ]
    },
    {
     "name": "stdout",
     "output_type": "stream",
     "text": [
      "EPOCH:\t23 0.17775776445530145\n",
      "train_MAE:\n",
      "[6.04416633e-01 6.71811952e-01 5.67786140e-03 8.22695805e-03\n",
      " 1.00396146e-02 4.25221001e+01 2.15059751e-03 1.23637887e+00\n",
      " 1.24158243e+00 1.24992229e+00 1.24910445e+00 3.59699763e-01]\n",
      "valid_MAE:\n",
      "[6.05761349e-01 6.78916563e-01 5.75432970e-03 8.13831778e-03\n",
      " 1.00352956e-02 4.28157913e+01 2.14812236e-03 1.24654721e+00\n",
      " 1.25092376e+00 1.25911675e+00 1.25940772e+00 3.63034854e-01]\n",
      "train_MSE_normalized_mean: 0.17490282621498432\n",
      "valid_MSE_normalized_mean: 0.17453834300335058\n",
      "\n"
     ]
    },
    {
     "name": "stderr",
     "output_type": "stream",
     "text": [
      "\n",
      "533it [00:19, 27.69it/s]\n",
      "533it [00:09, 56.84it/s]\n",
      "67it [00:01, 58.86it/s]"
     ]
    },
    {
     "name": "stdout",
     "output_type": "stream",
     "text": [
      "EPOCH:\t24 0.17626532593542818\n",
      "train_MAE:\n",
      "[5.93624310e-01 6.77944134e-01 5.68405901e-03 6.44321404e-03\n",
      " 8.38237646e-03 4.16036633e+01 1.97219477e-03 1.27466546e+00\n",
      " 1.28144417e+00 1.28122170e+00 1.27530352e+00 3.58914340e-01]\n",
      "valid_MAE:\n",
      "[5.95813661e-01 6.83451947e-01 5.73848380e-03 6.47925193e-03\n",
      " 8.47404938e-03 4.20747795e+01 1.99417583e-03 1.28242981e+00\n",
      " 1.29005750e+00 1.28901134e+00 1.28336939e+00 3.56510953e-01]\n",
      "train_MSE_normalized_mean: 0.16733214734249377\n",
      "valid_MSE_normalized_mean: 0.16737586259569492\n",
      "\n"
     ]
    },
    {
     "name": "stderr",
     "output_type": "stream",
     "text": [
      "\n",
      "533it [00:19, 32.32it/s]\n",
      "533it [00:09, 50.41it/s]\n",
      "67it [00:01, 56.72it/s]"
     ]
    },
    {
     "name": "stdout",
     "output_type": "stream",
     "text": [
      "EPOCH:\t25 0.17393567965245382\n",
      "train_MAE:\n",
      "[5.95180816e-01 7.72014271e-01 5.79130814e-03 6.31089424e-03\n",
      " 8.41852825e-03 4.61686972e+01 2.00685717e-03 1.48986603e+00\n",
      " 1.49872381e+00 1.50314588e+00 1.49644243e+00 4.00797829e-01]\n",
      "valid_MAE:\n",
      "[5.95558660e-01 7.75876434e-01 5.84227649e-03 6.28355258e-03\n",
      " 8.48265230e-03 4.64764706e+01 2.01787073e-03 1.50227024e+00\n",
      " 1.51092902e+00 1.51459612e+00 1.50876785e+00 4.02127595e-01]\n",
      "train_MSE_normalized_mean: 0.17282081871649382\n",
      "valid_MSE_normalized_mean: 0.17289754865434415\n",
      "\n"
     ]
    },
    {
     "name": "stderr",
     "output_type": "stream",
     "text": [
      "\n",
      "533it [00:19, 27.57it/s]\n",
      "533it [00:09, 57.20it/s]\n",
      "67it [00:01, 57.44it/s]"
     ]
    },
    {
     "name": "stdout",
     "output_type": "stream",
     "text": [
      "EPOCH:\t26 0.1721498104018521\n",
      "train_MAE:\n",
      "[5.87166537e-01 6.61281409e-01 5.60211923e-03 6.42648324e-03\n",
      " 8.21294692e-03 3.99791577e+01 1.66172621e-03 1.19500388e+00\n",
      " 1.19881518e+00 1.20267969e+00 1.19651068e+00 3.39325938e-01]\n",
      "valid_MAE:\n",
      "[5.88511878e-01 6.72513589e-01 5.64849168e-03 6.40594722e-03\n",
      " 8.26388792e-03 4.06584308e+01 1.67715846e-03 1.20735284e+00\n",
      " 1.21115186e+00 1.21521159e+00 1.20932956e+00 3.41802328e-01]\n",
      "train_MSE_normalized_mean: 0.16486191333807806\n",
      "valid_MSE_normalized_mean: 0.1650082616703595\n",
      "\n"
     ]
    },
    {
     "name": "stderr",
     "output_type": "stream",
     "text": [
      "\n",
      "533it [00:19, 30.76it/s]\n",
      "533it [00:09, 56.34it/s]\n",
      "67it [00:01, 60.23it/s]"
     ]
    },
    {
     "name": "stdout",
     "output_type": "stream",
     "text": [
      "EPOCH:\t27 0.17158913781506482\n",
      "train_MAE:\n",
      "[5.91753838e-01 6.53212527e-01 5.49140258e-03 6.59342972e-03\n",
      " 8.49664253e-03 3.96282835e+01 1.69248575e-03 1.06253720e+00\n",
      " 1.06406279e+00 1.06453232e+00 1.06507825e+00 3.40171340e-01]\n",
      "valid_MAE:\n",
      "[5.94342847e-01 6.61992087e-01 5.55070925e-03 6.55985444e-03\n",
      " 8.53095538e-03 4.01737219e+01 1.69978764e-03 1.08180425e+00\n",
      " 1.08366295e+00 1.08383456e+00 1.08481004e+00 3.37185073e-01]\n",
      "train_MSE_normalized_mean: 0.1631870535947747\n",
      "valid_MSE_normalized_mean: 0.16370423000276488\n",
      "\n"
     ]
    },
    {
     "name": "stderr",
     "output_type": "stream",
     "text": [
      "\n",
      "533it [00:19, 27.66it/s]\n",
      "533it [00:09, 50.19it/s]\n",
      "67it [00:01, 60.44it/s]"
     ]
    },
    {
     "name": "stdout",
     "output_type": "stream",
     "text": [
      "EPOCH:\t28 0.17053287283396856\n",
      "train_MAE:\n",
      "[5.86995874e-01 6.80203292e-01 5.59057473e-03 6.60379072e-03\n",
      " 8.36376712e-03 4.01559566e+01 1.83340202e-03 1.42350880e+00\n",
      " 1.42721629e+00 1.42980047e+00 1.42872041e+00 3.45932728e-01]\n",
      "valid_MAE:\n",
      "[5.90724537e-01 6.84474133e-01 5.68476038e-03 6.60275009e-03\n",
      " 8.47303471e-03 4.05302149e+01 1.83814728e-03 1.43383345e+00\n",
      " 1.43843782e+00 1.44093145e+00 1.44009401e+00 3.45587277e-01]\n",
      "train_MSE_normalized_mean: 0.16600256654241208\n",
      "valid_MSE_normalized_mean: 0.16656237431363427\n",
      "\n"
     ]
    },
    {
     "name": "stderr",
     "output_type": "stream",
     "text": [
      "\n",
      "533it [00:19, 27.76it/s]\n",
      "533it [00:09, 56.12it/s]\n",
      "67it [00:01, 58.97it/s]"
     ]
    },
    {
     "name": "stdout",
     "output_type": "stream",
     "text": [
      "EPOCH:\t29 0.16967726525401533\n",
      "train_MAE:\n",
      "[5.83141158e-01 1.00144271e+00 5.72977731e-03 6.37079978e-03\n",
      " 8.20088233e-03 4.62880531e+01 2.38048599e-03 1.60718356e+00\n",
      " 1.59629747e+00 1.59903350e+00 1.60655855e+00 4.45506004e-01]\n",
      "valid_MAE:\n",
      "[5.84149407e-01 1.00083071e+00 5.79706841e-03 6.36813947e-03\n",
      " 8.26466135e-03 4.63815196e+01 2.38862886e-03 1.61531261e+00\n",
      " 1.60425290e+00 1.60650347e+00 1.61461068e+00 4.45568743e-01]\n",
      "train_MSE_normalized_mean: 0.17478472428043565\n",
      "valid_MSE_normalized_mean: 0.1748865444557343\n",
      "\n"
     ]
    },
    {
     "name": "stderr",
     "output_type": "stream",
     "text": [
      "\n",
      "533it [00:19, 27.56it/s]\n",
      "533it [00:09, 56.24it/s]\n",
      "67it [00:01, 58.21it/s]"
     ]
    },
    {
     "name": "stdout",
     "output_type": "stream",
     "text": [
      "EPOCH:\t30 0.16821254914238573\n",
      "train_MAE:\n",
      "[5.76348692e-01 7.59767702e-01 5.51084716e-03 6.34367648e-03\n",
      " 8.24399404e-03 4.08774378e+01 1.80532370e-03 9.50439438e-01\n",
      " 9.45436187e-01 9.44348707e-01 9.45219641e-01 3.51098601e-01]\n",
      "valid_MAE:\n",
      "[5.81116773e-01 7.68032723e-01 5.57291006e-03 6.35701631e-03\n",
      " 8.32073328e-03 4.16032068e+01 1.81805833e-03 9.62964812e-01\n",
      " 9.58100590e-01 9.56362242e-01 9.57956492e-01 3.49460135e-01]\n",
      "train_MSE_normalized_mean: 0.16163862238561325\n",
      "valid_MSE_normalized_mean: 0.1623477915471232\n",
      "\n"
     ]
    },
    {
     "name": "stderr",
     "output_type": "stream",
     "text": [
      "\n",
      "533it [00:19, 27.99it/s]\n",
      "533it [00:09, 54.54it/s]\n",
      "67it [00:01, 56.46it/s]"
     ]
    },
    {
     "name": "stdout",
     "output_type": "stream",
     "text": [
      "EPOCH:\t31 0.16693534805504062\n",
      "train_MAE:\n",
      "[5.74670686e-01 6.67118075e-01 5.42906975e-03 6.28818889e-03\n",
      " 8.00021220e-03 3.85738862e+01 2.05194785e-03 9.79090459e-01\n",
      " 9.79162981e-01 9.80594279e-01 9.78019360e-01 3.45872417e-01]\n",
      "valid_MAE:\n",
      "[5.77949852e-01 6.73879656e-01 5.51412956e-03 6.27335372e-03\n",
      " 8.05211256e-03 3.92105638e+01 2.06599979e-03 1.00271450e+00\n",
      " 1.00218447e+00 1.00342686e+00 1.00118496e+00 3.47303399e-01]\n",
      "train_MSE_normalized_mean: 0.15966889916937768\n",
      "valid_MSE_normalized_mean: 0.16028846381190034\n",
      "\n"
     ]
    },
    {
     "name": "stderr",
     "output_type": "stream",
     "text": [
      "\n",
      "533it [00:19, 27.38it/s]\n",
      "533it [00:09, 55.32it/s]\n",
      "67it [00:01, 69.22it/s]"
     ]
    },
    {
     "name": "stdout",
     "output_type": "stream",
     "text": [
      "EPOCH:\t32 0.16566577823535586\n",
      "train_MAE:\n",
      "[5.80926101e-01 6.72751580e-01 5.39256682e-03 6.29355431e-03\n",
      " 8.05216316e-03 4.06348067e+01 2.32470663e-03 1.22132959e+00\n",
      " 1.21677336e+00 1.21607342e+00 1.21522611e+00 3.72000089e-01]\n",
      "valid_MAE:\n",
      "[5.84338366e-01 6.84016687e-01 5.46579020e-03 6.30060382e-03\n",
      " 8.11244805e-03 4.11852004e+01 2.32903503e-03 1.22495762e+00\n",
      " 1.22103197e+00 1.22013264e+00 1.21927817e+00 3.76983554e-01]\n",
      "train_MSE_normalized_mean: 0.1639869852660979\n",
      "valid_MSE_normalized_mean: 0.16431746534470318\n",
      "\n"
     ]
    },
    {
     "name": "stderr",
     "output_type": "stream",
     "text": [
      "\n",
      "533it [00:18, 28.54it/s]\n",
      "533it [00:09, 56.24it/s]\n",
      "67it [00:01, 61.42it/s]\n"
     ]
    },
    {
     "name": "stdout",
     "output_type": "stream",
     "text": [
      "EPOCH:\t33 0.1648278395045989\n",
      "train_MAE:\n",
      "[5.71082682e-01 7.39106997e-01 5.51502133e-03 6.32091742e-03\n",
      " 8.11883283e-03 3.93518513e+01 1.97446696e-03 2.02278207e+00\n",
      " 2.02866915e+00 2.03257955e+00 2.02844824e+00 3.61618601e-01]\n",
      "valid_MAE:\n",
      "[5.76201973e-01 7.43914093e-01 5.60198378e-03 6.32133671e-03\n",
      " 8.19510370e-03 3.99433436e+01 1.97532379e-03 2.00649982e+00\n",
      " 2.01262778e+00 2.01638078e+00 2.01225488e+00 3.60499958e-01]\n",
      "train_MSE_normalized_mean: 0.16922857142532646\n",
      "valid_MSE_normalized_mean: 0.1696976983362879\n",
      "\n"
     ]
    },
    {
     "name": "stderr",
     "output_type": "stream",
     "text": [
      "533it [00:19, 30.31it/s]\n",
      "533it [00:09, 56.83it/s]\n",
      "67it [00:01, 60.13it/s]"
     ]
    },
    {
     "name": "stdout",
     "output_type": "stream",
     "text": [
      "EPOCH:\t34 0.1645331233739853\n",
      "train_MAE:\n",
      "[5.84873879e-01 6.41648509e-01 5.34435898e-03 6.56716395e-03\n",
      " 8.30329274e-03 3.86209504e+01 1.68113826e-03 2.12093376e+00\n",
      " 2.11086674e+00 2.11376411e+00 2.11384263e+00 3.32117338e-01]\n",
      "valid_MAE:\n",
      "[5.90910793e-01 6.49392911e-01 5.41567663e-03 6.58425763e-03\n",
      " 8.35543963e-03 3.91407083e+01 1.69352389e-03 2.12987646e+00\n",
      " 2.11948005e+00 2.12243217e+00 2.12255128e+00 3.31668044e-01]\n",
      "train_MSE_normalized_mean: 0.16783500913619762\n",
      "valid_MSE_normalized_mean: 0.16874572713655558\n",
      "\n"
     ]
    },
    {
     "name": "stderr",
     "output_type": "stream",
     "text": [
      "\n",
      "533it [00:19, 27.75it/s]\n",
      "533it [00:09, 55.61it/s]\n",
      "67it [00:01, 60.07it/s]"
     ]
    },
    {
     "name": "stdout",
     "output_type": "stream",
     "text": [
      "EPOCH:\t35 0.16309864820447692\n",
      "train_MAE:\n",
      "[5.71431223e-01 7.49793305e-01 5.29737086e-03 6.33351114e-03\n",
      " 8.09650323e-03 3.89184017e+01 2.25734163e-03 1.04690071e+00\n",
      " 1.04838544e+00 1.04735018e+00 1.04746365e+00 4.15203433e-01]\n",
      "valid_MAE:\n",
      "[5.75698278e-01 7.57035506e-01 5.36359376e-03 6.36746824e-03\n",
      " 8.15347714e-03 3.95428708e+01 2.26851220e-03 1.05958792e+00\n",
      " 1.06117742e+00 1.06007263e+00 1.06025534e+00 4.18758985e-01]\n",
      "train_MSE_normalized_mean: 0.16234381586368402\n",
      "valid_MSE_normalized_mean: 0.1629620674874672\n",
      "\n"
     ]
    },
    {
     "name": "stderr",
     "output_type": "stream",
     "text": [
      "\n",
      "533it [00:19, 31.11it/s]\n",
      "533it [00:09, 57.48it/s]\n",
      "67it [00:01, 55.38it/s]"
     ]
    },
    {
     "name": "stdout",
     "output_type": "stream",
     "text": [
      "EPOCH:\t36 0.1613741032569538\n",
      "train_MAE:\n",
      "[5.71490984e-01 9.15934844e-01 5.35997713e-03 6.18103903e-03\n",
      " 7.95501151e-03 4.41977235e+01 1.86191960e-03 2.97324312e+00\n",
      " 2.96256245e+00 2.96204407e+00 2.96560098e+00 4.12823335e-01]\n",
      "valid_MAE:\n",
      "[5.77623160e-01 9.18284634e-01 5.46536725e-03 6.19780430e-03\n",
      " 8.01507689e-03 4.42744074e+01 1.87819217e-03 2.97792117e+00\n",
      " 2.96695348e+00 2.96625139e+00 2.97000666e+00 4.12838373e-01]\n",
      "train_MSE_normalized_mean: 0.18044984427069335\n",
      "valid_MSE_normalized_mean: 0.18154329007886816\n",
      "\n"
     ]
    },
    {
     "name": "stderr",
     "output_type": "stream",
     "text": [
      "\n",
      "533it [00:18, 31.46it/s]\n",
      "533it [00:09, 56.31it/s]\n",
      "67it [00:01, 52.91it/s]"
     ]
    },
    {
     "name": "stdout",
     "output_type": "stream",
     "text": [
      "EPOCH:\t37 0.16151142840257954\n",
      "train_MAE:\n",
      "[5.80545453e-01 6.34593786e-01 5.32656832e-03 6.45997323e-03\n",
      " 8.18551569e-03 4.24099100e+01 1.77343830e-03 1.31753151e+00\n",
      " 1.31896898e+00 1.31959550e+00 1.31781668e+00 3.31416149e-01]\n",
      "valid_MAE:\n",
      "[5.88356694e-01 6.40791756e-01 5.42961666e-03 6.46480669e-03\n",
      " 8.29347316e-03 4.32508964e+01 1.78409813e-03 1.31976892e+00\n",
      " 1.32096496e+00 1.32155709e+00 1.31987135e+00 3.32565709e-01]\n",
      "train_MSE_normalized_mean: 0.16253367448552206\n",
      "valid_MSE_normalized_mean: 0.1634487861452192\n",
      "\n"
     ]
    },
    {
     "name": "stderr",
     "output_type": "stream",
     "text": [
      "\n",
      "533it [00:19, 27.57it/s]\n",
      "533it [00:09, 54.76it/s]\n",
      "67it [00:01, 58.14it/s]"
     ]
    },
    {
     "name": "stdout",
     "output_type": "stream",
     "text": [
      "EPOCH:\t38 0.16050060311468636\n",
      "train_MAE:\n",
      "[5.70762935e-01 6.32066502e-01 5.50528251e-03 6.73788400e-03\n",
      " 8.40558802e-03 3.84665583e+01 2.03489658e-03 2.60716097e+00\n",
      " 2.60656045e+00 2.60141423e+00 2.60364449e+00 3.30231309e-01]\n",
      "valid_MAE:\n",
      "[5.77795498e-01 6.38802662e-01 5.55595620e-03 6.70187562e-03\n",
      " 8.45741175e-03 3.92439553e+01 2.04588354e-03 2.59851901e+00\n",
      " 2.59824861e+00 2.59315989e+00 2.59527765e+00 3.31226439e-01]\n",
      "train_MSE_normalized_mean: 0.17300763325632804\n",
      "valid_MSE_normalized_mean: 0.17358482769785202\n",
      "\n"
     ]
    },
    {
     "name": "stderr",
     "output_type": "stream",
     "text": [
      "\n",
      "533it [00:19, 27.88it/s]\n",
      "533it [00:09, 55.55it/s]\n",
      "67it [00:01, 59.38it/s]"
     ]
    },
    {
     "name": "stdout",
     "output_type": "stream",
     "text": [
      "EPOCH:\t39 0.15987847994237186\n",
      "train_MAE:\n",
      "[5.66702446e-01 7.18359281e-01 5.36367113e-03 6.11224810e-03\n",
      " 7.92639877e-03 4.19763958e+01 1.57189030e-03 8.79702903e-01\n",
      " 8.77753070e-01 8.77206632e-01 8.78244779e-01 3.53125201e-01]\n",
      "valid_MAE:\n",
      "[5.74081047e-01 7.28236123e-01 5.48007791e-03 6.11601890e-03\n",
      " 8.07232463e-03 4.28229931e+01 1.58170900e-03 8.84258620e-01\n",
      " 8.82378809e-01 8.81834244e-01 8.82896476e-01 3.55807797e-01]\n",
      "train_MSE_normalized_mean: 0.15680262774507944\n",
      "valid_MSE_normalized_mean: 0.15832049294667666\n",
      "\n"
     ]
    },
    {
     "name": "stderr",
     "output_type": "stream",
     "text": [
      "\n",
      "533it [00:19, 29.85it/s]\n",
      "533it [00:09, 56.56it/s]\n",
      "67it [00:01, 58.04it/s]"
     ]
    },
    {
     "name": "stdout",
     "output_type": "stream",
     "text": [
      "EPOCH:\t40 0.159508166432828\n",
      "train_MAE:\n",
      "[5.61447810e-01 6.22186385e-01 5.27505713e-03 6.10590331e-03\n",
      " 7.82823472e-03 3.79969893e+01 1.67973433e-03 2.42235292e+00\n",
      " 2.42944021e+00 2.43014927e+00 2.42887353e+00 3.39118285e-01]\n",
      "valid_MAE:\n",
      "[5.65990202e-01 6.32031075e-01 5.37118879e-03 6.13222688e-03\n",
      " 7.95435444e-03 3.87111917e+01 1.68835016e-03 2.41961082e+00\n",
      " 2.42705024e+00 2.42775381e+00 2.42641551e+00 3.42193009e-01]\n",
      "train_MSE_normalized_mean: 0.16694835319375712\n",
      "valid_MSE_normalized_mean: 0.16799551363071208\n",
      "\n"
     ]
    },
    {
     "name": "stderr",
     "output_type": "stream",
     "text": [
      "\n",
      "533it [00:18, 31.73it/s]\n",
      "533it [00:09, 56.55it/s]\n",
      "67it [00:01, 57.77it/s]"
     ]
    },
    {
     "name": "stdout",
     "output_type": "stream",
     "text": [
      "EPOCH:\t41 0.15734329066234057\n",
      "train_MAE:\n",
      "[5.57249371e-01 6.69701144e-01 5.30180087e-03 6.13159213e-03\n",
      " 7.84037698e-03 4.02992667e+01 1.63803195e-03 1.40564574e+00\n",
      " 1.40588493e+00 1.40506846e+00 1.40493671e+00 3.46074793e-01]\n",
      "valid_MAE:\n",
      "[5.64249561e-01 6.84581030e-01 5.39076376e-03 6.12147614e-03\n",
      " 7.92767473e-03 4.11111100e+01 1.66489239e-03 1.39662568e+00\n",
      " 1.39703894e+00 1.39625572e+00 1.39610491e+00 3.45365810e-01]\n",
      "train_MSE_normalized_mean: 0.15922351794415893\n",
      "valid_MSE_normalized_mean: 0.16020785092668338\n",
      "\n"
     ]
    },
    {
     "name": "stderr",
     "output_type": "stream",
     "text": [
      "\n",
      "533it [00:19, 27.68it/s]\n",
      "533it [00:09, 56.35it/s]\n",
      "67it [00:01, 57.61it/s]"
     ]
    },
    {
     "name": "stdout",
     "output_type": "stream",
     "text": [
      "EPOCH:\t42 0.15809744815944954\n",
      "train_MAE:\n",
      "[5.61493230e-01 6.03019928e-01 5.16926986e-03 5.99540351e-03\n",
      " 7.68039695e-03 3.78999202e+01 1.66352439e-03 2.42355694e+00\n",
      " 2.42694687e+00 2.42721776e+00 2.42787310e+00 3.19043650e-01]\n",
      "valid_MAE:\n",
      "[5.67880304e-01 6.10924030e-01 5.25863587e-03 5.98292089e-03\n",
      " 7.77116555e-03 3.83320973e+01 1.68499179e-03 2.42872687e+00\n",
      " 2.43251277e+00 2.43277725e+00 2.43339558e+00 3.20336012e-01]\n",
      "train_MSE_normalized_mean: 0.16444146233622356\n",
      "valid_MSE_normalized_mean: 0.16549891809867745\n",
      "\n"
     ]
    },
    {
     "name": "stderr",
     "output_type": "stream",
     "text": [
      "\n",
      "533it [00:19, 28.01it/s]\n",
      "533it [00:09, 56.17it/s]\n",
      "67it [00:01, 60.41it/s]"
     ]
    },
    {
     "name": "stdout",
     "output_type": "stream",
     "text": [
      "EPOCH:\t43 0.15739790044067947\n",
      "train_MAE:\n",
      "[5.60182897e-01 6.79938930e-01 5.17252370e-03 6.11406116e-03\n",
      " 7.69455762e-03 4.17124769e+01 1.99277570e-03 1.53980933e+00\n",
      " 1.53813747e+00 1.53923888e+00 1.53947049e+00 3.56302876e-01]\n",
      "valid_MAE:\n",
      "[5.67577801e-01 6.81481514e-01 5.28910183e-03 6.08836185e-03\n",
      " 7.78525887e-03 4.17688168e+01 1.99726530e-03 1.55376571e+00\n",
      " 1.55202340e+00 1.55300512e+00 1.55331068e+00 3.56730155e-01]\n",
      "train_MSE_normalized_mean: 0.16128602424155297\n",
      "valid_MSE_normalized_mean: 0.1624872799169753\n",
      "\n"
     ]
    },
    {
     "name": "stderr",
     "output_type": "stream",
     "text": [
      "\n",
      "533it [00:19, 27.26it/s]\n",
      "533it [00:09, 55.49it/s]\n",
      "67it [00:01, 63.15it/s]"
     ]
    },
    {
     "name": "stdout",
     "output_type": "stream",
     "text": [
      "EPOCH:\t44 0.1557105178149735\n",
      "train_MAE:\n",
      "[5.61447731e-01 6.35673164e-01 5.24924829e-03 6.18687717e-03\n",
      " 7.98848753e-03 4.01914998e+01 1.54401195e-03 2.35012800e+00\n",
      " 2.34144137e+00 2.34023356e+00 2.34266425e+00 3.57494076e-01]\n",
      "valid_MAE:\n",
      "[5.67764410e-01 6.37829617e-01 5.36388195e-03 6.19420527e-03\n",
      " 8.06026033e-03 4.03788599e+01 1.56988560e-03 2.36572983e+00\n",
      " 2.35711505e+00 2.35590434e+00 2.35833429e+00 3.59508991e-01]\n",
      "train_MSE_normalized_mean: 0.16627425431289852\n",
      "valid_MSE_normalized_mean: 0.16733897773760073\n",
      "\n"
     ]
    },
    {
     "name": "stderr",
     "output_type": "stream",
     "text": [
      "\n",
      "533it [00:19, 31.65it/s]\n",
      "533it [00:09, 56.17it/s]\n",
      "67it [00:01, 59.42it/s]"
     ]
    },
    {
     "name": "stdout",
     "output_type": "stream",
     "text": [
      "EPOCH:\t45 0.15453383469111923\n",
      "train_MAE:\n",
      "[5.55236269e-01 6.10715035e-01 5.45559594e-03 6.23973713e-03\n",
      " 8.30333192e-03 3.74301835e+01 1.77426777e-03 9.54992598e-01\n",
      " 9.52994363e-01 9.52554399e-01 9.52338359e-01 3.39673820e-01]\n",
      "valid_MAE:\n",
      "[5.63392414e-01 6.17438119e-01 5.54386905e-03 6.23576842e-03\n",
      " 8.33794057e-03 3.78587189e+01 1.79637351e-03 9.76054160e-01\n",
      " 9.74293431e-01 9.73845160e-01 9.73625463e-01 3.44902557e-01]\n",
      "train_MSE_normalized_mean: 0.15583568067161563\n",
      "valid_MSE_normalized_mean: 0.1571792054828588\n",
      "\n"
     ]
    },
    {
     "name": "stderr",
     "output_type": "stream",
     "text": [
      "\n",
      "533it [00:19, 27.64it/s]\n",
      "533it [00:09, 49.43it/s]\n",
      "67it [00:01, 56.59it/s]"
     ]
    },
    {
     "name": "stdout",
     "output_type": "stream",
     "text": [
      "EPOCH:\t46 0.1556239460942669\n",
      "train_MAE:\n",
      "[5.69101880e-01 7.87269143e-01 5.25386399e-03 5.88991498e-03\n",
      " 7.63809627e-03 3.91222396e+01 1.81841984e-03 2.60667337e+00\n",
      " 2.61090615e+00 2.61230950e+00 2.61106567e+00 4.08942294e-01]\n",
      "valid_MAE:\n",
      "[5.75865655e-01 7.96365130e-01 5.36341475e-03 5.88147937e-03\n",
      " 7.72534477e-03 4.00493931e+01 1.84226375e-03 2.59316542e+00\n",
      " 2.59740257e+00 2.59878638e+00 2.59753809e+00 4.13581816e-01]\n",
      "train_MSE_normalized_mean: 0.17106014804186723\n",
      "valid_MSE_normalized_mean: 0.17265068726379104\n",
      "\n"
     ]
    },
    {
     "name": "stderr",
     "output_type": "stream",
     "text": [
      "\n",
      "533it [00:18, 28.16it/s]\n",
      "533it [00:09, 51.33it/s]\n",
      "67it [00:01, 57.70it/s]"
     ]
    },
    {
     "name": "stdout",
     "output_type": "stream",
     "text": [
      "EPOCH:\t47 0.1544922787912791\n",
      "train_MAE:\n",
      "[5.57173644e-01 6.37840804e-01 5.21321894e-03 5.97686729e-03\n",
      " 7.76295929e-03 3.87618563e+01 1.75651576e-03 1.36492452e+00\n",
      " 1.36038688e+00 1.36152814e+00 1.36181825e+00 3.31649333e-01]\n",
      "valid_MAE:\n",
      "[5.64193453e-01 6.45819368e-01 5.31077047e-03 5.96348830e-03\n",
      " 7.84216068e-03 3.91076379e+01 1.76760049e-03 1.37287190e+00\n",
      " 1.36845035e+00 1.36959547e+00 1.36987174e+00 3.32897113e-01]\n",
      "train_MSE_normalized_mean: 0.1569938857346175\n",
      "valid_MSE_normalized_mean: 0.1582125895733217\n",
      "\n"
     ]
    },
    {
     "name": "stderr",
     "output_type": "stream",
     "text": [
      "\n",
      "533it [00:19, 27.80it/s]\n",
      "533it [00:09, 55.19it/s]\n",
      "67it [00:01, 59.45it/s]"
     ]
    },
    {
     "name": "stdout",
     "output_type": "stream",
     "text": [
      "EPOCH:\t48 0.15382141369704233\n",
      "train_MAE:\n",
      "[5.61172970e-01 7.13598993e-01 5.08776290e-03 6.01755673e-03\n",
      " 7.66547128e-03 3.86970030e+01 1.60550660e-03 1.85851880e+00\n",
      " 1.86514576e+00 1.86606196e+00 1.86526160e+00 3.57056286e-01]\n",
      "valid_MAE:\n",
      "[5.69561449e-01 7.22849184e-01 5.15971730e-03 6.01993881e-03\n",
      " 7.77409408e-03 3.95058644e+01 1.62907991e-03 1.84720801e+00\n",
      " 1.85396808e+00 1.85491725e+00 1.85404116e+00 3.59691123e-01]\n",
      "train_MSE_normalized_mean: 0.16179336858705215\n",
      "valid_MSE_normalized_mean: 0.16326218909071868\n",
      "\n"
     ]
    },
    {
     "name": "stderr",
     "output_type": "stream",
     "text": [
      "\n",
      "533it [00:18, 28.34it/s]\n",
      "533it [00:09, 52.97it/s]\n",
      "67it [00:01, 58.84it/s]"
     ]
    },
    {
     "name": "stdout",
     "output_type": "stream",
     "text": [
      "EPOCH:\t49 0.15362751207141448\n",
      "train_MAE:\n",
      "[5.52688775e-01 6.54927590e-01 5.19146848e-03 5.97070751e-03\n",
      " 7.75715074e-03 4.06195864e+01 1.48825242e-03 1.16493319e+00\n",
      " 1.16730185e+00 1.16778194e+00 1.16735116e+00 3.60769368e-01]\n",
      "valid_MAE:\n",
      "[5.60093236e-01 6.60743096e-01 5.27035680e-03 5.95425293e-03\n",
      " 7.84858101e-03 4.09068094e+01 1.49699900e-03 1.19176890e+00\n",
      " 1.19405201e+00 1.19449680e+00 1.19410743e+00 3.60030432e-01]\n",
      "train_MSE_normalized_mean: 0.15596313646246035\n",
      "valid_MSE_normalized_mean: 0.15736293093036605\n",
      "\n"
     ]
    },
    {
     "name": "stderr",
     "output_type": "stream",
     "text": [
      "\n",
      "533it [00:19, 27.47it/s]\n",
      "533it [00:09, 55.66it/s]\n",
      "67it [00:01, 60.32it/s]"
     ]
    },
    {
     "name": "stdout",
     "output_type": "stream",
     "text": [
      "EPOCH:\t50 0.15339648536289388\n",
      "train_MAE:\n",
      "[5.47832714e-01 6.07149354e-01 5.02874278e-03 5.98163450e-03\n",
      " 7.58825541e-03 3.66912153e+01 1.64029644e-03 1.63186174e+00\n",
      " 1.63345380e+00 1.63483324e+00 1.63408085e+00 3.27046148e-01]\n",
      "valid_MAE:\n",
      "[5.56978601e-01 6.14377618e-01 5.13417389e-03 5.98005571e-03\n",
      " 7.67728201e-03 3.74426967e+01 1.65337463e-03 1.62134470e+00\n",
      " 1.62320164e+00 1.62457551e+00 1.62375180e+00 3.29534357e-01]\n",
      "train_MSE_normalized_mean: 0.1554877008227498\n",
      "valid_MSE_normalized_mean: 0.15717870867119144\n",
      "\n"
     ]
    },
    {
     "name": "stderr",
     "output_type": "stream",
     "text": [
      "\n",
      "533it [00:18, 28.13it/s]\n",
      "533it [00:09, 56.14it/s]\n",
      "67it [00:01, 54.81it/s]"
     ]
    },
    {
     "name": "stdout",
     "output_type": "stream",
     "text": [
      "EPOCH:\t51 0.1521321420905514\n",
      "train_MAE:\n",
      "[5.57905298e-01 6.05056753e-01 5.37866047e-03 5.90477830e-03\n",
      " 7.95122230e-03 3.81363265e+01 1.64005180e-03 1.57999860e+00\n",
      " 1.58028676e+00 1.58015884e+00 1.58038301e+00 3.23646661e-01]\n",
      "valid_MAE:\n",
      "[5.65410614e-01 6.08904769e-01 5.45386039e-03 5.89154725e-03\n",
      " 7.99416796e-03 3.89197445e+01 1.65578976e-03 1.61482134e+00\n",
      " 1.61500787e+00 1.61480293e+00 1.61510002e+00 3.26227392e-01]\n",
      "train_MSE_normalized_mean: 0.15934115088913064\n",
      "valid_MSE_normalized_mean: 0.16101554476543237\n",
      "\n"
     ]
    },
    {
     "name": "stderr",
     "output_type": "stream",
     "text": [
      "\n",
      "533it [00:18, 31.39it/s]\n",
      "533it [00:09, 52.82it/s]\n",
      "67it [00:01, 57.42it/s]"
     ]
    },
    {
     "name": "stdout",
     "output_type": "stream",
     "text": [
      "EPOCH:\t52 0.1505547673991876\n",
      "train_MAE:\n",
      "[5.54224800e-01 6.21064349e-01 5.05019517e-03 6.03647447e-03\n",
      " 7.62393481e-03 3.67919586e+01 1.63365370e-03 1.40752782e+00\n",
      " 1.40408584e+00 1.40416072e+00 1.40456141e+00 3.32289494e-01]\n",
      "valid_MAE:\n",
      "[5.62082118e-01 6.25791082e-01 5.17356823e-03 6.06048886e-03\n",
      " 7.73316160e-03 3.74180657e+01 1.66328602e-03 1.41967250e+00\n",
      " 1.41626203e+00 1.41632549e+00 1.41672388e+00 3.34405808e-01]\n",
      "train_MSE_normalized_mean: 0.15452789569897776\n",
      "valid_MSE_normalized_mean: 0.15665678593639923\n",
      "\n"
     ]
    },
    {
     "name": "stderr",
     "output_type": "stream",
     "text": [
      "\n",
      "533it [00:19, 27.98it/s]\n",
      "533it [00:09, 51.22it/s]\n",
      "67it [00:01, 59.52it/s]"
     ]
    },
    {
     "name": "stdout",
     "output_type": "stream",
     "text": [
      "EPOCH:\t53 0.15018906452698286\n",
      "train_MAE:\n",
      "[5.52507689e-01 6.01010303e-01 5.26944695e-03 5.72424439e-03\n",
      " 7.66589668e-03 3.84922900e+01 1.48484483e-03 2.37884778e+00\n",
      " 2.38159702e+00 2.38243402e+00 2.38093670e+00 3.41933738e-01]\n",
      "valid_MAE:\n",
      "[5.61989471e-01 6.09456728e-01 5.40976001e-03 5.73823801e-03\n",
      " 7.80893757e-03 3.93943953e+01 1.50614585e-03 2.37995105e+00\n",
      " 2.38291968e+00 2.38374707e+00 2.38220694e+00 3.47345860e-01]\n",
      "train_MSE_normalized_mean: 0.1626252428996835\n",
      "valid_MSE_normalized_mean: 0.1648321698396903\n",
      "\n"
     ]
    },
    {
     "name": "stderr",
     "output_type": "stream",
     "text": [
      "\n",
      "533it [00:19, 27.89it/s]\n",
      "533it [00:09, 56.45it/s]\n",
      "67it [00:01, 60.18it/s]"
     ]
    },
    {
     "name": "stdout",
     "output_type": "stream",
     "text": [
      "EPOCH:\t54 0.150138032984331\n",
      "train_MAE:\n",
      "[5.43139842e-01 6.70837861e-01 5.10208032e-03 5.84984509e-03\n",
      " 7.47551186e-03 3.85297464e+01 1.72592362e-03 2.15740376e+00\n",
      " 2.15513684e+00 2.15489900e+00 2.15562466e+00 3.27175309e-01]\n",
      "valid_MAE:\n",
      "[5.55196027e-01 6.84718773e-01 5.22178172e-03 5.86625393e-03\n",
      " 7.59044873e-03 3.92409246e+01 1.74736051e-03 2.18295060e+00\n",
      " 2.18064001e+00 2.18036519e+00 2.18112360e+00 3.30516867e-01]\n",
      "train_MSE_normalized_mean: 0.16098138791722041\n",
      "valid_MSE_normalized_mean: 0.16330695245730434\n",
      "\n"
     ]
    },
    {
     "name": "stderr",
     "output_type": "stream",
     "text": [
      "\n",
      "533it [00:19, 27.85it/s]\n",
      "533it [00:09, 56.04it/s]\n",
      "67it [00:01, 58.82it/s]"
     ]
    },
    {
     "name": "stdout",
     "output_type": "stream",
     "text": [
      "EPOCH:\t55 0.14973066348799174\n",
      "train_MAE:\n",
      "[5.51408992e-01 6.59716213e-01 5.02358079e-03 5.75807197e-03\n",
      " 7.50163855e-03 3.81384327e+01 1.92872259e-03 1.23860445e+00\n",
      " 1.23753729e+00 1.23674927e+00 1.23722696e+00 3.25067241e-01]\n",
      "valid_MAE:\n",
      "[5.59788222e-01 6.72214365e-01 5.15866772e-03 5.76435849e-03\n",
      " 7.62600962e-03 3.89572964e+01 1.96102278e-03 1.26011895e+00\n",
      " 1.25888349e+00 1.25799968e+00 1.25854937e+00 3.29157758e-01]\n",
      "train_MSE_normalized_mean: 0.15340025175190644\n",
      "valid_MSE_normalized_mean: 0.15595540066190897\n",
      "\n"
     ]
    },
    {
     "name": "stderr",
     "output_type": "stream",
     "text": [
      "\n",
      "533it [00:19, 27.35it/s]\n",
      "533it [00:09, 56.00it/s]\n",
      "67it [00:01, 55.76it/s]"
     ]
    },
    {
     "name": "stdout",
     "output_type": "stream",
     "text": [
      "EPOCH:\t56 0.14995125347073932\n",
      "train_MAE:\n",
      "[5.41514428e-01 6.05692642e-01 4.94434081e-03 6.08429530e-03\n",
      " 7.66007334e-03 3.68611797e+01 1.57532254e-03 1.47161148e+00\n",
      " 1.47194616e+00 1.47170088e+00 1.47183003e+00 3.25023189e-01]\n",
      "valid_MAE:\n",
      "[5.50859742e-01 6.12119671e-01 5.07842962e-03 6.06399798e-03\n",
      " 7.78568548e-03 3.77403413e+01 1.59535950e-03 1.47913282e+00\n",
      " 1.47968096e+00 1.47944628e+00 1.47952840e+00 3.29045719e-01]\n",
      "train_MSE_normalized_mean: 0.15307540947342477\n",
      "valid_MSE_normalized_mean: 0.1552334523487341\n",
      "\n"
     ]
    },
    {
     "name": "stderr",
     "output_type": "stream",
     "text": [
      "\n",
      "533it [00:19, 27.57it/s]\n",
      "533it [00:09, 52.28it/s]\n",
      "67it [00:01, 61.10it/s]"
     ]
    },
    {
     "name": "stdout",
     "output_type": "stream",
     "text": [
      "EPOCH:\t57 0.1475573522344539\n",
      "train_MAE:\n",
      "[5.42418285e-01 6.58520230e-01 5.00179287e-03 5.97727590e-03\n",
      " 7.46551031e-03 3.84888255e+01 1.70422775e-03 9.81843254e-01\n",
      " 9.79788258e-01 9.79346301e-01 9.79952713e-01 3.33501862e-01]\n",
      "valid_MAE:\n",
      "[5.50190208e-01 6.65828613e-01 5.08485908e-03 5.97521208e-03\n",
      " 7.60190848e-03 3.94030794e+01 1.74215918e-03 9.90706698e-01\n",
      " 9.88576610e-01 9.88101654e-01 9.88719752e-01 3.34180713e-01]\n",
      "train_MSE_normalized_mean: 0.15126754205917756\n",
      "valid_MSE_normalized_mean: 0.15324068876724461\n",
      "\n"
     ]
    },
    {
     "name": "stderr",
     "output_type": "stream",
     "text": [
      "\n",
      "533it [00:19, 27.66it/s]\n",
      "533it [00:09, 50.46it/s]\n",
      "67it [00:01, 57.81it/s]"
     ]
    },
    {
     "name": "stdout",
     "output_type": "stream",
     "text": [
      "EPOCH:\t58 0.1508431353835183\n",
      "train_MAE:\n",
      "[5.41940461e-01 6.19927132e-01 4.94409230e-03 5.93357137e-03\n",
      " 7.54623801e-03 3.76351728e+01 1.85439424e-03 2.58852493e+00\n",
      " 2.58416811e+00 2.58398547e+00 2.58500196e+00 3.44999069e-01]\n",
      "valid_MAE:\n",
      "[5.52476157e-01 6.27398629e-01 5.05321462e-03 5.98589000e-03\n",
      " 7.67329777e-03 3.79926018e+01 1.88598452e-03 2.61105389e+00\n",
      " 2.60667226e+00 2.60648194e+00 2.60751128e+00 3.47406885e-01]\n",
      "train_MSE_normalized_mean: 0.1630693816253139\n",
      "valid_MSE_normalized_mean: 0.16533124111105135\n",
      "\n"
     ]
    },
    {
     "name": "stderr",
     "output_type": "stream",
     "text": [
      "\n",
      "533it [00:19, 33.07it/s]\n",
      "533it [00:09, 56.30it/s]\n",
      "67it [00:01, 58.25it/s]"
     ]
    },
    {
     "name": "stdout",
     "output_type": "stream",
     "text": [
      "EPOCH:\t59 0.14728693328588138\n",
      "train_MAE:\n",
      "[5.41486964e-01 5.82025984e-01 4.93302277e-03 5.86632479e-03\n",
      " 7.43118891e-03 3.71302869e+01 1.72542633e-03 1.44378349e+00\n",
      " 1.44498278e+00 1.44503059e+00 1.44486327e+00 3.16933956e-01]\n",
      "valid_MAE:\n",
      "[5.49357536e-01 5.92134185e-01 5.05731713e-03 5.89870907e-03\n",
      " 7.54761341e-03 3.78678476e+01 1.75329895e-03 1.44178580e+00\n",
      " 1.44301369e+00 1.44307660e+00 1.44287497e+00 3.18777120e-01]\n",
      "train_MSE_normalized_mean: 0.151961448134686\n",
      "valid_MSE_normalized_mean: 0.15402844051263961\n",
      "\n"
     ]
    },
    {
     "name": "stderr",
     "output_type": "stream",
     "text": [
      "\n",
      "533it [00:19, 31.49it/s]\n",
      "533it [00:09, 56.19it/s]\n",
      "67it [00:01, 60.14it/s]"
     ]
    },
    {
     "name": "stdout",
     "output_type": "stream",
     "text": [
      "EPOCH:\t60 0.14814077886642704\n",
      "train_MAE:\n",
      "[5.42913465e-01 6.17262091e-01 5.15409771e-03 5.77092803e-03\n",
      " 7.45148031e-03 4.18195407e+01 1.52740077e-03 2.05452161e+00\n",
      " 2.05659842e+00 2.05706969e+00 2.05659089e+00 3.21084945e-01]\n",
      "valid_MAE:\n",
      "[5.53304168e-01 6.24095094e-01 5.26407142e-03 5.75081574e-03\n",
      " 7.55419023e-03 4.26140834e+01 1.56865776e-03 2.03892292e+00\n",
      " 2.04113236e+00 2.04161355e+00 2.04109140e+00 3.20802487e-01]\n",
      "train_MSE_normalized_mean: 0.15952941951698346\n",
      "valid_MSE_normalized_mean: 0.1614039681389112\n",
      "\n"
     ]
    },
    {
     "name": "stderr",
     "output_type": "stream",
     "text": [
      "\n",
      "533it [00:19, 31.47it/s]\n",
      "533it [00:09, 51.40it/s]\n",
      "67it [00:01, 57.83it/s]"
     ]
    },
    {
     "name": "stdout",
     "output_type": "stream",
     "text": [
      "EPOCH:\t61 0.1470680646109089\n",
      "train_MAE:\n",
      "[5.45725986e-01 6.19097692e-01 4.88319260e-03 6.06518988e-03\n",
      " 7.62914682e-03 3.99582657e+01 1.45210836e-03 1.10084419e+00\n",
      " 1.10097779e+00 1.10108870e+00 1.10092734e+00 3.29790838e-01]\n",
      "valid_MAE:\n",
      "[5.58547700e-01 6.28567691e-01 5.02017325e-03 6.02633275e-03\n",
      " 7.73213429e-03 4.08557496e+01 1.48174991e-03 1.11248381e+00\n",
      " 1.11282245e+00 1.11295456e+00 1.11274904e+00 3.30158385e-01]\n",
      "train_MSE_normalized_mean: 0.15137531992547573\n",
      "valid_MSE_normalized_mean: 0.15366972725813224\n",
      "\n"
     ]
    },
    {
     "name": "stderr",
     "output_type": "stream",
     "text": [
      "\n",
      "533it [00:19, 31.40it/s]\n",
      "533it [00:09, 55.33it/s]\n",
      "67it [00:01, 59.71it/s]"
     ]
    },
    {
     "name": "stdout",
     "output_type": "stream",
     "text": [
      "EPOCH:\t62 0.14716642842004268\n",
      "train_MAE:\n",
      "[5.38467238e-01 5.68822721e-01 5.21495000e-03 5.73178835e-03\n",
      " 7.64504137e-03 3.59465935e+01 1.56834065e-03 1.26434715e+00\n",
      " 1.26288387e+00 1.26250533e+00 1.26293745e+00 3.33066463e-01]\n",
      "valid_MAE:\n",
      "[5.50654003e-01 5.77022586e-01 5.32978187e-03 5.75641804e-03\n",
      " 7.81191043e-03 3.65605360e+01 1.60282073e-03 1.28035159e+00\n",
      " 1.27870772e+00 1.27830405e+00 1.27878909e+00 3.34714882e-01]\n",
      "train_MSE_normalized_mean: 0.15076337084979222\n",
      "valid_MSE_normalized_mean: 0.1534511793999873\n",
      "\n"
     ]
    },
    {
     "name": "stderr",
     "output_type": "stream",
     "text": [
      "\n",
      "533it [00:19, 27.58it/s]\n",
      "533it [00:09, 56.86it/s]\n",
      "67it [00:01, 61.24it/s]"
     ]
    },
    {
     "name": "stdout",
     "output_type": "stream",
     "text": [
      "EPOCH:\t63 0.1456791723311283\n",
      "train_MAE:\n",
      "[5.39064933e-01 6.75658819e-01 5.13538045e-03 5.78477444e-03\n",
      " 7.52188545e-03 3.75783122e+01 1.59586785e-03 1.05493989e+00\n",
      " 1.05569578e+00 1.05572574e+00 1.05559608e+00 3.49507583e-01]\n",
      "valid_MAE:\n",
      "[5.50724370e-01 6.77663633e-01 5.25335274e-03 5.80093515e-03\n",
      " 7.64738513e-03 3.82627640e+01 1.62837200e-03 1.07893977e+00\n",
      " 1.07979438e+00 1.07980693e+00 1.07967065e+00 3.52296276e-01]\n",
      "train_MSE_normalized_mean: 0.15095781255973884\n",
      "valid_MSE_normalized_mean: 0.1535237710701314\n",
      "\n"
     ]
    },
    {
     "name": "stderr",
     "output_type": "stream",
     "text": [
      "\n",
      "533it [00:19, 29.94it/s]\n",
      "533it [00:09, 56.54it/s]\n",
      "67it [00:01, 60.17it/s]"
     ]
    },
    {
     "name": "stdout",
     "output_type": "stream",
     "text": [
      "EPOCH:\t64 0.1455563823596398\n",
      "train_MAE:\n",
      "[5.36333325e-01 6.32695273e-01 4.90899795e-03 6.20151716e-03\n",
      " 7.81679478e-03 3.95699036e+01 1.55252705e-03 9.83726433e-01\n",
      " 9.82855001e-01 9.82594751e-01 9.83083647e-01 3.25594035e-01]\n",
      "valid_MAE:\n",
      "[5.48510925e-01 6.37676113e-01 5.01062877e-03 6.23045983e-03\n",
      " 7.94475058e-03 4.01853244e+01 1.59019277e-03 1.00642794e+00\n",
      " 1.00542989e+00 1.00512241e+00 1.00567027e+00 3.27061590e-01]\n",
      "train_MSE_normalized_mean: 0.14981584858176314\n",
      "valid_MSE_normalized_mean: 0.1523058360163844\n",
      "\n"
     ]
    },
    {
     "name": "stderr",
     "output_type": "stream",
     "text": [
      "\n",
      "533it [00:19, 27.42it/s]\n",
      "533it [00:09, 56.31it/s]\n",
      "67it [00:01, 59.68it/s]"
     ]
    },
    {
     "name": "stdout",
     "output_type": "stream",
     "text": [
      "EPOCH:\t65 0.14483609912990406\n",
      "train_MAE:\n",
      "[5.55199503e-01 5.75430295e-01 4.89475387e-03 5.73390873e-03\n",
      " 7.36578564e-03 3.81045605e+01 1.50849119e-03 1.31270107e+00\n",
      " 1.31399010e+00 1.31390679e+00 1.31354232e+00 3.21076831e-01]\n",
      "valid_MAE:\n",
      "[5.65627857e-01 5.85387994e-01 5.03707482e-03 5.75072837e-03\n",
      " 7.50898689e-03 3.85944404e+01 1.54078501e-03 1.31196111e+00\n",
      " 1.31331524e+00 1.31324616e+00 1.31286522e+00 3.22251580e-01]\n",
      "train_MSE_normalized_mean: 0.15083741253492558\n",
      "valid_MSE_normalized_mean: 0.15322274052299698\n",
      "\n"
     ]
    },
    {
     "name": "stderr",
     "output_type": "stream",
     "text": [
      "\n",
      "533it [00:19, 27.54it/s]\n",
      "533it [00:09, 55.57it/s]\n",
      "67it [00:01, 60.03it/s]"
     ]
    },
    {
     "name": "stdout",
     "output_type": "stream",
     "text": [
      "EPOCH:\t66 0.14593027451024942\n",
      "train_MAE:\n",
      "[5.30268575e-01 7.29183477e-01 4.99536932e-03 6.06414762e-03\n",
      " 7.85626965e-03 3.54098034e+01 1.63272203e-03 2.49729428e+00\n",
      " 2.50098055e+00 2.50113468e+00 2.50041026e+00 3.10167749e-01]\n",
      "valid_MAE:\n",
      "[5.42666384e-01 7.36816231e-01 5.12989472e-03 6.09743444e-03\n",
      " 8.01727722e-03 3.59863472e+01 1.65989396e-03 2.48756472e+00\n",
      " 2.49126925e+00 2.49142620e+00 2.49068632e+00 3.10978580e-01]\n",
      "train_MSE_normalized_mean: 0.16137425935703634\n",
      "valid_MSE_normalized_mean: 0.16425950176044748\n",
      "\n"
     ]
    },
    {
     "name": "stderr",
     "output_type": "stream",
     "text": [
      "\n",
      "533it [00:18, 31.39it/s]\n",
      "533it [00:09, 55.53it/s]\n",
      "67it [00:01, 58.91it/s]"
     ]
    },
    {
     "name": "stdout",
     "output_type": "stream",
     "text": [
      "EPOCH:\t67 0.1445378642983553\n",
      "train_MAE:\n",
      "[5.33395321e-01 6.44825027e-01 4.96199286e-03 5.72807582e-03\n",
      " 7.35924388e-03 3.67964744e+01 1.47957319e-03 1.72560344e+00\n",
      " 1.72708750e+00 1.72744664e+00 1.72722080e+00 3.17392024e-01]\n",
      "valid_MAE:\n",
      "[5.43929547e-01 6.54659515e-01 5.10589091e-03 5.72980417e-03\n",
      " 7.55203983e-03 3.77063325e+01 1.50982196e-03 1.73052751e+00\n",
      " 1.73213933e+00 1.73252071e+00 1.73225893e+00 3.17582154e-01]\n",
      "train_MSE_normalized_mean: 0.15295063265641134\n",
      "valid_MSE_normalized_mean: 0.15558045420228292\n",
      "\n"
     ]
    },
    {
     "name": "stderr",
     "output_type": "stream",
     "text": [
      "\n",
      "533it [00:19, 27.89it/s]\n",
      "533it [00:09, 56.49it/s]\n",
      "67it [00:01, 60.76it/s]"
     ]
    },
    {
     "name": "stdout",
     "output_type": "stream",
     "text": [
      "EPOCH:\t68 0.14398377687857253\n",
      "train_MAE:\n",
      "[5.32566166e-01 5.94800738e-01 4.88933639e-03 6.12111387e-03\n",
      " 7.81900172e-03 3.60377647e+01 1.73920739e-03 1.03347705e+00\n",
      " 1.03416638e+00 1.03425455e+00 1.03410244e+00 3.41579775e-01]\n",
      "valid_MAE:\n",
      "[5.45663502e-01 6.04867369e-01 5.01913312e-03 6.15198805e-03\n",
      " 7.95924132e-03 3.68685152e+01 1.77284785e-03 1.04777850e+00\n",
      " 1.04832729e+00 1.04837794e+00 1.04824761e+00 3.45291344e-01]\n",
      "train_MSE_normalized_mean: 0.14858299701792294\n",
      "valid_MSE_normalized_mean: 0.15150359895761806\n",
      "\n"
     ]
    },
    {
     "name": "stderr",
     "output_type": "stream",
     "text": [
      "\n",
      "533it [00:19, 31.51it/s]\n",
      "533it [00:09, 55.38it/s]\n",
      "67it [00:01, 58.86it/s]"
     ]
    },
    {
     "name": "stdout",
     "output_type": "stream",
     "text": [
      "EPOCH:\t69 0.14416810766729138\n",
      "train_MAE:\n",
      "[5.29496173e-01 8.21454026e-01 4.92760945e-03 6.00374836e-03\n",
      " 7.73154243e-03 3.68834384e+01 2.32145474e-03 9.20380602e-01\n",
      " 9.19467410e-01 9.19392744e-01 9.19545732e-01 3.81801867e-01]\n",
      "valid_MAE:\n",
      "[5.43251351e-01 8.25573584e-01 5.05668996e-03 5.99974493e-03\n",
      " 7.87435265e-03 3.73087887e+01 2.34649438e-03 9.34416280e-01\n",
      " 9.33659273e-01 9.33573322e-01 9.33711542e-01 3.80156814e-01]\n",
      "train_MSE_normalized_mean: 0.15258825439338192\n",
      "valid_MSE_normalized_mean: 0.15511253395708904\n",
      "\n"
     ]
    },
    {
     "name": "stderr",
     "output_type": "stream",
     "text": [
      "\n",
      "533it [00:18, 23.75it/s]\n",
      "533it [00:12, 38.44it/s]\n",
      "67it [00:01, 43.41it/s]"
     ]
    },
    {
     "name": "stdout",
     "output_type": "stream",
     "text": [
      "EPOCH:\t70 0.14239283982405743\n",
      "train_MAE:\n",
      "[5.32525218e-01 7.23119915e-01 4.86960231e-03 5.88730643e-03\n",
      " 7.29683884e-03 3.55693270e+01 2.19912951e-03 1.35320252e+00\n",
      " 1.35283689e+00 1.35274182e+00 1.35281061e+00 3.19809422e-01]\n",
      "valid_MAE:\n",
      "[5.44890888e-01 7.26841075e-01 5.00979765e-03 5.90986946e-03\n",
      " 7.47783785e-03 3.61661415e+01 2.23144119e-03 1.36171144e+00\n",
      " 1.36143253e+00 1.36133973e+00 1.36137285e+00 3.19630027e-01]\n",
      "train_MSE_normalized_mean: 0.15169798717099645\n",
      "valid_MSE_normalized_mean: 0.15496320367217695\n",
      "\n"
     ]
    },
    {
     "name": "stderr",
     "output_type": "stream",
     "text": [
      "\n",
      "533it [00:19, 32.49it/s]\n",
      "533it [00:12, 43.64it/s]\n",
      "67it [00:01, 43.77it/s]"
     ]
    },
    {
     "name": "stdout",
     "output_type": "stream",
     "text": [
      "EPOCH:\t71 0.14297248807510338\n",
      "train_MAE:\n",
      "[5.30533335e-01 6.28687003e-01 5.05958485e-03 6.00320224e-03\n",
      " 7.99976444e-03 3.82851276e+01 1.69414675e-03 1.44885783e+00\n",
      " 1.44758032e+00 1.44740478e+00 1.44772473e+00 3.13994175e-01]\n",
      "valid_MAE:\n",
      "[5.43073211e-01 6.35588363e-01 5.17494366e-03 6.02524416e-03\n",
      " 8.13385195e-03 3.90734458e+01 1.72252344e-03 1.47925329e+00\n",
      " 1.47796729e+00 1.47777606e+00 1.47810011e+00 3.16043743e-01]\n",
      "train_MSE_normalized_mean: 0.1527369017400179\n",
      "valid_MSE_normalized_mean: 0.15580764147034107\n",
      "\n"
     ]
    },
    {
     "name": "stderr",
     "output_type": "stream",
     "text": [
      "\n",
      "533it [00:20, 32.50it/s]\n",
      "533it [00:09, 56.33it/s]\n",
      "67it [00:01, 60.81it/s]"
     ]
    },
    {
     "name": "stdout",
     "output_type": "stream",
     "text": [
      "EPOCH:\t72 0.14192406996721174\n",
      "train_MAE:\n",
      "[5.31133078e-01 5.72979750e-01 4.89345614e-03 5.81013105e-03\n",
      " 7.36266582e-03 3.74032113e+01 1.44878072e-03 1.27007573e+00\n",
      " 1.27103637e+00 1.27115174e+00 1.27108350e+00 3.13146624e-01]\n",
      "valid_MAE:\n",
      "[5.43421076e-01 5.79326285e-01 5.00579144e-03 5.83972251e-03\n",
      " 7.48701048e-03 3.82620299e+01 1.48828761e-03 1.27424553e+00\n",
      " 1.27522375e+00 1.27534292e+00 1.27527664e+00 3.16538493e-01]\n",
      "train_MSE_normalized_mean: 0.14876154294837712\n",
      "valid_MSE_normalized_mean: 0.15154642998155168\n",
      "\n"
     ]
    },
    {
     "name": "stderr",
     "output_type": "stream",
     "text": [
      "\n",
      "533it [00:19, 27.17it/s]\n",
      "533it [00:09, 56.07it/s]\n",
      "67it [00:01, 58.33it/s]"
     ]
    },
    {
     "name": "stdout",
     "output_type": "stream",
     "text": [
      "EPOCH:\t73 0.14168250499254767\n",
      "train_MAE:\n",
      "[5.40462032e-01 7.29439354e-01 4.87679060e-03 5.97759483e-03\n",
      " 7.65864527e-03 4.06552425e+01 1.77390212e-03 8.86000159e-01\n",
      " 8.84826628e-01 8.84744784e-01 8.85033998e-01 3.88069016e-01]\n",
      "valid_MAE:\n",
      "[5.55047439e-01 7.32453765e-01 5.00217135e-03 5.99907715e-03\n",
      " 7.78746364e-03 4.10335882e+01 1.79929000e-03 9.14002786e-01\n",
      " 9.12860964e-01 9.12755709e-01 9.13042125e-01 3.90123474e-01]\n",
      "train_MSE_normalized_mean: 0.1505676955703382\n",
      "valid_MSE_normalized_mean: 0.15377476252514052\n",
      "\n"
     ]
    },
    {
     "name": "stderr",
     "output_type": "stream",
     "text": [
      "\n",
      "533it [00:19, 27.93it/s]\n",
      "533it [00:09, 56.76it/s]\n",
      "67it [00:01, 60.15it/s]"
     ]
    },
    {
     "name": "stdout",
     "output_type": "stream",
     "text": [
      "EPOCH:\t74 0.14183716351554274\n",
      "train_MAE:\n",
      "[5.27836493e-01 7.20821085e-01 4.86193961e-03 5.64398062e-03\n",
      " 7.21321071e-03 3.58449773e+01 1.50634815e-03 1.70633575e+00\n",
      " 1.70629814e+00 1.70639719e+00 1.70639325e+00 3.17730073e-01]\n",
      "valid_MAE:\n",
      "[5.39580124e-01 7.28627438e-01 5.02951512e-03 5.64477677e-03\n",
      " 7.34011394e-03 3.65443389e+01 1.53221288e-03 1.73348923e+00\n",
      " 1.73339606e+00 1.73348202e+00 1.73349217e+00 3.17311981e-01]\n",
      "train_MSE_normalized_mean: 0.15312757521023576\n",
      "valid_MSE_normalized_mean: 0.15615987955079746\n",
      "\n"
     ]
    },
    {
     "name": "stderr",
     "output_type": "stream",
     "text": [
      "\n",
      "533it [00:19, 27.56it/s]\n",
      "533it [00:09, 55.61it/s]\n",
      "67it [00:01, 56.29it/s]"
     ]
    },
    {
     "name": "stdout",
     "output_type": "stream",
     "text": [
      "EPOCH:\t75 0.14157668817054486\n",
      "train_MAE:\n",
      "[5.28667859e-01 6.33221714e-01 4.79063193e-03 5.62585151e-03\n",
      " 7.24733261e-03 3.64420157e+01 1.64404840e-03 8.48891561e-01\n",
      " 8.48446768e-01 8.48379897e-01 8.48477962e-01 3.06345304e-01]\n",
      "valid_MAE:\n",
      "[5.42374554e-01 6.42778592e-01 4.92939049e-03 5.63019873e-03\n",
      " 7.39015969e-03 3.70018252e+01 1.67183134e-03 8.67975513e-01\n",
      " 8.67561812e-01 8.67486221e-01 8.67578637e-01 3.08287063e-01]\n",
      "train_MSE_normalized_mean: 0.14399145298859128\n",
      "valid_MSE_normalized_mean: 0.14723953161491152\n",
      "\n"
     ]
    },
    {
     "name": "stderr",
     "output_type": "stream",
     "text": [
      "\n",
      "533it [00:19, 27.78it/s]\n",
      "533it [00:09, 55.62it/s]\n",
      "67it [00:01, 61.58it/s]"
     ]
    },
    {
     "name": "stdout",
     "output_type": "stream",
     "text": [
      "EPOCH:\t76 0.14072958614823966\n",
      "train_MAE:\n",
      "[5.25544777e-01 5.70234270e-01 4.79396169e-03 5.74935133e-03\n",
      " 7.27716638e-03 3.72309184e+01 1.55478096e-03 1.01892972e+00\n",
      " 1.01889896e+00 1.01887898e+00 1.01883754e+00 3.13485388e-01]\n",
      "valid_MAE:\n",
      "[5.35532667e-01 5.78503754e-01 4.96172320e-03 5.75691713e-03\n",
      " 7.46409992e-03 3.78750203e+01 1.59669084e-03 1.03383183e+00\n",
      " 1.03385748e+00 1.03383682e+00 1.03377088e+00 3.14073493e-01]\n",
      "train_MSE_normalized_mean: 0.14517707664843413\n",
      "valid_MSE_normalized_mean: 0.14830370682761218\n",
      "\n"
     ]
    },
    {
     "name": "stderr",
     "output_type": "stream",
     "text": [
      "\n",
      "533it [00:19, 27.47it/s]\n",
      "533it [00:09, 54.79it/s]\n",
      "67it [00:01, 66.11it/s]"
     ]
    },
    {
     "name": "stdout",
     "output_type": "stream",
     "text": [
      "EPOCH:\t77 0.14021867582151634\n",
      "train_MAE:\n",
      "[5.25010487e-01 5.71833509e-01 4.81190927e-03 5.52970444e-03\n",
      " 7.12198111e-03 3.59289457e+01 1.48421685e-03 1.12461560e+00\n",
      " 1.12400903e+00 1.12386617e+00 1.12410316e+00 3.19718089e-01]\n",
      "valid_MAE:\n",
      "[5.37450287e-01 5.79879538e-01 4.96010652e-03 5.55211427e-03\n",
      " 7.28147628e-03 3.66194076e+01 1.51648593e-03 1.13264669e+00\n",
      " 1.13207273e+00 1.13192821e+00 1.13215221e+00 3.20316903e-01]\n",
      "train_MSE_normalized_mean: 0.14498512516394632\n",
      "valid_MSE_normalized_mean: 0.14802907426291706\n",
      "\n"
     ]
    },
    {
     "name": "stderr",
     "output_type": "stream",
     "text": [
      "\n",
      "533it [00:19, 27.48it/s]\n",
      "533it [00:09, 57.54it/s]\n",
      "67it [00:01, 60.74it/s]"
     ]
    },
    {
     "name": "stdout",
     "output_type": "stream",
     "text": [
      "EPOCH:\t78 0.13994660552793775\n",
      "train_MAE:\n",
      "[5.31169250e-01 5.67213047e-01 4.80769717e-03 5.56359413e-03\n",
      " 7.13423276e-03 3.54243398e+01 1.51767071e-03 8.73003992e-01\n",
      " 8.74109160e-01 8.74216448e-01 8.73977145e-01 3.05310918e-01]\n",
      "valid_MAE:\n",
      "[5.43045670e-01 5.77364913e-01 4.95217322e-03 5.57705116e-03\n",
      " 7.28368111e-03 3.60796955e+01 1.55715002e-03 9.00962069e-01\n",
      " 9.02101424e-01 9.02211134e-01 9.01968836e-01 3.04585977e-01]\n",
      "train_MSE_normalized_mean: 0.1428727515935384\n",
      "valid_MSE_normalized_mean: 0.14617199287108212\n",
      "\n"
     ]
    },
    {
     "name": "stderr",
     "output_type": "stream",
     "text": [
      "\n",
      "533it [00:19, 30.72it/s]\n",
      "533it [00:09, 50.19it/s]\n",
      "67it [00:01, 60.89it/s]"
     ]
    },
    {
     "name": "stdout",
     "output_type": "stream",
     "text": [
      "EPOCH:\t79 0.1407874218881913\n",
      "train_MAE:\n",
      "[5.23590535e-01 5.81151596e-01 4.91078159e-03 5.57746387e-03\n",
      " 7.11915949e-03 3.62596745e+01 1.53016699e-03 2.90314584e+00\n",
      " 2.90188538e+00 2.90166293e+00 2.90216680e+00 3.40502007e-01]\n",
      "valid_MAE:\n",
      "[5.36070583e-01 5.87815415e-01 5.03546537e-03 5.58902067e-03\n",
      " 7.25036135e-03 3.66862080e+01 1.55816408e-03 2.92908366e+00\n",
      " 2.92778344e+00 2.92755025e+00 2.92806288e+00 3.41369233e-01]\n",
      "train_MSE_normalized_mean: 0.16039162047616443\n",
      "valid_MSE_normalized_mean: 0.16324842270151485\n",
      "\n"
     ]
    },
    {
     "name": "stderr",
     "output_type": "stream",
     "text": [
      "\n",
      "533it [00:19, 27.35it/s]\n",
      "533it [00:09, 56.98it/s]\n",
      "67it [00:01, 62.56it/s]"
     ]
    },
    {
     "name": "stdout",
     "output_type": "stream",
     "text": [
      "EPOCH:\t80 0.13986634886622654\n",
      "train_MAE:\n",
      "[5.30988877e-01 7.53430972e-01 4.72136468e-03 5.96177847e-03\n",
      " 7.34165558e-03 3.59625738e+01 2.11572495e-03 2.07849473e+00\n",
      " 2.07944004e+00 2.07953293e+00 2.07928973e+00 3.41630587e-01]\n",
      "valid_MAE:\n",
      "[5.45022966e-01 7.56265014e-01 4.83778698e-03 5.97628128e-03\n",
      " 7.48777280e-03 3.63842398e+01 2.14048515e-03 2.06993897e+00\n",
      " 2.07088162e+00 2.07097479e+00 2.07073157e+00 3.42053155e-01]\n",
      "train_MSE_normalized_mean: 0.15740293000889796\n",
      "valid_MSE_normalized_mean: 0.15999831811223506\n",
      "\n"
     ]
    },
    {
     "name": "stderr",
     "output_type": "stream",
     "text": [
      "\n",
      "533it [00:18, 28.17it/s]\n",
      "533it [00:09, 55.45it/s]\n",
      "67it [00:01, 65.37it/s]"
     ]
    },
    {
     "name": "stdout",
     "output_type": "stream",
     "text": [
      "EPOCH:\t81 0.13922227805875256\n",
      "train_MAE:\n",
      "[5.19050237e-01 6.33977605e-01 4.70551139e-03 6.16906861e-03\n",
      " 7.38665319e-03 3.53566610e+01 1.60108703e-03 1.02906678e+00\n",
      " 1.03012539e+00 1.03021839e+00 1.03002329e+00 3.27877281e-01]\n",
      "valid_MAE:\n",
      "[5.34235149e-01 6.44037243e-01 4.82470276e-03 6.17330910e-03\n",
      " 7.53840068e-03 3.60557115e+01 1.64190942e-03 1.03282733e+00\n",
      " 1.03398742e+00 1.03408512e+00 1.03385682e+00 3.27454269e-01]\n",
      "train_MSE_normalized_mean: 0.14567813987139813\n",
      "valid_MSE_normalized_mean: 0.14857212727236085\n",
      "\n"
     ]
    },
    {
     "name": "stderr",
     "output_type": "stream",
     "text": [
      "\n",
      "533it [00:19, 31.47it/s]\n",
      "533it [00:09, 55.35it/s]\n",
      "67it [00:01, 58.94it/s]"
     ]
    },
    {
     "name": "stdout",
     "output_type": "stream",
     "text": [
      "EPOCH:\t82 0.1393767571946917\n",
      "train_MAE:\n",
      "[5.23497361e-01 6.87492346e-01 4.95117892e-03 5.77097699e-03\n",
      " 7.12797392e-03 3.57372647e+01 1.93954161e-03 9.30046544e-01\n",
      " 9.30508168e-01 9.30572984e-01 9.30393148e-01 3.40830235e-01]\n",
      "valid_MAE:\n",
      "[5.40540399e-01 6.96838241e-01 5.08796693e-03 5.78731207e-03\n",
      " 7.23221499e-03 3.63682671e+01 1.98301485e-03 9.65389965e-01\n",
      " 9.65840628e-01 9.65897800e-01 9.65715822e-01 3.43020490e-01]\n",
      "train_MSE_normalized_mean: 0.14719830073132958\n",
      "valid_MSE_normalized_mean: 0.15042110830037014\n",
      "\n"
     ]
    },
    {
     "name": "stderr",
     "output_type": "stream",
     "text": [
      "\n",
      "533it [00:19, 27.86it/s]\n",
      "533it [00:09, 55.30it/s]\n",
      "67it [00:01, 59.97it/s]"
     ]
    },
    {
     "name": "stdout",
     "output_type": "stream",
     "text": [
      "EPOCH:\t83 0.1386095373061316\n",
      "train_MAE:\n",
      "[5.23126105e-01 6.06696894e-01 4.99155899e-03 5.55521321e-03\n",
      " 7.08793736e-03 3.52890340e+01 1.44712864e-03 8.39527391e-01\n",
      " 8.39104206e-01 8.39067473e-01 8.39133174e-01 3.04400729e-01]\n",
      "valid_MAE:\n",
      "[5.41553404e-01 6.15944218e-01 5.15659770e-03 5.59696110e-03\n",
      " 7.25958931e-03 3.59462023e+01 1.47165183e-03 8.61155451e-01\n",
      " 8.60658205e-01 8.60608433e-01 8.60692808e-01 3.07375329e-01]\n",
      "train_MSE_normalized_mean: 0.1432327570823581\n",
      "valid_MSE_normalized_mean: 0.14699428976970844\n",
      "\n"
     ]
    },
    {
     "name": "stderr",
     "output_type": "stream",
     "text": [
      "\n",
      "533it [00:19, 32.16it/s]\n",
      "533it [00:09, 55.66it/s]\n",
      "67it [00:01, 56.96it/s]"
     ]
    },
    {
     "name": "stdout",
     "output_type": "stream",
     "text": [
      "EPOCH:\t84 0.13885292483539116\n",
      "train_MAE:\n",
      "[5.25356787e-01 6.81038609e-01 4.86502516e-03 5.55272978e-03\n",
      " 7.18062206e-03 3.52779228e+01 1.81216658e-03 1.78064195e+00\n",
      " 1.77978839e+00 1.77970008e+00 1.77993490e+00 3.27430046e-01]\n",
      "valid_MAE:\n",
      "[5.38033188e-01 6.90960152e-01 5.00137422e-03 5.59092007e-03\n",
      " 7.31889747e-03 3.59677664e+01 1.85572491e-03 1.78519195e+00\n",
      " 1.78424649e+00 1.78415373e+00 1.78440289e+00 3.30132505e-01]\n",
      "train_MSE_normalized_mean: 0.15288619955424385\n",
      "valid_MSE_normalized_mean: 0.15592914436094096\n",
      "\n"
     ]
    },
    {
     "name": "stderr",
     "output_type": "stream",
     "text": [
      "\n",
      "533it [00:19, 27.53it/s]\n",
      "533it [00:09, 55.89it/s]\n",
      "67it [00:01, 59.12it/s]"
     ]
    },
    {
     "name": "stdout",
     "output_type": "stream",
     "text": [
      "EPOCH:\t85 0.13808052384383682\n",
      "train_MAE:\n",
      "[5.26125591e-01 5.89666828e-01 4.72311530e-03 5.54936535e-03\n",
      " 7.13790505e-03 3.48779314e+01 1.54546555e-03 9.97220412e-01\n",
      " 9.98360121e-01 9.98432321e-01 9.98172409e-01 3.15313007e-01]\n",
      "valid_MAE:\n",
      "[5.41407734e-01 5.97418341e-01 4.86361417e-03 5.56798547e-03\n",
      " 7.29447642e-03 3.55273619e+01 1.58055009e-03 1.00344960e+00\n",
      " 1.00455925e+00 1.00462513e+00 1.00436808e+00 3.17581082e-01]\n",
      "train_MSE_normalized_mean: 0.1426816472798665\n",
      "valid_MSE_normalized_mean: 0.14583014365389343\n",
      "\n"
     ]
    },
    {
     "name": "stderr",
     "output_type": "stream",
     "text": [
      "\n",
      "533it [00:19, 27.93it/s]\n",
      "533it [00:09, 56.58it/s]\n",
      "67it [00:01, 50.65it/s]"
     ]
    },
    {
     "name": "stdout",
     "output_type": "stream",
     "text": [
      "EPOCH:\t86 0.13698115560451546\n",
      "train_MAE:\n",
      "[5.24668309e-01 6.03686351e-01 4.71282951e-03 5.58316984e-03\n",
      " 7.08883147e-03 3.68206265e+01 1.66279607e-03 1.04221745e+00\n",
      " 1.04216998e+00 1.04217790e+00 1.04214539e+00 3.08317427e-01]\n",
      "valid_MAE:\n",
      "[5.40298742e-01 6.13636155e-01 4.86624052e-03 5.57832744e-03\n",
      " 7.24975333e-03 3.76268915e+01 1.68843559e-03 1.06737501e+00\n",
      " 1.06732450e+00 1.06732909e+00 1.06729661e+00 3.06580712e-01]\n",
      "train_MSE_normalized_mean: 0.14515313188808845\n",
      "valid_MSE_normalized_mean: 0.1486617729963775\n",
      "\n"
     ]
    },
    {
     "name": "stderr",
     "output_type": "stream",
     "text": [
      "\n",
      "533it [00:19, 27.89it/s]\n",
      "533it [00:09, 56.53it/s]\n",
      "67it [00:01, 58.80it/s]"
     ]
    },
    {
     "name": "stdout",
     "output_type": "stream",
     "text": [
      "EPOCH:\t87 0.13860065719256034\n",
      "train_MAE:\n",
      "[5.42506177e-01 5.92509665e-01 4.71409823e-03 5.52585560e-03\n",
      " 7.06927762e-03 3.52989413e+01 1.55362891e-03 1.18820750e+00\n",
      " 1.18907658e+00 1.18918259e+00 1.18899643e+00 3.03684980e-01]\n",
      "valid_MAE:\n",
      "[5.54850989e-01 6.01623847e-01 4.84241279e-03 5.58144282e-03\n",
      " 7.28473968e-03 3.59136739e+01 1.59262598e-03 1.19822183e+00\n",
      " 1.19913165e+00 1.19923783e+00 1.19904634e+00 3.06083754e-01]\n",
      "train_MSE_normalized_mean: 0.14569651126046276\n",
      "valid_MSE_normalized_mean: 0.14903460332615434\n",
      "\n"
     ]
    },
    {
     "name": "stderr",
     "output_type": "stream",
     "text": [
      "\n",
      "533it [00:19, 27.91it/s]\n",
      "533it [00:09, 55.32it/s]\n",
      "67it [00:01, 58.35it/s]"
     ]
    },
    {
     "name": "stdout",
     "output_type": "stream",
     "text": [
      "EPOCH:\t88 0.1375431444419034\n",
      "train_MAE:\n",
      "[5.22986920e-01 6.86559191e-01 4.68690908e-03 6.23906782e-03\n",
      " 7.49602762e-03 4.16023964e+01 1.76437310e-03 2.95103565e+00\n",
      " 2.94971630e+00 2.94958170e+00 2.95007440e+00 3.40015704e-01]\n",
      "valid_MAE:\n",
      "[5.36953169e-01 6.94616732e-01 4.83322837e-03 6.27657873e-03\n",
      " 7.63471139e-03 4.19750551e+01 1.80605908e-03 2.96994190e+00\n",
      " 2.96862461e+00 2.96849389e+00 2.96898174e+00 3.39875984e-01]\n",
      "train_MSE_normalized_mean: 0.1649688086929144\n",
      "valid_MSE_normalized_mean: 0.1682302293978263\n",
      "\n"
     ]
    },
    {
     "name": "stderr",
     "output_type": "stream",
     "text": [
      "\n",
      "533it [00:19, 31.03it/s]\n",
      "533it [00:09, 56.65it/s]\n",
      "67it [00:01, 57.38it/s]"
     ]
    },
    {
     "name": "stdout",
     "output_type": "stream",
     "text": [
      "EPOCH:\t89 0.13752613928148044\n",
      "train_MAE:\n",
      "[5.20507144e-01 5.96266810e-01 4.68173373e-03 5.96152273e-03\n",
      " 7.51509771e-03 3.61812259e+01 1.43716706e-03 2.02316527e+00\n",
      " 2.02364374e+00 2.02363009e+00 2.02364660e+00 3.09787576e-01]\n",
      "valid_MAE:\n",
      "[5.35745961e-01 6.01224231e-01 4.81757374e-03 6.04317736e-03\n",
      " 7.70044273e-03 3.68781797e+01 1.46741821e-03 2.01820523e+00\n",
      " 2.01869585e+00 2.01868142e+00 2.01869048e+00 3.09038019e-01]\n",
      "train_MSE_normalized_mean: 0.15291226252130882\n",
      "valid_MSE_normalized_mean: 0.15642069172654688\n",
      "\n"
     ]
    },
    {
     "name": "stderr",
     "output_type": "stream",
     "text": [
      "\n",
      "533it [00:19, 27.95it/s]\n",
      "533it [00:09, 51.74it/s]\n",
      "67it [00:01, 59.52it/s]"
     ]
    },
    {
     "name": "stdout",
     "output_type": "stream",
     "text": [
      "EPOCH:\t90 0.13724494500410714\n",
      "train_MAE:\n",
      "[5.20167626e-01 5.78203138e-01 4.79128016e-03 5.67756573e-03\n",
      " 7.38838522e-03 3.58663130e+01 1.52485375e-03 8.31634912e-01\n",
      " 8.31118684e-01 8.31047671e-01 8.31188449e-01 3.08953194e-01]\n",
      "valid_MAE:\n",
      "[5.34884105e-01 5.84781084e-01 4.95116361e-03 5.69089956e-03\n",
      " 7.57834050e-03 3.64802399e+01 1.55471152e-03 8.53939148e-01\n",
      " 8.53462209e-01 8.53392790e-01 8.53520982e-01 3.11824043e-01]\n",
      "train_MSE_normalized_mean: 0.14182338293177646\n",
      "valid_MSE_normalized_mean: 0.1454149616125064\n",
      "\n"
     ]
    },
    {
     "name": "stderr",
     "output_type": "stream",
     "text": [
      "\n",
      "533it [00:19, 27.39it/s]\n",
      "533it [00:09, 56.18it/s]\n",
      "67it [00:01, 59.92it/s]"
     ]
    },
    {
     "name": "stdout",
     "output_type": "stream",
     "text": [
      "EPOCH:\t91 0.13704364155515272\n",
      "train_MAE:\n",
      "[5.22358356e-01 6.39403683e-01 4.86869393e-03 5.46900799e-03\n",
      " 7.03196253e-03 3.53886205e+01 1.89319183e-03 1.08045977e+00\n",
      " 1.08071274e+00 1.08072386e+00 1.08063738e+00 3.26059703e-01]\n",
      "valid_MAE:\n",
      "[5.34940433e-01 6.43872069e-01 5.03818004e-03 5.50117025e-03\n",
      " 7.21577207e-03 3.58466143e+01 1.92764451e-03 1.09455698e+00\n",
      " 1.09489166e+00 1.09490928e+00 1.09480044e+00 3.26512801e-01]\n",
      "train_MSE_normalized_mean: 0.14535537553772004\n",
      "valid_MSE_normalized_mean: 0.1484456398975397\n",
      "\n"
     ]
    },
    {
     "name": "stderr",
     "output_type": "stream",
     "text": [
      "\n",
      "533it [00:19, 27.58it/s]\n",
      "533it [00:09, 55.25it/s]\n",
      "67it [00:01, 56.92it/s]"
     ]
    },
    {
     "name": "stdout",
     "output_type": "stream",
     "text": [
      "EPOCH:\t92 0.13601245581544585\n",
      "train_MAE:\n",
      "[5.24365879e-01 5.69951269e-01 4.70936042e-03 5.59158616e-03\n",
      " 6.98025093e-03 3.53441601e+01 1.49629701e-03 2.19269505e+00\n",
      " 2.19211711e+00 2.19217943e+00 2.19220384e+00 3.02082076e-01]\n",
      "valid_MAE:\n",
      "[5.39760554e-01 5.77009226e-01 4.85513063e-03 5.63550687e-03\n",
      " 7.15279830e-03 3.59640520e+01 1.52469402e-03 2.21840896e+00\n",
      " 2.21779348e+00 2.21784944e+00 2.21788353e+00 3.04060500e-01]\n",
      "train_MSE_normalized_mean: 0.15245860338481382\n",
      "valid_MSE_normalized_mean: 0.1560523892999259\n",
      "\n"
     ]
    },
    {
     "name": "stderr",
     "output_type": "stream",
     "text": [
      "\n",
      "533it [00:19, 30.74it/s]\n",
      "533it [00:09, 56.29it/s]\n",
      "67it [00:01, 60.37it/s]"
     ]
    },
    {
     "name": "stdout",
     "output_type": "stream",
     "text": [
      "EPOCH:\t93 0.1360149577008403\n",
      "train_MAE:\n",
      "[5.21935667e-01 6.54288952e-01 4.63432467e-03 6.69973368e-03\n",
      " 7.84255583e-03 3.46485071e+01 1.92279838e-03 1.89697196e+00\n",
      " 1.89702608e+00 1.89697079e+00 1.89702362e+00 3.04349335e-01]\n",
      "valid_MAE:\n",
      "[5.32909210e-01 6.60296867e-01 4.78068774e-03 6.70111924e-03\n",
      " 8.02019853e-03 3.52370345e+01 1.94663385e-03 1.89951183e+00\n",
      " 1.89955104e+00 1.89949377e+00 1.89955590e+00 3.03588505e-01]\n",
      "train_MSE_normalized_mean: 0.15658574997434102\n",
      "valid_MSE_normalized_mean: 0.15950301932966385\n",
      "\n"
     ]
    },
    {
     "name": "stderr",
     "output_type": "stream",
     "text": [
      "\n",
      "533it [00:19, 27.92it/s]\n",
      "533it [00:09, 55.59it/s]\n",
      "67it [00:01, 59.88it/s]"
     ]
    },
    {
     "name": "stdout",
     "output_type": "stream",
     "text": [
      "EPOCH:\t94 0.13562720688322025\n",
      "train_MAE:\n",
      "[5.12522380e-01 6.01896669e-01 4.72517277e-03 5.65769121e-03\n",
      " 7.03577053e-03 4.01187140e+01 1.60138451e-03 1.19204859e+00\n",
      " 1.19306362e+00 1.19317943e+00 1.19281461e+00 3.15030405e-01]\n",
      "valid_MAE:\n",
      "[5.27863999e-01 6.07963991e-01 4.86230190e-03 5.68128663e-03\n",
      " 7.22107363e-03 4.06172199e+01 1.62606667e-03 1.19174594e+00\n",
      " 1.19278751e+00 1.19290669e+00 1.19252311e+00 3.15744122e-01]\n",
      "train_MSE_normalized_mean: 0.14535958671993723\n",
      "valid_MSE_normalized_mean: 0.1487543721350129\n",
      "\n"
     ]
    },
    {
     "name": "stderr",
     "output_type": "stream",
     "text": [
      "\n",
      "533it [00:19, 31.77it/s]\n",
      "533it [00:09, 57.52it/s]\n",
      "67it [00:01, 60.01it/s]"
     ]
    },
    {
     "name": "stdout",
     "output_type": "stream",
     "text": [
      "EPOCH:\t95 0.13592529836448003\n",
      "train_MAE:\n",
      "[5.19936832e-01 5.61874381e-01 4.80065381e-03 5.45784306e-03\n",
      " 7.16838394e-03 3.57337264e+01 1.51471824e-03 1.37140079e+00\n",
      " 1.37093781e+00 1.37094105e+00 1.37111004e+00 3.12340908e-01]\n",
      "valid_MAE:\n",
      "[5.32631336e-01 5.72979799e-01 4.93431574e-03 5.51767138e-03\n",
      " 7.33952293e-03 3.63699798e+01 1.54764323e-03 1.38586135e+00\n",
      " 1.38538296e+00 1.38538397e+00 1.38555338e+00 3.15970697e-01]\n",
      "train_MSE_normalized_mean: 0.14509467623832342\n",
      "valid_MSE_normalized_mean: 0.14881724617012843\n",
      "\n"
     ]
    },
    {
     "name": "stderr",
     "output_type": "stream",
     "text": [
      "\n",
      "533it [00:19, 27.94it/s]\n",
      "533it [00:09, 55.61it/s]\n",
      "67it [00:01, 62.29it/s]"
     ]
    },
    {
     "name": "stdout",
     "output_type": "stream",
     "text": [
      "EPOCH:\t96 0.13532773904348627\n",
      "train_MAE:\n",
      "[5.11766572e-01 6.57813632e-01 4.73720262e-03 5.51428977e-03\n",
      " 7.10994764e-03 3.67927736e+01 1.70996910e-03 1.81726973e+00\n",
      " 1.81717075e+00 1.81711987e+00 1.81723379e+00 3.24672609e-01]\n",
      "valid_MAE:\n",
      "[5.26350414e-01 6.66659589e-01 4.89651870e-03 5.54897694e-03\n",
      " 7.31838082e-03 3.73308945e+01 1.74741632e-03 1.83089177e+00\n",
      " 1.83071301e+00 1.83065189e+00 1.83078017e+00 3.26181827e-01]\n",
      "train_MSE_normalized_mean: 0.1503816474086524\n",
      "valid_MSE_normalized_mean: 0.15405371582537958\n",
      "\n"
     ]
    },
    {
     "name": "stderr",
     "output_type": "stream",
     "text": [
      "\n",
      "533it [00:19, 27.94it/s]\n",
      "533it [00:09, 57.03it/s]\n",
      "67it [00:01, 59.87it/s]"
     ]
    },
    {
     "name": "stdout",
     "output_type": "stream",
     "text": [
      "EPOCH:\t97 0.13530024283654693\n",
      "train_MAE:\n",
      "[5.16076211e-01 5.84421007e-01 4.56061891e-03 5.47675346e-03\n",
      " 6.96564941e-03 3.63131024e+01 1.61638569e-03 1.07801087e+00\n",
      " 1.07841085e+00 1.07844901e+00 1.07836449e+00 2.95628204e-01]\n",
      "valid_MAE:\n",
      "[5.30479052e-01 5.95584033e-01 4.71729856e-03 5.52080599e-03\n",
      " 7.15662218e-03 3.71212552e+01 1.66176209e-03 1.09400181e+00\n",
      " 1.09440588e+00 1.09443963e+00 1.09435252e+00 2.98741542e-01]\n",
      "train_MSE_normalized_mean: 0.14233710935917046\n",
      "valid_MSE_normalized_mean: 0.14611453258337911\n",
      "\n"
     ]
    },
    {
     "name": "stderr",
     "output_type": "stream",
     "text": [
      "\n",
      "533it [00:19, 27.60it/s]\n",
      "533it [00:09, 55.86it/s]\n",
      "67it [00:01, 60.58it/s]"
     ]
    },
    {
     "name": "stdout",
     "output_type": "stream",
     "text": [
      "EPOCH:\t98 0.13513016082891605\n",
      "train_MAE:\n",
      "[5.15965942e-01 5.87744617e-01 4.67077638e-03 5.58656833e-03\n",
      " 7.09208461e-03 3.44842224e+01 1.41635319e-03 9.38427907e-01\n",
      " 9.38551171e-01 9.38563914e-01 9.38538194e-01 3.00077724e-01]\n",
      "valid_MAE:\n",
      "[5.30310995e-01 5.94906279e-01 4.82354008e-03 5.62143921e-03\n",
      " 7.25780197e-03 3.51377023e+01 1.45897069e-03 9.49913640e-01\n",
      " 9.49986652e-01 9.49992412e-01 9.49974369e-01 3.01032508e-01]\n",
      "train_MSE_normalized_mean: 0.14023490952027942\n",
      "valid_MSE_normalized_mean: 0.14414651201297995\n",
      "\n"
     ]
    },
    {
     "name": "stderr",
     "output_type": "stream",
     "text": [
      "\n",
      "533it [00:19, 27.97it/s]\n",
      "533it [00:09, 52.34it/s]\n",
      "67it [00:01, 58.37it/s]"
     ]
    },
    {
     "name": "stdout",
     "output_type": "stream",
     "text": [
      "EPOCH:\t99 0.13491469909616974\n",
      "train_MAE:\n",
      "[5.10491837e-01 5.55962007e-01 4.64094050e-03 5.47783338e-03\n",
      " 6.98383587e-03 3.43481394e+01 1.43852664e-03 1.45185141e+00\n",
      " 1.45256368e+00 1.45264196e+00 1.45247639e+00 2.97779782e-01]\n",
      "valid_MAE:\n",
      "[5.27053387e-01 5.62889151e-01 4.76731585e-03 5.50095513e-03\n",
      " 7.12300174e-03 3.49724976e+01 1.47175266e-03 1.45886101e+00\n",
      " 1.45955464e+00 1.45963115e+00 1.45946617e+00 2.96959463e-01]\n",
      "train_MSE_normalized_mean: 0.1442111522720468\n",
      "valid_MSE_normalized_mean: 0.14762021239804993\n",
      "\n"
     ]
    },
    {
     "name": "stderr",
     "output_type": "stream",
     "text": [
      "\n",
      "533it [00:18, 29.95it/s]\n",
      "533it [00:09, 56.72it/s]\n",
      "67it [00:01, 59.59it/s]"
     ]
    },
    {
     "name": "stdout",
     "output_type": "stream",
     "text": [
      "EPOCH:\t100 0.13475047124595177\n",
      "train_MAE:\n",
      "[5.15766103e-01 5.62924341e-01 4.63647233e-03 5.45091987e-03\n",
      " 6.95961863e-03 3.61645761e+01 1.41600112e-03 8.81894541e-01\n",
      " 8.81874557e-01 8.81870153e-01 8.81855786e-01 2.97302314e-01]\n",
      "valid_MAE:\n",
      "[5.29919415e-01 5.74588923e-01 4.78111922e-03 5.48391850e-03\n",
      " 7.15934403e-03 3.69951902e+01 1.45303258e-03 8.99397171e-01\n",
      " 8.99386237e-01 8.99379957e-01 8.99365935e-01 2.96785954e-01]\n",
      "train_MSE_normalized_mean: 0.13911900147153392\n",
      "valid_MSE_normalized_mean: 0.14306135607210993\n",
      "\n"
     ]
    },
    {
     "name": "stderr",
     "output_type": "stream",
     "text": [
      "\n",
      "533it [00:19, 27.68it/s]\n",
      "533it [00:09, 51.79it/s]\n",
      "67it [00:01, 61.18it/s]"
     ]
    },
    {
     "name": "stdout",
     "output_type": "stream",
     "text": [
      "EPOCH:\t101 0.13388689631145398\n",
      "train_MAE:\n",
      "[5.11988839e-01 5.53090309e-01 4.88304983e-03 5.56267210e-03\n",
      " 6.91302298e-03 4.11855256e+01 1.54844458e-03 1.62960056e+00\n",
      " 1.62954829e+00 1.62951538e+00 1.62976922e+00 3.43023820e-01]\n",
      "valid_MAE:\n",
      "[5.24192601e-01 5.62974654e-01 5.03605926e-03 5.56248988e-03\n",
      " 7.10045131e-03 4.21471094e+01 1.58757776e-03 1.62717083e+00\n",
      " 1.62714869e+00 1.62711841e+00 1.62735831e+00 3.44891271e-01]\n",
      "train_MSE_normalized_mean: 0.14937309722212505\n",
      "valid_MSE_normalized_mean: 0.15277092117236826\n",
      "\n"
     ]
    },
    {
     "name": "stderr",
     "output_type": "stream",
     "text": [
      "\n",
      "533it [00:18, 28.10it/s]\n",
      "533it [00:09, 56.65it/s]\n",
      "67it [00:01, 59.62it/s]"
     ]
    },
    {
     "name": "stdout",
     "output_type": "stream",
     "text": [
      "EPOCH:\t102 0.1337870686938794\n",
      "train_MAE:\n",
      "[5.15944098e-01 6.01726982e-01 4.59115835e-03 5.46646633e-03\n",
      " 6.97068548e-03 3.46642670e+01 1.42351929e-03 1.08288109e+00\n",
      " 1.08255425e+00 1.08251419e+00 1.08255365e+00 3.13901601e-01]\n",
      "valid_MAE:\n",
      "[5.30914051e-01 6.12649554e-01 4.74248060e-03 5.47244303e-03\n",
      " 7.12578670e-03 3.54309493e+01 1.44853915e-03 1.09523427e+00\n",
      " 1.09491455e+00 1.09487245e+00 1.09490442e+00 3.14549993e-01]\n",
      "train_MSE_normalized_mean: 0.14163743840010368\n",
      "valid_MSE_normalized_mean: 0.1452364581501232\n",
      "\n"
     ]
    },
    {
     "name": "stderr",
     "output_type": "stream",
     "text": [
      "\n",
      "533it [00:19, 27.67it/s]\n",
      "533it [00:09, 56.25it/s]\n",
      "67it [00:01, 64.47it/s]"
     ]
    },
    {
     "name": "stdout",
     "output_type": "stream",
     "text": [
      "EPOCH:\t103 0.13401367994790678\n",
      "train_MAE:\n",
      "[5.10887577e-01 5.98028527e-01 4.58712734e-03 5.41812022e-03\n",
      " 6.90518701e-03 3.45161731e+01 1.65035346e-03 1.23001161e+00\n",
      " 1.23032376e+00 1.23036466e+00 1.23032762e+00 3.25681289e-01]\n",
      "valid_MAE:\n",
      "[5.27222645e-01 6.07322798e-01 4.73549623e-03 5.44185641e-03\n",
      " 7.06748819e-03 3.50183323e+01 1.68389933e-03 1.23516863e+00\n",
      " 1.23552890e+00 1.23557328e+00 1.23552687e+00 3.29277935e-01]\n",
      "train_MSE_normalized_mean: 0.14290069332222818\n",
      "valid_MSE_normalized_mean: 0.1463849347922625\n",
      "\n"
     ]
    },
    {
     "name": "stderr",
     "output_type": "stream",
     "text": [
      "\n",
      "533it [00:19, 27.82it/s]\n",
      "533it [00:09, 57.17it/s]\n",
      "67it [00:01, 60.00it/s]"
     ]
    },
    {
     "name": "stdout",
     "output_type": "stream",
     "text": [
      "EPOCH:\t104 0.13395937574122233\n",
      "train_MAE:\n",
      "[5.12509944e-01 8.19738478e-01 4.62409433e-03 5.43225910e-03\n",
      " 6.98272073e-03 4.10071240e+01 1.78861143e-03 1.38237720e+00\n",
      " 1.38310550e+00 1.38317536e+00 1.38315477e+00 3.59522584e-01]\n",
      "valid_MAE:\n",
      "[5.30206270e-01 8.23647975e-01 4.78488537e-03 5.45603978e-03\n",
      " 7.15419490e-03 4.19276295e+01 1.81798824e-03 1.38178075e+00\n",
      " 1.38255736e+00 1.38262983e+00 1.38259525e+00 3.63032061e-01]\n",
      "train_MSE_normalized_mean: 0.14934881132401512\n",
      "valid_MSE_normalized_mean: 0.15319260715517788\n",
      "\n"
     ]
    },
    {
     "name": "stderr",
     "output_type": "stream",
     "text": [
      "\n",
      "533it [00:19, 27.29it/s]\n",
      "533it [00:09, 55.78it/s]\n",
      "67it [00:01, 58.93it/s]"
     ]
    },
    {
     "name": "stdout",
     "output_type": "stream",
     "text": [
      "EPOCH:\t105 0.13232320164090922\n",
      "train_MAE:\n",
      "[5.12177362e-01 6.40356658e-01 4.64237876e-03 5.44956050e-03\n",
      " 7.07627967e-03 3.47965879e+01 1.49537009e-03 1.37593850e+00\n",
      " 1.37547832e+00 1.37544446e+00 1.37554280e+00 3.00012206e-01]\n",
      "valid_MAE:\n",
      "[5.27067284e-01 6.48026049e-01 4.80526568e-03 5.50276899e-03\n",
      " 7.27731827e-03 3.52748462e+01 1.53002653e-03 1.39549708e+00\n",
      " 1.39504577e+00 1.39501175e+00 1.39509725e+00 3.00707421e-01]\n",
      "train_MSE_normalized_mean: 0.14495519031317056\n",
      "valid_MSE_normalized_mean: 0.148894376233509\n",
      "\n"
     ]
    },
    {
     "name": "stderr",
     "output_type": "stream",
     "text": [
      "\n",
      "533it [00:18, 32.05it/s]\n",
      "533it [00:09, 56.14it/s]\n",
      "67it [00:01, 57.54it/s]"
     ]
    },
    {
     "name": "stdout",
     "output_type": "stream",
     "text": [
      "EPOCH:\t106 0.13429419880848217\n",
      "train_MAE:\n",
      "[5.19702419e-01 6.50119653e-01 4.74089865e-03 6.17643684e-03\n",
      " 7.01289407e-03 3.47893539e+01 2.28718570e-03 2.13601058e+00\n",
      " 2.13669402e+00 2.13674181e+00 2.13663843e+00 3.19682472e-01]\n",
      "valid_MAE:\n",
      "[5.34645741e-01 6.57443977e-01 4.88079115e-03 6.18406706e-03\n",
      " 7.21129868e-03 3.54854992e+01 2.32218182e-03 2.13743137e+00\n",
      " 2.13811186e+00 2.13815903e+00 2.13805950e+00 3.19829674e-01]\n",
      "train_MSE_normalized_mean: 0.15430941791692582\n",
      "valid_MSE_normalized_mean: 0.15807989812995568\n",
      "\n"
     ]
    },
    {
     "name": "stderr",
     "output_type": "stream",
     "text": [
      "\n",
      "533it [00:19, 30.96it/s]\n",
      "533it [00:09, 54.32it/s]\n",
      "67it [00:01, 60.15it/s]"
     ]
    },
    {
     "name": "stdout",
     "output_type": "stream",
     "text": [
      "EPOCH:\t107 0.13293116612405312\n",
      "train_MAE:\n",
      "[5.20320022e-01 6.15786168e-01 4.56924515e-03 5.45695666e-03\n",
      " 6.86269074e-03 3.65053434e+01 1.62099954e-03 1.59116563e+00\n",
      " 1.59105160e+00 1.59103933e+00 1.59112261e+00 3.08004544e-01]\n",
      "valid_MAE:\n",
      "[5.35530470e-01 6.25185082e-01 4.71668463e-03 5.49704669e-03\n",
      " 7.04766838e-03 3.73539026e+01 1.65596334e-03 1.59165463e+00\n",
      " 1.59153083e+00 1.59151690e+00 1.59160245e+00 3.10402231e-01]\n",
      "train_MSE_normalized_mean: 0.14615915321810044\n",
      "valid_MSE_normalized_mean: 0.14993387510220516\n",
      "\n"
     ]
    },
    {
     "name": "stderr",
     "output_type": "stream",
     "text": [
      "\n",
      "533it [00:19, 31.69it/s]\n",
      "533it [00:09, 55.21it/s]\n",
      "67it [00:01, 59.70it/s]"
     ]
    },
    {
     "name": "stdout",
     "output_type": "stream",
     "text": [
      "EPOCH:\t108 0.1338885058744987\n",
      "train_MAE:\n",
      "[5.13395926e-01 6.29366929e-01 4.75822359e-03 6.42747966e-03\n",
      " 7.15936656e-03 3.47118231e+01 2.48836048e-03 1.72277640e+00\n",
      " 1.72218544e+00 1.72212090e+00 1.72222208e+00 3.78286877e-01]\n",
      "valid_MAE:\n",
      "[5.27226254e-01 6.42682510e-01 4.90075297e-03 6.49308176e-03\n",
      " 7.30736741e-03 3.53503203e+01 2.52776065e-03 1.73069303e+00\n",
      " 1.73008080e+00 1.73001282e+00 1.73011527e+00 3.82914495e-01]\n",
      "train_MSE_normalized_mean: 0.15287671340351483\n",
      "valid_MSE_normalized_mean: 0.1565902375252172\n",
      "\n"
     ]
    },
    {
     "name": "stderr",
     "output_type": "stream",
     "text": [
      "\n",
      "533it [00:19, 30.75it/s]\n",
      "533it [00:09, 55.57it/s]\n",
      "67it [00:01, 56.98it/s]"
     ]
    },
    {
     "name": "stdout",
     "output_type": "stream",
     "text": [
      "EPOCH:\t109 0.13237088757932297\n",
      "train_MAE:\n",
      "[5.06687804e-01 5.91099247e-01 4.56328823e-03 5.45175142e-03\n",
      " 6.95388115e-03 3.52875914e+01 1.59954071e-03 1.09960878e+00\n",
      " 1.10026966e+00 1.10032488e+00 1.10018696e+00 2.99289624e-01]\n",
      "valid_MAE:\n",
      "[5.24436967e-01 6.04190738e-01 4.74015344e-03 5.49681012e-03\n",
      " 7.15911797e-03 3.61647463e+01 1.63085586e-03 1.10699884e+00\n",
      " 1.10765536e+00 1.10770955e+00 1.10757051e+00 3.01500225e-01]\n",
      "train_MSE_normalized_mean: 0.1404866995653068\n",
      "valid_MSE_normalized_mean: 0.14474938715862276\n",
      "\n"
     ]
    },
    {
     "name": "stderr",
     "output_type": "stream",
     "text": [
      "\n",
      "533it [00:18, 32.06it/s]\n",
      "533it [00:09, 54.13it/s]\n",
      "67it [00:01, 57.25it/s]"
     ]
    },
    {
     "name": "stdout",
     "output_type": "stream",
     "text": [
      "EPOCH:\t110 0.13201385466678953\n",
      "train_MAE:\n",
      "[5.07696090e-01 6.19409059e-01 4.78297270e-03 5.39752817e-03\n",
      " 7.27571481e-03 3.55209265e+01 1.40061446e-03 1.06521062e+00\n",
      " 1.06514079e+00 1.06514021e+00 1.06511814e+00 2.89350557e-01]\n",
      "valid_MAE:\n",
      "[5.22913856e-01 6.28699848e-01 4.94591640e-03 5.39420191e-03\n",
      " 7.43831919e-03 3.63762840e+01 1.42774566e-03 1.07753438e+00\n",
      " 1.07745942e+00 1.07745706e+00 1.07742821e+00 2.91104922e-01]\n",
      "train_MSE_normalized_mean: 0.142182961103258\n",
      "valid_MSE_normalized_mean: 0.14600976125185727\n",
      "\n"
     ]
    },
    {
     "name": "stderr",
     "output_type": "stream",
     "text": [
      "\n",
      "533it [00:19, 27.12it/s]\n",
      "533it [00:09, 49.36it/s]\n",
      "67it [00:01, 57.75it/s]"
     ]
    },
    {
     "name": "stdout",
     "output_type": "stream",
     "text": [
      "EPOCH:\t111 0.1326481024778359\n",
      "train_MAE:\n",
      "[5.04581417e-01 5.80644902e-01 4.59850445e-03 5.52171348e-03\n",
      " 7.04340078e-03 3.45936623e+01 1.47927365e-03 7.86577316e-01\n",
      " 7.86573940e-01 7.86566182e-01 7.86541971e-01 2.90280518e-01]\n",
      "valid_MAE:\n",
      "[5.23535365e-01 5.88344450e-01 4.76991367e-03 5.58720333e-03\n",
      " 7.25962680e-03 3.53371610e+01 1.52050469e-03 7.98056838e-01\n",
      " 7.98039040e-01 7.98031359e-01 7.98012621e-01 2.90424897e-01]\n",
      "train_MSE_normalized_mean: 0.13749936030655213\n",
      "valid_MSE_normalized_mean: 0.14178508378561352\n",
      "\n"
     ]
    },
    {
     "name": "stderr",
     "output_type": "stream",
     "text": [
      "\n",
      "533it [00:19, 27.56it/s]\n",
      "533it [00:09, 56.03it/s]\n",
      "67it [00:01, 63.19it/s]"
     ]
    },
    {
     "name": "stdout",
     "output_type": "stream",
     "text": [
      "EPOCH:\t112 0.13119541841085589\n",
      "train_MAE:\n",
      "[5.07312381e-01 6.52979339e-01 4.54130753e-03 5.77709293e-03\n",
      " 7.23773325e-03 3.41834341e+01 1.81697296e-03 8.89216654e-01\n",
      " 8.89163236e-01 8.89155608e-01 8.89153989e-01 3.32422031e-01]\n",
      "valid_MAE:\n",
      "[5.22977923e-01 6.60182506e-01 4.71039210e-03 5.82391181e-03\n",
      " 7.49130658e-03 3.49778638e+01 1.84994772e-03 8.99265335e-01\n",
      " 8.99208729e-01 8.99198864e-01 8.99195786e-01 3.33914923e-01]\n",
      "train_MSE_normalized_mean: 0.14121297066992208\n",
      "valid_MSE_normalized_mean: 0.1456766266210583\n",
      "\n"
     ]
    },
    {
     "name": "stderr",
     "output_type": "stream",
     "text": [
      "\n",
      "533it [00:20, 26.62it/s]\n",
      "533it [00:09, 54.51it/s]\n",
      "67it [00:01, 56.43it/s]"
     ]
    },
    {
     "name": "stdout",
     "output_type": "stream",
     "text": [
      "EPOCH:\t113 0.13230729309971292\n",
      "train_MAE:\n",
      "[5.12299282e-01 5.62839695e-01 4.54786965e-03 5.34532725e-03\n",
      " 6.77430536e-03 3.46180493e+01 1.49493766e-03 7.86524716e-01\n",
      " 7.86364545e-01 7.86349041e-01 7.86383098e-01 2.97257629e-01]\n",
      "valid_MAE:\n",
      "[5.28338047e-01 5.73916920e-01 4.71261929e-03 5.37481203e-03\n",
      " 6.95571819e-03 3.53904021e+01 1.52295802e-03 7.99261774e-01\n",
      " 7.99132285e-01 7.99119197e-01 7.99144079e-01 3.00818074e-01]\n",
      "train_MSE_normalized_mean: 0.13639882164880926\n",
      "valid_MSE_normalized_mean: 0.140853743879437\n",
      "\n"
     ]
    },
    {
     "name": "stderr",
     "output_type": "stream",
     "text": [
      "\n",
      "533it [00:19, 27.30it/s]\n",
      "533it [00:09, 55.55it/s]\n",
      "67it [00:01, 58.20it/s]\n"
     ]
    },
    {
     "name": "stdout",
     "output_type": "stream",
     "text": [
      "EPOCH:\t114 0.1314903900558461\n",
      "train_MAE:\n",
      "[5.02660205e-01 7.14022659e-01 4.47677748e-03 5.74246530e-03\n",
      " 7.05099164e-03 3.53381135e+01 2.32754178e-03 1.07727388e+00\n",
      " 1.07771967e+00 1.07777287e+00 1.07771619e+00 3.24790497e-01]\n",
      "valid_MAE:\n",
      "[5.21724589e-01 7.22354030e-01 4.64985837e-03 5.81460110e-03\n",
      " 7.24867921e-03 3.64310987e+01 2.37036047e-03 1.08518826e+00\n",
      " 1.08563725e+00 1.08568943e+00 1.08563299e+00 3.28305414e-01]\n",
      "train_MSE_normalized_mean: 0.14341486203475262\n",
      "valid_MSE_normalized_mean: 0.14792123485399142\n",
      "\n"
     ]
    },
    {
     "name": "stderr",
     "output_type": "stream",
     "text": [
      "533it [00:19, 26.75it/s]\n",
      "533it [00:09, 51.64it/s]\n",
      "67it [00:01, 55.07it/s]"
     ]
    },
    {
     "name": "stdout",
     "output_type": "stream",
     "text": [
      "EPOCH:\t115 0.13091297144346345\n",
      "train_MAE:\n",
      "[5.01769605e-01 6.01509979e-01 4.88672583e-03 5.61381291e-03\n",
      " 6.81050022e-03 3.43846337e+01 1.61592074e-03 9.66580620e-01\n",
      " 9.66311377e-01 9.66280643e-01 9.66357661e-01 3.02667245e-01]\n",
      "valid_MAE:\n",
      "[5.17645974e-01 6.10515493e-01 5.05201828e-03 5.66771236e-03\n",
      " 6.98820776e-03 3.51914568e+01 1.64492500e-03 9.84894020e-01\n",
      " 9.84659299e-01 9.84630518e-01 9.84686188e-01 3.03538923e-01]\n",
      "train_MSE_normalized_mean: 0.14080860310539128\n",
      "valid_MSE_normalized_mean: 0.14498355814911384\n",
      "\n"
     ]
    },
    {
     "name": "stderr",
     "output_type": "stream",
     "text": [
      "\n",
      "533it [00:19, 27.10it/s]\n",
      "533it [00:09, 53.68it/s]\n",
      "67it [00:01, 56.38it/s]"
     ]
    },
    {
     "name": "stdout",
     "output_type": "stream",
     "text": [
      "EPOCH:\t116 0.13152427955986634\n",
      "train_MAE:\n",
      "[5.01891455e-01 5.71355270e-01 4.50241231e-03 5.30159607e-03\n",
      " 6.79822893e-03 3.43033510e+01 1.64600900e-03 1.47575272e+00\n",
      " 1.47532202e+00 1.47527795e+00 1.47538383e+00 2.98577515e-01]\n",
      "valid_MAE:\n",
      "[5.18851797e-01 5.81804491e-01 4.63598900e-03 5.36153650e-03\n",
      " 6.96638013e-03 3.50254884e+01 1.68359122e-03 1.50482534e+00\n",
      " 1.50439086e+00 1.50434674e+00 1.50444665e+00 3.01139900e-01]\n",
      "train_MSE_normalized_mean: 0.14299386242405351\n",
      "valid_MSE_normalized_mean: 0.14747885095850372\n",
      "\n"
     ]
    },
    {
     "name": "stderr",
     "output_type": "stream",
     "text": [
      "\n",
      "533it [00:19, 29.42it/s]\n",
      "533it [00:10, 52.70it/s]\n",
      "67it [00:01, 57.38it/s]"
     ]
    },
    {
     "name": "stdout",
     "output_type": "stream",
     "text": [
      "EPOCH:\t117 0.13113868425252515\n",
      "train_MAE:\n",
      "[5.02135944e-01 5.53145327e-01 4.62366303e-03 5.33400496e-03\n",
      " 6.89011411e-03 3.43814609e+01 1.68018867e-03 1.14874321e+00\n",
      " 1.14849602e+00 1.14846927e+00 1.14854729e+00 3.00635483e-01]\n",
      "valid_MAE:\n",
      "[5.19717993e-01 5.63584199e-01 4.78065217e-03 5.38877279e-03\n",
      " 7.03826052e-03 3.50606367e+01 1.72091262e-03 1.16261478e+00\n",
      " 1.16238204e+00 1.16235662e+00 1.16242422e+00 3.04971982e-01]\n",
      "train_MSE_normalized_mean: 0.14034880576568162\n",
      "valid_MSE_normalized_mean: 0.1444382770304853\n",
      "\n"
     ]
    },
    {
     "name": "stderr",
     "output_type": "stream",
     "text": [
      "\n",
      "533it [00:19, 26.90it/s]\n",
      "533it [00:09, 55.31it/s]\n",
      "67it [00:01, 58.39it/s]"
     ]
    },
    {
     "name": "stdout",
     "output_type": "stream",
     "text": [
      "EPOCH:\t118 0.13086945084089632\n",
      "train_MAE:\n",
      "[5.00495238e-01 5.47635404e-01 4.56619965e-03 5.32922326e-03\n",
      " 6.88257713e-03 3.37876210e+01 1.42146806e-03 9.43493325e-01\n",
      " 9.43284154e-01 9.43260317e-01 9.43262050e-01 2.94259336e-01]\n",
      "valid_MAE:\n",
      "[5.17065061e-01 5.55053055e-01 4.71960804e-03 5.36722797e-03\n",
      " 7.11989898e-03 3.45369358e+01 1.45727245e-03 9.55830601e-01\n",
      " 9.55632231e-01 9.55608996e-01 9.55603061e-01 2.97924905e-01]\n",
      "train_MSE_normalized_mean: 0.1372686791779795\n",
      "valid_MSE_normalized_mean: 0.14153678520320737\n",
      "\n"
     ]
    },
    {
     "name": "stderr",
     "output_type": "stream",
     "text": [
      "\n",
      "533it [00:19, 26.66it/s]\n",
      "533it [00:09, 54.88it/s]\n",
      "67it [00:01, 55.73it/s]"
     ]
    },
    {
     "name": "stdout",
     "output_type": "stream",
     "text": [
      "EPOCH:\t119 0.13051827187609719\n",
      "train_MAE:\n",
      "[5.09295136e-01 6.73904068e-01 4.61153696e-03 5.36432224e-03\n",
      " 6.73974054e-03 3.94570960e+01 1.96908422e-03 1.34381676e+00\n",
      " 1.34386310e+00 1.34387162e+00 1.34407601e+00 4.09390417e-01]\n",
      "valid_MAE:\n",
      "[5.27550345e-01 6.84365002e-01 4.75504290e-03 5.41556261e-03\n",
      " 6.97146087e-03 4.03864127e+01 2.01095774e-03 1.34091872e+00\n",
      " 1.34095259e+00 1.34095985e+00 1.34116694e+00 4.12283633e-01]\n",
      "train_MSE_normalized_mean: 0.14762957667457904\n",
      "valid_MSE_normalized_mean: 0.1520412975048127\n",
      "\n"
     ]
    },
    {
     "name": "stderr",
     "output_type": "stream",
     "text": [
      "\n",
      "533it [00:19, 26.77it/s]\n",
      "533it [00:09, 54.48it/s]\n",
      "67it [00:01, 55.74it/s]"
     ]
    },
    {
     "name": "stdout",
     "output_type": "stream",
     "text": [
      "EPOCH:\t120 0.12993932379790588\n",
      "train_MAE:\n",
      "[4.99114773e-01 5.69817168e-01 4.57312411e-03 5.70891154e-03\n",
      " 6.93690193e-03 3.50430587e+01 1.40749101e-03 2.02083646e+00\n",
      " 2.02108400e+00 2.02112349e+00 2.02099599e+00 2.97537847e-01]\n",
      "valid_MAE:\n",
      "[5.19011955e-01 5.80559984e-01 4.70461227e-03 5.74554595e-03\n",
      " 7.13222503e-03 3.58588246e+01 1.43683712e-03 2.03090069e+00\n",
      " 2.03115792e+00 2.03119741e+00 2.03107136e+00 2.99940210e-01]\n",
      "train_MSE_normalized_mean: 0.14732785566502796\n",
      "valid_MSE_normalized_mean: 0.15166633061427487\n",
      "\n"
     ]
    },
    {
     "name": "stderr",
     "output_type": "stream",
     "text": [
      "\n",
      "533it [00:19, 31.94it/s]\n",
      "533it [00:09, 53.66it/s]\n",
      "67it [00:01, 56.95it/s]"
     ]
    },
    {
     "name": "stdout",
     "output_type": "stream",
     "text": [
      "EPOCH:\t121 0.13020392082365995\n",
      "train_MAE:\n",
      "[5.11473284e-01 6.02082588e-01 4.64635851e-03 5.59205711e-03\n",
      " 7.28033596e-03 3.78476504e+01 1.51319104e-03 2.70264208e+00\n",
      " 2.70224977e+00 2.70221964e+00 2.70243462e+00 3.02397937e-01]\n",
      "valid_MAE:\n",
      "[5.29437519e-01 6.09664639e-01 4.83805811e-03 5.62623602e-03\n",
      " 7.51839228e-03 3.87394767e+01 1.54317637e-03 2.70884300e+00\n",
      " 2.70846524e+00 2.70843648e+00 2.70865455e+00 3.04161289e-01]\n",
      "train_MSE_normalized_mean: 0.1555204266253615\n",
      "valid_MSE_normalized_mean: 0.15999498518955382\n",
      "\n"
     ]
    },
    {
     "name": "stderr",
     "output_type": "stream",
     "text": [
      "\n",
      "533it [00:19, 29.98it/s]\n",
      "533it [00:09, 50.25it/s]\n",
      "67it [00:01, 55.85it/s]"
     ]
    },
    {
     "name": "stdout",
     "output_type": "stream",
     "text": [
      "EPOCH:\t122 0.13020474723702746\n",
      "train_MAE:\n",
      "[5.01941026e-01 5.49936937e-01 4.51424293e-03 5.34909032e-03\n",
      " 6.79146742e-03 3.42511131e+01 1.48241222e-03 1.04607484e+00\n",
      " 1.04598016e+00 1.04597625e+00 1.04600824e+00 2.95699560e-01]\n",
      "valid_MAE:\n",
      "[5.20178209e-01 5.64310029e-01 4.68202365e-03 5.35970990e-03\n",
      " 6.98819415e-03 3.48579449e+01 1.51420266e-03 1.06433572e+00\n",
      " 1.06424935e+00 1.06424559e+00 1.06427405e+00 2.97764904e-01]\n",
      "train_MSE_normalized_mean: 0.13772026255887967\n",
      "valid_MSE_normalized_mean: 0.14227264844243104\n",
      "\n"
     ]
    },
    {
     "name": "stderr",
     "output_type": "stream",
     "text": [
      "\n",
      "533it [00:19, 29.57it/s]\n",
      "533it [00:09, 54.64it/s]\n",
      "67it [00:01, 58.63it/s]"
     ]
    },
    {
     "name": "stdout",
     "output_type": "stream",
     "text": [
      "EPOCH:\t123 0.12975705026406062\n",
      "train_MAE:\n",
      "[5.05938469e-01 6.03009018e-01 4.50762706e-03 5.39001256e-03\n",
      " 6.92219181e-03 3.54254695e+01 1.61151340e-03 1.87952383e+00\n",
      " 1.87975695e+00 1.87978055e+00 1.87966578e+00 2.96777206e-01]\n",
      "valid_MAE:\n",
      "[5.23571032e-01 6.14175569e-01 4.65754851e-03 5.42454462e-03\n",
      " 7.13882217e-03 3.60595681e+01 1.63566236e-03 1.88745715e+00\n",
      " 1.88769888e+00 1.88772314e+00 1.88760738e+00 2.97978695e-01]\n",
      "train_MSE_normalized_mean: 0.14939923641567554\n",
      "valid_MSE_normalized_mean: 0.15351798735756125\n",
      "\n"
     ]
    },
    {
     "name": "stderr",
     "output_type": "stream",
     "text": [
      "\n",
      "533it [00:19, 26.94it/s]\n",
      "533it [00:09, 54.04it/s]\n",
      "67it [00:01, 57.13it/s]"
     ]
    },
    {
     "name": "stdout",
     "output_type": "stream",
     "text": [
      "EPOCH:\t124 0.12964882819055393\n",
      "train_MAE:\n",
      "[5.09793287e-01 5.77759282e-01 4.57988834e-03 5.28942320e-03\n",
      " 6.87758171e-03 3.42557280e+01 1.91793818e-03 1.06494279e+00\n",
      " 1.06470994e+00 1.06468243e+00 1.06466148e+00 3.28351368e-01]\n",
      "valid_MAE:\n",
      "[5.28863006e-01 5.88203294e-01 4.74217638e-03 5.31896701e-03\n",
      " 7.06384047e-03 3.50801598e+01 1.96808189e-03 1.07314616e+00\n",
      " 1.07288327e+00 1.07285279e+00 1.07283921e+00 3.31996842e-01]\n",
      "train_MSE_normalized_mean: 0.14095587439399346\n",
      "valid_MSE_normalized_mean: 0.14548854887398943\n",
      "\n"
     ]
    },
    {
     "name": "stderr",
     "output_type": "stream",
     "text": [
      "\n",
      "533it [00:19, 26.71it/s]\n",
      "533it [00:09, 53.78it/s]\n",
      "67it [00:01, 55.82it/s]"
     ]
    },
    {
     "name": "stdout",
     "output_type": "stream",
     "text": [
      "EPOCH:\t125 0.13063611769542013\n",
      "train_MAE:\n",
      "[4.98979597e-01 5.99065779e-01 4.52070879e-03 5.59077462e-03\n",
      " 6.88757992e-03 3.61394070e+01 1.77956578e-03 2.00132586e+00\n",
      " 2.00096844e+00 2.00093533e+00 2.00094829e+00 3.03933373e-01]\n",
      "valid_MAE:\n",
      "[5.15975565e-01 6.08363295e-01 4.65302233e-03 5.63549604e-03\n",
      " 7.09233756e-03 3.71284859e+01 1.83090548e-03 2.01143414e+00\n",
      " 2.01107783e+00 2.01104489e+00 2.01105375e+00 3.08534486e-01]\n",
      "train_MSE_normalized_mean: 0.14809158260029467\n",
      "valid_MSE_normalized_mean: 0.15253885888381116\n",
      "\n"
     ]
    },
    {
     "name": "stderr",
     "output_type": "stream",
     "text": [
      "\n",
      "533it [00:19, 30.14it/s]\n",
      "533it [00:09, 54.62it/s]\n",
      "67it [00:01, 58.27it/s]"
     ]
    },
    {
     "name": "stdout",
     "output_type": "stream",
     "text": [
      "EPOCH:\t126 0.12886975221964925\n",
      "train_MAE:\n",
      "[4.99302118e-01 7.32199420e-01 4.48875632e-03 5.34339304e-03\n",
      " 6.71732633e-03 3.60292239e+01 1.79456110e-03 1.47293679e+00\n",
      " 1.47320368e+00 1.47320245e+00 1.47301932e+00 3.26886738e-01]\n",
      "valid_MAE:\n",
      "[5.17377545e-01 7.36918558e-01 4.65271349e-03 5.36744625e-03\n",
      " 6.91238492e-03 3.66552528e+01 1.81478335e-03 1.47968061e+00\n",
      " 1.47994182e+00 1.47994017e+00 1.47976153e+00 3.29646081e-01]\n",
      "train_MSE_normalized_mean: 0.14413587097931077\n",
      "valid_MSE_normalized_mean: 0.14859307411006362\n",
      "\n"
     ]
    },
    {
     "name": "stderr",
     "output_type": "stream",
     "text": [
      "\n",
      "533it [00:19, 26.89it/s]\n",
      "533it [00:09, 48.48it/s]\n",
      "67it [00:01, 55.08it/s]"
     ]
    },
    {
     "name": "stdout",
     "output_type": "stream",
     "text": [
      "EPOCH:\t127 0.12925184685841734\n",
      "train_MAE:\n",
      "[5.09963642e-01 6.00473265e-01 4.48017459e-03 5.34697506e-03\n",
      " 6.78736868e-03 3.37197706e+01 1.37747207e-03 8.93904901e-01\n",
      " 8.93951487e-01 8.93951473e-01 8.93912595e-01 2.90912578e-01]\n",
      "valid_MAE:\n",
      "[5.27261933e-01 6.06578275e-01 4.65508682e-03 5.37175315e-03\n",
      " 7.01870752e-03 3.44431990e+01 1.41532907e-03 9.02578513e-01\n",
      " 9.02629600e-01 9.02629666e-01 9.02586600e-01 2.94007748e-01]\n",
      "train_MSE_normalized_mean: 0.1364344853695339\n",
      "valid_MSE_normalized_mean: 0.1409803863737881\n",
      "\n"
     ]
    },
    {
     "name": "stderr",
     "output_type": "stream",
     "text": [
      "\n",
      "533it [00:19, 26.78it/s]\n",
      "533it [00:09, 53.89it/s]\n",
      "67it [00:01, 53.97it/s]"
     ]
    },
    {
     "name": "stdout",
     "output_type": "stream",
     "text": [
      "EPOCH:\t128 0.12891543413360393\n",
      "train_MAE:\n",
      "[4.99618953e-01 5.63879386e-01 4.51156529e-03 5.36922694e-03\n",
      " 6.72664530e-03 3.58599732e+01 1.47598715e-03 1.19002678e+00\n",
      " 1.19016593e+00 1.19018040e+00 1.19024154e+00 2.91583710e-01]\n",
      "valid_MAE:\n",
      "[5.18806343e-01 5.74002192e-01 4.66268928e-03 5.39672668e-03\n",
      " 6.95094768e-03 3.67718058e+01 1.50669479e-03 1.19500612e+00\n",
      " 1.19515396e+00 1.19516897e+00 1.19522467e+00 2.92378346e-01]\n",
      "train_MSE_normalized_mean: 0.13884927084378795\n",
      "valid_MSE_normalized_mean: 0.14342832111368753\n",
      "\n"
     ]
    },
    {
     "name": "stderr",
     "output_type": "stream",
     "text": [
      "\n",
      "533it [00:19, 26.73it/s]\n",
      "533it [00:09, 50.49it/s]\n",
      "67it [00:01, 55.30it/s]"
     ]
    },
    {
     "name": "stdout",
     "output_type": "stream",
     "text": [
      "EPOCH:\t129 0.12889824748933876\n",
      "train_MAE:\n",
      "[5.00753888e-01 5.93184211e-01 4.45707718e-03 5.64975375e-03\n",
      " 7.12909666e-03 3.41457866e+01 1.47196531e-03 2.11091948e+00\n",
      " 2.11078862e+00 2.11076759e+00 2.11088865e+00 3.02314607e-01]\n",
      "valid_MAE:\n",
      "[5.17920704e-01 6.02898890e-01 4.62413495e-03 5.73117127e-03\n",
      " 7.34634408e-03 3.49086066e+01 1.51161704e-03 2.12292965e+00\n",
      " 2.12278737e+00 2.12276501e+00 2.12288714e+00 3.06378531e-01]\n",
      "train_MSE_normalized_mean: 0.1475170459090858\n",
      "valid_MSE_normalized_mean: 0.15241878864889308\n",
      "\n"
     ]
    },
    {
     "name": "stderr",
     "output_type": "stream",
     "text": [
      "\n",
      "533it [00:19, 27.06it/s]\n",
      "533it [00:09, 54.28it/s]\n",
      "67it [00:01, 59.24it/s]"
     ]
    },
    {
     "name": "stdout",
     "output_type": "stream",
     "text": [
      "EPOCH:\t130 0.1287192715293471\n",
      "train_MAE:\n",
      "[5.00101390e-01 6.37424227e-01 4.45710750e-03 5.99744921e-03\n",
      " 7.48668654e-03 3.41761023e+01 1.37690169e-03 9.02541892e-01\n",
      " 9.02706715e-01 9.02722351e-01 9.02687273e-01 2.81762913e-01]\n",
      "valid_MAE:\n",
      "[5.18865812e-01 6.46457660e-01 4.63600350e-03 6.01418640e-03\n",
      " 7.69223432e-03 3.51302634e+01 1.40377644e-03 9.17555909e-01\n",
      " 9.17722124e-01 9.17737947e-01 9.17698653e-01 2.84021490e-01]\n",
      "train_MSE_normalized_mean: 0.1388298031567929\n",
      "valid_MSE_normalized_mean: 0.14333609469179673\n",
      "\n"
     ]
    },
    {
     "name": "stderr",
     "output_type": "stream",
     "text": [
      "\n",
      "533it [00:19, 26.86it/s]\n",
      "533it [00:09, 54.69it/s]\n",
      "67it [00:01, 56.11it/s]"
     ]
    },
    {
     "name": "stdout",
     "output_type": "stream",
     "text": [
      "EPOCH:\t131 0.1292784430967263\n",
      "train_MAE:\n",
      "[4.97143443e-01 5.48916183e-01 4.44694840e-03 5.55760591e-03\n",
      " 6.77583867e-03 3.42844840e+01 1.56713551e-03 1.15636614e+00\n",
      " 1.15631144e+00 1.15630915e+00 1.15638869e+00 3.06515087e-01]\n",
      "valid_MAE:\n",
      "[5.14452846e-01 5.58745328e-01 4.59075439e-03 5.56970420e-03\n",
      " 6.98465403e-03 3.50431926e+01 1.58894789e-03 1.17627764e+00\n",
      " 1.17623069e+00 1.17622873e+00 1.17630501e+00 3.07381452e-01]\n",
      "train_MSE_normalized_mean: 0.13979173561419153\n",
      "valid_MSE_normalized_mean: 0.1442152289573191\n",
      "\n"
     ]
    },
    {
     "name": "stderr",
     "output_type": "stream",
     "text": [
      "\n",
      "533it [00:19, 26.88it/s]\n",
      "533it [00:09, 54.41it/s]\n",
      "67it [00:01, 59.10it/s]"
     ]
    },
    {
     "name": "stdout",
     "output_type": "stream",
     "text": [
      "EPOCH:\t132 0.1284296200462175\n",
      "train_MAE:\n",
      "[5.06178113e-01 5.85162016e-01 4.72421653e-03 5.69507242e-03\n",
      " 6.80966982e-03 3.36269163e+01 1.68872919e-03 1.06913906e+00\n",
      " 1.06897444e+00 1.06895635e+00 1.06902890e+00 3.07339830e-01]\n",
      "valid_MAE:\n",
      "[5.24468443e-01 5.97223833e-01 4.87940187e-03 5.75137750e-03\n",
      " 6.96570007e-03 3.42770811e+01 1.71700750e-03 1.08006238e+00\n",
      " 1.07990156e+00 1.07988407e+00 1.07996141e+00 3.12760970e-01]\n",
      "train_MSE_normalized_mean: 0.14044565070006634\n",
      "valid_MSE_normalized_mean: 0.14488636640255742\n",
      "\n"
     ]
    },
    {
     "name": "stderr",
     "output_type": "stream",
     "text": [
      "\n",
      "533it [00:19, 27.01it/s]\n",
      "533it [00:09, 55.02it/s]\n",
      "67it [00:01, 64.63it/s]"
     ]
    },
    {
     "name": "stdout",
     "output_type": "stream",
     "text": [
      "EPOCH:\t133 0.128302005131853\n",
      "train_MAE:\n",
      "[4.97881519e-01 5.71097926e-01 4.56497307e-03 5.62482036e-03\n",
      " 7.31103655e-03 3.49218554e+01 1.51003350e-03 2.00416225e+00\n",
      " 2.00423359e+00 2.00424777e+00 2.00433987e+00 3.06117315e-01]\n",
      "valid_MAE:\n",
      "[5.17036282e-01 5.82981434e-01 4.75297167e-03 5.65177359e-03\n",
      " 7.53561656e-03 3.56884188e+01 1.54085326e-03 2.02068971e+00\n",
      " 2.02075801e+00 2.02077199e+00 2.02086249e+00 3.09831141e-01]\n",
      "train_MSE_normalized_mean: 0.14726130692261033\n",
      "valid_MSE_normalized_mean: 0.15218502786461108\n",
      "\n"
     ]
    },
    {
     "name": "stderr",
     "output_type": "stream",
     "text": [
      "\n",
      "533it [00:19, 31.36it/s]\n",
      "533it [00:09, 53.56it/s]\n",
      "67it [00:01, 55.16it/s]"
     ]
    },
    {
     "name": "stdout",
     "output_type": "stream",
     "text": [
      "EPOCH:\t134 0.12772358235454023\n",
      "train_MAE:\n",
      "[5.01163516e-01 5.94248057e-01 4.67283075e-03 5.48766762e-03\n",
      " 6.63097746e-03 3.33818259e+01 1.82471473e-03 1.37839500e+00\n",
      " 1.37837926e+00 1.37838034e+00 1.37837990e+00 3.05419170e-01]\n",
      "valid_MAE:\n",
      "[5.17751044e-01 6.04281445e-01 4.82417169e-03 5.52245717e-03\n",
      " 6.84168396e-03 3.42668895e+01 1.85129395e-03 1.38595777e+00\n",
      " 1.38594331e+00 1.38594417e+00 1.38594375e+00 3.08939931e-01]\n",
      "train_MSE_normalized_mean: 0.14298768524987768\n",
      "valid_MSE_normalized_mean: 0.14728522390536097\n",
      "\n"
     ]
    },
    {
     "name": "stderr",
     "output_type": "stream",
     "text": [
      "\n",
      "533it [00:20, 26.62it/s]\n",
      "533it [00:09, 54.85it/s]\n",
      "67it [00:01, 60.44it/s]"
     ]
    },
    {
     "name": "stdout",
     "output_type": "stream",
     "text": [
      "EPOCH:\t135 0.12887301978150184\n",
      "train_MAE:\n",
      "[5.08703073e-01 5.51536316e-01 4.52557896e-03 5.32307445e-03\n",
      " 6.69627691e-03 3.34240218e+01 1.65848954e-03 1.45284212e+00\n",
      " 1.45289853e+00 1.45290185e+00 1.45286312e+00 2.92099700e-01]\n",
      "valid_MAE:\n",
      "[5.28061051e-01 5.64754239e-01 4.72990142e-03 5.34169693e-03\n",
      " 6.90789645e-03 3.43860291e+01 1.68726145e-03 1.46488412e+00\n",
      " 1.46494959e+00 1.46495365e+00 1.46491532e+00 2.94960453e-01]\n",
      "train_MSE_normalized_mean: 0.1410433580757062\n",
      "valid_MSE_normalized_mean: 0.14602165168165648\n",
      "\n"
     ]
    },
    {
     "name": "stderr",
     "output_type": "stream",
     "text": [
      "\n",
      "533it [00:19, 30.53it/s]\n",
      "533it [00:09, 53.85it/s]\n",
      "67it [00:01, 55.17it/s]"
     ]
    },
    {
     "name": "stdout",
     "output_type": "stream",
     "text": [
      "EPOCH:\t136 0.12746765408629995\n",
      "train_MAE:\n",
      "[4.94839849e-01 5.52907644e-01 4.51735253e-03 5.40926027e-03\n",
      " 6.86057534e-03 3.35814499e+01 1.68882724e-03 1.08875746e+00\n",
      " 1.08858790e+00 1.08857269e+00 1.08858956e+00 2.87634974e-01]\n",
      "valid_MAE:\n",
      "[5.13872997e-01 5.64837272e-01 4.66322842e-03 5.46890612e-03\n",
      " 7.08339192e-03 3.44410235e+01 1.72653467e-03 1.10480897e+00\n",
      " 1.10462775e+00 1.10461148e+00 1.10463358e+00 2.91114927e-01]\n",
      "train_MSE_normalized_mean: 0.1376927317245954\n",
      "valid_MSE_normalized_mean: 0.1426970432315019\n",
      "\n"
     ]
    },
    {
     "name": "stderr",
     "output_type": "stream",
     "text": [
      "\n",
      "533it [00:20, 26.37it/s]\n",
      "533it [00:09, 54.87it/s]\n",
      "67it [00:01, 70.75it/s]"
     ]
    },
    {
     "name": "stdout",
     "output_type": "stream",
     "text": [
      "EPOCH:\t137 0.1285174192815292\n",
      "train_MAE:\n",
      "[4.96049364e-01 5.66556901e-01 4.46402018e-03 5.25828226e-03\n",
      " 6.72566764e-03 3.36285136e+01 1.51740068e-03 1.17606353e+00\n",
      " 1.17625803e+00 1.17627666e+00 1.17620402e+00 2.88720503e-01]\n",
      "valid_MAE:\n",
      "[5.15219599e-01 5.71507263e-01 4.64633658e-03 5.31346795e-03\n",
      " 6.92480304e-03 3.43559111e+01 1.53842877e-03 1.18412403e+00\n",
      " 1.18431842e+00 1.18433669e+00 1.18426014e+00 2.90509189e-01]\n",
      "train_MSE_normalized_mean: 0.138517706312252\n",
      "valid_MSE_normalized_mean: 0.1432688991256396\n",
      "\n"
     ]
    },
    {
     "name": "stderr",
     "output_type": "stream",
     "text": [
      "\n",
      "533it [00:19, 29.14it/s]\n",
      "533it [00:09, 54.06it/s]\n",
      "67it [00:01, 56.43it/s]"
     ]
    },
    {
     "name": "stdout",
     "output_type": "stream",
     "text": [
      "EPOCH:\t138 0.12706913487325242\n",
      "train_MAE:\n",
      "[4.95517414e-01 5.56077798e-01 4.44145170e-03 5.34207529e-03\n",
      " 6.73547037e-03 3.52996644e+01 1.51674047e-03 1.10223926e+00\n",
      " 1.10222159e+00 1.10222088e+00 1.10228946e+00 2.91182712e-01]\n",
      "valid_MAE:\n",
      "[5.16001063e-01 5.67793539e-01 4.60433857e-03 5.39636944e-03\n",
      " 6.97380175e-03 3.65165862e+01 1.53803068e-03 1.10951244e+00\n",
      " 1.10950136e+00 1.10950117e+00 1.10956611e+00 2.94793596e-01]\n",
      "train_MSE_normalized_mean: 0.13738665184571278\n",
      "valid_MSE_normalized_mean: 0.14249558051279473\n",
      "\n"
     ]
    },
    {
     "name": "stderr",
     "output_type": "stream",
     "text": [
      "\n",
      "533it [00:20, 26.56it/s]\n",
      "533it [00:09, 54.98it/s]\n",
      "67it [00:01, 60.85it/s]"
     ]
    },
    {
     "name": "stdout",
     "output_type": "stream",
     "text": [
      "EPOCH:\t139 0.12816200886222257\n",
      "train_MAE:\n",
      "[4.93463246e-01 5.59846003e-01 4.41773503e-03 5.24248684e-03\n",
      " 6.67304726e-03 3.31955799e+01 1.36896329e-03 9.23704476e-01\n",
      " 9.23774099e-01 9.23781315e-01 9.23779530e-01 2.83804344e-01]\n",
      "valid_MAE:\n",
      "[5.13463246e-01 5.72076618e-01 4.56970540e-03 5.29912114e-03\n",
      " 6.88041631e-03 3.41036303e+01 1.40205641e-03 9.38096256e-01\n",
      " 9.38167560e-01 9.38174728e-01 9.38173916e-01 2.85300205e-01]\n",
      "train_MSE_normalized_mean: 0.13444249879413592\n",
      "valid_MSE_normalized_mean: 0.13942002820226396\n",
      "\n"
     ]
    },
    {
     "name": "stderr",
     "output_type": "stream",
     "text": [
      "\n",
      "533it [00:22, 23.36it/s]\n",
      "533it [00:12, 43.76it/s]\n",
      "67it [00:01, 61.70it/s]"
     ]
    },
    {
     "name": "stdout",
     "output_type": "stream",
     "text": [
      "EPOCH:\t140 0.12708190838346786\n",
      "train_MAE:\n",
      "[4.91798744e-01 5.63201130e-01 4.57081694e-03 5.23755348e-03\n",
      " 6.71172857e-03 3.49646954e+01 1.42680494e-03 8.67969872e-01\n",
      " 8.68028636e-01 8.68033650e-01 8.68040194e-01 2.93519373e-01]\n",
      "valid_MAE:\n",
      "[5.13027194e-01 5.70441021e-01 4.74247231e-03 5.29861755e-03\n",
      " 6.96331015e-03 3.57213218e+01 1.45354243e-03 8.85196329e-01\n",
      " 8.85259650e-01 8.85265014e-01 8.85273837e-01 2.96947502e-01]\n",
      "train_MSE_normalized_mean: 0.13582276102152835\n",
      "valid_MSE_normalized_mean: 0.14104013053419964\n",
      "\n"
     ]
    },
    {
     "name": "stderr",
     "output_type": "stream",
     "text": [
      "\n",
      "533it [00:21, 25.10it/s]\n",
      "533it [00:12, 41.46it/s]\n",
      "67it [00:01, 62.32it/s]"
     ]
    },
    {
     "name": "stdout",
     "output_type": "stream",
     "text": [
      "EPOCH:\t141 0.12749455744788527\n",
      "train_MAE:\n",
      "[4.93357772e-01 6.23349499e-01 4.44382489e-03 5.19712435e-03\n",
      " 6.68591522e-03 3.46027291e+01 1.60773401e-03 1.10560295e+00\n",
      " 1.10556960e+00 1.10556699e+00 1.10554521e+00 3.06465863e-01]\n",
      "valid_MAE:\n",
      "[5.11522029e-01 6.33233897e-01 4.63209259e-03 5.24816572e-03\n",
      " 6.91982439e-03 3.56596960e+01 1.64201918e-03 1.11633574e+00\n",
      " 1.11630454e+00 1.11630233e+00 1.11627975e+00 3.08273736e-01]\n",
      "train_MSE_normalized_mean: 0.13860786106850284\n",
      "valid_MSE_normalized_mean: 0.14361542948507913\n",
      "\n"
     ]
    },
    {
     "name": "stderr",
     "output_type": "stream",
     "text": [
      "\n",
      "533it [00:18, 28.18it/s]\n",
      "533it [00:09, 56.48it/s]\n",
      "67it [00:01, 59.60it/s]"
     ]
    },
    {
     "name": "stdout",
     "output_type": "stream",
     "text": [
      "EPOCH:\t142 0.1273290868743723\n",
      "train_MAE:\n",
      "[4.92076953e-01 5.70209621e-01 4.50400725e-03 5.25603350e-03\n",
      " 6.78266679e-03 3.40501235e+01 1.64522633e-03 1.15757952e+00\n",
      " 1.15749250e+00 1.15748788e+00 1.15754824e+00 3.28142100e-01]\n",
      "valid_MAE:\n",
      "[5.10844251e-01 5.79651707e-01 4.69244402e-03 5.30763826e-03\n",
      " 7.04175697e-03 3.47340130e+01 1.66038080e-03 1.16959149e+00\n",
      " 1.16949506e+00 1.16948955e+00 1.16955339e+00 3.28313185e-01]\n",
      "train_MSE_normalized_mean: 0.13872295225843437\n",
      "valid_MSE_normalized_mean: 0.14378519048390717\n",
      "\n"
     ]
    },
    {
     "name": "stderr",
     "output_type": "stream",
     "text": [
      "\n",
      "533it [00:19, 27.34it/s]\n",
      "533it [00:10, 52.27it/s]\n",
      "67it [00:01, 57.27it/s]"
     ]
    },
    {
     "name": "stdout",
     "output_type": "stream",
     "text": [
      "EPOCH:\t143 0.1275003236660814\n",
      "train_MAE:\n",
      "[4.92569041e-01 5.77855710e-01 4.45958961e-03 5.24913209e-03\n",
      " 6.61462375e-03 3.35889971e+01 1.43149050e-03 1.19536513e+00\n",
      " 1.19554555e+00 1.19556229e+00 1.19554465e+00 2.82306337e-01]\n",
      "valid_MAE:\n",
      "[5.11683148e-01 5.88842363e-01 4.62700727e-03 5.29837738e-03\n",
      " 6.85210518e-03 3.44694500e+01 1.45023385e-03 1.20875639e+00\n",
      " 1.20893995e+00 1.20895705e+00 1.20893636e+00 2.82859424e-01]\n",
      "train_MSE_normalized_mean: 0.13721071934409632\n",
      "valid_MSE_normalized_mean: 0.14203235163862668\n",
      "\n"
     ]
    },
    {
     "name": "stderr",
     "output_type": "stream",
     "text": [
      "\n",
      "533it [00:19, 27.29it/s]\n",
      "533it [00:09, 54.61it/s]\n",
      "67it [00:01, 58.58it/s]"
     ]
    },
    {
     "name": "stdout",
     "output_type": "stream",
     "text": [
      "EPOCH:\t144 0.12712321781306957\n",
      "train_MAE:\n",
      "[4.90597168e-01 5.40279170e-01 4.41132976e-03 5.56458489e-03\n",
      " 6.64687102e-03 3.33934618e+01 1.39929042e-03 1.17685258e+00\n",
      " 1.17696586e+00 1.17697473e+00 1.17693987e+00 2.89564120e-01]\n",
      "valid_MAE:\n",
      "[5.11773916e-01 5.52209495e-01 4.59540080e-03 5.57696409e-03\n",
      " 6.85536572e-03 3.42350510e+01 1.42785174e-03 1.18565671e+00\n",
      " 1.18577247e+00 1.18578132e+00 1.18574231e+00 2.91794333e-01]\n",
      "train_MSE_normalized_mean: 0.13663333799291164\n",
      "valid_MSE_normalized_mean: 0.14178258699857113\n",
      "\n"
     ]
    },
    {
     "name": "stderr",
     "output_type": "stream",
     "text": [
      "\n",
      "533it [00:19, 27.81it/s]\n",
      "533it [00:09, 55.15it/s]\n",
      "67it [00:01, 59.32it/s]"
     ]
    },
    {
     "name": "stdout",
     "output_type": "stream",
     "text": [
      "EPOCH:\t145 0.12678154889235577\n",
      "train_MAE:\n",
      "[4.95678460e-01 5.92119162e-01 4.42602514e-03 5.40502209e-03\n",
      " 6.81129443e-03 3.35731541e+01 1.92691867e-03 1.97294969e+00\n",
      " 1.97296157e+00 1.97296403e+00 1.97294813e+00 2.88250262e-01]\n",
      "valid_MAE:\n",
      "[5.16155387e-01 6.02478999e-01 4.60445129e-03 5.44398421e-03\n",
      " 7.01955161e-03 3.44223217e+01 1.97065951e-03 1.98208953e+00\n",
      " 1.98209738e+00 1.98209950e+00 1.98207923e+00 2.90560309e-01]\n",
      "train_MSE_normalized_mean: 0.14578550410287508\n",
      "valid_MSE_normalized_mean: 0.15111948821884527\n",
      "\n"
     ]
    },
    {
     "name": "stderr",
     "output_type": "stream",
     "text": [
      "\n",
      "533it [00:19, 27.14it/s]\n",
      "533it [00:10, 52.44it/s]\n",
      "67it [00:01, 58.05it/s]"
     ]
    },
    {
     "name": "stdout",
     "output_type": "stream",
     "text": [
      "EPOCH:\t146 0.12672733458188865\n",
      "train_MAE:\n",
      "[4.93976487e-01 5.74767616e-01 4.41322061e-03 5.28409996e-03\n",
      " 6.63627973e-03 3.48894611e+01 1.46003490e-03 1.57165184e+00\n",
      " 1.57182992e+00 1.57184959e+00 1.57184758e+00 2.89519464e-01]\n",
      "valid_MAE:\n",
      "[5.13452823e-01 5.86007070e-01 4.60169333e-03 5.34949222e-03\n",
      " 6.87965730e-03 3.58386213e+01 1.48993852e-03 1.58584731e+00\n",
      " 1.58602729e+00 1.58604715e+00 1.58604799e+00 2.92731196e-01]\n",
      "train_MSE_normalized_mean: 0.14066671657495172\n",
      "valid_MSE_normalized_mean: 0.1459506305892661\n",
      "\n"
     ]
    },
    {
     "name": "stderr",
     "output_type": "stream",
     "text": [
      "\n",
      "533it [00:19, 27.10it/s]\n",
      "533it [00:09, 54.92it/s]\n",
      "67it [00:01, 57.94it/s]"
     ]
    },
    {
     "name": "stdout",
     "output_type": "stream",
     "text": [
      "EPOCH:\t147 0.12715686892646785\n",
      "train_MAE:\n",
      "[4.94797419e-01 7.86020105e-01 4.40106102e-03 5.22856717e-03\n",
      " 6.66336626e-03 3.88216447e+01 1.96926491e-03 1.70163896e+00\n",
      " 1.70166943e+00 1.70166702e+00 1.70152266e+00 3.63624622e-01]\n",
      "valid_MAE:\n",
      "[5.14138647e-01 7.93945677e-01 4.56868333e-03 5.30310356e-03\n",
      " 6.89343006e-03 3.98368373e+01 2.01433501e-03 1.70266782e+00\n",
      " 1.70269666e+00 1.70269414e+00 1.70254940e+00 3.67688942e-01]\n",
      "train_MSE_normalized_mean: 0.1483785288918456\n",
      "valid_MSE_normalized_mean: 0.15337978708875968\n",
      "\n"
     ]
    },
    {
     "name": "stderr",
     "output_type": "stream",
     "text": [
      "\n",
      "533it [00:19, 27.17it/s]\n",
      "533it [00:09, 54.03it/s]\n",
      "67it [00:01, 55.43it/s]"
     ]
    },
    {
     "name": "stdout",
     "output_type": "stream",
     "text": [
      "EPOCH:\t148 0.12627393676852197\n",
      "train_MAE:\n",
      "[4.93908876e-01 5.67542936e-01 4.38728161e-03 5.24356345e-03\n",
      " 6.62008140e-03 3.34505349e+01 1.48361877e-03 9.27811751e-01\n",
      " 9.27874424e-01 9.27880935e-01 9.27871791e-01 2.89604642e-01]\n",
      "valid_MAE:\n",
      "[5.12409604e-01 5.76260469e-01 4.55343659e-03 5.26812548e-03\n",
      " 6.81684809e-03 3.43709474e+01 1.50400981e-03 9.44363616e-01\n",
      " 9.44433562e-01 9.44440674e-01 9.44427228e-01 2.93012963e-01]\n",
      "train_MSE_normalized_mean: 0.13470154579917462\n",
      "valid_MSE_normalized_mean: 0.13936062484312603\n",
      "\n"
     ]
    },
    {
     "name": "stderr",
     "output_type": "stream",
     "text": [
      "\n",
      "533it [00:19, 28.99it/s]\n",
      "533it [00:09, 55.60it/s]\n",
      "67it [00:01, 57.46it/s]"
     ]
    },
    {
     "name": "stdout",
     "output_type": "stream",
     "text": [
      "EPOCH:\t149 0.12583504400546286\n",
      "train_MAE:\n",
      "[4.92673252e-01 5.90021464e-01 4.40400809e-03 5.23823685e-03\n",
      " 6.56559567e-03 3.31947553e+01 1.41528622e-03 9.22284690e-01\n",
      " 9.22227621e-01 9.22219880e-01 9.22229101e-01 2.91912264e-01]\n",
      "valid_MAE:\n",
      "[5.11510811e-01 5.98998497e-01 4.58938448e-03 5.27150868e-03\n",
      " 6.81900248e-03 3.42656875e+01 1.44067395e-03 9.38114739e-01\n",
      " 9.38059589e-01 9.38052109e-01 9.38060327e-01 2.94890296e-01]\n",
      "train_MSE_normalized_mean: 0.13467877103721632\n",
      "valid_MSE_normalized_mean: 0.13970017624792277\n",
      "\n"
     ]
    },
    {
     "name": "stderr",
     "output_type": "stream",
     "text": [
      "\n",
      "533it [00:19, 27.11it/s]\n",
      "533it [00:09, 54.11it/s]\n",
      "67it [00:01, 53.16it/s]"
     ]
    },
    {
     "name": "stdout",
     "output_type": "stream",
     "text": [
      "EPOCH:\t150 0.12669758597916556\n",
      "train_MAE:\n",
      "[4.92838839e-01 5.95015415e-01 4.39518049e-03 5.74325111e-03\n",
      " 6.97888355e-03 3.69432566e+01 1.54876976e-03 2.51885830e+00\n",
      " 2.51862328e+00 2.51860765e+00 2.51884613e+00 3.22699138e-01]\n",
      "valid_MAE:\n",
      "[5.12340428e-01 6.06636797e-01 4.59299458e-03 5.81112876e-03\n",
      " 7.18825905e-03 3.75072689e+01 1.57748977e-03 2.52995681e+00\n",
      " 2.52972334e+00 2.52970794e+00 2.52994537e+00 3.23619280e-01]\n",
      "train_MSE_normalized_mean: 0.15087468926869282\n",
      "valid_MSE_normalized_mean: 0.15609379325181047\n",
      "\n"
     ]
    },
    {
     "name": "stderr",
     "output_type": "stream",
     "text": [
      "\n",
      "533it [00:19, 30.22it/s]\n",
      "533it [00:09, 54.89it/s]\n",
      "67it [00:01, 57.81it/s]"
     ]
    },
    {
     "name": "stdout",
     "output_type": "stream",
     "text": [
      "EPOCH:\t151 0.12603689405864443\n",
      "train_MAE:\n",
      "[4.88048686e-01 6.30162112e-01 4.36852365e-03 5.35641347e-03\n",
      " 6.76439666e-03 3.49964677e+01 1.51028876e-03 9.88315868e-01\n",
      " 9.88191097e-01 9.88180573e-01 9.88254951e-01 2.94307026e-01]\n",
      "valid_MAE:\n",
      "[5.07819001e-01 6.40871900e-01 4.58330748e-03 5.43254355e-03\n",
      " 7.02405883e-03 3.57265456e+01 1.53657456e-03 9.97081956e-01\n",
      " 9.96959050e-01 9.96948566e-01 9.97022002e-01 2.99416649e-01]\n",
      "train_MSE_normalized_mean: 0.1366515373617061\n",
      "valid_MSE_normalized_mean: 0.14235301988674257\n",
      "\n"
     ]
    },
    {
     "name": "stderr",
     "output_type": "stream",
     "text": [
      "\n",
      "533it [00:20, 26.64it/s]\n",
      "533it [00:09, 54.17it/s]\n",
      "67it [00:01, 56.35it/s]"
     ]
    },
    {
     "name": "stdout",
     "output_type": "stream",
     "text": [
      "EPOCH:\t152 0.12529466979163673\n",
      "train_MAE:\n",
      "[4.91665435e-01 6.11672853e-01 4.36804135e-03 5.18630462e-03\n",
      " 6.54524274e-03 3.35882189e+01 1.44922488e-03 1.01951805e+00\n",
      " 1.01942620e+00 1.01941809e+00 1.01947107e+00 2.99114387e-01]\n",
      "valid_MAE:\n",
      "[5.11289232e-01 6.19217741e-01 4.57761394e-03 5.21303792e-03\n",
      " 6.78671565e-03 3.43732537e+01 1.47708886e-03 1.02367685e+00\n",
      " 1.02358347e+00 1.02357531e+00 1.02363220e+00 3.02263023e-01]\n",
      "train_MSE_normalized_mean: 0.1353380051147153\n",
      "valid_MSE_normalized_mean: 0.14066186011050766\n",
      "\n"
     ]
    },
    {
     "name": "stderr",
     "output_type": "stream",
     "text": [
      "\n",
      "533it [00:19, 27.17it/s]\n",
      "533it [00:09, 55.05it/s]\n",
      "67it [00:01, 59.86it/s]"
     ]
    },
    {
     "name": "stdout",
     "output_type": "stream",
     "text": [
      "EPOCH:\t153 0.12499058695324813\n",
      "train_MAE:\n",
      "[4.89579539e-01 5.44911412e-01 4.34437660e-03 5.23105220e-03\n",
      " 6.65727797e-03 3.37816432e+01 1.37327832e-03 1.19375517e+00\n",
      " 1.19378702e+00 1.19379126e+00 1.19382772e+00 2.89461950e-01]\n",
      "valid_MAE:\n",
      "[5.09952810e-01 5.56044752e-01 4.53591659e-03 5.25516766e-03\n",
      " 6.85169156e-03 3.47271759e+01 1.40319600e-03 1.18593521e+00\n",
      " 1.18596797e+00 1.18597196e+00 1.18600242e+00 2.90763686e-01]\n",
      "train_MSE_normalized_mean: 0.1368129220536031\n",
      "valid_MSE_normalized_mean: 0.14158362322869003\n",
      "\n"
     ]
    },
    {
     "name": "stderr",
     "output_type": "stream",
     "text": [
      "\n",
      "533it [00:19, 30.53it/s]\n",
      "533it [00:09, 54.37it/s]\n",
      "67it [00:01, 57.73it/s]"
     ]
    },
    {
     "name": "stdout",
     "output_type": "stream",
     "text": [
      "EPOCH:\t154 0.12649157637726746\n",
      "train_MAE:\n",
      "[4.89457088e-01 5.72942489e-01 4.39113432e-03 5.35273545e-03\n",
      " 6.69369028e-03 3.37195800e+01 1.48793975e-03 7.45607945e-01\n",
      " 7.45584056e-01 7.45580228e-01 7.45563636e-01 2.92425068e-01]\n",
      "valid_MAE:\n",
      "[5.08642560e-01 5.83949027e-01 4.56352979e-03 5.38787058e-03\n",
      " 6.91461865e-03 3.45549387e+01 1.51679499e-03 7.53432481e-01\n",
      " 7.53412064e-01 7.53408796e-01 7.53399888e-01 2.95869344e-01]\n",
      "train_MSE_normalized_mean: 0.13402588978675933\n",
      "valid_MSE_normalized_mean: 0.1391074958189354\n",
      "\n"
     ]
    },
    {
     "name": "stderr",
     "output_type": "stream",
     "text": [
      "\n",
      "533it [00:19, 26.85it/s]\n",
      "533it [00:09, 55.09it/s]\n",
      "67it [00:01, 56.80it/s]"
     ]
    },
    {
     "name": "stdout",
     "output_type": "stream",
     "text": [
      "EPOCH:\t155 0.12549647280691265\n",
      "train_MAE:\n",
      "[4.87490711e-01 6.57876986e-01 4.43833255e-03 5.24140959e-03\n",
      " 6.60682993e-03 3.88625353e+01 1.78023968e-03 8.58825236e-01\n",
      " 8.58921285e-01 8.58926655e-01 8.58843645e-01 3.28204345e-01]\n",
      "valid_MAE:\n",
      "[5.08333650e-01 6.65625338e-01 4.61773277e-03 5.28351657e-03\n",
      " 6.83583462e-03 3.96498006e+01 1.80335074e-03 8.70322511e-01\n",
      " 8.70417430e-01 8.70423002e-01 8.70347050e-01 3.30032469e-01]\n",
      "train_MSE_normalized_mean: 0.13806303412147228\n",
      "valid_MSE_normalized_mean: 0.1431335655974532\n",
      "\n"
     ]
    },
    {
     "name": "stderr",
     "output_type": "stream",
     "text": [
      "\n",
      "533it [00:19, 26.81it/s]\n",
      "533it [00:09, 55.03it/s]\n",
      "67it [00:01, 56.12it/s]"
     ]
    },
    {
     "name": "stdout",
     "output_type": "stream",
     "text": [
      "EPOCH:\t156 0.12581589612515737\n",
      "train_MAE:\n",
      "[4.93034619e-01 5.59218009e-01 4.39105342e-03 5.40453744e-03\n",
      " 6.71393203e-03 3.29339998e+01 1.39826567e-03 1.15075988e+00\n",
      " 1.15073508e+00 1.15073301e+00 1.15074587e+00 2.84024892e-01]\n",
      "valid_MAE:\n",
      "[5.14792732e-01 5.71675305e-01 4.58768909e-03 5.45345039e-03\n",
      " 6.95876842e-03 3.38218804e+01 1.42750785e-03 1.16079927e+00\n",
      " 1.16077390e+00 1.16077187e+00 1.16078966e+00 2.85945349e-01]\n",
      "train_MSE_normalized_mean: 0.13645628517358852\n",
      "valid_MSE_normalized_mean: 0.14193399652415883\n",
      "\n"
     ]
    },
    {
     "name": "stderr",
     "output_type": "stream",
     "text": [
      "\n",
      "533it [00:19, 31.48it/s]\n",
      "533it [00:09, 55.20it/s]\n",
      "67it [00:01, 57.39it/s]"
     ]
    },
    {
     "name": "stdout",
     "output_type": "stream",
     "text": [
      "EPOCH:\t157 0.12446098790047987\n",
      "train_MAE:\n",
      "[4.91372164e-01 6.17065884e-01 4.42552936e-03 5.44281987e-03\n",
      " 7.00478575e-03 3.47438152e+01 1.79044175e-03 1.19335379e+00\n",
      " 1.19333040e+00 1.19333337e+00 1.19341334e+00 3.49406113e-01]\n",
      "valid_MAE:\n",
      "[5.09238919e-01 6.31003339e-01 4.62890507e-03 5.49023092e-03\n",
      " 7.25262032e-03 3.56488935e+01 1.80256410e-03 1.20198193e+00\n",
      " 1.20196243e+00 1.20196569e+00 1.20203979e+00 3.49212361e-01]\n",
      "train_MSE_normalized_mean: 0.1415555194570546\n",
      "valid_MSE_normalized_mean: 0.1468026879653474\n",
      "\n"
     ]
    },
    {
     "name": "stderr",
     "output_type": "stream",
     "text": [
      "\n",
      "533it [00:19, 27.45it/s]\n",
      "533it [00:09, 54.58it/s]\n",
      "67it [00:01, 58.35it/s]"
     ]
    },
    {
     "name": "stdout",
     "output_type": "stream",
     "text": [
      "EPOCH:\t158 0.12471810373255728\n",
      "train_MAE:\n",
      "[4.93943223e-01 5.82363264e-01 4.41985776e-03 5.10622309e-03\n",
      " 6.51008101e-03 3.30947913e+01 1.34110106e-03 9.67148401e-01\n",
      " 9.67276080e-01 9.67288772e-01 9.67273948e-01 2.87010948e-01]\n",
      "valid_MAE:\n",
      "[5.12033091e-01 5.91451787e-01 4.58679552e-03 5.17828810e-03\n",
      " 6.72930138e-03 3.39016037e+01 1.37734163e-03 9.69944115e-01\n",
      " 9.70071596e-01 9.70084077e-01 9.70064506e-01 2.89490402e-01]\n",
      "train_MSE_normalized_mean: 0.13404156316592072\n",
      "valid_MSE_normalized_mean: 0.13907049099274305\n",
      "\n"
     ]
    },
    {
     "name": "stderr",
     "output_type": "stream",
     "text": [
      "\n",
      "533it [00:19, 30.92it/s]\n",
      "533it [00:09, 55.86it/s]\n",
      "67it [00:01, 59.47it/s]"
     ]
    },
    {
     "name": "stdout",
     "output_type": "stream",
     "text": [
      "EPOCH:\t159 0.12450986278660973\n",
      "train_MAE:\n",
      "[4.95620732e-01 5.72873585e-01 4.46217837e-03 5.18030917e-03\n",
      " 6.58655287e-03 3.76573279e+01 1.49293739e-03 7.97169327e-01\n",
      " 7.97139013e-01 7.97136333e-01 7.97140464e-01 3.03016357e-01]\n",
      "valid_MAE:\n",
      "[5.12801971e-01 5.83293079e-01 4.62264708e-03 5.24082108e-03\n",
      " 6.77396714e-03 3.87426051e+01 1.51764312e-03 8.05038002e-01\n",
      " 8.05014214e-01 8.05012048e-01 8.05006218e-01 3.07486084e-01]\n",
      "train_MSE_normalized_mean: 0.13566509669592336\n",
      "valid_MSE_normalized_mean: 0.14035933412845913\n",
      "\n"
     ]
    },
    {
     "name": "stderr",
     "output_type": "stream",
     "text": [
      "\n",
      "533it [00:19, 27.56it/s]\n",
      "533it [00:09, 55.17it/s]\n",
      "67it [00:01, 56.96it/s]"
     ]
    },
    {
     "name": "stdout",
     "output_type": "stream",
     "text": [
      "EPOCH:\t160 0.12439237982314255\n",
      "train_MAE:\n",
      "[4.86419411e-01 5.42627792e-01 4.35370003e-03 5.21022681e-03\n",
      " 6.56718065e-03 3.30057036e+01 1.44353853e-03 1.92473474e+00\n",
      " 1.92472878e+00 1.92472915e+00 1.92473861e+00 2.77639626e-01]\n",
      "valid_MAE:\n",
      "[5.06442079e-01 5.55831893e-01 4.54811708e-03 5.25709449e-03\n",
      " 6.80455510e-03 3.39724631e+01 1.47136796e-03 1.92333438e+00\n",
      " 1.92333077e+00 1.92333123e+00 1.92334286e+00 2.79419614e-01]\n",
      "train_MSE_normalized_mean: 0.14180121782758312\n",
      "valid_MSE_normalized_mean: 0.14689273034821057\n",
      "\n"
     ]
    },
    {
     "name": "stderr",
     "output_type": "stream",
     "text": [
      "\n",
      "533it [00:19, 30.09it/s]\n",
      "533it [00:09, 53.65it/s]\n",
      "67it [00:01, 56.55it/s]"
     ]
    },
    {
     "name": "stdout",
     "output_type": "stream",
     "text": [
      "EPOCH:\t161 0.12503221513630078\n",
      "train_MAE:\n",
      "[4.87033811e-01 6.52820961e-01 4.30127674e-03 5.19769792e-03\n",
      " 6.50761768e-03 3.47853062e+01 1.40398988e-03 1.00307910e+00\n",
      " 1.00306374e+00 1.00306308e+00 1.00308681e+00 2.95222949e-01]\n",
      "valid_MAE:\n",
      "[5.08581724e-01 6.63861012e-01 4.48816624e-03 5.24577712e-03\n",
      " 6.72195538e-03 3.55018189e+01 1.43472162e-03 1.02299425e+00\n",
      " 1.02297138e+00 1.02296998e+00 1.02299591e+00 2.98169982e-01]\n",
      "train_MSE_normalized_mean: 0.1352894099587967\n",
      "valid_MSE_normalized_mean: 0.14082368305056173\n",
      "\n"
     ]
    },
    {
     "name": "stderr",
     "output_type": "stream",
     "text": [
      "\n",
      "533it [00:19, 27.26it/s]\n",
      "533it [00:09, 54.57it/s]\n",
      "67it [00:01, 58.37it/s]"
     ]
    },
    {
     "name": "stdout",
     "output_type": "stream",
     "text": [
      "EPOCH:\t162 0.1243361143804178\n",
      "train_MAE:\n",
      "[4.88010018e-01 5.52526309e-01 4.33676288e-03 5.32547204e-03\n",
      " 6.66160901e-03 3.50626061e+01 1.56105935e-03 1.51559900e+00\n",
      " 1.51549276e+00 1.51548479e+00 1.51559364e+00 2.84862842e-01]\n",
      "valid_MAE:\n",
      "[5.10237950e-01 5.59504037e-01 4.54461359e-03 5.37143908e-03\n",
      " 6.90315345e-03 3.58132124e+01 1.59699917e-03 1.52916931e+00\n",
      " 1.52905916e+00 1.52905095e+00 1.52916078e+00 2.85311651e-01]\n",
      "train_MSE_normalized_mean: 0.13939372581917622\n",
      "valid_MSE_normalized_mean: 0.14501847149244138\n",
      "\n"
     ]
    },
    {
     "name": "stderr",
     "output_type": "stream",
     "text": [
      "\n",
      "533it [00:19, 29.79it/s]\n",
      "533it [00:09, 54.89it/s]\n",
      "67it [00:01, 55.71it/s]"
     ]
    },
    {
     "name": "stdout",
     "output_type": "stream",
     "text": [
      "EPOCH:\t163 0.12452360415939542\n",
      "train_MAE:\n",
      "[4.89332669e-01 5.90456987e-01 4.36910994e-03 5.32467106e-03\n",
      " 6.71082535e-03 3.28533611e+01 1.43178019e-03 1.05230729e+00\n",
      " 1.05233663e+00 1.05234063e+00 1.05237528e+00 3.06246152e-01]\n",
      "valid_MAE:\n",
      "[5.09000265e-01 5.98470839e-01 4.56921081e-03 5.36217352e-03\n",
      " 6.95757195e-03 3.38083816e+01 1.46412989e-03 1.07706993e+00\n",
      " 1.07709243e+00 1.07709605e+00 1.07713472e+00 3.10543669e-01]\n",
      "train_MSE_normalized_mean: 0.13616134752624698\n",
      "valid_MSE_normalized_mean: 0.1420047375910141\n",
      "\n"
     ]
    },
    {
     "name": "stderr",
     "output_type": "stream",
     "text": [
      "\n",
      "533it [00:19, 27.66it/s]\n",
      "533it [00:09, 55.09it/s]\n",
      "67it [00:01, 57.12it/s]"
     ]
    },
    {
     "name": "stdout",
     "output_type": "stream",
     "text": [
      "EPOCH:\t164 0.12356757051110491\n",
      "train_MAE:\n",
      "[5.02529948e-01 5.34808422e-01 4.43354051e-03 5.13776977e-03\n",
      " 6.54222358e-03 3.27408606e+01 1.37845664e-03 1.95130891e+00\n",
      " 1.95132219e+00 1.95132325e+00 1.95135235e+00 2.82496484e-01]\n",
      "valid_MAE:\n",
      "[5.23289293e-01 5.47239632e-01 4.63589619e-03 5.17895668e-03\n",
      " 6.78160451e-03 3.38408072e+01 1.40870465e-03 1.95272834e+00\n",
      " 1.95274371e+00 1.95274492e+00 1.95277588e+00 2.84133105e-01]\n",
      "train_MSE_normalized_mean: 0.1418459969008767\n",
      "valid_MSE_normalized_mean: 0.14733852479639953\n",
      "\n"
     ]
    },
    {
     "name": "stderr",
     "output_type": "stream",
     "text": [
      "\n",
      "533it [00:19, 26.76it/s]\n",
      "533it [00:09, 53.41it/s]\n",
      "67it [00:01, 54.31it/s]"
     ]
    },
    {
     "name": "stdout",
     "output_type": "stream",
     "text": [
      "EPOCH:\t165 0.12426994631930095\n",
      "train_MAE:\n",
      "[4.92490787e-01 5.70601088e-01 4.39671057e-03 5.18449975e-03\n",
      " 6.56912286e-03 3.31940577e+01 1.47697840e-03 1.12810619e+00\n",
      " 1.12814033e+00 1.12814131e+00 1.12810309e+00 2.94342190e-01]\n",
      "valid_MAE:\n",
      "[5.13737826e-01 5.75669616e-01 4.60627234e-03 5.23653350e-03\n",
      " 6.79360314e-03 3.42075420e+01 1.50045337e-03 1.13374524e+00\n",
      " 1.13378637e+00 1.13378771e+00 1.13374341e+00 2.97266253e-01]\n",
      "train_MSE_normalized_mean: 0.13571005742129458\n",
      "valid_MSE_normalized_mean: 0.14105469627270809\n",
      "\n"
     ]
    },
    {
     "name": "stderr",
     "output_type": "stream",
     "text": [
      "\n",
      "533it [00:19, 27.13it/s]\n",
      "533it [00:09, 54.91it/s]\n",
      "67it [00:01, 57.02it/s]"
     ]
    },
    {
     "name": "stdout",
     "output_type": "stream",
     "text": [
      "EPOCH:\t166 0.1235594787612194\n",
      "train_MAE:\n",
      "[4.89441134e-01 5.75535383e-01 4.41690770e-03 5.53987940e-03\n",
      " 7.20473057e-03 3.34343047e+01 1.85081921e-03 1.08148083e+00\n",
      " 1.08146624e+00 1.08146106e+00 1.08140488e+00 3.24722483e-01]\n",
      "valid_MAE:\n",
      "[5.08746781e-01 5.87683797e-01 4.59793096e-03 5.60599379e-03\n",
      " 7.40363170e-03 3.44582626e+01 1.89118097e-03 1.09282340e+00\n",
      " 1.09280757e+00 1.09280261e+00 1.09275214e+00 3.28369750e-01]\n",
      "train_MSE_normalized_mean: 0.13835841061419638\n",
      "valid_MSE_normalized_mean: 0.1437901440702866\n",
      "\n"
     ]
    },
    {
     "name": "stderr",
     "output_type": "stream",
     "text": [
      "\n",
      "533it [00:19, 26.82it/s]\n",
      "533it [00:09, 49.78it/s]\n",
      "67it [00:01, 56.03it/s]"
     ]
    },
    {
     "name": "stdout",
     "output_type": "stream",
     "text": [
      "EPOCH:\t167 0.12285852679671758\n",
      "train_MAE:\n",
      "[4.86997519e-01 5.80656132e-01 4.34646705e-03 5.36741909e-03\n",
      " 6.60413567e-03 3.46897266e+01 1.59185371e-03 1.19086333e+00\n",
      " 1.19094723e+00 1.19095457e+00 1.19092775e+00 2.94557177e-01]\n",
      "valid_MAE:\n",
      "[5.06303575e-01 5.91357472e-01 4.52012023e-03 5.43151396e-03\n",
      " 6.86292015e-03 3.56491168e+01 1.61396864e-03 1.20206573e+00\n",
      " 1.20214779e+00 1.20215507e+00 1.20213321e+00 2.96107010e-01]\n",
      "train_MSE_normalized_mean: 0.13704459754753776\n",
      "valid_MSE_normalized_mean: 0.1424090483097743\n",
      "\n"
     ]
    },
    {
     "name": "stderr",
     "output_type": "stream",
     "text": [
      "\n",
      "533it [00:19, 26.79it/s]\n",
      "533it [00:09, 55.10it/s]\n",
      "67it [00:01, 57.50it/s]"
     ]
    },
    {
     "name": "stdout",
     "output_type": "stream",
     "text": [
      "EPOCH:\t168 0.12402168303504446\n",
      "train_MAE:\n",
      "[4.90205893e-01 6.08161636e-01 4.27923874e-03 5.26989560e-03\n",
      " 6.54735901e-03 3.37060071e+01 1.39209844e-03 1.53837036e+00\n",
      " 1.53834821e+00 1.53834769e+00 1.53838430e+00 2.84119071e-01]\n",
      "valid_MAE:\n",
      "[5.11247313e-01 6.19894055e-01 4.48386200e-03 5.32516605e-03\n",
      " 6.80340111e-03 3.47002564e+01 1.41862424e-03 1.55503202e+00\n",
      " 1.55500307e+00 1.55500213e+00 1.55504379e+00 2.85428208e-01]\n",
      "train_MSE_normalized_mean: 0.13943324394292025\n",
      "valid_MSE_normalized_mean: 0.14530833031001977\n",
      "\n"
     ]
    },
    {
     "name": "stderr",
     "output_type": "stream",
     "text": [
      "\n",
      "533it [00:20, 26.63it/s]\n",
      "533it [00:09, 54.99it/s]\n",
      "67it [00:01, 53.40it/s]"
     ]
    },
    {
     "name": "stdout",
     "output_type": "stream",
     "text": [
      "EPOCH:\t169 0.12241225712015302\n",
      "train_MAE:\n",
      "[5.08770882e-01 5.50162040e-01 4.31368561e-03 5.14561989e-03\n",
      " 6.53359451e-03 3.26548280e+01 1.32504596e-03 1.10082795e+00\n",
      " 1.10083940e+00 1.10084193e+00 1.10084438e+00 2.86817930e-01]\n",
      "valid_MAE:\n",
      "[5.26988872e-01 5.60988275e-01 4.53901912e-03 5.20911444e-03\n",
      " 6.81754084e-03 3.37803713e+01 1.34871169e-03 1.11431894e+00\n",
      " 1.11433442e+00 1.11433725e+00 1.11434040e+00 2.89620769e-01]\n",
      "train_MSE_normalized_mean: 0.1346228171753712\n",
      "valid_MSE_normalized_mean: 0.14043891066289918\n",
      "\n"
     ]
    },
    {
     "name": "stderr",
     "output_type": "stream",
     "text": [
      "\n",
      "533it [00:19, 27.00it/s]\n",
      "533it [00:09, 54.66it/s]\n",
      "67it [00:01, 55.42it/s]"
     ]
    },
    {
     "name": "stdout",
     "output_type": "stream",
     "text": [
      "EPOCH:\t170 0.1236602216819214\n",
      "train_MAE:\n",
      "[5.04105258e-01 5.49551074e-01 4.39179114e-03 5.22539900e-03\n",
      " 6.69412622e-03 3.32576003e+01 1.41388414e-03 7.85328346e-01\n",
      " 7.85348031e-01 7.85350026e-01 7.85360431e-01 2.86170508e-01]\n",
      "valid_MAE:\n",
      "[5.25717737e-01 5.58187789e-01 4.59447637e-03 5.27282780e-03\n",
      " 6.91783721e-03 3.42811537e+01 1.44991047e-03 8.05704601e-01\n",
      " 8.05722318e-01 8.05724140e-01 8.05737942e-01 2.88821914e-01]\n",
      "train_MSE_normalized_mean: 0.13272571491804666\n",
      "valid_MSE_normalized_mean: 0.1384639928687411\n",
      "\n"
     ]
    },
    {
     "name": "stderr",
     "output_type": "stream",
     "text": [
      "\n",
      "533it [00:19, 30.53it/s]\n",
      "533it [00:09, 53.57it/s]\n",
      "67it [00:01, 52.24it/s]"
     ]
    },
    {
     "name": "stdout",
     "output_type": "stream",
     "text": [
      "EPOCH:\t171 0.12433891472237195\n",
      "train_MAE:\n",
      "[4.82750171e-01 5.70040498e-01 4.44918370e-03 5.17125417e-03\n",
      " 6.58253501e-03 3.33130627e+01 1.60766236e-03 7.94407277e-01\n",
      " 7.94392625e-01 7.94391520e-01 7.94409039e-01 3.01132948e-01]\n",
      "valid_MAE:\n",
      "[5.01592056e-01 5.79806094e-01 4.66034248e-03 5.23216911e-03\n",
      " 6.85675865e-03 3.42174256e+01 1.63183057e-03 8.03806078e-01\n",
      " 8.03787946e-01 8.03786512e-01 8.03806952e-01 3.03104911e-01]\n",
      "train_MSE_normalized_mean: 0.13293697560798381\n",
      "valid_MSE_normalized_mean: 0.13859301730416515\n",
      "\n"
     ]
    },
    {
     "name": "stderr",
     "output_type": "stream",
     "text": [
      "\n",
      "533it [00:19, 27.27it/s]\n",
      "533it [00:09, 55.36it/s]\n",
      "67it [00:01, 58.85it/s]"
     ]
    },
    {
     "name": "stdout",
     "output_type": "stream",
     "text": [
      "EPOCH:\t172 0.12291317022148708\n",
      "train_MAE:\n",
      "[4.87565655e-01 6.48345447e-01 4.34450440e-03 5.19965906e-03\n",
      " 6.50846100e-03 3.33822001e+01 1.54080397e-03 1.03053251e+00\n",
      " 1.03057238e+00 1.03057700e+00 1.03059508e+00 2.79339942e-01]\n",
      "valid_MAE:\n",
      "[5.11062468e-01 6.58255030e-01 4.53849053e-03 5.23498232e-03\n",
      " 6.73448797e-03 3.44632965e+01 1.58047269e-03 1.04251711e+00\n",
      " 1.04255176e+00 1.04255609e+00 1.04257818e+00 2.82568326e-01]\n",
      "train_MSE_normalized_mean: 0.1357562961436669\n",
      "valid_MSE_normalized_mean: 0.14134759308457964\n",
      "\n"
     ]
    },
    {
     "name": "stderr",
     "output_type": "stream",
     "text": [
      "\n",
      "533it [00:19, 26.75it/s]\n",
      "533it [00:09, 54.60it/s]\n",
      "67it [00:01, 57.71it/s]"
     ]
    },
    {
     "name": "stdout",
     "output_type": "stream",
     "text": [
      "EPOCH:\t173 0.12360354929491459\n",
      "train_MAE:\n",
      "[4.83456132e-01 5.54278059e-01 4.33418039e-03 5.23440067e-03\n",
      " 6.61261392e-03 3.29280933e+01 1.58724354e-03 1.49165683e+00\n",
      " 1.49167109e+00 1.49167199e+00 1.49166375e+00 2.77581316e-01]\n",
      "valid_MAE:\n",
      "[5.05739066e-01 5.69361319e-01 4.55839847e-03 5.29705065e-03\n",
      " 6.87823251e-03 3.40502949e+01 1.61853810e-03 1.50337102e+00\n",
      " 1.50338350e+00 1.50338429e+00 1.50337571e+00 2.80868168e-01]\n",
      "train_MSE_normalized_mean: 0.13829054597818322\n",
      "valid_MSE_normalized_mean: 0.14443922600545014\n",
      "\n"
     ]
    },
    {
     "name": "stderr",
     "output_type": "stream",
     "text": [
      "\n",
      "533it [00:19, 26.93it/s]\n",
      "533it [00:09, 50.50it/s]\n",
      "67it [00:01, 55.47it/s]"
     ]
    },
    {
     "name": "stdout",
     "output_type": "stream",
     "text": [
      "EPOCH:\t174 0.12204415549648188\n",
      "train_MAE:\n",
      "[4.82664394e-01 5.66418543e-01 4.38331214e-03 5.14114756e-03\n",
      " 6.50844919e-03 3.30304947e+01 1.63861760e-03 1.83645817e+00\n",
      " 1.83653829e+00 1.83654398e+00 1.83646563e+00 2.87471387e-01]\n",
      "valid_MAE:\n",
      "[5.02068848e-01 5.73977129e-01 4.58659428e-03 5.18204354e-03\n",
      " 6.75116541e-03 3.40241039e+01 1.66838586e-03 1.83849658e+00\n",
      " 1.83857743e+00 1.83858296e+00 1.83850233e+00 2.89386284e-01]\n",
      "train_MSE_normalized_mean: 0.14126996163429204\n",
      "valid_MSE_normalized_mean: 0.14667715045731436\n",
      "\n"
     ]
    },
    {
     "name": "stderr",
     "output_type": "stream",
     "text": [
      "\n",
      "533it [00:19, 27.00it/s]\n",
      "533it [00:09, 54.91it/s]\n",
      "67it [00:01, 58.69it/s]"
     ]
    },
    {
     "name": "stdout",
     "output_type": "stream",
     "text": [
      "EPOCH:\t175 0.12340304323980553\n",
      "train_MAE:\n",
      "[4.87897148e-01 5.80568388e-01 4.37854440e-03 5.30344044e-03\n",
      " 6.63255602e-03 3.37841189e+01 1.46655087e-03 9.73339307e-01\n",
      " 9.73379524e-01 9.73381795e-01 9.73334472e-01 2.83997730e-01]\n",
      "valid_MAE:\n",
      "[5.09542204e-01 5.91920743e-01 4.57214370e-03 5.37417897e-03\n",
      " 6.84763461e-03 3.45633307e+01 1.50066806e-03 9.83602430e-01\n",
      " 9.83644239e-01 9.83646593e-01 9.83596401e-01 2.85114410e-01]\n",
      "train_MSE_normalized_mean: 0.13452627557803654\n",
      "valid_MSE_normalized_mean: 0.14022074114079394\n",
      "\n"
     ]
    },
    {
     "name": "stderr",
     "output_type": "stream",
     "text": [
      "\n",
      "533it [00:19, 30.19it/s]\n",
      "533it [00:09, 54.32it/s]\n",
      "67it [00:01, 60.64it/s]"
     ]
    },
    {
     "name": "stdout",
     "output_type": "stream",
     "text": [
      "EPOCH:\t176 0.12362729636410612\n",
      "train_MAE:\n",
      "[4.83071603e-01 5.77592785e-01 4.31187300e-03 5.18934690e-03\n",
      " 6.47530824e-03 3.39006855e+01 1.52105677e-03 1.08741235e+00\n",
      " 1.08743631e+00 1.08743683e+00 1.08738790e+00 2.90042344e-01]\n",
      "valid_MAE:\n",
      "[5.03084648e-01 5.87300743e-01 4.52627704e-03 5.24848762e-03\n",
      " 6.72026806e-03 3.48214213e+01 1.55281192e-03 1.09739106e+00\n",
      " 1.09741464e+00 1.09741517e+00 1.09736632e+00 2.93094357e-01]\n",
      "train_MSE_normalized_mean: 0.13562344848596514\n",
      "valid_MSE_normalized_mean: 0.14127559091113642\n",
      "\n"
     ]
    },
    {
     "name": "stderr",
     "output_type": "stream",
     "text": [
      "\n",
      "533it [00:19, 30.89it/s]\n",
      "533it [00:09, 54.82it/s]\n",
      "67it [00:01, 56.77it/s]"
     ]
    },
    {
     "name": "stdout",
     "output_type": "stream",
     "text": [
      "EPOCH:\t177 0.12224679637357844\n",
      "train_MAE:\n",
      "[4.96700275e-01 5.31913654e-01 4.32577632e-03 5.31374406e-03\n",
      " 6.64246677e-03 3.37439233e+01 1.40517399e-03 7.37902110e-01\n",
      " 7.37905092e-01 7.37905161e-01 7.37904421e-01 2.73631821e-01]\n",
      "valid_MAE:\n",
      "[5.17453226e-01 5.44119724e-01 4.55317437e-03 5.36040873e-03\n",
      " 6.90579285e-03 3.43920202e+01 1.42567974e-03 7.47116036e-01\n",
      " 7.47117884e-01 7.47118062e-01 7.47119838e-01 2.75586979e-01]\n",
      "train_MSE_normalized_mean: 0.13187477407276504\n",
      "valid_MSE_normalized_mean: 0.13754873371221785\n",
      "\n"
     ]
    },
    {
     "name": "stderr",
     "output_type": "stream",
     "text": [
      "\n",
      "533it [00:19, 26.98it/s]\n",
      "533it [00:09, 55.02it/s]\n",
      "67it [00:01, 54.92it/s]\n"
     ]
    },
    {
     "name": "stdout",
     "output_type": "stream",
     "text": [
      "EPOCH:\t178 0.12324407738659664\n",
      "train_MAE:\n",
      "[4.84849277e-01 5.82686752e-01 4.27235476e-03 5.30995921e-03\n",
      " 6.68595243e-03 3.38895619e+01 1.62541552e-03 8.52951790e-01\n",
      " 8.52926582e-01 8.52924376e-01 8.52932239e-01 3.06679462e-01]\n",
      "valid_MAE:\n",
      "[5.04459144e-01 5.92006387e-01 4.48841047e-03 5.33536180e-03\n",
      " 6.93501936e-03 3.50251592e+01 1.66065009e-03 8.61404428e-01\n",
      " 8.61381899e-01 8.61379940e-01 8.61379030e-01 3.08378403e-01]\n",
      "train_MSE_normalized_mean: 0.1343286462046864\n",
      "valid_MSE_normalized_mean: 0.1400678125855998\n",
      "\n"
     ]
    },
    {
     "name": "stderr",
     "output_type": "stream",
     "text": [
      "533it [00:19, 29.74it/s]\n",
      "533it [00:09, 48.94it/s]\n",
      "67it [00:01, 55.70it/s]"
     ]
    },
    {
     "name": "stdout",
     "output_type": "stream",
     "text": [
      "EPOCH:\t179 0.12342099466590005\n",
      "train_MAE:\n",
      "[4.82487041e-01 6.46386531e-01 4.26403179e-03 5.30621878e-03\n",
      " 6.58170957e-03 3.28599475e+01 1.70802047e-03 1.25844070e+00\n",
      " 1.25839715e+00 1.25839282e+00 1.25844868e+00 2.93650629e-01]\n",
      "valid_MAE:\n",
      "[5.05151398e-01 6.55243678e-01 4.45838036e-03 5.36638059e-03\n",
      " 6.80552851e-03 3.38367008e+01 1.74502510e-03 1.26753729e+00\n",
      " 1.26748637e+00 1.26748171e+00 1.26754845e+00 2.95521514e-01]\n",
      "train_MSE_normalized_mean: 0.13743932890021296\n",
      "valid_MSE_normalized_mean: 0.14296751979458983\n",
      "\n"
     ]
    },
    {
     "name": "stderr",
     "output_type": "stream",
     "text": [
      "\n",
      "533it [00:19, 27.19it/s]\n",
      "533it [00:09, 53.78it/s]\n",
      "67it [00:01, 58.86it/s]"
     ]
    },
    {
     "name": "stdout",
     "output_type": "stream",
     "text": [
      "EPOCH:\t180 0.12270305739055208\n",
      "train_MAE:\n",
      "[4.83732586e-01 5.35021897e-01 4.29100915e-03 5.16869910e-03\n",
      " 6.43196842e-03 3.33362978e+01 1.38638945e-03 8.81618347e-01\n",
      " 8.81626680e-01 8.81628977e-01 8.81667942e-01 2.77523341e-01]\n",
      "valid_MAE:\n",
      "[5.04912163e-01 5.47769504e-01 4.48474810e-03 5.24625632e-03\n",
      " 6.71658202e-03 3.45380059e+01 1.41882076e-03 8.92043285e-01\n",
      " 8.92051160e-01 8.92053462e-01 8.92094261e-01 2.81804221e-01]\n",
      "train_MSE_normalized_mean: 0.13112939508802454\n",
      "valid_MSE_normalized_mean: 0.13715644362847343\n",
      "\n"
     ]
    },
    {
     "name": "stderr",
     "output_type": "stream",
     "text": [
      "\n",
      "533it [00:19, 27.02it/s]\n",
      "533it [00:09, 55.10it/s]\n",
      "67it [00:01, 55.03it/s]"
     ]
    },
    {
     "name": "stdout",
     "output_type": "stream",
     "text": [
      "EPOCH:\t181 0.12294323056041635\n",
      "train_MAE:\n",
      "[4.84563375e-01 6.71480847e-01 4.44492056e-03 5.13438420e-03\n",
      " 6.57931813e-03 3.34914042e+01 1.48716530e-03 9.80348508e-01\n",
      " 9.80381931e-01 9.80386964e-01 9.80401746e-01 3.02743806e-01]\n",
      "valid_MAE:\n",
      "[5.05713327e-01 6.82942698e-01 4.63030341e-03 5.16316375e-03\n",
      " 6.75975493e-03 3.45243254e+01 1.50921252e-03 9.90992144e-01\n",
      " 9.91025190e-01 9.91030261e-01 9.91049082e-01 3.05296194e-01]\n",
      "train_MSE_normalized_mean: 0.13550885053558429\n",
      "valid_MSE_normalized_mean: 0.1406582196100959\n",
      "\n"
     ]
    },
    {
     "name": "stderr",
     "output_type": "stream",
     "text": [
      "\n",
      "533it [00:19, 26.87it/s]\n",
      "533it [00:09, 54.92it/s]\n",
      "67it [00:01, 58.19it/s]"
     ]
    },
    {
     "name": "stdout",
     "output_type": "stream",
     "text": [
      "EPOCH:\t182 0.12234476131804665\n",
      "train_MAE:\n",
      "[4.82355036e-01 6.10871419e-01 4.64198815e-03 5.21573071e-03\n",
      " 6.60996745e-03 3.40224458e+01 1.44749838e-03 1.19295494e+00\n",
      " 1.19291085e+00 1.19290933e+00 1.19296931e+00 2.91710999e-01]\n",
      "valid_MAE:\n",
      "[5.02836744e-01 6.18258990e-01 4.82606537e-03 5.28550664e-03\n",
      " 6.83380087e-03 3.51166917e+01 1.47446457e-03 1.20941892e+00\n",
      " 1.20937538e+00 1.20937389e+00 1.20942992e+00 2.94355626e-01]\n",
      "train_MSE_normalized_mean: 0.13701807075499298\n",
      "valid_MSE_normalized_mean: 0.14273711125455993\n",
      "\n"
     ]
    },
    {
     "name": "stderr",
     "output_type": "stream",
     "text": [
      "\n",
      "533it [00:19, 30.05it/s]\n",
      "533it [00:09, 48.39it/s]\n",
      "67it [00:01, 53.90it/s]"
     ]
    },
    {
     "name": "stdout",
     "output_type": "stream",
     "text": [
      "EPOCH:\t183 0.12297071397695936\n",
      "train_MAE:\n",
      "[4.80284213e-01 5.55397458e-01 4.35186080e-03 5.26276141e-03\n",
      " 6.46828020e-03 3.32240296e+01 1.36410505e-03 1.05170534e+00\n",
      " 1.05173624e+00 1.05173896e+00 1.05172334e+00 2.79880355e-01]\n",
      "valid_MAE:\n",
      "[5.03036180e-01 5.65555737e-01 4.54896240e-03 5.31712007e-03\n",
      " 6.68823572e-03 3.44422724e+01 1.39455650e-03 1.05441612e+00\n",
      " 1.05444765e+00 1.05445044e+00 1.05443744e+00 2.82882778e-01]\n",
      "train_MSE_normalized_mean: 0.13306471662008298\n",
      "valid_MSE_normalized_mean: 0.1386136424620645\n",
      "\n"
     ]
    },
    {
     "name": "stderr",
     "output_type": "stream",
     "text": [
      "\n",
      "533it [00:19, 26.70it/s]\n",
      "533it [00:09, 54.75it/s]\n",
      "67it [00:01, 62.93it/s]"
     ]
    },
    {
     "name": "stdout",
     "output_type": "stream",
     "text": [
      "EPOCH:\t184 0.1219228898746435\n",
      "train_MAE:\n",
      "[4.80941332e-01 6.41832816e-01 4.32320959e-03 5.26711441e-03\n",
      " 6.48476957e-03 3.39114277e+01 1.90830902e-03 1.19672583e+00\n",
      " 1.19671459e+00 1.19671307e+00 1.19672132e+00 3.05696567e-01]\n",
      "valid_MAE:\n",
      "[5.03496632e-01 6.49384346e-01 4.52961047e-03 5.34548431e-03\n",
      " 6.73834976e-03 3.50227728e+01 1.95347639e-03 1.20657885e+00\n",
      " 1.20656178e+00 1.20656007e+00 1.20657729e+00 3.09439661e-01]\n",
      "train_MSE_normalized_mean: 0.13736946828882535\n",
      "valid_MSE_normalized_mean: 0.14327733683738897\n",
      "\n"
     ]
    },
    {
     "name": "stderr",
     "output_type": "stream",
     "text": [
      "\n",
      "533it [00:19, 26.81it/s]\n",
      "533it [00:09, 53.39it/s]\n",
      "67it [00:01, 56.74it/s]\n"
     ]
    },
    {
     "name": "stdout",
     "output_type": "stream",
     "text": [
      "EPOCH:\t185 0.1231350475331632\n",
      "train_MAE:\n",
      "[4.92310174e-01 5.85615374e-01 4.30536200e-03 5.24873982e-03\n",
      " 6.69581698e-03 3.31354803e+01 1.41435513e-03 7.96825971e-01\n",
      " 7.96853291e-01 7.96855924e-01 7.96853931e-01 2.78771956e-01]\n",
      "valid_MAE:\n",
      "[5.13238015e-01 5.95793686e-01 4.51651161e-03 5.29858837e-03\n",
      " 6.91803296e-03 3.42210512e+01 1.44454090e-03 8.10178065e-01\n",
      " 8.10200550e-01 8.10202827e-01 8.10204171e-01 2.80184317e-01]\n",
      "train_MSE_normalized_mean: 0.1322199749422286\n",
      "valid_MSE_normalized_mean: 0.13795828886638525\n",
      "\n"
     ]
    },
    {
     "name": "stderr",
     "output_type": "stream",
     "text": [
      "533it [00:19, 27.58it/s]\n",
      "533it [00:09, 54.45it/s]\n",
      "67it [00:01, 55.35it/s]"
     ]
    },
    {
     "name": "stdout",
     "output_type": "stream",
     "text": [
      "EPOCH:\t186 0.12187692469884039\n",
      "train_MAE:\n",
      "[4.79966947e-01 5.47022923e-01 4.30614061e-03 5.26644754e-03\n",
      " 6.71739915e-03 3.28449922e+01 1.42838126e-03 7.76069645e-01\n",
      " 7.76062823e-01 7.76061948e-01 7.76064131e-01 2.73903341e-01]\n",
      "valid_MAE:\n",
      "[5.02753619e-01 5.59553104e-01 4.52263150e-03 5.30117370e-03\n",
      " 6.91014759e-03 3.39762184e+01 1.44625562e-03 7.81502664e-01\n",
      " 7.81493116e-01 7.81492072e-01 7.81497081e-01 2.76220606e-01]\n",
      "train_MSE_normalized_mean: 0.1311895286747297\n",
      "valid_MSE_normalized_mean: 0.13668909245893812\n",
      "\n"
     ]
    },
    {
     "name": "stderr",
     "output_type": "stream",
     "text": [
      "\n",
      "533it [00:20, 26.61it/s]\n",
      "533it [00:09, 56.93it/s]\n",
      "67it [00:01, 57.84it/s]"
     ]
    },
    {
     "name": "stdout",
     "output_type": "stream",
     "text": [
      "EPOCH:\t187 0.12107367357885636\n",
      "train_MAE:\n",
      "[4.76648188e-01 6.01543985e-01 4.32191785e-03 5.07510663e-03\n",
      " 6.48768359e-03 3.42763270e+01 1.53772685e-03 1.11180306e+00\n",
      " 1.11179665e+00 1.11179709e+00 1.11181538e+00 2.85398268e-01]\n",
      "valid_MAE:\n",
      "[4.97978722e-01 6.11201166e-01 4.51711134e-03 5.10672289e-03\n",
      " 6.71232828e-03 3.52382455e+01 1.57130891e-03 1.12075551e+00\n",
      " 1.12074824e+00 1.12074862e+00 1.12076946e+00 2.88018515e-01]\n",
      "train_MSE_normalized_mean: 0.1345286721040895\n",
      "valid_MSE_normalized_mean: 0.14020032769061758\n",
      "\n"
     ]
    },
    {
     "name": "stderr",
     "output_type": "stream",
     "text": [
      "\n",
      "533it [00:19, 27.39it/s]\n",
      "533it [00:09, 54.92it/s]\n",
      "67it [00:01, 57.28it/s]"
     ]
    },
    {
     "name": "stdout",
     "output_type": "stream",
     "text": [
      "EPOCH:\t188 0.121621861466771\n",
      "train_MAE:\n",
      "[4.80131116e-01 5.40978687e-01 4.30694763e-03 5.10773073e-03\n",
      " 6.43073253e-03 3.41584259e+01 1.50626460e-03 2.19857302e+00\n",
      " 2.19849963e+00 2.19849476e+00 2.19860140e+00 2.76973416e-01]\n",
      "valid_MAE:\n",
      "[5.01724487e-01 5.51606459e-01 4.50774973e-03 5.18494221e-03\n",
      " 6.69084801e-03 3.51161863e+01 1.53174403e-03 2.19868594e+00\n",
      " 2.19860910e+00 2.19860410e+00 2.19871448e+00 2.79690300e-01]\n",
      "train_MSE_normalized_mean: 0.1424847507510251\n",
      "valid_MSE_normalized_mean: 0.14814765147678957\n",
      "\n"
     ]
    },
    {
     "name": "stderr",
     "output_type": "stream",
     "text": [
      "\n",
      "533it [00:20, 26.45it/s]\n",
      "533it [00:09, 52.38it/s]\n",
      "67it [00:01, 58.26it/s]"
     ]
    },
    {
     "name": "stdout",
     "output_type": "stream",
     "text": [
      "EPOCH:\t189 0.12272853018474847\n",
      "train_MAE:\n",
      "[4.81784197e-01 6.48144705e-01 4.30057862e-03 5.39703795e-03\n",
      " 6.71727803e-03 3.71738261e+01 1.40366413e-03 1.83197560e+00\n",
      " 1.83189031e+00 1.83188724e+00 1.83206364e+00 2.99634479e-01]\n",
      "valid_MAE:\n",
      "[5.01858588e-01 6.55969360e-01 4.52235163e-03 5.45586371e-03\n",
      " 6.94868740e-03 3.80777424e+01 1.42871375e-03 1.83671104e+00\n",
      " 1.83662540e+00 1.83662239e+00 1.83679847e+00 3.03968764e-01]\n",
      "train_MSE_normalized_mean: 0.14271331385342859\n",
      "valid_MSE_normalized_mean: 0.1485205470962663\n",
      "\n"
     ]
    },
    {
     "name": "stderr",
     "output_type": "stream",
     "text": [
      "\n",
      "533it [00:19, 27.23it/s]\n",
      "533it [00:09, 54.27it/s]\n",
      "67it [00:01, 61.02it/s]"
     ]
    },
    {
     "name": "stdout",
     "output_type": "stream",
     "text": [
      "EPOCH:\t190 0.12158831408837946\n",
      "train_MAE:\n",
      "[4.77570366e-01 5.48495837e-01 4.29490602e-03 5.15848646e-03\n",
      " 6.58074851e-03 3.41114928e+01 1.32826135e-03 1.96029384e+00\n",
      " 1.96032187e+00 1.96032732e+00 1.96040423e+00 2.84404558e-01]\n",
      "valid_MAE:\n",
      "[4.98825355e-01 5.58957881e-01 4.48469574e-03 5.21188724e-03\n",
      " 6.81389078e-03 3.54679820e+01 1.35500153e-03 1.96580883e+00\n",
      " 1.96583838e+00 1.96584384e+00 1.96591880e+00 2.88294786e-01]\n",
      "train_MSE_normalized_mean: 0.1403661151752563\n",
      "valid_MSE_normalized_mean: 0.1461243434421393\n",
      "\n"
     ]
    },
    {
     "name": "stderr",
     "output_type": "stream",
     "text": [
      "\n",
      "533it [00:19, 30.55it/s]\n",
      "533it [00:09, 51.72it/s]\n",
      "67it [00:01, 60.12it/s]"
     ]
    },
    {
     "name": "stdout",
     "output_type": "stream",
     "text": [
      "EPOCH:\t191 0.12086604599881128\n",
      "train_MAE:\n",
      "[4.79028137e-01 5.54242658e-01 4.28589252e-03 5.17192924e-03\n",
      " 6.43061114e-03 3.30446998e+01 1.41461633e-03 8.04153483e-01\n",
      " 8.04142393e-01 8.04141571e-01 8.04144418e-01 2.86239458e-01]\n",
      "valid_MAE:\n",
      "[5.00746761e-01 5.64408175e-01 4.47964848e-03 5.23709763e-03\n",
      " 6.68430686e-03 3.41944280e+01 1.44794162e-03 8.18523798e-01\n",
      " 8.18508916e-01 8.18508006e-01 8.18514941e-01 2.90670002e-01]\n",
      "train_MSE_normalized_mean: 0.1304931740049638\n",
      "valid_MSE_normalized_mean: 0.13633976435797515\n",
      "\n"
     ]
    },
    {
     "name": "stderr",
     "output_type": "stream",
     "text": [
      "\n",
      "533it [00:19, 27.62it/s]\n",
      "533it [00:09, 54.57it/s]\n",
      "67it [00:01, 57.57it/s]"
     ]
    },
    {
     "name": "stdout",
     "output_type": "stream",
     "text": [
      "EPOCH:\t192 0.1217161496685325\n",
      "train_MAE:\n",
      "[4.79363922e-01 5.31149106e-01 4.30191482e-03 5.23820169e-03\n",
      " 6.59892222e-03 3.28289022e+01 1.39047755e-03 1.27059232e+00\n",
      " 1.27059661e+00 1.27059851e+00 1.27062771e+00 2.78793415e-01]\n",
      "valid_MAE:\n",
      "[5.01718430e-01 5.42628298e-01 4.51076865e-03 5.30967412e-03\n",
      " 6.87174469e-03 3.39348384e+01 1.42401792e-03 1.28654401e+00\n",
      " 1.28654899e+00 1.28655089e+00 1.28657886e+00 2.81674048e-01]\n",
      "train_MSE_normalized_mean: 0.13496079959973278\n",
      "valid_MSE_normalized_mean: 0.14119651634733876\n",
      "\n"
     ]
    },
    {
     "name": "stderr",
     "output_type": "stream",
     "text": [
      "\n",
      "533it [00:19, 31.26it/s]\n",
      "533it [00:09, 54.23it/s]\n",
      "67it [00:01, 61.61it/s]"
     ]
    },
    {
     "name": "stdout",
     "output_type": "stream",
     "text": [
      "EPOCH:\t193 0.12131578879217716\n",
      "train_MAE:\n",
      "[4.84799811e-01 5.31619485e-01 4.29150405e-03 5.08319776e-03\n",
      " 6.49622082e-03 3.25459825e+01 1.40636369e-03 1.81262238e+00\n",
      " 1.81257730e+00 1.81257701e+00 1.81267234e+00 2.89605626e-01]\n",
      "valid_MAE:\n",
      "[5.05323728e-01 5.44707312e-01 4.50720439e-03 5.13874444e-03\n",
      " 6.77074567e-03 3.34112177e+01 1.43381140e-03 1.81091688e+00\n",
      " 1.81086936e+00 1.81086890e+00 1.81096310e+00 2.91853643e-01]\n",
      "train_MSE_normalized_mean: 0.13862756533857848\n",
      "valid_MSE_normalized_mean: 0.14432168664490388\n",
      "\n"
     ]
    },
    {
     "name": "stderr",
     "output_type": "stream",
     "text": [
      "\n",
      "533it [00:19, 27.48it/s]\n",
      "533it [00:09, 54.31it/s]\n",
      "67it [00:01, 58.42it/s]"
     ]
    },
    {
     "name": "stdout",
     "output_type": "stream",
     "text": [
      "EPOCH:\t194 0.12036237472888453\n",
      "train_MAE:\n",
      "[4.88280170e-01 5.56667265e-01 4.30252172e-03 5.07617727e-03\n",
      " 6.45512930e-03 3.42836502e+01 1.40299624e-03 1.45854077e+00\n",
      " 1.45858481e+00 1.45858776e+00 1.45858843e+00 2.83370591e-01]\n",
      "valid_MAE:\n",
      "[5.09466677e-01 5.71294749e-01 4.51145895e-03 5.13977003e-03\n",
      " 6.68405767e-03 3.53507834e+01 1.43089836e-03 1.45736085e+00\n",
      " 1.45740630e+00 1.45740937e+00 1.45740589e+00 2.87242627e-01]\n",
      "train_MSE_normalized_mean: 0.13625521638344784\n",
      "valid_MSE_normalized_mean: 0.1420838222003429\n",
      "\n"
     ]
    },
    {
     "name": "stderr",
     "output_type": "stream",
     "text": [
      "\n",
      "533it [00:19, 27.21it/s]\n",
      "533it [00:09, 49.52it/s]\n",
      "67it [00:01, 56.70it/s]"
     ]
    },
    {
     "name": "stdout",
     "output_type": "stream",
     "text": [
      "EPOCH:\t195 0.12159087042032442\n",
      "train_MAE:\n",
      "[4.75891823e-01 5.57212217e-01 4.26591991e-03 5.09405338e-03\n",
      " 6.51489256e-03 3.30356721e+01 1.67356524e-03 1.03094705e+00\n",
      " 1.03096914e+00 1.03096892e+00 1.03090697e+00 2.89068197e-01]\n",
      "valid_MAE:\n",
      "[4.98403186e-01 5.72335730e-01 4.49718814e-03 5.14192369e-03\n",
      " 6.78403326e-03 3.41836601e+01 1.69292665e-03 1.04118521e+00\n",
      " 1.04120985e+00 1.04120977e+00 1.04114848e+00 2.91827441e-01]\n",
      "train_MSE_normalized_mean: 0.13313264198234723\n",
      "valid_MSE_normalized_mean: 0.139237623147168\n",
      "\n"
     ]
    },
    {
     "name": "stderr",
     "output_type": "stream",
     "text": [
      "\n",
      "533it [00:19, 27.05it/s]\n",
      "533it [00:09, 54.58it/s]\n",
      "67it [00:01, 57.72it/s]"
     ]
    },
    {
     "name": "stdout",
     "output_type": "stream",
     "text": [
      "EPOCH:\t196 0.12032560004693706\n",
      "train_MAE:\n",
      "[4.84607509e-01 5.43928739e-01 4.23504532e-03 5.13540276e-03\n",
      " 6.46038358e-03 3.23605881e+01 1.61271879e-03 9.98842242e-01\n",
      " 9.98846717e-01 9.98846608e-01 9.98854009e-01 2.78109770e-01]\n",
      "valid_MAE:\n",
      "[5.04575736e-01 5.53801161e-01 4.43527224e-03 5.17989527e-03\n",
      " 6.70955934e-03 3.34995842e+01 1.65827107e-03 1.01674805e+00\n",
      " 1.01674669e+00 1.01674647e+00 1.01676497e+00 2.81912180e-01]\n",
      "train_MSE_normalized_mean: 0.13212307927987318\n",
      "valid_MSE_normalized_mean: 0.13832368978835252\n",
      "\n"
     ]
    },
    {
     "name": "stderr",
     "output_type": "stream",
     "text": [
      "\n",
      "533it [00:19, 27.15it/s]\n",
      "533it [00:09, 54.73it/s]\n",
      "67it [00:01, 58.69it/s]"
     ]
    },
    {
     "name": "stdout",
     "output_type": "stream",
     "text": [
      "EPOCH:\t197 0.12145491440624949\n",
      "train_MAE:\n",
      "[4.76189814e-01 6.01351078e-01 4.40300912e-03 5.11770261e-03\n",
      " 6.52633303e-03 3.42075618e+01 1.78560666e-03 1.31085932e+00\n",
      " 1.31082538e+00 1.31082646e+00 1.31091966e+00 3.20547276e-01]\n",
      "valid_MAE:\n",
      "[4.97576941e-01 6.12690804e-01 4.62373672e-03 5.20472831e-03\n",
      " 6.82166836e-03 3.54773612e+01 1.81724577e-03 1.32160608e+00\n",
      " 1.32157261e+00 1.32157372e+00 1.32166931e+00 3.23279590e-01]\n",
      "train_MSE_normalized_mean: 0.13769845970523256\n",
      "valid_MSE_normalized_mean: 0.14378973800698588\n",
      "\n"
     ]
    },
    {
     "name": "stderr",
     "output_type": "stream",
     "text": [
      "\n",
      "533it [00:19, 31.07it/s]\n",
      "533it [00:09, 53.98it/s]\n",
      "67it [00:01, 57.77it/s]"
     ]
    },
    {
     "name": "stdout",
     "output_type": "stream",
     "text": [
      "EPOCH:\t198 0.12150437818179659\n",
      "train_MAE:\n",
      "[4.83025475e-01 5.42105718e-01 4.24197791e-03 5.03713770e-03\n",
      " 6.36909128e-03 3.28859732e+01 1.53417075e-03 7.15766391e-01\n",
      " 7.15767245e-01 7.15767639e-01 7.15781937e-01 2.74299248e-01]\n",
      "valid_MAE:\n",
      "[5.05810856e-01 5.56483637e-01 4.45623691e-03 5.10148249e-03\n",
      " 6.61638398e-03 3.38072927e+01 1.55205596e-03 7.22462725e-01\n",
      " 7.22463487e-01 7.22463973e-01 7.22480751e-01 2.77334137e-01]\n",
      "train_MSE_normalized_mean: 0.12968489149774667\n",
      "valid_MSE_normalized_mean: 0.13551317300558577\n",
      "\n"
     ]
    },
    {
     "name": "stderr",
     "output_type": "stream",
     "text": [
      "\n",
      "533it [00:19, 26.86it/s]\n",
      "533it [00:09, 54.05it/s]\n",
      "67it [00:01, 56.36it/s]"
     ]
    },
    {
     "name": "stdout",
     "output_type": "stream",
     "text": [
      "EPOCH:\t199 0.12097337646287556\n",
      "train_MAE:\n",
      "[4.86152640e-01 5.81239547e-01 4.27691780e-03 5.05857991e-03\n",
      " 6.36271588e-03 3.32325956e+01 1.64501600e-03 8.03104250e-01\n",
      " 8.03119491e-01 8.03120605e-01 8.03103068e-01 3.03870141e-01]\n",
      "valid_MAE:\n",
      "[5.09387562e-01 5.94468251e-01 4.48520422e-03 5.13131439e-03\n",
      " 6.63036257e-03 3.44185156e+01 1.67349360e-03 8.18809535e-01\n",
      " 8.18822675e-01 8.18823698e-01 8.18810524e-01 3.05548373e-01]\n",
      "train_MSE_normalized_mean: 0.13144701656518917\n",
      "valid_MSE_normalized_mean: 0.13754760828545712\n",
      "\n"
     ]
    },
    {
     "name": "stderr",
     "output_type": "stream",
     "text": [
      "\n",
      "533it [00:19, 27.43it/s]\n",
      "533it [00:09, 52.14it/s]\n",
      "67it [00:01, 65.55it/s]"
     ]
    },
    {
     "name": "stdout",
     "output_type": "stream",
     "text": [
      "EPOCH:\t200 0.12104060419784478\n",
      "train_MAE:\n",
      "[4.81115336e-01 5.31326814e-01 4.23202360e-03 5.21077347e-03\n",
      " 6.45879366e-03 3.24246951e+01 1.35977304e-03 8.30423045e-01\n",
      " 8.30432486e-01 8.30434196e-01 8.30458081e-01 2.73320600e-01]\n",
      "valid_MAE:\n",
      "[5.01380926e-01 5.47014953e-01 4.47063652e-03 5.28850663e-03\n",
      " 6.74196470e-03 3.35667789e+01 1.38237114e-03 8.47797772e-01\n",
      " 8.47802332e-01 8.47803942e-01 8.47840269e-01 2.75930572e-01]\n",
      "train_MSE_normalized_mean: 0.12989675475570575\n",
      "valid_MSE_normalized_mean: 0.13611320752586684\n",
      "\n"
     ]
    },
    {
     "name": "stderr",
     "output_type": "stream",
     "text": [
      "\n",
      "533it [00:19, 27.37it/s]\n",
      "533it [00:09, 53.98it/s]\n",
      "67it [00:01, 56.77it/s]"
     ]
    },
    {
     "name": "stdout",
     "output_type": "stream",
     "text": [
      "EPOCH:\t201 0.11994544317418147\n",
      "train_MAE:\n",
      "[4.74070418e-01 5.62507592e-01 4.20124609e-03 5.06023485e-03\n",
      " 6.41312827e-03 3.24367144e+01 1.40288002e-03 8.01334532e-01\n",
      " 8.01328470e-01 8.01327687e-01 8.01333595e-01 2.83399965e-01]\n",
      "valid_MAE:\n",
      "[4.95032040e-01 5.73885329e-01 4.41885715e-03 5.13449187e-03\n",
      " 6.66262204e-03 3.37871999e+01 1.41982860e-03 8.05956443e-01\n",
      " 8.05950062e-01 8.05949216e-01 8.05949511e-01 2.87917535e-01]\n",
      "train_MSE_normalized_mean: 0.12954936336325637\n",
      "valid_MSE_normalized_mean: 0.13560220689653127\n",
      "\n"
     ]
    },
    {
     "name": "stderr",
     "output_type": "stream",
     "text": [
      "\n",
      "533it [00:19, 27.81it/s]\n",
      "533it [00:09, 55.41it/s]\n",
      "67it [00:01, 55.20it/s]"
     ]
    },
    {
     "name": "stdout",
     "output_type": "stream",
     "text": [
      "EPOCH:\t202 0.12116764593471058\n",
      "train_MAE:\n",
      "[4.75802542e-01 5.84792529e-01 4.32711186e-03 5.16015868e-03\n",
      " 6.55023732e-03 3.21823414e+01 1.48595996e-03 8.04388347e-01\n",
      " 8.04384429e-01 8.04384765e-01 8.04399783e-01 2.72654363e-01]\n",
      "valid_MAE:\n",
      "[4.96946402e-01 5.96943945e-01 4.56247231e-03 5.21263999e-03\n",
      " 6.82892580e-03 3.32141792e+01 1.51388598e-03 8.07618774e-01\n",
      " 8.07615430e-01 8.07615822e-01 8.07627448e-01 2.75663499e-01]\n",
      "train_MSE_normalized_mean: 0.13098381048452165\n",
      "valid_MSE_normalized_mean: 0.13717662724458604\n",
      "\n"
     ]
    },
    {
     "name": "stderr",
     "output_type": "stream",
     "text": [
      "\n",
      "533it [00:19, 26.89it/s]\n",
      "533it [00:09, 54.33it/s]\n",
      "67it [00:01, 61.19it/s]"
     ]
    },
    {
     "name": "stdout",
     "output_type": "stream",
     "text": [
      "EPOCH:\t203 0.1196486073743559\n",
      "train_MAE:\n",
      "[4.80017810e-01 5.35776366e-01 4.28180358e-03 5.12681516e-03\n",
      " 6.38886577e-03 3.32102265e+01 1.41470601e-03 8.71747402e-01\n",
      " 8.71747122e-01 8.71747680e-01 8.71771299e-01 3.02761587e-01]\n",
      "valid_MAE:\n",
      "[5.00966653e-01 5.45953033e-01 4.50250483e-03 5.18619538e-03\n",
      " 6.64596352e-03 3.42724789e+01 1.44496507e-03 8.90097689e-01\n",
      " 8.90094134e-01 8.90094645e-01 8.90124933e-01 3.07031681e-01]\n",
      "train_MSE_normalized_mean: 0.13121138366048468\n",
      "valid_MSE_normalized_mean: 0.13731277238997255\n",
      "\n"
     ]
    },
    {
     "name": "stderr",
     "output_type": "stream",
     "text": [
      "\n",
      "533it [00:19, 30.40it/s]\n",
      "533it [00:09, 54.51it/s]\n",
      "67it [00:01, 58.46it/s]"
     ]
    },
    {
     "name": "stdout",
     "output_type": "stream",
     "text": [
      "EPOCH:\t204 0.1202836943472304\n",
      "train_MAE:\n",
      "[4.76890595e-01 6.43025493e-01 4.21431165e-03 5.07756291e-03\n",
      " 6.38303008e-03 3.80649996e+01 1.55302549e-03 7.85170767e-01\n",
      " 7.85129096e-01 7.85129371e-01 7.85249430e-01 3.61034307e-01]\n",
      "valid_MAE:\n",
      "[4.99472652e-01 6.52825034e-01 4.42483563e-03 5.14539983e-03\n",
      " 6.63440519e-03 3.93279413e+01 1.58750010e-03 7.92338571e-01\n",
      " 7.92296215e-01 7.92296441e-01 7.92416003e-01 3.66251713e-01]\n",
      "train_MSE_normalized_mean: 0.13381870575255342\n",
      "valid_MSE_normalized_mean: 0.13984029660938277\n",
      "\n"
     ]
    },
    {
     "name": "stderr",
     "output_type": "stream",
     "text": [
      "\n",
      "533it [00:19, 27.13it/s]\n",
      "533it [00:09, 54.60it/s]\n",
      "67it [00:01, 57.67it/s]"
     ]
    },
    {
     "name": "stdout",
     "output_type": "stream",
     "text": [
      "EPOCH:\t205 0.11975773386167989\n",
      "train_MAE:\n",
      "[4.78755778e-01 5.53840592e-01 4.20441167e-03 5.03434072e-03\n",
      " 6.39031944e-03 3.31364730e+01 1.39764270e-03 1.17563530e+00\n",
      " 1.17561828e+00 1.17561793e+00 1.17566723e+00 2.73721042e-01]\n",
      "valid_MAE:\n",
      "[5.00883327e-01 5.70648468e-01 4.43504680e-03 5.09859613e-03\n",
      " 6.67043779e-03 3.42900850e+01 1.42646601e-03 1.17914722e+00\n",
      " 1.17913335e+00 1.17913307e+00 1.17917399e+00 2.76612977e-01]\n",
      "train_MSE_normalized_mean: 0.13292229567340533\n",
      "valid_MSE_normalized_mean: 0.13917340266311803\n",
      "\n"
     ]
    },
    {
     "name": "stderr",
     "output_type": "stream",
     "text": [
      "\n",
      "533it [00:19, 27.17it/s]\n",
      "533it [00:09, 53.54it/s]\n",
      "67it [00:01, 58.36it/s]"
     ]
    },
    {
     "name": "stdout",
     "output_type": "stream",
     "text": [
      "EPOCH:\t206 0.11990602813507334\n",
      "train_MAE:\n",
      "[4.86236657e-01 5.45774548e-01 4.28847549e-03 5.33178972e-03\n",
      " 6.90940314e-03 3.34179221e+01 1.55289273e-03 1.06715216e+00\n",
      " 1.06715201e+00 1.06715141e+00 1.06716909e+00 2.73992015e-01]\n",
      "valid_MAE:\n",
      "[5.08029577e-01 5.59102449e-01 4.53082352e-03 5.39047525e-03\n",
      " 7.18102633e-03 3.46172464e+01 1.57934603e-03 1.07441519e+00\n",
      " 1.07441463e+00 1.07441404e+00 1.07443493e+00 2.78011762e-01]\n",
      "train_MSE_normalized_mean: 0.1342686600854245\n",
      "valid_MSE_normalized_mean: 0.14076084867684166\n",
      "\n"
     ]
    },
    {
     "name": "stderr",
     "output_type": "stream",
     "text": [
      "\n",
      "533it [00:19, 27.63it/s]\n",
      "533it [00:09, 54.59it/s]\n",
      "67it [00:01, 55.88it/s]"
     ]
    },
    {
     "name": "stdout",
     "output_type": "stream",
     "text": [
      "EPOCH:\t207 0.11997141434652049\n",
      "train_MAE:\n",
      "[4.79934864e-01 5.40901874e-01 4.25816000e-03 5.08943385e-03\n",
      " 6.43947552e-03 3.27483768e+01 1.43351716e-03 9.58445012e-01\n",
      " 9.58440938e-01 9.58441808e-01 9.58467063e-01 2.79686475e-01]\n",
      "valid_MAE:\n",
      "[5.02971937e-01 5.50768968e-01 4.49956451e-03 5.14618006e-03\n",
      " 6.71865223e-03 3.39214020e+01 1.46614372e-03 9.66954127e-01\n",
      " 9.66943584e-01 9.66944279e-01 9.66983541e-01 2.82143072e-01]\n",
      "train_MSE_normalized_mean: 0.13100950770336522\n",
      "valid_MSE_normalized_mean: 0.13734031723896178\n",
      "\n"
     ]
    },
    {
     "name": "stderr",
     "output_type": "stream",
     "text": [
      "\n",
      "533it [00:19, 27.26it/s]\n",
      "533it [00:09, 54.05it/s]\n",
      "67it [00:01, 55.23it/s]"
     ]
    },
    {
     "name": "stdout",
     "output_type": "stream",
     "text": [
      "EPOCH:\t208 0.12019460398081767\n",
      "train_MAE:\n",
      "[4.86180151e-01 5.43403925e-01 4.21095024e-03 5.19151452e-03\n",
      " 6.50307727e-03 3.28234316e+01 1.38848373e-03 2.11029416e+00\n",
      " 2.11030447e+00 2.11030510e+00 2.11025967e+00 2.78979535e-01]\n",
      "valid_MAE:\n",
      "[5.07645655e-01 5.54297399e-01 4.41298953e-03 5.29860390e-03\n",
      " 6.75418163e-03 3.39807666e+01 1.42026017e-03 2.11401375e+00\n",
      " 2.11402437e+00 2.11402503e+00 2.11398352e+00 2.83050654e-01]\n",
      "train_MSE_normalized_mean: 0.140022165145194\n",
      "valid_MSE_normalized_mean: 0.14611201051618147\n",
      "\n"
     ]
    },
    {
     "name": "stderr",
     "output_type": "stream",
     "text": [
      "\n",
      "533it [00:20, 26.64it/s]\n",
      "533it [00:09, 54.80it/s]\n",
      "67it [00:01, 57.25it/s]"
     ]
    },
    {
     "name": "stdout",
     "output_type": "stream",
     "text": [
      "EPOCH:\t209 0.11997840289327039\n",
      "train_MAE:\n",
      "[4.78274284e-01 5.57194053e-01 4.21525466e-03 5.26892277e-03\n",
      " 6.46160394e-03 3.33789784e+01 1.53208524e-03 2.69715404e+00\n",
      " 2.69711367e+00 2.69711140e+00 2.69718740e+00 2.76817873e-01]\n",
      "valid_MAE:\n",
      "[4.99441092e-01 5.70258214e-01 4.41479576e-03 5.34589295e-03\n",
      " 6.69709983e-03 3.42643598e+01 1.56210188e-03 2.71059241e+00\n",
      " 2.71055050e+00 2.71054823e+00 2.71062452e+00 2.78808769e-01]\n",
      "train_MSE_normalized_mean: 0.14601027882067802\n",
      "valid_MSE_normalized_mean: 0.15198271648361747\n",
      "\n"
     ]
    },
    {
     "name": "stderr",
     "output_type": "stream",
     "text": [
      "\n",
      "533it [00:19, 27.47it/s]\n",
      "533it [00:09, 53.65it/s]\n",
      "67it [00:01, 54.58it/s]"
     ]
    },
    {
     "name": "stdout",
     "output_type": "stream",
     "text": [
      "EPOCH:\t210 0.11918916927884712\n",
      "train_MAE:\n",
      "[4.75722971e-01 6.25233220e-01 4.31250845e-03 5.05642814e-03\n",
      " 6.51498497e-03 3.30633905e+01 1.58277310e-03 9.94996347e-01\n",
      " 9.94976687e-01 9.94977744e-01 9.95042318e-01 3.06593328e-01]\n",
      "valid_MAE:\n",
      "[4.93957853e-01 6.37167012e-01 4.55620187e-03 5.13233855e-03\n",
      " 6.78710522e-03 3.44854890e+01 1.61438202e-03 9.98363921e-01\n",
      " 9.98344766e-01 9.98345874e-01 9.98409695e-01 3.10278977e-01]\n",
      "train_MSE_normalized_mean: 0.13340346672702977\n",
      "valid_MSE_normalized_mean: 0.13951165841907096\n",
      "\n"
     ]
    },
    {
     "name": "stderr",
     "output_type": "stream",
     "text": [
      "\n",
      "533it [00:19, 27.17it/s]\n",
      "533it [00:09, 57.64it/s]\n",
      "67it [00:01, 51.62it/s]"
     ]
    },
    {
     "name": "stdout",
     "output_type": "stream",
     "text": [
      "EPOCH:\t211 0.11992065215703471\n",
      "train_MAE:\n",
      "[4.85659745e-01 7.15904829e-01 4.25246650e-03 5.15328444e-03\n",
      " 6.53575215e-03 3.42152686e+01 1.61308881e-03 8.98279588e-01\n",
      " 8.98281520e-01 8.98280983e-01 8.98272544e-01 3.14143600e-01]\n",
      "valid_MAE:\n",
      "[5.07224529e-01 7.22374712e-01 4.49078707e-03 5.21008888e-03\n",
      " 6.78864769e-03 3.54068951e+01 1.64358779e-03 9.06593835e-01\n",
      " 9.06593739e-01 9.06593196e-01 9.06587225e-01 3.16498148e-01]\n",
      "train_MSE_normalized_mean: 0.1350109345549597\n",
      "valid_MSE_normalized_mean: 0.1407754662432218\n",
      "\n"
     ]
    },
    {
     "name": "stderr",
     "output_type": "stream",
     "text": [
      "\n",
      "533it [00:24, 31.41it/s]\n",
      "533it [00:09, 55.04it/s]\n",
      "67it [00:01, 60.74it/s]"
     ]
    },
    {
     "name": "stdout",
     "output_type": "stream",
     "text": [
      "EPOCH:\t212 0.11967980935750266\n",
      "train_MAE:\n",
      "[4.82955505e-01 5.62110957e-01 4.25006523e-03 4.99714377e-03\n",
      " 6.39250682e-03 3.73396789e+01 1.32513476e-03 1.80229781e+00\n",
      " 1.80222895e+00 1.80223028e+00 1.80244054e+00 3.11975073e-01]\n",
      "valid_MAE:\n",
      "[5.06286083e-01 5.74656023e-01 4.46656223e-03 5.06490844e-03\n",
      " 6.64253801e-03 3.85391755e+01 1.36377737e-03 1.81378923e+00\n",
      " 1.81372360e+00 1.81372500e+00 1.81393068e+00 3.15024722e-01]\n",
      "train_MSE_normalized_mean: 0.13933167491542245\n",
      "valid_MSE_normalized_mean: 0.14552718209418095\n",
      "\n"
     ]
    },
    {
     "name": "stderr",
     "output_type": "stream",
     "text": [
      "\n",
      "533it [00:24, 31.01it/s]\n",
      "533it [00:09, 53.78it/s]\n",
      "67it [00:01, 57.96it/s]"
     ]
    },
    {
     "name": "stdout",
     "output_type": "stream",
     "text": [
      "EPOCH:\t213 0.12044000269156684\n",
      "train_MAE:\n",
      "[4.74220631e-01 5.51106087e-01 4.19314515e-03 5.28250428e-03\n",
      " 6.43518792e-03 3.33427920e+01 1.50286302e-03 9.09156592e-01\n",
      " 9.09126877e-01 9.09126032e-01 9.09184167e-01 2.97524014e-01]\n",
      "valid_MAE:\n",
      "[4.95338949e-01 5.64328155e-01 4.41781318e-03 5.34379743e-03\n",
      " 6.70883886e-03 3.43941120e+01 1.53259890e-03 9.17682592e-01\n",
      " 9.17654284e-01 9.17653504e-01 9.17704852e-01 2.98913147e-01]\n",
      "train_MSE_normalized_mean: 0.13147217533205693\n",
      "valid_MSE_normalized_mean: 0.1377584967571103\n",
      "\n"
     ]
    },
    {
     "name": "stderr",
     "output_type": "stream",
     "text": [
      "\n",
      "533it [00:19, 27.37it/s]\n",
      "533it [00:09, 54.44it/s]\n",
      "67it [00:01, 56.08it/s]"
     ]
    },
    {
     "name": "stdout",
     "output_type": "stream",
     "text": [
      "EPOCH:\t214 0.11879869674875856\n",
      "train_MAE:\n",
      "[4.73902091e-01 5.66920949e-01 4.24340676e-03 5.28757241e-03\n",
      " 6.42313956e-03 3.28167258e+01 1.56543393e-03 1.34013694e+00\n",
      " 1.34014099e+00 1.34014093e+00 1.34012299e+00 2.90559837e-01]\n",
      "valid_MAE:\n",
      "[4.94703567e-01 5.80546212e-01 4.49166937e-03 5.37016225e-03\n",
      " 6.67901882e-03 3.38593521e+01 1.60441069e-03 1.34338709e+00\n",
      " 1.34338778e+00 1.34338770e+00 1.34337399e+00 2.94211054e-01]\n",
      "train_MSE_normalized_mean: 0.13522150238498112\n",
      "valid_MSE_normalized_mean: 0.1413674868757625\n",
      "\n"
     ]
    },
    {
     "name": "stderr",
     "output_type": "stream",
     "text": [
      "\n",
      "533it [00:19, 27.00it/s]\n",
      "533it [00:09, 53.65it/s]\n",
      "67it [00:01, 58.38it/s]"
     ]
    },
    {
     "name": "stdout",
     "output_type": "stream",
     "text": [
      "EPOCH:\t215 0.11868316263631405\n",
      "train_MAE:\n",
      "[4.76438268e-01 5.49238537e-01 4.21862282e-03 5.01522713e-03\n",
      " 6.32830331e-03 3.39133404e+01 1.35965440e-03 1.16043328e+00\n",
      " 1.16039288e+00 1.16039087e+00 1.16048069e+00 2.76887562e-01]\n",
      "valid_MAE:\n",
      "[4.97620328e-01 5.61802527e-01 4.46962961e-03 5.07411661e-03\n",
      " 6.61376793e-03 3.51148948e+01 1.38886547e-03 1.16980689e+00\n",
      " 1.16976435e+00 1.16976227e+00 1.16985341e+00 2.80843421e-01]\n",
      "train_MSE_normalized_mean: 0.13186094751078237\n",
      "valid_MSE_normalized_mean: 0.138442494603948\n",
      "\n"
     ]
    },
    {
     "name": "stderr",
     "output_type": "stream",
     "text": [
      "\n",
      "533it [00:19, 27.85it/s]\n",
      "533it [00:09, 55.59it/s]\n",
      "67it [00:01, 63.49it/s]"
     ]
    },
    {
     "name": "stdout",
     "output_type": "stream",
     "text": [
      "EPOCH:\t216 0.11924526035282447\n",
      "train_MAE:\n",
      "[4.75277449e-01 5.35338613e-01 4.24810489e-03 5.23388848e-03\n",
      " 6.48508923e-03 3.28102741e+01 1.40767272e-03 7.29503238e-01\n",
      " 7.29513435e-01 7.29513833e-01 7.29490908e-01 2.70759668e-01]\n",
      "valid_MAE:\n",
      "[4.97221133e-01 5.49356225e-01 4.46979246e-03 5.32686795e-03\n",
      " 6.77033188e-03 3.39515204e+01 1.45005538e-03 7.42179407e-01\n",
      " 7.42189253e-01 7.42189772e-01 7.42170344e-01 2.74659842e-01]\n",
      "train_MSE_normalized_mean: 0.1282592782834108\n",
      "valid_MSE_normalized_mean: 0.13473545388377034\n",
      "\n"
     ]
    },
    {
     "name": "stderr",
     "output_type": "stream",
     "text": [
      "\n",
      "533it [00:19, 26.82it/s]\n",
      "533it [00:09, 54.35it/s]\n",
      "67it [00:01, 56.65it/s]"
     ]
    },
    {
     "name": "stdout",
     "output_type": "stream",
     "text": [
      "EPOCH:\t217 0.11972630056107021\n",
      "train_MAE:\n",
      "[4.77687273e-01 6.23706267e-01 4.33358892e-03 5.06192703e-03\n",
      " 6.33762917e-03 3.35846858e+01 1.75953530e-03 1.32407445e+00\n",
      " 1.32409422e+00 1.32409267e+00 1.32404903e+00 3.23087169e-01]\n",
      "valid_MAE:\n",
      "[4.99979626e-01 6.34502155e-01 4.56684582e-03 5.13648893e-03\n",
      " 6.59734509e-03 3.48158021e+01 1.79633385e-03 1.33727912e+00\n",
      " 1.33729678e+00 1.33729531e+00 1.33725546e+00 3.28058617e-01]\n",
      "train_MSE_normalized_mean: 0.13708116307084386\n",
      "valid_MSE_normalized_mean: 0.1434441221013883\n",
      "\n"
     ]
    },
    {
     "name": "stderr",
     "output_type": "stream",
     "text": [
      "\n",
      "533it [00:19, 30.16it/s]\n",
      "533it [00:09, 55.45it/s]\n",
      "67it [00:01, 56.51it/s]"
     ]
    },
    {
     "name": "stdout",
     "output_type": "stream",
     "text": [
      "EPOCH:\t218 0.11982888840208805\n",
      "train_MAE:\n",
      "[4.73104304e-01 6.66301495e-01 4.19460572e-03 5.04817588e-03\n",
      " 6.34602819e-03 3.36313475e+01 1.68021637e-03 8.82215635e-01\n",
      " 8.82185212e-01 8.82184034e-01 8.82233411e-01 3.34628913e-01]\n",
      "valid_MAE:\n",
      "[4.93994213e-01 6.78001318e-01 4.41511711e-03 5.12513898e-03\n",
      " 6.61554196e-03 3.46124177e+01 1.70452280e-03 8.81920937e-01\n",
      " 8.81892361e-01 8.81891324e-01 8.81939066e-01 3.36640825e-01]\n",
      "train_MSE_normalized_mean: 0.13342791877106122\n",
      "valid_MSE_normalized_mean: 0.13937828065491015\n",
      "\n"
     ]
    },
    {
     "name": "stderr",
     "output_type": "stream",
     "text": [
      "\n",
      "533it [00:19, 27.18it/s]\n",
      "533it [00:09, 54.28it/s]\n",
      "67it [00:01, 56.40it/s]"
     ]
    },
    {
     "name": "stdout",
     "output_type": "stream",
     "text": [
      "EPOCH:\t219 0.11903471734521537\n",
      "train_MAE:\n",
      "[4.70571572e-01 5.37131048e-01 4.20489055e-03 5.09883423e-03\n",
      " 6.37973794e-03 3.28207786e+01 1.33328845e-03 9.88441760e-01\n",
      " 9.88429256e-01 9.88428618e-01 9.88443917e-01 2.75229430e-01]\n",
      "valid_MAE:\n",
      "[4.92728429e-01 5.46871579e-01 4.45313760e-03 5.17242255e-03\n",
      " 6.67039462e-03 3.40645931e+01 1.35767726e-03 1.00287525e+00\n",
      " 1.00286134e+00 1.00286069e+00 1.00287630e+00 2.78884294e-01]\n",
      "train_MSE_normalized_mean: 0.13004615565335334\n",
      "valid_MSE_normalized_mean: 0.13656067133900593\n",
      "\n"
     ]
    },
    {
     "name": "stderr",
     "output_type": "stream",
     "text": [
      "\n",
      "533it [00:19, 27.02it/s]\n",
      "533it [00:09, 55.70it/s]\n",
      "67it [00:01, 56.82it/s]"
     ]
    },
    {
     "name": "stdout",
     "output_type": "stream",
     "text": [
      "EPOCH:\t220 0.11812750477951865\n",
      "train_MAE:\n",
      "[4.80986341e-01 5.29043454e-01 4.21039821e-03 5.06832377e-03\n",
      " 6.45203529e-03 3.25994876e+01 1.39476127e-03 8.08145094e-01\n",
      " 8.08152387e-01 8.08152083e-01 8.08116521e-01 2.69921505e-01]\n",
      "valid_MAE:\n",
      "[5.03066801e-01 5.41712817e-01 4.42699868e-03 5.14003966e-03\n",
      " 6.71072268e-03 3.38811577e+01 1.42339901e-03 8.14261525e-01\n",
      " 8.14269543e-01 8.14269222e-01 8.14231524e-01 2.73268274e-01]\n",
      "train_MSE_normalized_mean: 0.12868983045628965\n",
      "valid_MSE_normalized_mean: 0.1350155311431415\n",
      "\n"
     ]
    },
    {
     "name": "stderr",
     "output_type": "stream",
     "text": [
      "\n",
      "533it [00:19, 27.73it/s]\n",
      "533it [00:09, 54.91it/s]\n",
      "67it [00:01, 55.19it/s]\n"
     ]
    },
    {
     "name": "stdout",
     "output_type": "stream",
     "text": [
      "EPOCH:\t221 0.1189352504168174\n",
      "train_MAE:\n",
      "[4.71058708e-01 6.95660126e-01 4.19615218e-03 5.01528292e-03\n",
      " 6.27048957e-03 3.56583415e+01 1.81774506e-03 8.35112078e-01\n",
      " 8.35078130e-01 8.35078664e-01 8.35174867e-01 3.41499051e-01]\n",
      "valid_MAE:\n",
      "[4.93705286e-01 7.07510913e-01 4.40643645e-03 5.08430517e-03\n",
      " 6.54307459e-03 3.69606160e+01 1.85114304e-03 8.46259414e-01\n",
      " 8.46224805e-01 8.46225295e-01 8.46318554e-01 3.44669345e-01]\n",
      "train_MSE_normalized_mean: 0.13317877488865007\n",
      "valid_MSE_normalized_mean: 0.1395542897522556\n",
      "\n"
     ]
    },
    {
     "name": "stderr",
     "output_type": "stream",
     "text": [
      "533it [00:19, 26.92it/s]\n",
      "533it [00:09, 55.02it/s]\n",
      "67it [00:01, 58.49it/s]"
     ]
    },
    {
     "name": "stdout",
     "output_type": "stream",
     "text": [
      "EPOCH:\t222 0.1188816469561092\n",
      "train_MAE:\n",
      "[4.76718230e-01 6.21438882e-01 4.15485836e-03 5.07315704e-03\n",
      " 6.32474698e-03 3.38131416e+01 1.56599312e-03 1.14284951e+00\n",
      " 1.14286898e+00 1.14286938e+00 1.14282315e+00 2.81998933e-01]\n",
      "valid_MAE:\n",
      "[5.00096704e-01 6.39212553e-01 4.37046976e-03 5.14054185e-03\n",
      " 6.57475931e-03 3.46762902e+01 1.58851619e-03 1.16572231e+00\n",
      " 1.16574002e+00 1.16574034e+00 1.16569690e+00 2.84976948e-01]\n",
      "train_MSE_normalized_mean: 0.13402396382389445\n",
      "valid_MSE_normalized_mean: 0.1405342220664275\n",
      "\n"
     ]
    },
    {
     "name": "stderr",
     "output_type": "stream",
     "text": [
      "\n",
      "533it [00:19, 26.82it/s]\n",
      "533it [00:09, 54.52it/s]\n",
      "67it [00:01, 58.94it/s]"
     ]
    },
    {
     "name": "stdout",
     "output_type": "stream",
     "text": [
      "EPOCH:\t223 0.11788677675806783\n",
      "train_MAE:\n",
      "[4.69696535e-01 6.26140327e-01 4.15650877e-03 5.62961570e-03\n",
      " 6.78431580e-03 3.30225075e+01 2.04314657e-03 1.28059560e+00\n",
      " 1.28059450e+00 1.28059305e+00 1.28058340e+00 2.97062262e-01]\n",
      "valid_MAE:\n",
      "[4.93059386e-01 6.37373930e-01 4.37357423e-03 5.73613193e-03\n",
      " 7.06080809e-03 3.43381853e+01 2.07812201e-03 1.28820226e+00\n",
      " 1.28819825e+00 1.28819680e+00 1.28819586e+00 3.01630020e-01]\n",
      "train_MSE_normalized_mean: 0.1366607151618584\n",
      "valid_MSE_normalized_mean: 0.14328065232923973\n",
      "\n"
     ]
    },
    {
     "name": "stderr",
     "output_type": "stream",
     "text": [
      "\n",
      "533it [00:19, 27.26it/s]\n",
      "533it [00:09, 54.37it/s]\n",
      "67it [00:01, 56.14it/s]"
     ]
    },
    {
     "name": "stdout",
     "output_type": "stream",
     "text": [
      "EPOCH:\t224 0.1172124199974604\n",
      "train_MAE:\n",
      "[4.76322799e-01 5.40308614e-01 4.18502642e-03 4.99942258e-03\n",
      " 6.30789539e-03 3.21467505e+01 1.37367359e-03 9.82274785e-01\n",
      " 9.82262636e-01 9.82263292e-01 9.82298155e-01 2.95723787e-01]\n",
      "valid_MAE:\n",
      "[4.99397093e-01 5.52267851e-01 4.39837476e-03 5.06351473e-03\n",
      " 6.56592782e-03 3.34924656e+01 1.39525733e-03 9.91305378e-01\n",
      " 9.91294269e-01 9.91294905e-01 9.91324214e-01 2.99957865e-01]\n",
      "train_MSE_normalized_mean: 0.13017373361365103\n",
      "valid_MSE_normalized_mean: 0.13658972777662698\n",
      "\n"
     ]
    },
    {
     "name": "stderr",
     "output_type": "stream",
     "text": [
      "\n",
      "533it [00:19, 27.76it/s]\n",
      "533it [00:09, 55.48it/s]\n",
      "67it [00:01, 57.69it/s]"
     ]
    },
    {
     "name": "stdout",
     "output_type": "stream",
     "text": [
      "EPOCH:\t225 0.11842145011751558\n",
      "train_MAE:\n",
      "[4.69373916e-01 5.46294227e-01 4.21023787e-03 5.08993887e-03\n",
      " 6.42836345e-03 3.45191918e+01 1.51178026e-03 1.85554414e+00\n",
      " 1.85551027e+00 1.85551091e+00 1.85562864e+00 2.89098633e-01]\n",
      "valid_MAE:\n",
      "[4.91050677e-01 5.61773259e-01 4.44379810e-03 5.15274807e-03\n",
      " 6.70124643e-03 3.56508617e+01 1.54326789e-03 1.86419734e+00\n",
      " 1.86416593e+00 1.86416656e+00 1.86428170e+00 2.92875318e-01]\n",
      "train_MSE_normalized_mean: 0.13864361060579025\n",
      "valid_MSE_normalized_mean: 0.14491134668927927\n",
      "\n"
     ]
    },
    {
     "name": "stderr",
     "output_type": "stream",
     "text": [
      "\n",
      "533it [00:19, 27.35it/s]\n",
      "533it [00:09, 54.99it/s]\n",
      "67it [00:01, 58.42it/s]"
     ]
    },
    {
     "name": "stdout",
     "output_type": "stream",
     "text": [
      "EPOCH:\t226 0.11819334630111816\n",
      "train_MAE:\n",
      "[4.71513193e-01 6.33363987e-01 4.26011354e-03 5.44410949e-03\n",
      " 6.47310499e-03 3.28616177e+01 1.85584100e-03 1.37098605e+00\n",
      " 1.37100090e+00 1.37100051e+00 1.37095150e+00 2.85827433e-01]\n",
      "valid_MAE:\n",
      "[4.94832456e-01 6.44458977e-01 4.52889687e-03 5.51387849e-03\n",
      " 6.71032805e-03 3.41997110e+01 1.88901648e-03 1.36737880e+00\n",
      " 1.36739201e+00 1.36739164e+00 1.36734444e+00 2.89038254e-01]\n",
      "train_MSE_normalized_mean: 0.13663277529137127\n",
      "valid_MSE_normalized_mean: 0.14308588644182998\n",
      "\n"
     ]
    },
    {
     "name": "stderr",
     "output_type": "stream",
     "text": [
      "\n",
      "533it [00:19, 31.96it/s]\n",
      "533it [00:09, 55.72it/s]\n",
      "67it [00:01, 57.87it/s]"
     ]
    },
    {
     "name": "stdout",
     "output_type": "stream",
     "text": [
      "EPOCH:\t227 0.11862943500392209\n",
      "train_MAE:\n",
      "[4.79672934e-01 5.43272202e-01 4.24176298e-03 4.99257796e-03\n",
      " 6.34561395e-03 3.27890429e+01 1.39595225e-03 1.33113246e+00\n",
      " 1.33112308e+00 1.33112367e+00 1.33117129e+00 2.73605938e-01]\n",
      "valid_MAE:\n",
      "[5.01616481e-01 5.58504441e-01 4.48582403e-03 5.06432184e-03\n",
      " 6.61974698e-03 3.40608086e+01 1.42352693e-03 1.32553318e+00\n",
      " 1.32552618e+00 1.32552673e+00 1.32556647e+00 2.76657254e-01]\n",
      "train_MSE_normalized_mean: 0.13345106630558032\n",
      "valid_MSE_normalized_mean: 0.1397870185158844\n",
      "\n"
     ]
    },
    {
     "name": "stderr",
     "output_type": "stream",
     "text": [
      "\n",
      "533it [00:19, 30.74it/s]\n",
      "533it [00:09, 55.14it/s]\n",
      "67it [00:01, 54.85it/s]"
     ]
    },
    {
     "name": "stdout",
     "output_type": "stream",
     "text": [
      "EPOCH:\t228 0.11833417140240965\n",
      "train_MAE:\n",
      "[4.72635679e-01 5.59770919e-01 4.22992502e-03 5.06431492e-03\n",
      " 6.46834035e-03 3.24065312e+01 1.46616830e-03 8.65513055e-01\n",
      " 8.65481042e-01 8.65480518e-01 8.65546760e-01 2.97586009e-01]\n",
      "valid_MAE:\n",
      "[4.96419216e-01 5.76984172e-01 4.42725715e-03 5.15761300e-03\n",
      " 6.72934211e-03 3.34052326e+01 1.49401560e-03 8.77113430e-01\n",
      " 8.77082362e-01 8.77081922e-01 8.77143786e-01 3.00884620e-01]\n",
      "train_MSE_normalized_mean: 0.12990672346764268\n",
      "valid_MSE_normalized_mean: 0.13657082995309905\n",
      "\n"
     ]
    },
    {
     "name": "stderr",
     "output_type": "stream",
     "text": [
      "\n",
      "533it [00:19, 26.91it/s]\n",
      "533it [00:09, 53.27it/s]\n",
      "67it [00:01, 56.87it/s]"
     ]
    },
    {
     "name": "stdout",
     "output_type": "stream",
     "text": [
      "EPOCH:\t229 0.11723340783568753\n",
      "train_MAE:\n",
      "[4.71423655e-01 5.72783415e-01 4.14388211e-03 4.99846770e-03\n",
      " 6.33419112e-03 3.28165977e+01 1.37459778e-03 8.74389643e-01\n",
      " 8.74384268e-01 8.74384441e-01 8.74384671e-01 2.75096001e-01]\n",
      "valid_MAE:\n",
      "[4.94073454e-01 5.86401250e-01 4.37616804e-03 5.05457088e-03\n",
      " 6.58203187e-03 3.39124318e+01 1.40319674e-03 8.89579368e-01\n",
      " 8.89573643e-01 8.89573805e-01 8.89574355e-01 2.79441163e-01]\n",
      "train_MSE_normalized_mean: 0.12882154794897815\n",
      "valid_MSE_normalized_mean: 0.13537437195621474\n",
      "\n"
     ]
    },
    {
     "name": "stderr",
     "output_type": "stream",
     "text": [
      "\n",
      "533it [00:19, 27.38it/s]\n",
      "533it [00:09, 54.34it/s]\n",
      "67it [00:01, 57.18it/s]"
     ]
    },
    {
     "name": "stdout",
     "output_type": "stream",
     "text": [
      "EPOCH:\t230 0.118164965278324\n",
      "train_MAE:\n",
      "[4.75103535e-01 5.84386584e-01 4.13848942e-03 5.14215395e-03\n",
      " 6.42204257e-03 3.23043174e+01 1.50654735e-03 1.01114778e+00\n",
      " 1.01116626e+00 1.01116610e+00 1.01110482e+00 2.79766372e-01]\n",
      "valid_MAE:\n",
      "[4.95655753e-01 5.97223433e-01 4.36522581e-03 5.20973426e-03\n",
      " 6.68305180e-03 3.33007291e+01 1.53122510e-03 1.02305885e+00\n",
      " 1.02307709e+00 1.02307696e+00 1.02301643e+00 2.83103595e-01]\n",
      "train_MSE_normalized_mean: 0.1311309197850409\n",
      "valid_MSE_normalized_mean: 0.13722114709490693\n",
      "\n"
     ]
    },
    {
     "name": "stderr",
     "output_type": "stream",
     "text": [
      "\n",
      "533it [00:19, 27.05it/s]\n",
      "533it [00:09, 54.55it/s]\n",
      "67it [00:01, 54.30it/s]\n"
     ]
    },
    {
     "name": "stdout",
     "output_type": "stream",
     "text": [
      "EPOCH:\t231 0.11834493103327044\n",
      "train_MAE:\n",
      "[4.72499374e-01 5.79729021e-01 4.25110060e-03 5.30975985e-03\n",
      " 6.44467060e-03 3.28816115e+01 1.49227304e-03 1.16648826e+00\n",
      " 1.16647707e+00 1.16647636e+00 1.16649625e+00 2.81725682e-01]\n",
      "valid_MAE:\n",
      "[4.97407764e-01 5.93558332e-01 4.47225209e-03 5.39932537e-03\n",
      " 6.68694416e-03 3.40324969e+01 1.53154094e-03 1.18349626e+00\n",
      " 1.18348303e+00 1.18348232e+00 1.18350356e+00 2.83439125e-01]\n",
      "train_MSE_normalized_mean: 0.1330686906361373\n",
      "valid_MSE_normalized_mean: 0.13988216828603248\n",
      "\n"
     ]
    },
    {
     "name": "stderr",
     "output_type": "stream",
     "text": [
      "533it [00:19, 31.22it/s]\n",
      "533it [00:09, 51.96it/s]\n",
      "67it [00:01, 54.83it/s]"
     ]
    },
    {
     "name": "stdout",
     "output_type": "stream",
     "text": [
      "EPOCH:\t232 0.11843879076374404\n",
      "train_MAE:\n",
      "[4.70917924e-01 6.40304263e-01 4.22191142e-03 5.06138897e-03\n",
      " 6.28571758e-03 3.63788799e+01 1.53568220e-03 1.64330517e+00\n",
      " 1.64324607e+00 1.64324479e+00 1.64339404e+00 3.36339513e-01]\n",
      "valid_MAE:\n",
      "[4.93622901e-01 6.49359959e-01 4.40987857e-03 5.15008527e-03\n",
      " 6.54896160e-03 3.73401982e+01 1.56003613e-03 1.65331581e+00\n",
      " 1.65325815e+00 1.65325692e+00 1.65339866e+00 3.38299621e-01]\n",
      "train_MSE_normalized_mean: 0.13988779509500185\n",
      "valid_MSE_normalized_mean: 0.1458193768967266\n",
      "\n"
     ]
    },
    {
     "name": "stderr",
     "output_type": "stream",
     "text": [
      "\n",
      "533it [00:20, 29.91it/s]\n",
      "533it [00:09, 46.85it/s]\n",
      "67it [00:01, 57.67it/s]"
     ]
    },
    {
     "name": "stdout",
     "output_type": "stream",
     "text": [
      "EPOCH:\t233 0.11755867995755087\n",
      "train_MAE:\n",
      "[4.75139848e-01 5.37500295e-01 4.17615309e-03 5.07793621e-03\n",
      " 6.32507029e-03 3.36523350e+01 1.42423752e-03 8.05838223e-01\n",
      " 8.05832202e-01 8.05832139e-01 8.05858873e-01 2.70333460e-01]\n",
      "valid_MAE:\n",
      "[4.96854580e-01 5.53822696e-01 4.40673795e-03 5.13618016e-03\n",
      " 6.58887458e-03 3.50590103e+01 1.44990608e-03 8.23500906e-01\n",
      " 8.23491351e-01 8.23491260e-01 8.23523339e-01 2.73265549e-01]\n",
      "train_MSE_normalized_mean: 0.12924620278099228\n",
      "valid_MSE_normalized_mean: 0.1358920417438625\n",
      "\n"
     ]
    },
    {
     "name": "stderr",
     "output_type": "stream",
     "text": [
      "\n",
      "533it [00:19, 27.35it/s]\n",
      "533it [00:09, 55.98it/s]\n",
      "67it [00:01, 56.54it/s]"
     ]
    },
    {
     "name": "stdout",
     "output_type": "stream",
     "text": [
      "EPOCH:\t234 0.1172839644003317\n",
      "train_MAE:\n",
      "[4.69639776e-01 5.48741548e-01 4.23013144e-03 5.13371456e-03\n",
      " 6.33587719e-03 3.26199837e+01 1.37659108e-03 1.15700298e+00\n",
      " 1.15697814e+00 1.15697763e+00 1.15703553e+00 2.86376926e-01]\n",
      "valid_MAE:\n",
      "[4.93098809e-01 5.59682639e-01 4.47011101e-03 5.22564420e-03\n",
      " 6.62009010e-03 3.38567373e+01 1.39469866e-03 1.16313925e+00\n",
      " 1.16311278e+00 1.16311228e+00 1.16317419e+00 2.89059839e-01]\n",
      "train_MSE_normalized_mean: 0.13228909775025632\n",
      "valid_MSE_normalized_mean: 0.13878586986928054\n",
      "\n"
     ]
    },
    {
     "name": "stderr",
     "output_type": "stream",
     "text": [
      "\n",
      "533it [00:19, 27.04it/s]\n",
      "533it [00:09, 54.89it/s]\n",
      "67it [00:01, 57.49it/s]"
     ]
    },
    {
     "name": "stdout",
     "output_type": "stream",
     "text": [
      "EPOCH:\t235 0.11834225598128607\n",
      "train_MAE:\n",
      "[4.77719632e-01 7.15499592e-01 4.34790645e-03 5.00135496e-03\n",
      " 6.50872854e-03 3.82107206e+01 1.43766025e-03 1.41618855e+00\n",
      " 1.41612792e+00 1.41612803e+00 1.41627515e+00 3.53548908e-01]\n",
      "valid_MAE:\n",
      "[5.01440268e-01 7.26474830e-01 4.58804793e-03 5.08480317e-03\n",
      " 6.79088373e-03 3.95735585e+01 1.46179065e-03 1.43450072e+00\n",
      " 1.43444165e+00 1.43444172e+00 1.43458275e+00 3.57424979e-01]\n",
      "train_MSE_normalized_mean: 0.14025695936690005\n",
      "valid_MSE_normalized_mean: 0.14694259784908362\n",
      "\n"
     ]
    },
    {
     "name": "stderr",
     "output_type": "stream",
     "text": [
      "\n",
      "533it [00:19, 27.31it/s]\n",
      "533it [00:09, 55.93it/s]\n",
      "67it [00:01, 58.85it/s]"
     ]
    },
    {
     "name": "stdout",
     "output_type": "stream",
     "text": [
      "EPOCH:\t236 0.1177677623438343\n",
      "train_MAE:\n",
      "[4.74172676e-01 5.64072348e-01 4.17606346e-03 5.05570314e-03\n",
      " 6.30848793e-03 3.21197411e+01 1.45069052e-03 8.46743855e-01\n",
      " 8.46752809e-01 8.46752736e-01 8.46727596e-01 2.74766260e-01]\n",
      "valid_MAE:\n",
      "[4.95316943e-01 5.79250474e-01 4.41605194e-03 5.13525803e-03\n",
      " 6.60538775e-03 3.32393230e+01 1.46285331e-03 8.55992853e-01\n",
      " 8.56001290e-01 8.56001215e-01 8.55968357e-01 2.77779208e-01]\n",
      "train_MSE_normalized_mean: 0.12879511590021994\n",
      "valid_MSE_normalized_mean: 0.13536657559680387\n",
      "\n"
     ]
    },
    {
     "name": "stderr",
     "output_type": "stream",
     "text": [
      "\n",
      "533it [00:19, 30.65it/s]\n",
      "533it [00:10, 51.77it/s]\n",
      "67it [00:01, 55.09it/s]"
     ]
    },
    {
     "name": "stdout",
     "output_type": "stream",
     "text": [
      "EPOCH:\t237 0.11787433632934295\n",
      "train_MAE:\n",
      "[4.70779100e-01 5.70510133e-01 4.25223559e-03 4.95952976e-03\n",
      " 6.35277362e-03 3.36883872e+01 1.36758921e-03 1.46810346e+00\n",
      " 1.46805512e+00 1.46805475e+00 1.46818185e+00 3.04132438e-01]\n",
      "valid_MAE:\n",
      "[4.92077918e-01 5.84685289e-01 4.49522318e-03 5.04024001e-03\n",
      " 6.63426290e-03 3.47279474e+01 1.38964819e-03 1.48007699e+00\n",
      " 1.48002801e+00 1.48002775e+00 1.48015633e+00 3.07886847e-01]\n",
      "train_MSE_normalized_mean: 0.13606927782731906\n",
      "valid_MSE_normalized_mean: 0.14260798678455763\n",
      "\n"
     ]
    },
    {
     "name": "stderr",
     "output_type": "stream",
     "text": [
      "\n",
      "533it [00:19, 26.79it/s]\n",
      "533it [00:09, 54.97it/s]\n",
      "67it [00:01, 64.16it/s]"
     ]
    },
    {
     "name": "stdout",
     "output_type": "stream",
     "text": [
      "EPOCH:\t238 0.11768374968089484\n",
      "train_MAE:\n",
      "[4.72963093e-01 5.28912819e-01 4.11298371e-03 5.05083793e-03\n",
      " 6.29051155e-03 3.22014962e+01 1.32281312e-03 8.40392596e-01\n",
      " 8.40372492e-01 8.40372488e-01 8.40422823e-01 2.74743709e-01]\n",
      "valid_MAE:\n",
      "[4.94213876e-01 5.44728850e-01 4.34944930e-03 5.13210220e-03\n",
      " 6.57833021e-03 3.34267637e+01 1.35279290e-03 8.49156753e-01\n",
      " 8.49135429e-01 8.49135463e-01 8.49191071e-01 2.78232088e-01]\n",
      "train_MSE_normalized_mean: 0.12771744259029302\n",
      "valid_MSE_normalized_mean: 0.13426569581691808\n",
      "\n"
     ]
    },
    {
     "name": "stderr",
     "output_type": "stream",
     "text": [
      "\n",
      "533it [00:19, 27.62it/s]\n",
      "533it [00:10, 52.96it/s]\n",
      "67it [00:01, 56.29it/s]"
     ]
    },
    {
     "name": "stdout",
     "output_type": "stream",
     "text": [
      "EPOCH:\t239 0.11672419459186843\n",
      "train_MAE:\n",
      "[4.74763757e-01 6.09221284e-01 4.21237116e-03 5.14621194e-03\n",
      " 6.39143395e-03 3.23653615e+01 1.55119488e-03 1.83054069e+00\n",
      " 1.83056262e+00 1.83056207e+00 1.83052187e+00 2.94823470e-01]\n",
      "valid_MAE:\n",
      "[4.97443651e-01 6.20696330e-01 4.44133787e-03 5.23711402e-03\n",
      " 6.66182861e-03 3.36244629e+01 1.59103978e-03 1.83713526e+00\n",
      " 1.83715514e+00 1.83715464e+00 1.83711728e+00 2.98118601e-01]\n",
      "train_MSE_normalized_mean: 0.1384718272353575\n",
      "valid_MSE_normalized_mean: 0.14509674292133115\n",
      "\n"
     ]
    },
    {
     "name": "stderr",
     "output_type": "stream",
     "text": [
      "\n",
      "533it [00:20, 29.28it/s]\n",
      "533it [00:09, 53.39it/s]\n",
      "67it [00:01, 56.10it/s]"
     ]
    },
    {
     "name": "stdout",
     "output_type": "stream",
     "text": [
      "EPOCH:\t240 0.11717757275135834\n",
      "train_MAE:\n",
      "[4.72356366e-01 5.72068146e-01 4.15104453e-03 5.10742204e-03\n",
      " 6.43293934e-03 3.25445057e+01 1.45100052e-03 1.01071021e+00\n",
      " 1.01071454e+00 1.01071417e+00 1.01069303e+00 2.94157542e-01]\n",
      "valid_MAE:\n",
      "[4.95984954e-01 5.85390099e-01 4.37952830e-03 5.19580890e-03\n",
      " 6.71891952e-03 3.36328740e+01 1.47474378e-03 1.01972869e+00\n",
      " 1.01973449e+00 1.01973418e+00 1.01970539e+00 2.96602136e-01]\n",
      "train_MSE_normalized_mean: 0.13087252212647846\n",
      "valid_MSE_normalized_mean: 0.13742938776046784\n",
      "\n"
     ]
    },
    {
     "name": "stderr",
     "output_type": "stream",
     "text": [
      "\n",
      "533it [00:19, 27.47it/s]\n",
      "533it [00:09, 55.20it/s]\n",
      "67it [00:01, 64.10it/s]"
     ]
    },
    {
     "name": "stdout",
     "output_type": "stream",
     "text": [
      "EPOCH:\t241 0.11725473775760765\n",
      "train_MAE:\n",
      "[4.71773438e-01 5.34535086e-01 4.14283914e-03 4.99598068e-03\n",
      " 6.30956685e-03 3.19302850e+01 1.39301255e-03 7.64947839e-01\n",
      " 7.64935443e-01 7.64935355e-01 7.64965089e-01 2.80456535e-01]\n",
      "valid_MAE:\n",
      "[4.94700204e-01 5.48035854e-01 4.37826423e-03 5.08263950e-03\n",
      " 6.60841191e-03 3.30626993e+01 1.42994124e-03 7.73536627e-01\n",
      " 7.73522580e-01 7.73522464e-01 7.73557535e-01 2.84620564e-01]\n",
      "train_MSE_normalized_mean: 0.12670492777271664\n",
      "valid_MSE_normalized_mean: 0.13356253248603597\n",
      "\n"
     ]
    },
    {
     "name": "stderr",
     "output_type": "stream",
     "text": [
      "\n",
      "533it [00:19, 27.07it/s]\n",
      "533it [00:10, 53.28it/s]\n",
      "67it [00:01, 55.89it/s]"
     ]
    },
    {
     "name": "stdout",
     "output_type": "stream",
     "text": [
      "EPOCH:\t242 0.11732721299380344\n",
      "train_MAE:\n",
      "[4.68957618e-01 5.63503157e-01 4.20603212e-03 5.09971643e-03\n",
      " 6.31463079e-03 3.19467623e+01 1.37951687e-03 9.84241525e-01\n",
      " 9.84250574e-01 9.84250868e-01 9.84230088e-01 2.75489665e-01]\n",
      "valid_MAE:\n",
      "[4.92447129e-01 5.77265021e-01 4.44921525e-03 5.19395703e-03\n",
      " 6.57224090e-03 3.31293610e+01 1.40858540e-03 9.86147636e-01\n",
      " 9.86156830e-01 9.86157112e-01 9.86136109e-01 2.78912533e-01]\n",
      "train_MSE_normalized_mean: 0.1300357145114612\n",
      "valid_MSE_normalized_mean: 0.13663585130905923\n",
      "\n"
     ]
    },
    {
     "name": "stderr",
     "output_type": "stream",
     "text": [
      "\n",
      "533it [00:19, 27.72it/s]\n",
      "533it [00:09, 55.59it/s]\n",
      "67it [00:01, 58.33it/s]"
     ]
    },
    {
     "name": "stdout",
     "output_type": "stream",
     "text": [
      "EPOCH:\t243 0.1164792831462946\n",
      "train_MAE:\n",
      "[4.69890438e-01 6.21027696e-01 4.22129088e-03 4.99346785e-03\n",
      " 6.32512047e-03 3.31751518e+01 1.51663874e-03 1.29285844e+00\n",
      " 1.29287371e+00 1.29287325e+00 1.29283709e+00 2.79479530e-01]\n",
      "valid_MAE:\n",
      "[4.91629015e-01 6.34035618e-01 4.45938421e-03 5.09663420e-03\n",
      " 6.60785181e-03 3.41862361e+01 1.53542792e-03 1.29801980e+00\n",
      " 1.29803556e+00 1.29803508e+00 1.29799765e+00 2.82891310e-01]\n",
      "train_MSE_normalized_mean: 0.13340433139741634\n",
      "valid_MSE_normalized_mean: 0.1400121882932274\n",
      "\n"
     ]
    },
    {
     "name": "stderr",
     "output_type": "stream",
     "text": [
      "\n",
      "533it [00:19, 26.84it/s]\n",
      "533it [00:09, 54.87it/s]\n",
      "67it [00:01, 58.14it/s]"
     ]
    },
    {
     "name": "stdout",
     "output_type": "stream",
     "text": [
      "EPOCH:\t244 0.11714908175911286\n",
      "train_MAE:\n",
      "[4.83655863e-01 5.28686105e-01 4.13474723e-03 5.08541164e-03\n",
      " 6.32456635e-03 3.16887109e+01 1.35615263e-03 8.51641848e-01\n",
      " 8.51636648e-01 8.51636379e-01 8.51650872e-01 2.72256505e-01]\n",
      "valid_MAE:\n",
      "[5.06893666e-01 5.40421299e-01 4.36344886e-03 5.14588099e-03\n",
      " 6.59688845e-03 3.27502441e+01 1.38546894e-03 8.63562902e-01\n",
      " 8.63559312e-01 8.63559046e-01 8.63569678e-01 2.77335857e-01]\n",
      "train_MSE_normalized_mean: 0.12847849908037226\n",
      "valid_MSE_normalized_mean: 0.13485976808707975\n",
      "\n"
     ]
    },
    {
     "name": "stderr",
     "output_type": "stream",
     "text": [
      "\n",
      "533it [00:19, 26.74it/s]\n",
      "533it [00:09, 55.75it/s]\n",
      "67it [00:01, 58.33it/s]"
     ]
    },
    {
     "name": "stdout",
     "output_type": "stream",
     "text": [
      "EPOCH:\t245 0.11744624489523456\n",
      "train_MAE:\n",
      "[4.67580814e-01 5.41407573e-01 4.14895025e-03 5.00995952e-03\n",
      " 6.25160421e-03 3.31795739e+01 1.40500746e-03 2.21980443e+00\n",
      " 2.21975916e+00 2.21975854e+00 2.21986209e+00 2.95785372e-01]\n",
      "valid_MAE:\n",
      "[4.90435165e-01 5.54039323e-01 4.38043986e-03 5.10339216e-03\n",
      " 6.54398389e-03 3.42420997e+01 1.43445886e-03 2.21879349e+00\n",
      " 2.21874627e+00 2.21874564e+00 2.21885046e+00 2.99708103e-01]\n",
      "train_MSE_normalized_mean: 0.13988641584942837\n",
      "valid_MSE_normalized_mean: 0.14666332601282736\n",
      "\n"
     ]
    },
    {
     "name": "stderr",
     "output_type": "stream",
     "text": [
      "\n",
      "533it [00:19, 27.35it/s]\n",
      "533it [00:09, 54.53it/s]\n",
      "67it [00:01, 59.53it/s]"
     ]
    },
    {
     "name": "stdout",
     "output_type": "stream",
     "text": [
      "EPOCH:\t246 0.1162129404481088\n",
      "train_MAE:\n",
      "[4.65985776e-01 5.29775347e-01 4.15180466e-03 5.08459042e-03\n",
      " 6.30971113e-03 3.35341372e+01 1.31875362e-03 7.78398785e-01\n",
      " 7.78392297e-01 7.78392291e-01 7.78409134e-01 2.81238639e-01]\n",
      "valid_MAE:\n",
      "[4.89477648e-01 5.43197863e-01 4.38711059e-03 5.16213180e-03\n",
      " 6.57745192e-03 3.48188491e+01 1.34755787e-03 7.89065832e-01\n",
      " 7.89058139e-01 7.89058109e-01 7.89076159e-01 2.86767835e-01]\n",
      "train_MSE_normalized_mean: 0.1274590979691491\n",
      "valid_MSE_normalized_mean: 0.134107164592165\n",
      "\n"
     ]
    },
    {
     "name": "stderr",
     "output_type": "stream",
     "text": [
      "\n",
      "533it [00:20, 29.68it/s]\n",
      "533it [00:09, 51.47it/s]\n",
      "67it [00:01, 56.62it/s]"
     ]
    },
    {
     "name": "stdout",
     "output_type": "stream",
     "text": [
      "EPOCH:\t247 0.11743306061060746\n",
      "train_MAE:\n",
      "[4.66729514e-01 5.63217522e-01 4.12691853e-03 5.20976850e-03\n",
      " 6.41664119e-03 3.26978353e+01 1.49699839e-03 1.81375496e+00\n",
      " 1.81370895e+00 1.81370845e+00 1.81382473e+00 2.97971002e-01]\n",
      "valid_MAE:\n",
      "[4.90078494e-01 5.71711663e-01 4.35052515e-03 5.31508053e-03\n",
      " 6.66786534e-03 3.36782620e+01 1.52207018e-03 1.81309555e+00\n",
      " 1.81304781e+00 1.81304733e+00 1.81316592e+00 3.00640485e-01]\n",
      "train_MSE_normalized_mean: 0.1378001712645936\n",
      "valid_MSE_normalized_mean: 0.14426614722137535\n",
      "\n"
     ]
    },
    {
     "name": "stderr",
     "output_type": "stream",
     "text": [
      "\n",
      "533it [00:19, 27.43it/s]\n",
      "533it [00:09, 53.61it/s]\n",
      "67it [00:01, 68.58it/s]"
     ]
    },
    {
     "name": "stdout",
     "output_type": "stream",
     "text": [
      "EPOCH:\t248 0.1172021344359999\n",
      "train_MAE:\n",
      "[4.63659058e-01 5.34892651e-01 4.17235668e-03 5.16689597e-03\n",
      " 6.44549259e-03 3.22339827e+01 1.39906862e-03 7.37191456e-01\n",
      " 7.37196470e-01 7.37196694e-01 7.37183591e-01 2.69311647e-01]\n",
      "valid_MAE:\n",
      "[4.88408487e-01 5.48134409e-01 4.41137351e-03 5.27917537e-03\n",
      " 6.77431531e-03 3.33468546e+01 1.43392698e-03 7.49066614e-01\n",
      " 7.49069705e-01 7.49069982e-01 7.49067083e-01 2.72124625e-01]\n",
      "train_MSE_normalized_mean: 0.12693375931402898\n",
      "valid_MSE_normalized_mean: 0.13403526392921847\n",
      "\n"
     ]
    },
    {
     "name": "stderr",
     "output_type": "stream",
     "text": [
      "\n",
      "533it [00:19, 29.27it/s]\n",
      "533it [00:09, 54.68it/s]\n",
      "67it [00:01, 57.07it/s]"
     ]
    },
    {
     "name": "stdout",
     "output_type": "stream",
     "text": [
      "EPOCH:\t249 0.1162740744189071\n",
      "train_MAE:\n",
      "[4.73429897e-01 5.47986657e-01 4.36414229e-03 5.04773058e-03\n",
      " 6.28089198e-03 3.25765782e+01 1.34730859e-03 1.18122808e+00\n",
      " 1.18122358e+00 1.18122428e+00 1.18124276e+00 2.69771363e-01]\n",
      "valid_MAE:\n",
      "[4.94741769e-01 5.65838235e-01 4.57498437e-03 5.12592005e-03\n",
      " 6.57586224e-03 3.39010171e+01 1.38248854e-03 1.18425913e+00\n",
      " 1.18425393e+00 1.18425461e+00 1.18427610e+00 2.73338071e-01]\n",
      "train_MSE_normalized_mean: 0.1316045141294985\n",
      "valid_MSE_normalized_mean: 0.13859687405864507\n",
      "\n"
     ]
    },
    {
     "name": "stderr",
     "output_type": "stream",
     "text": [
      "\n",
      "533it [00:19, 27.30it/s]\n",
      "533it [00:09, 54.86it/s]\n",
      "67it [00:01, 56.25it/s]"
     ]
    },
    {
     "name": "stdout",
     "output_type": "stream",
     "text": [
      "EPOCH:\t250 0.11661362692741695\n",
      "train_MAE:\n",
      "[4.64750486e-01 5.39405378e-01 4.19254933e-03 5.05801081e-03\n",
      " 6.28383954e-03 3.19381571e+01 1.33407551e-03 8.03291476e-01\n",
      " 8.03288871e-01 8.03288982e-01 8.03288111e-01 2.79586922e-01]\n",
      "valid_MAE:\n",
      "[4.89032983e-01 5.53147500e-01 4.46507281e-03 5.14589490e-03\n",
      " 6.55979363e-03 3.30780332e+01 1.36137597e-03 8.02442386e-01\n",
      " 8.02441811e-01 8.02441938e-01 8.02436370e-01 2.83087469e-01]\n",
      "train_MSE_normalized_mean: 0.12727060650750668\n",
      "valid_MSE_normalized_mean: 0.13412945761474418\n",
      "\n"
     ]
    },
    {
     "name": "stderr",
     "output_type": "stream",
     "text": [
      "\n",
      "533it [00:19, 26.67it/s]\n",
      "533it [00:09, 54.63it/s]\n",
      "67it [00:01, 55.30it/s]"
     ]
    },
    {
     "name": "stdout",
     "output_type": "stream",
     "text": [
      "EPOCH:\t251 0.11648700211553592\n",
      "train_MAE:\n",
      "[4.71718091e-01 5.61156087e-01 4.29663382e-03 5.18660616e-03\n",
      " 6.35371277e-03 3.30352543e+01 1.52375767e-03 7.61556910e-01\n",
      " 7.61547112e-01 7.61547310e-01 7.61568166e-01 2.82677069e-01]\n",
      "valid_MAE:\n",
      "[4.96331504e-01 5.71393877e-01 4.53483743e-03 5.25994673e-03\n",
      " 6.63725131e-03 3.41276555e+01 1.54262292e-03 7.75540651e-01\n",
      " 7.75531346e-01 7.75531571e-01 7.75549610e-01 2.85827767e-01]\n",
      "train_MSE_normalized_mean: 0.12912234707991374\n",
      "valid_MSE_normalized_mean: 0.13583314148554407\n",
      "\n"
     ]
    },
    {
     "name": "stderr",
     "output_type": "stream",
     "text": [
      "\n",
      "533it [00:19, 27.17it/s]\n",
      "533it [00:09, 54.85it/s]\n",
      "67it [00:01, 53.71it/s]"
     ]
    },
    {
     "name": "stdout",
     "output_type": "stream",
     "text": [
      "EPOCH:\t252 0.11607980394061466\n",
      "train_MAE:\n",
      "[4.71018961e-01 5.58422313e-01 4.24487550e-03 5.10337015e-03\n",
      " 6.31704877e-03 3.20501884e+01 1.40112873e-03 9.43592983e-01\n",
      " 9.43596806e-01 9.43597064e-01 9.43596181e-01 2.66021405e-01]\n",
      "valid_MAE:\n",
      "[4.95057719e-01 5.70786918e-01 4.47294517e-03 5.18343435e-03\n",
      " 6.59844280e-03 3.33294208e+01 1.43199822e-03 9.58462495e-01\n",
      " 9.58465053e-01 9.58465324e-01 9.58466532e-01 2.68629998e-01]\n",
      "train_MSE_normalized_mean: 0.12933095480596243\n",
      "valid_MSE_normalized_mean: 0.13589897739779683\n",
      "\n"
     ]
    },
    {
     "name": "stderr",
     "output_type": "stream",
     "text": [
      "\n",
      "533it [00:19, 31.54it/s]\n",
      "533it [00:09, 54.68it/s]\n",
      "67it [00:01, 57.70it/s]"
     ]
    },
    {
     "name": "stdout",
     "output_type": "stream",
     "text": [
      "EPOCH:\t253 0.1173020393550955\n",
      "train_MAE:\n",
      "[4.69280221e-01 5.36786262e-01 4.09414993e-03 5.01612924e-03\n",
      " 6.25705283e-03 3.25093891e+01 1.35248357e-03 9.78017297e-01\n",
      " 9.78018813e-01 9.78019102e-01 9.78016527e-01 2.69515157e-01]\n",
      "valid_MAE:\n",
      "[4.91880020e-01 5.53559566e-01 4.32634899e-03 5.07330394e-03\n",
      " 6.51331707e-03 3.37880177e+01 1.36180268e-03 9.99160454e-01\n",
      " 9.99163832e-01 9.99164122e-01 9.99153770e-01 2.71894896e-01]\n",
      "train_MSE_normalized_mean: 0.12851804285267304\n",
      "valid_MSE_normalized_mean: 0.13524854146180074\n",
      "\n"
     ]
    },
    {
     "name": "stderr",
     "output_type": "stream",
     "text": [
      "\n",
      "533it [00:19, 26.92it/s]\n",
      "533it [00:09, 52.57it/s]\n",
      "67it [00:01, 57.47it/s]"
     ]
    },
    {
     "name": "stdout",
     "output_type": "stream",
     "text": [
      "EPOCH:\t254 0.11639212419962122\n",
      "train_MAE:\n",
      "[4.65338458e-01 5.46268164e-01 4.12548757e-03 4.94976931e-03\n",
      " 6.26193468e-03 3.16176681e+01 1.46528232e-03 8.59575086e-01\n",
      " 8.59552521e-01 8.59552176e-01 8.59612269e-01 2.94892526e-01]\n",
      "valid_MAE:\n",
      "[4.88278561e-01 5.57731132e-01 4.36536691e-03 5.04965916e-03\n",
      " 6.54677178e-03 3.28937237e+01 1.49025837e-03 8.65675101e-01\n",
      " 8.65652387e-01 8.65652013e-01 8.65709969e-01 2.99450783e-01]\n",
      "train_MSE_normalized_mean: 0.1282139403349112\n",
      "valid_MSE_normalized_mean: 0.13501613536364632\n",
      "\n"
     ]
    },
    {
     "name": "stderr",
     "output_type": "stream",
     "text": [
      "\n",
      "533it [00:19, 31.74it/s]\n",
      "533it [00:09, 54.48it/s]\n",
      "67it [00:01, 58.02it/s]"
     ]
    },
    {
     "name": "stdout",
     "output_type": "stream",
     "text": [
      "EPOCH:\t255 0.11666358224558339\n",
      "train_MAE:\n",
      "[4.64236689e-01 5.59196150e-01 4.19264832e-03 5.07748184e-03\n",
      " 6.44976696e-03 3.23054139e+01 1.35071184e-03 8.16748915e-01\n",
      " 8.16738468e-01 8.16738475e-01 8.16773114e-01 2.83469086e-01]\n",
      "valid_MAE:\n",
      "[4.88130641e-01 5.73953282e-01 4.42263310e-03 5.16506936e-03\n",
      " 6.77428079e-03 3.35316523e+01 1.37896169e-03 8.29148707e-01\n",
      " 8.29137286e-01 8.29137292e-01 8.29172370e-01 2.87844316e-01]\n",
      "train_MSE_normalized_mean: 0.12792753813988172\n",
      "valid_MSE_normalized_mean: 0.13500721148974096\n",
      "\n"
     ]
    },
    {
     "name": "stderr",
     "output_type": "stream",
     "text": [
      "\n",
      "533it [00:19, 31.24it/s]\n",
      "533it [00:09, 55.20it/s]\n",
      "67it [00:01, 57.44it/s]"
     ]
    },
    {
     "name": "stdout",
     "output_type": "stream",
     "text": [
      "EPOCH:\t256 0.11671043202756269\n",
      "train_MAE:\n",
      "[4.66762335e-01 5.30825459e-01 4.12870779e-03 4.99001066e-03\n",
      " 6.30972937e-03 3.30689648e+01 1.38582749e-03 8.95867719e-01\n",
      " 8.95862045e-01 8.95862122e-01 8.95880708e-01 2.71515150e-01]\n",
      "valid_MAE:\n",
      "[4.90259211e-01 5.45217450e-01 4.37652536e-03 5.10470708e-03\n",
      " 6.58210129e-03 3.44694545e+01 1.41266489e-03 9.12544210e-01\n",
      " 9.12538408e-01 9.12538500e-01 9.12556185e-01 2.74229099e-01]\n",
      "train_MSE_normalized_mean: 0.12769432750515144\n",
      "valid_MSE_normalized_mean: 0.13459053322014256\n",
      "\n"
     ]
    },
    {
     "name": "stderr",
     "output_type": "stream",
     "text": [
      "\n",
      "533it [00:19, 27.22it/s]\n",
      "533it [00:09, 54.73it/s]\n",
      "67it [00:01, 56.40it/s]"
     ]
    },
    {
     "name": "stdout",
     "output_type": "stream",
     "text": [
      "EPOCH:\t257 0.11639811643740026\n",
      "train_MAE:\n",
      "[4.65300012e-01 6.09007717e-01 4.20442865e-03 5.30114205e-03\n",
      " 6.39774509e-03 3.24725537e+01 2.01356240e-03 1.16640583e+00\n",
      " 1.16636185e+00 1.16636151e+00 1.16644632e+00 3.34405564e-01]\n",
      "valid_MAE:\n",
      "[4.87275766e-01 6.22245471e-01 4.44032321e-03 5.38557592e-03\n",
      " 6.70029284e-03 3.36682978e+01 2.03749064e-03 1.15890759e+00\n",
      " 1.15886339e+00 1.15886318e+00 1.15894757e+00 3.39053979e-01]\n",
      "train_MSE_normalized_mean: 0.13452281668930194\n",
      "valid_MSE_normalized_mean: 0.14114431352990353\n",
      "\n"
     ]
    },
    {
     "name": "stderr",
     "output_type": "stream",
     "text": [
      "\n",
      "533it [00:19, 27.11it/s]\n",
      "533it [00:09, 50.52it/s]\n",
      "67it [00:01, 60.52it/s]"
     ]
    },
    {
     "name": "stdout",
     "output_type": "stream",
     "text": [
      "EPOCH:\t258 0.1158395335916954\n",
      "train_MAE:\n",
      "[4.65105344e-01 5.68035625e-01 4.14640727e-03 4.93456174e-03\n",
      " 6.21614168e-03 3.36236234e+01 1.42566346e-03 9.64413579e-01\n",
      " 9.64397994e-01 9.64397824e-01 9.64447528e-01 2.86806729e-01]\n",
      "valid_MAE:\n",
      "[4.87139680e-01 5.80110948e-01 4.38708465e-03 5.03214870e-03\n",
      " 6.53092541e-03 3.46927066e+01 1.44759615e-03 9.66924162e-01\n",
      " 9.66908507e-01 9.66908354e-01 9.66956158e-01 2.89467892e-01]\n",
      "train_MSE_normalized_mean: 0.12946781202092195\n",
      "valid_MSE_normalized_mean: 0.1362965241359864\n",
      "\n"
     ]
    },
    {
     "name": "stderr",
     "output_type": "stream",
     "text": [
      "\n",
      "533it [00:19, 27.11it/s]\n",
      "533it [00:10, 53.17it/s]\n",
      "67it [00:01, 56.55it/s]"
     ]
    },
    {
     "name": "stdout",
     "output_type": "stream",
     "text": [
      "EPOCH:\t259 0.11608578045249657\n",
      "train_MAE:\n",
      "[4.67073011e-01 5.23117162e-01 4.14123835e-03 4.97627416e-03\n",
      " 6.34140929e-03 3.20729918e+01 1.35230124e-03 1.42598557e+00\n",
      " 1.42594986e+00 1.42594862e+00 1.42603660e+00 2.80324669e-01]\n",
      "valid_MAE:\n",
      "[4.90159953e-01 5.38102309e-01 4.36675469e-03 5.06865709e-03\n",
      " 6.59410196e-03 3.32481560e+01 1.37906296e-03 1.42748325e+00\n",
      " 1.42744571e+00 1.42744450e+00 1.42753568e+00 2.84022871e-01]\n",
      "train_MSE_normalized_mean: 0.1321012966018653\n",
      "valid_MSE_normalized_mean: 0.13882484018734814\n",
      "\n"
     ]
    },
    {
     "name": "stderr",
     "output_type": "stream",
     "text": [
      "\n",
      "533it [00:19, 27.05it/s]\n",
      "533it [00:09, 54.56it/s]\n",
      "67it [00:01, 57.56it/s]"
     ]
    },
    {
     "name": "stdout",
     "output_type": "stream",
     "text": [
      "EPOCH:\t260 0.11655946465918539\n",
      "train_MAE:\n",
      "[4.65625338e-01 5.64798976e-01 4.23231169e-03 5.14669629e-03\n",
      " 6.59869200e-03 3.19670422e+01 1.49204155e-03 8.07962836e-01\n",
      " 8.07971253e-01 8.07971206e-01 8.07966973e-01 3.04438086e-01]\n",
      "valid_MAE:\n",
      "[4.90879677e-01 5.79364444e-01 4.46817905e-03 5.28337375e-03\n",
      " 6.92393185e-03 3.32186542e+01 1.51492642e-03 8.20068622e-01\n",
      " 8.20074748e-01 8.20074706e-01 8.20072947e-01 3.09363205e-01]\n",
      "train_MSE_normalized_mean: 0.12904459183254355\n",
      "valid_MSE_normalized_mean: 0.13650277812539474\n",
      "\n"
     ]
    },
    {
     "name": "stderr",
     "output_type": "stream",
     "text": [
      "\n",
      "533it [00:19, 27.52it/s]\n",
      "533it [00:09, 50.58it/s]\n",
      "67it [00:01, 60.66it/s]"
     ]
    },
    {
     "name": "stdout",
     "output_type": "stream",
     "text": [
      "EPOCH:\t261 0.11618199678903225\n",
      "train_MAE:\n",
      "[4.74528124e-01 5.42928551e-01 4.16348355e-03 4.98389943e-03\n",
      " 6.33342102e-03 3.17104084e+01 1.45703448e-03 7.32988045e-01\n",
      " 7.32987199e-01 7.32987252e-01 7.32984440e-01 2.70596432e-01]\n",
      "valid_MAE:\n",
      "[5.00048095e-01 5.59285180e-01 4.42414403e-03 5.07572767e-03\n",
      " 6.62829716e-03 3.31417638e+01 1.48473346e-03 7.42733739e-01\n",
      " 7.42732382e-01 7.42732430e-01 7.42729381e-01 2.74331296e-01]\n",
      "train_MSE_normalized_mean: 0.12689782669900798\n",
      "valid_MSE_normalized_mean: 0.134297828717778\n",
      "\n"
     ]
    },
    {
     "name": "stderr",
     "output_type": "stream",
     "text": [
      "\n",
      "533it [00:19, 27.20it/s]\n",
      "533it [00:09, 54.97it/s]\n",
      "67it [00:01, 58.39it/s]"
     ]
    },
    {
     "name": "stdout",
     "output_type": "stream",
     "text": [
      "EPOCH:\t262 0.11564817033554331\n",
      "train_MAE:\n",
      "[4.66012332e-01 5.38064329e-01 4.14226715e-03 4.96620394e-03\n",
      " 6.19275382e-03 3.28577505e+01 1.36615032e-03 8.41789666e-01\n",
      " 8.41791238e-01 8.41791168e-01 8.41773085e-01 2.67209357e-01]\n",
      "valid_MAE:\n",
      "[4.87791385e-01 5.50036891e-01 4.35896199e-03 5.03924486e-03\n",
      " 6.43730758e-03 3.41476195e+01 1.38372347e-03 8.46465310e-01\n",
      " 8.46467456e-01 8.46467403e-01 8.46441985e-01 2.69392092e-01]\n",
      "train_MSE_normalized_mean: 0.1271377596733601\n",
      "valid_MSE_normalized_mean: 0.13376216307633446\n",
      "\n"
     ]
    },
    {
     "name": "stderr",
     "output_type": "stream",
     "text": [
      "\n",
      "533it [00:19, 30.99it/s]\n",
      "533it [00:09, 56.17it/s]\n",
      "67it [00:01, 57.86it/s]"
     ]
    },
    {
     "name": "stdout",
     "output_type": "stream",
     "text": [
      "EPOCH:\t263 0.1162121428585634\n",
      "train_MAE:\n",
      "[4.67551284e-01 5.41448696e-01 4.09413472e-03 4.94482369e-03\n",
      " 6.23526372e-03 3.22800438e+01 1.38161676e-03 7.87716232e-01\n",
      " 7.87709962e-01 7.87710061e-01 7.87727617e-01 2.75189081e-01]\n",
      "valid_MAE:\n",
      "[4.90979836e-01 5.54987411e-01 4.35678387e-03 5.05468761e-03\n",
      " 6.56155489e-03 3.35272584e+01 1.40840358e-03 8.03428105e-01\n",
      " 8.03420336e-01 8.03420414e-01 8.03442352e-01 2.78116973e-01]\n",
      "train_MSE_normalized_mean: 0.12671348433099883\n",
      "valid_MSE_normalized_mean: 0.13394559933725284\n",
      "\n"
     ]
    },
    {
     "name": "stderr",
     "output_type": "stream",
     "text": [
      "\n",
      "533it [00:19, 31.13it/s]\n",
      "533it [00:09, 48.38it/s]\n",
      "67it [00:01, 56.99it/s]"
     ]
    },
    {
     "name": "stdout",
     "output_type": "stream",
     "text": [
      "EPOCH:\t264 0.11532807161447926\n",
      "train_MAE:\n",
      "[4.70538374e-01 5.45700657e-01 4.14077183e-03 5.16459662e-03\n",
      " 6.53166314e-03 3.19400313e+01 1.49988285e-03 7.82667439e-01\n",
      " 7.82671338e-01 7.82671588e-01 7.82677262e-01 2.75262519e-01]\n",
      "valid_MAE:\n",
      "[4.95966724e-01 5.60043077e-01 4.37737012e-03 5.23365854e-03\n",
      " 6.81616087e-03 3.29936622e+01 1.52573435e-03 8.02015976e-01\n",
      " 8.02017948e-01 8.02018264e-01 8.02032474e-01 2.76643956e-01]\n",
      "train_MSE_normalized_mean: 0.12835135322887406\n",
      "valid_MSE_normalized_mean: 0.13527312914267806\n",
      "\n"
     ]
    },
    {
     "name": "stderr",
     "output_type": "stream",
     "text": [
      "\n",
      "533it [00:19, 30.92it/s]\n",
      "533it [00:09, 55.27it/s]\n",
      "67it [00:01, 57.09it/s]"
     ]
    },
    {
     "name": "stdout",
     "output_type": "stream",
     "text": [
      "EPOCH:\t265 0.11552382133355955\n",
      "train_MAE:\n",
      "[4.60802679e-01 5.59854448e-01 4.08766711e-03 4.94380747e-03\n",
      " 6.18468063e-03 3.18194093e+01 1.39728683e-03 1.28814884e+00\n",
      " 1.28814914e+00 1.28814923e+00 1.28814473e+00 2.71273996e-01]\n",
      "valid_MAE:\n",
      "[4.83926454e-01 5.72859062e-01 4.33763406e-03 5.05987541e-03\n",
      " 6.52060269e-03 3.30902074e+01 1.41912052e-03 1.30090937e+00\n",
      " 1.30090819e+00 1.30090832e+00 1.30090371e+00 2.74315523e-01]\n",
      "train_MSE_normalized_mean: 0.1307634481084051\n",
      "valid_MSE_normalized_mean: 0.13789666196469433\n",
      "\n"
     ]
    },
    {
     "name": "stderr",
     "output_type": "stream",
     "text": [
      "\n",
      "533it [00:19, 31.25it/s]\n",
      "533it [00:09, 54.43it/s]\n",
      "67it [00:01, 57.45it/s]"
     ]
    },
    {
     "name": "stdout",
     "output_type": "stream",
     "text": [
      "EPOCH:\t266 0.11593210767066948\n",
      "train_MAE:\n",
      "[4.70412083e-01 5.15947221e-01 4.14344864e-03 5.01514435e-03\n",
      " 6.35376806e-03 3.18437647e+01 1.31080800e-03 7.02920305e-01\n",
      " 7.02926797e-01 7.02926771e-01 7.02904872e-01 2.64280998e-01]\n",
      "valid_MAE:\n",
      "[4.92096661e-01 5.30915721e-01 4.35588390e-03 5.10901892e-03\n",
      " 6.62525546e-03 3.32165436e+01 1.33204947e-03 7.06756902e-01\n",
      " 7.06763468e-01 7.06763451e-01 7.06736517e-01 2.67319296e-01]\n",
      "train_MSE_normalized_mean: 0.12550055093043216\n",
      "valid_MSE_normalized_mean: 0.13240183737613007\n",
      "\n"
     ]
    },
    {
     "name": "stderr",
     "output_type": "stream",
     "text": [
      "\n",
      "533it [00:19, 30.86it/s]\n",
      "533it [00:09, 55.64it/s]\n",
      "67it [00:01, 57.12it/s]"
     ]
    },
    {
     "name": "stdout",
     "output_type": "stream",
     "text": [
      "EPOCH:\t267 0.11596850705582921\n",
      "train_MAE:\n",
      "[4.64377613e-01 8.23511313e-01 4.10174998e-03 5.43380016e-03\n",
      " 6.47661198e-03 3.68180975e+01 2.33173070e-03 8.47517539e-01\n",
      " 8.47535809e-01 8.47535904e-01 8.47498652e-01 4.30147165e-01]\n",
      "valid_MAE:\n",
      "[4.90720761e-01 8.33008359e-01 4.34180467e-03 5.52632371e-03\n",
      " 6.76981022e-03 3.77559510e+01 2.35706526e-03 8.67666756e-01\n",
      " 8.67686518e-01 8.67686635e-01 8.67645292e-01 4.33235971e-01]\n",
      "train_MSE_normalized_mean: 0.1375699294127315\n",
      "valid_MSE_normalized_mean: 0.14476602784789397\n",
      "\n"
     ]
    },
    {
     "name": "stderr",
     "output_type": "stream",
     "text": [
      "\n",
      "533it [00:19, 27.39it/s]\n",
      "533it [00:09, 53.38it/s]\n",
      "67it [00:01, 57.65it/s]"
     ]
    },
    {
     "name": "stdout",
     "output_type": "stream",
     "text": [
      "EPOCH:\t268 0.11513073682281806\n",
      "train_MAE:\n",
      "[4.65218792e-01 5.65176697e-01 4.22714355e-03 5.14504614e-03\n",
      " 6.20419155e-03 3.20477149e+01 1.39350632e-03 1.85590913e+00\n",
      " 1.85589035e+00 1.85589024e+00 1.85596188e+00 2.71900831e-01]\n",
      "valid_MAE:\n",
      "[4.88300233e-01 5.77424065e-01 4.45119572e-03 5.26333969e-03\n",
      " 6.50556395e-03 3.32962507e+01 1.41264636e-03 1.84950942e+00\n",
      " 1.84948911e+00 1.84948900e+00 1.84956035e+00 2.76482293e-01]\n",
      "train_MSE_normalized_mean: 0.13569794743005803\n",
      "valid_MSE_normalized_mean: 0.1424306949011244\n",
      "\n"
     ]
    },
    {
     "name": "stderr",
     "output_type": "stream",
     "text": [
      "\n",
      "533it [00:20, 26.62it/s]\n",
      "533it [00:09, 54.80it/s]\n",
      "67it [00:01, 60.14it/s]"
     ]
    },
    {
     "name": "stdout",
     "output_type": "stream",
     "text": [
      "EPOCH:\t269 0.11545427543361013\n",
      "train_MAE:\n",
      "[4.64841613e-01 5.60251127e-01 4.31304747e-03 4.97951511e-03\n",
      " 6.39802070e-03 3.15969844e+01 1.44976605e-03 1.39719588e+00\n",
      " 1.39720072e+00 1.39720052e+00 1.39718797e+00 2.68656036e-01]\n",
      "valid_MAE:\n",
      "[4.89036697e-01 5.70654660e-01 4.48711734e-03 5.03813486e-03\n",
      " 6.62027408e-03 3.26959766e+01 1.48588033e-03 1.39915192e+00\n",
      " 1.39915513e+00 1.39915493e+00 1.39914522e+00 2.71383968e-01]\n",
      "train_MSE_normalized_mean: 0.13352355659841544\n",
      "valid_MSE_normalized_mean: 0.139822651148701\n",
      "\n"
     ]
    },
    {
     "name": "stderr",
     "output_type": "stream",
     "text": [
      "\n",
      "533it [00:19, 29.44it/s]\n",
      "533it [00:09, 54.91it/s]\n",
      "67it [00:01, 56.35it/s]"
     ]
    },
    {
     "name": "stdout",
     "output_type": "stream",
     "text": [
      "EPOCH:\t270 0.11539509134824907\n",
      "train_MAE:\n",
      "[4.61042042e-01 5.26489428e-01 4.10140525e-03 5.02294604e-03\n",
      " 6.24909520e-03 3.14970879e+01 1.36425337e-03 1.02085629e+00\n",
      " 1.02084841e+00 1.02084833e+00 1.02087377e+00 2.67995590e-01]\n",
      "valid_MAE:\n",
      "[4.86097288e-01 5.39522012e-01 4.32494822e-03 5.11798055e-03\n",
      " 6.52207537e-03 3.27034084e+01 1.38680252e-03 1.03404116e+00\n",
      " 1.03403316e+00 1.03403308e+00 1.03405857e+00 2.70564266e-01]\n",
      "train_MSE_normalized_mean: 0.12787607703646972\n",
      "valid_MSE_normalized_mean: 0.13485824062274976\n",
      "\n"
     ]
    },
    {
     "name": "stderr",
     "output_type": "stream",
     "text": [
      "\n",
      "533it [00:19, 26.92it/s]\n",
      "533it [00:09, 53.97it/s]\n",
      "67it [00:01, 58.19it/s]"
     ]
    },
    {
     "name": "stdout",
     "output_type": "stream",
     "text": [
      "EPOCH:\t271 0.11562779970732684\n",
      "train_MAE:\n",
      "[4.60617453e-01 5.36378435e-01 4.14814210e-03 5.14326274e-03\n",
      " 6.34303382e-03 3.20507884e+01 1.67193413e-03 7.88077350e-01\n",
      " 7.88076073e-01 7.88075962e-01 7.88073523e-01 2.78766093e-01]\n",
      "valid_MAE:\n",
      "[4.84202862e-01 5.46951188e-01 4.38917112e-03 5.21571089e-03\n",
      " 6.60980424e-03 3.30615615e+01 1.69455694e-03 7.96762564e-01\n",
      " 7.96759839e-01 7.96759758e-01 7.96758158e-01 2.81161088e-01]\n",
      "train_MSE_normalized_mean: 0.1277999992048504\n",
      "valid_MSE_normalized_mean: 0.13456637920997858\n",
      "\n"
     ]
    },
    {
     "name": "stderr",
     "output_type": "stream",
     "text": [
      "\n",
      "533it [00:19, 27.62it/s]\n",
      "533it [00:09, 49.65it/s]\n",
      "67it [00:01, 57.53it/s]"
     ]
    },
    {
     "name": "stdout",
     "output_type": "stream",
     "text": [
      "EPOCH:\t272 0.11548447207762645\n",
      "train_MAE:\n",
      "[4.64653723e-01 5.55720304e-01 4.23933890e-03 4.99778335e-03\n",
      " 6.21682413e-03 3.34252969e+01 1.55697009e-03 1.05397548e+00\n",
      " 1.05397889e+00 1.05397910e+00 1.05398600e+00 2.78088413e-01]\n",
      "valid_MAE:\n",
      "[4.89469614e-01 5.66952851e-01 4.45931304e-03 5.08045450e-03\n",
      " 6.50239089e-03 3.44966328e+01 1.57968257e-03 1.07578141e+00\n",
      " 1.07578284e+00 1.07578304e+00 1.07579643e+00 2.79880755e-01]\n",
      "train_MSE_normalized_mean: 0.1311931916430142\n",
      "valid_MSE_normalized_mean: 0.13828880159003862\n",
      "\n"
     ]
    },
    {
     "name": "stderr",
     "output_type": "stream",
     "text": [
      "\n",
      "533it [00:19, 26.86it/s]\n",
      "533it [00:09, 54.41it/s]\n",
      "67it [00:01, 54.69it/s]"
     ]
    },
    {
     "name": "stdout",
     "output_type": "stream",
     "text": [
      "EPOCH:\t273 0.1150417128266805\n",
      "train_MAE:\n",
      "[4.64856183e-01 7.16926033e-01 4.30194491e-03 5.03300471e-03\n",
      " 6.17769277e-03 3.27094903e+01 1.85833982e-03 8.66649562e-01\n",
      " 8.66637156e-01 8.66637078e-01 8.66659567e-01 3.06567388e-01]\n",
      "valid_MAE:\n",
      "[4.87112770e-01 7.29332408e-01 4.50464923e-03 5.13346902e-03\n",
      " 6.46857495e-03 3.37438247e+01 1.87699755e-03 8.79259385e-01\n",
      " 8.79247533e-01 8.79247458e-01 8.79270405e-01 3.09753633e-01]\n",
      "train_MSE_normalized_mean: 0.13160771131837137\n",
      "valid_MSE_normalized_mean: 0.13835783584028374\n",
      "\n"
     ]
    },
    {
     "name": "stderr",
     "output_type": "stream",
     "text": [
      "\n",
      "533it [00:19, 27.41it/s]\n",
      "533it [00:09, 55.75it/s]\n",
      "67it [00:01, 56.68it/s]"
     ]
    },
    {
     "name": "stdout",
     "output_type": "stream",
     "text": [
      "EPOCH:\t274 0.1149943262674124\n",
      "train_MAE:\n",
      "[4.61290084e-01 5.28629685e-01 4.09494704e-03 4.98278818e-03\n",
      " 6.18970131e-03 3.20776786e+01 1.41663491e-03 8.25450306e-01\n",
      " 8.25453838e-01 8.25453829e-01 8.25435306e-01 2.72017811e-01]\n",
      "valid_MAE:\n",
      "[4.84907502e-01 5.42630958e-01 4.35098551e-03 5.09800065e-03\n",
      " 6.50946758e-03 3.33429261e+01 1.44095636e-03 8.29829816e-01\n",
      " 8.29831717e-01 8.29831702e-01 8.29819525e-01 2.76813666e-01]\n",
      "train_MSE_normalized_mean: 0.12708955183381906\n",
      "valid_MSE_normalized_mean: 0.1343333422510122\n",
      "\n"
     ]
    },
    {
     "name": "stderr",
     "output_type": "stream",
     "text": [
      "\n",
      "533it [00:19, 29.50it/s]\n",
      "533it [00:09, 53.96it/s]\n",
      "67it [00:01, 54.09it/s]"
     ]
    },
    {
     "name": "stdout",
     "output_type": "stream",
     "text": [
      "EPOCH:\t275 0.11477401229163271\n",
      "train_MAE:\n",
      "[4.63922547e-01 5.95072514e-01 4.14101999e-03 4.98682666e-03\n",
      " 6.22289213e-03 3.17665424e+01 1.57507516e-03 8.85107380e-01\n",
      " 8.85107857e-01 8.85107875e-01 8.85105747e-01 2.83697733e-01]\n",
      "valid_MAE:\n",
      "[4.89164794e-01 6.10287715e-01 4.36120397e-03 5.08150098e-03\n",
      " 6.50657909e-03 3.29949731e+01 1.58696866e-03 9.10935335e-01\n",
      " 9.10937115e-01 9.10937203e-01 9.10933127e-01 2.85823093e-01]\n",
      "train_MSE_normalized_mean: 0.1286096434660315\n",
      "valid_MSE_normalized_mean: 0.13558497567415181\n",
      "\n"
     ]
    },
    {
     "name": "stderr",
     "output_type": "stream",
     "text": [
      "\n",
      "533it [00:19, 26.79it/s]\n",
      "533it [00:09, 56.95it/s]\n",
      "67it [00:01, 56.53it/s]"
     ]
    },
    {
     "name": "stdout",
     "output_type": "stream",
     "text": [
      "EPOCH:\t276 0.11559988917541772\n",
      "train_MAE:\n",
      "[4.71889921e-01 5.33203440e-01 4.17407227e-03 5.12255010e-03\n",
      " 6.37797524e-03 3.21989473e+01 1.43420012e-03 1.88074239e+00\n",
      " 1.88073856e+00 1.88073813e+00 1.88075206e+00 2.82663128e-01]\n",
      "valid_MAE:\n",
      "[4.94853709e-01 5.46757114e-01 4.40985697e-03 5.21658642e-03\n",
      " 6.67077041e-03 3.33299950e+01 1.46650957e-03 1.88085337e+00\n",
      " 1.88085047e+00 1.88085004e+00 1.88086341e+00 2.85098445e-01]\n",
      "train_MSE_normalized_mean: 0.13684108284618537\n",
      "valid_MSE_normalized_mean: 0.14363858006216756\n",
      "\n"
     ]
    },
    {
     "name": "stderr",
     "output_type": "stream",
     "text": [
      "\n",
      "533it [00:19, 31.37it/s]\n",
      "533it [00:09, 54.99it/s]\n",
      "67it [00:01, 57.61it/s]"
     ]
    },
    {
     "name": "stdout",
     "output_type": "stream",
     "text": [
      "EPOCH:\t277 0.11583118121127474\n",
      "train_MAE:\n",
      "[4.64943113e-01 5.45077323e-01 4.09936806e-03 5.00140843e-03\n",
      " 6.24211259e-03 3.25236034e+01 1.69825038e-03 1.73880494e+00\n",
      " 1.73875924e+00 1.73875946e+00 1.73886270e+00 3.01768397e-01]\n",
      "valid_MAE:\n",
      "[4.90106589e-01 5.60169904e-01 4.34079281e-03 5.12260028e-03\n",
      " 6.54456762e-03 3.37859007e+01 1.72274104e-03 1.73190331e+00\n",
      " 1.73185525e+00 1.73185550e+00 1.73196514e+00 3.05299389e-01]\n",
      "train_MSE_normalized_mean: 0.13641789421658743\n",
      "valid_MSE_normalized_mean: 0.14349715355045145\n",
      "\n"
     ]
    },
    {
     "name": "stderr",
     "output_type": "stream",
     "text": [
      "\n",
      "533it [00:19, 27.07it/s]\n",
      "533it [00:09, 55.08it/s]\n",
      "67it [00:01, 59.00it/s]"
     ]
    },
    {
     "name": "stdout",
     "output_type": "stream",
     "text": [
      "EPOCH:\t278 0.11510106905819552\n",
      "train_MAE:\n",
      "[4.59349008e-01 5.35069834e-01 4.07466527e-03 4.88210567e-03\n",
      " 6.16489394e-03 3.18524930e+01 1.34594955e-03 8.19717069e-01\n",
      " 8.19714517e-01 8.19714457e-01 8.19716724e-01 2.71426335e-01]\n",
      "valid_MAE:\n",
      "[4.84682420e-01 5.45984689e-01 4.30046163e-03 4.99450169e-03\n",
      " 6.44819220e-03 3.30112665e+01 1.36424499e-03 8.27726344e-01\n",
      " 8.27721731e-01 8.27721661e-01 8.27730049e-01 2.74863134e-01]\n",
      "train_MSE_normalized_mean: 0.12555387365831092\n",
      "valid_MSE_normalized_mean: 0.13257114800313322\n",
      "\n"
     ]
    },
    {
     "name": "stderr",
     "output_type": "stream",
     "text": [
      "\n",
      "533it [00:19, 27.05it/s]\n",
      "533it [00:09, 57.26it/s]\n",
      "67it [00:01, 59.35it/s]"
     ]
    },
    {
     "name": "stdout",
     "output_type": "stream",
     "text": [
      "EPOCH:\t279 0.11433667440743205\n",
      "train_MAE:\n",
      "[4.60999470e-01 6.19853359e-01 4.17258786e-03 5.17419372e-03\n",
      " 6.34563698e-03 3.45222213e+01 1.34507193e-03 1.45791027e+00\n",
      " 1.45783233e+00 1.45783285e+00 1.45802300e+00 3.36952383e-01]\n",
      "valid_MAE:\n",
      "[4.85114813e-01 6.34721116e-01 4.38072632e-03 5.27667008e-03\n",
      " 6.63040313e-03 3.58465664e+01 1.37501717e-03 1.48207159e+00\n",
      " 1.48199281e+00 1.48199331e+00 1.48218888e+00 3.41611620e-01]\n",
      "train_MSE_normalized_mean: 0.1351242445931666\n",
      "valid_MSE_normalized_mean: 0.14249406930099737\n",
      "\n"
     ]
    },
    {
     "name": "stderr",
     "output_type": "stream",
     "text": [
      "\n",
      "533it [00:18, 28.32it/s]\n",
      "533it [00:09, 56.53it/s]\n",
      "67it [00:01, 57.96it/s]"
     ]
    },
    {
     "name": "stdout",
     "output_type": "stream",
     "text": [
      "EPOCH:\t280 0.11421150654051139\n",
      "train_MAE:\n",
      "[4.63340591e-01 5.50777340e-01 4.08929326e-03 4.94499289e-03\n",
      " 6.20430118e-03 3.17968607e+01 1.44296521e-03 7.04145958e-01\n",
      " 7.04137507e-01 7.04137337e-01 7.04170107e-01 2.70174232e-01]\n",
      "valid_MAE:\n",
      "[4.88496671e-01 5.61951609e-01 4.33101284e-03 5.04315155e-03\n",
      " 6.47058067e-03 3.31972092e+01 1.46098188e-03 7.17154500e-01\n",
      " 7.17145901e-01 7.17145712e-01 7.17174869e-01 2.73313011e-01]\n",
      "train_MSE_normalized_mean: 0.12546625166076525\n",
      "valid_MSE_normalized_mean: 0.13228933638688187\n",
      "\n"
     ]
    },
    {
     "name": "stderr",
     "output_type": "stream",
     "text": [
      "\n",
      "533it [00:18, 28.83it/s]\n",
      "533it [00:09, 57.60it/s]\n",
      "67it [00:01, 56.13it/s]"
     ]
    },
    {
     "name": "stdout",
     "output_type": "stream",
     "text": [
      "EPOCH:\t281 0.1147389187709923\n",
      "train_MAE:\n",
      "[4.61360394e-01 5.28675434e-01 4.11416644e-03 5.01592454e-03\n",
      " 6.22929135e-03 3.18913387e+01 1.44242537e-03 1.00698654e+00\n",
      " 1.00697089e+00 1.00697099e+00 1.00701382e+00 2.73552900e-01]\n",
      "valid_MAE:\n",
      "[4.83986101e-01 5.45371783e-01 4.34167812e-03 5.12948958e-03\n",
      " 6.53488533e-03 3.31207742e+01 1.47041538e-03 1.02930949e+00\n",
      " 1.02929125e+00 1.02929133e+00 1.02933928e+00 2.78417526e-01]\n",
      "train_MSE_normalized_mean: 0.12817339766762528\n",
      "valid_MSE_normalized_mean: 0.1354753981428318\n",
      "\n"
     ]
    },
    {
     "name": "stderr",
     "output_type": "stream",
     "text": [
      "\n",
      "533it [00:18, 28.26it/s]\n",
      "533it [00:09, 57.36it/s]\n",
      "67it [00:01, 58.34it/s]"
     ]
    },
    {
     "name": "stdout",
     "output_type": "stream",
     "text": [
      "EPOCH:\t282 0.11427899469633711\n",
      "train_MAE:\n",
      "[4.62670785e-01 5.84897695e-01 4.08946785e-03 5.33142611e-03\n",
      " 6.63607947e-03 3.25619447e+01 1.31014190e-03 1.17807412e+00\n",
      " 1.17804356e+00 1.17804320e+00 1.17812640e+00 2.85002432e-01]\n",
      "valid_MAE:\n",
      "[4.86680578e-01 5.99205331e-01 4.31942558e-03 5.45267255e-03\n",
      " 6.89453142e-03 3.36708187e+01 1.33097985e-03 1.18198463e+00\n",
      " 1.18195348e+00 1.18195316e+00 1.18203544e+00 2.88454551e-01]\n",
      "train_MSE_normalized_mean: 0.13147647118075104\n",
      "valid_MSE_normalized_mean: 0.1384170783766613\n",
      "\n"
     ]
    },
    {
     "name": "stderr",
     "output_type": "stream",
     "text": [
      "\n",
      "533it [00:18, 28.66it/s]\n",
      "533it [00:09, 57.60it/s]\n",
      "67it [00:00, 70.55it/s]"
     ]
    },
    {
     "name": "stdout",
     "output_type": "stream",
     "text": [
      "EPOCH:\t283 0.11476642535003444\n",
      "train_MAE:\n",
      "[4.60548257e-01 5.37100788e-01 4.10790022e-03 5.04359944e-03\n",
      " 6.18713834e-03 3.15547941e+01 1.60637341e-03 8.01201238e-01\n",
      " 8.01195162e-01 8.01195306e-01 8.01208552e-01 2.73433624e-01]\n",
      "valid_MAE:\n",
      "[4.84290337e-01 5.52022978e-01 4.33243260e-03 5.17995167e-03\n",
      " 6.49546177e-03 3.29358788e+01 1.62082144e-03 8.21251605e-01\n",
      " 8.21243735e-01 8.21243915e-01 8.21262150e-01 2.77937359e-01]\n",
      "train_MSE_normalized_mean: 0.1267341548715506\n",
      "valid_MSE_normalized_mean: 0.13394642317532443\n",
      "\n"
     ]
    },
    {
     "name": "stderr",
     "output_type": "stream",
     "text": [
      "\n",
      "533it [00:18, 28.18it/s]\n",
      "533it [00:09, 56.11it/s]\n",
      "67it [00:01, 51.47it/s]"
     ]
    },
    {
     "name": "stdout",
     "output_type": "stream",
     "text": [
      "EPOCH:\t284 0.11449262003569845\n",
      "train_MAE:\n",
      "[4.60927877e-01 6.97097750e-01 4.11867819e-03 5.07173353e-03\n",
      " 6.28726231e-03 3.31476252e+01 1.75119157e-03 8.46038095e-01\n",
      " 8.46034815e-01 8.46034774e-01 8.46041206e-01 2.97505686e-01]\n",
      "valid_MAE:\n",
      "[4.85367411e-01 7.09945611e-01 4.34915706e-03 5.15583060e-03\n",
      " 6.54568547e-03 3.42621329e+01 1.76322679e-03 8.58030216e-01\n",
      " 8.58026341e-01 8.58026327e-01 8.58031926e-01 3.01195500e-01]\n",
      "train_MSE_normalized_mean: 0.13010135993937397\n",
      "valid_MSE_normalized_mean: 0.13718333678488123\n",
      "\n"
     ]
    },
    {
     "name": "stderr",
     "output_type": "stream",
     "text": [
      "\n",
      "533it [00:19, 27.58it/s]\n",
      "533it [00:09, 57.67it/s]\n",
      "67it [00:01, 40.68it/s]"
     ]
    },
    {
     "name": "stdout",
     "output_type": "stream",
     "text": [
      "EPOCH:\t285 0.11399506662900631\n",
      "train_MAE:\n",
      "[4.62144000e-01 5.97019016e-01 4.10763057e-03 4.99664442e-03\n",
      " 6.21013277e-03 3.35074599e+01 1.39983013e-03 1.52650942e+00\n",
      " 1.52653022e+00 1.52653119e+00 1.52644724e+00 2.76171086e-01]\n",
      "valid_MAE:\n",
      "[4.88579605e-01 6.13015688e-01 4.37744042e-03 5.11121969e-03\n",
      " 6.53246001e-03 3.46509785e+01 1.41295504e-03 1.54057272e+00\n",
      " 1.54059340e+00 1.54059433e+00 1.54051365e+00 2.80049523e-01]\n",
      "train_MSE_normalized_mean: 0.13316535133439575\n",
      "valid_MSE_normalized_mean: 0.1409100491851217\n",
      "\n"
     ]
    },
    {
     "name": "stderr",
     "output_type": "stream",
     "text": [
      "\n",
      "533it [00:23, 22.83it/s]\n",
      "533it [00:08, 59.34it/s]\n",
      "67it [00:01, 65.02it/s]"
     ]
    },
    {
     "name": "stdout",
     "output_type": "stream",
     "text": [
      "EPOCH:\t286 0.11409358526483933\n",
      "train_MAE:\n",
      "[4.64329649e-01 6.15525637e-01 4.14132109e-03 5.03851109e-03\n",
      " 6.27261204e-03 3.31202282e+01 1.58027019e-03 1.15687212e+00\n",
      " 1.15684796e+00 1.15684707e+00 1.15688553e+00 3.03103544e-01]\n",
      "valid_MAE:\n",
      "[4.90227784e-01 6.32547895e-01 4.36005617e-03 5.13698618e-03\n",
      " 6.56501022e-03 3.43097464e+01 1.59248634e-03 1.16530398e+00\n",
      " 1.16527926e+00 1.16527838e+00 1.16531478e+00 3.06266758e-01]\n",
      "train_MSE_normalized_mean: 0.13201991540387456\n",
      "valid_MSE_normalized_mean: 0.13939833940887456\n",
      "\n"
     ]
    },
    {
     "name": "stderr",
     "output_type": "stream",
     "text": [
      "\n",
      "533it [00:23, 32.01it/s]\n",
      "533it [00:09, 57.71it/s]\n",
      "67it [00:01, 57.68it/s]"
     ]
    },
    {
     "name": "stdout",
     "output_type": "stream",
     "text": [
      "EPOCH:\t287 0.11416864369980166\n",
      "train_MAE:\n",
      "[4.63228706e-01 6.21641651e-01 4.05112764e-03 4.87607299e-03\n",
      " 6.15817072e-03 3.48528651e+01 1.50949609e-03 1.17231800e+00\n",
      " 1.17233896e+00 1.17233911e+00 1.17228119e+00 2.89305061e-01]\n",
      "valid_MAE:\n",
      "[4.86826613e-01 6.33351062e-01 4.29771438e-03 4.98117933e-03\n",
      " 6.45384056e-03 3.61527002e+01 1.53334214e-03 1.17680809e+00\n",
      " 1.17682911e+00 1.17682926e+00 1.17676962e+00 2.95069878e-01]\n",
      "train_MSE_normalized_mean: 0.1320797686683843\n",
      "valid_MSE_normalized_mean: 0.13912546811480256\n",
      "\n"
     ]
    },
    {
     "name": "stderr",
     "output_type": "stream",
     "text": [
      "\n",
      "533it [00:18, 31.58it/s]\n",
      "533it [00:09, 57.28it/s]\n",
      "67it [00:01, 60.66it/s]"
     ]
    },
    {
     "name": "stdout",
     "output_type": "stream",
     "text": [
      "EPOCH:\t288 0.11436963057596286\n",
      "train_MAE:\n",
      "[4.59342284e-01 5.56615139e-01 4.10735453e-03 4.90928109e-03\n",
      " 6.21492537e-03 3.17282591e+01 1.55611702e-03 1.15372515e+00\n",
      " 1.15373620e+00 1.15373569e+00 1.15371162e+00 2.76070748e-01]\n",
      "valid_MAE:\n",
      "[4.85282590e-01 5.68947131e-01 4.33423190e-03 5.01418118e-03\n",
      " 6.51394960e-03 3.29309127e+01 1.57705716e-03 1.15945381e+00\n",
      " 1.15946553e+00 1.15946501e+00 1.15943625e+00 2.79135306e-01]\n",
      "train_MSE_normalized_mean: 0.12957557255500934\n",
      "valid_MSE_normalized_mean: 0.13669780359435219\n",
      "\n"
     ]
    },
    {
     "name": "stderr",
     "output_type": "stream",
     "text": [
      "\n",
      "533it [00:19, 27.47it/s]\n",
      "533it [00:09, 56.40it/s]\n",
      "67it [00:01, 59.39it/s]"
     ]
    },
    {
     "name": "stdout",
     "output_type": "stream",
     "text": [
      "EPOCH:\t289 0.11332432408493857\n",
      "train_MAE:\n",
      "[4.60201282e-01 5.28738623e-01 4.13775807e-03 4.95263391e-03\n",
      " 6.30576739e-03 3.29487509e+01 1.39085251e-03 8.80361170e-01\n",
      " 8.80340360e-01 8.80340475e-01 8.80421329e-01 2.66747056e-01]\n",
      "valid_MAE:\n",
      "[4.87501130e-01 5.43257943e-01 4.39005223e-03 5.08187844e-03\n",
      " 6.61414340e-03 3.40994718e+01 1.40313947e-03 8.84051532e-01\n",
      " 8.84030822e-01 8.84030945e-01 8.84108791e-01 2.69572950e-01]\n",
      "train_MSE_normalized_mean: 0.12677145118929947\n",
      "valid_MSE_normalized_mean: 0.13435806101087272\n",
      "\n"
     ]
    },
    {
     "name": "stderr",
     "output_type": "stream",
     "text": [
      "\n",
      "533it [00:18, 28.42it/s]\n",
      "533it [00:09, 55.68it/s]\n",
      "67it [00:01, 58.24it/s]"
     ]
    },
    {
     "name": "stdout",
     "output_type": "stream",
     "text": [
      "EPOCH:\t290 0.1143030203305758\n",
      "train_MAE:\n",
      "[4.63383175e-01 6.46596992e-01 4.14737604e-03 4.96292281e-03\n",
      " 6.36482478e-03 3.30304199e+01 1.62355639e-03 1.08540258e+00\n",
      " 1.08535285e+00 1.08535294e+00 1.08546533e+00 3.29954883e-01]\n",
      "valid_MAE:\n",
      "[4.87872269e-01 6.56865920e-01 4.39731941e-03 5.04029236e-03\n",
      " 6.65245214e-03 3.43552056e+01 1.64829929e-03 1.11374755e+00\n",
      " 1.11369801e+00 1.11369807e+00 1.11380944e+00 3.34561277e-01]\n",
      "train_MSE_normalized_mean: 0.13308954445749036\n",
      "valid_MSE_normalized_mean: 0.14024397845048003\n",
      "\n"
     ]
    },
    {
     "name": "stderr",
     "output_type": "stream",
     "text": [
      "\n",
      "533it [00:19, 27.73it/s]\n",
      "533it [00:09, 56.24it/s]\n",
      "67it [00:01, 59.30it/s]"
     ]
    },
    {
     "name": "stdout",
     "output_type": "stream",
     "text": [
      "EPOCH:\t291 0.11438026277813187\n",
      "train_MAE:\n",
      "[4.60830033e-01 5.25468700e-01 4.21159479e-03 4.96108966e-03\n",
      " 6.24498515e-03 3.31654616e+01 1.31216830e-03 1.22878014e+00\n",
      " 1.22876316e+00 1.22876335e+00 1.22882246e+00 2.67544745e-01]\n",
      "valid_MAE:\n",
      "[4.87241277e-01 5.39098424e-01 4.45923642e-03 5.08015834e-03\n",
      " 6.54530883e-03 3.45562448e+01 1.32857424e-03 1.23099058e+00\n",
      " 1.23097415e+00 1.23097433e+00 1.23103247e+00 2.71129886e-01]\n",
      "train_MSE_normalized_mean: 0.12984996719058958\n",
      "valid_MSE_normalized_mean: 0.13732815356887848\n",
      "\n"
     ]
    },
    {
     "name": "stderr",
     "output_type": "stream",
     "text": [
      "\n",
      "533it [00:18, 28.40it/s]\n",
      "533it [00:09, 57.00it/s]\n",
      "67it [00:01, 60.82it/s]"
     ]
    },
    {
     "name": "stdout",
     "output_type": "stream",
     "text": [
      "EPOCH:\t292 0.11431802514290497\n",
      "train_MAE:\n",
      "[4.74528256e-01 5.82238140e-01 4.22027897e-03 4.99802856e-03\n",
      " 6.21907209e-03 3.34310495e+01 1.43250369e-03 8.05848673e-01\n",
      " 8.05849373e-01 8.05849351e-01 8.05849006e-01 2.74277300e-01]\n",
      "valid_MAE:\n",
      "[4.99066715e-01 5.94444799e-01 4.46581228e-03 5.08464787e-03\n",
      " 6.49270770e-03 3.46361257e+01 1.45683900e-03 8.19706355e-01\n",
      " 8.19707225e-01 8.19707198e-01 8.19705669e-01 2.77974533e-01]\n",
      "train_MSE_normalized_mean: 0.12808027990037066\n",
      "valid_MSE_normalized_mean: 0.13522599286437909\n",
      "\n"
     ]
    },
    {
     "name": "stderr",
     "output_type": "stream",
     "text": [
      "\n",
      "533it [00:19, 27.26it/s]\n",
      "533it [00:09, 56.40it/s]\n",
      "67it [00:01, 59.69it/s]"
     ]
    },
    {
     "name": "stdout",
     "output_type": "stream",
     "text": [
      "EPOCH:\t293 0.11315285814244573\n",
      "train_MAE:\n",
      "[4.58304605e-01 6.63900461e-01 4.10608844e-03 4.98813553e-03\n",
      " 6.16400503e-03 3.32994236e+01 1.56675401e-03 1.18210643e+00\n",
      " 1.18208987e+00 1.18209005e+00 1.18213490e+00 2.94027138e-01]\n",
      "valid_MAE:\n",
      "[4.83324606e-01 6.78730542e-01 4.31320179e-03 5.11323666e-03\n",
      " 6.45711582e-03 3.43704994e+01 1.58682361e-03 1.18773891e+00\n",
      " 1.18772026e+00 1.18772039e+00 1.18776815e+00 2.95319823e-01]\n",
      "train_MSE_normalized_mean: 0.13201150454073438\n",
      "valid_MSE_normalized_mean: 0.1388438079201922\n",
      "\n"
     ]
    },
    {
     "name": "stderr",
     "output_type": "stream",
     "text": [
      "\n",
      "533it [00:18, 28.40it/s]\n",
      "533it [00:09, 57.61it/s]\n",
      "67it [00:01, 70.65it/s]"
     ]
    },
    {
     "name": "stdout",
     "output_type": "stream",
     "text": [
      "EPOCH:\t294 0.11526261608327755\n",
      "train_MAE:\n",
      "[4.63445544e-01 5.21260980e-01 4.15140636e-03 4.96307059e-03\n",
      " 6.44269979e-03 3.25783572e+01 1.39566743e-03 1.21443772e+00\n",
      " 1.21439777e+00 1.21439832e+00 1.21450866e+00 2.86533811e-01]\n",
      "valid_MAE:\n",
      "[4.88959502e-01 5.37786148e-01 4.38888453e-03 5.06410774e-03\n",
      " 6.75352459e-03 3.37082726e+01 1.42152478e-03 1.21600717e+00\n",
      " 1.21596513e+00 1.21596567e+00 1.21607866e+00 2.88880336e-01]\n",
      "train_MSE_normalized_mean: 0.13050664442159363\n",
      "valid_MSE_normalized_mean: 0.13751107601211687\n",
      "\n"
     ]
    },
    {
     "name": "stderr",
     "output_type": "stream",
     "text": [
      "\n",
      "533it [00:19, 31.37it/s]\n",
      "533it [00:09, 56.22it/s]\n",
      "67it [00:01, 59.18it/s]"
     ]
    },
    {
     "name": "stdout",
     "output_type": "stream",
     "text": [
      "EPOCH:\t295 0.1142494785433415\n",
      "train_MAE:\n",
      "[4.65697069e-01 5.25291224e-01 4.17251941e-03 5.02966507e-03\n",
      " 6.14878084e-03 3.31193981e+01 1.37451421e-03 1.20670798e+00\n",
      " 1.20669056e+00 1.20669088e+00 1.20672196e+00 2.80087890e-01]\n",
      "valid_MAE:\n",
      "[4.91598032e-01 5.42658214e-01 4.42315940e-03 5.13248523e-03\n",
      " 6.44716165e-03 3.44975967e+01 1.39289408e-03 1.22613426e+00\n",
      " 1.22611594e+00 1.22611626e+00 1.22615188e+00 2.85014992e-01]\n",
      "train_MSE_normalized_mean: 0.13040052928604298\n",
      "valid_MSE_normalized_mean: 0.13816304256729062\n",
      "\n"
     ]
    },
    {
     "name": "stderr",
     "output_type": "stream",
     "text": [
      "\n",
      "533it [00:18, 32.09it/s]\n",
      "533it [00:09, 56.34it/s]\n",
      "67it [00:01, 60.66it/s]"
     ]
    },
    {
     "name": "stdout",
     "output_type": "stream",
     "text": [
      "EPOCH:\t296 0.11456256309492727\n",
      "train_MAE:\n",
      "[4.59549817e-01 5.68747211e-01 4.08049480e-03 5.11465671e-03\n",
      " 6.34716479e-03 3.13844068e+01 1.64591191e-03 7.72154216e-01\n",
      " 7.72143073e-01 7.72143339e-01 7.72165524e-01 2.77947546e-01]\n",
      "valid_MAE:\n",
      "[4.84955677e-01 5.80162479e-01 4.32712474e-03 5.27667843e-03\n",
      " 6.66900564e-03 3.26705584e+01 1.66880633e-03 7.84394130e-01\n",
      " 7.84382617e-01 7.84382895e-01 7.84408922e-01 2.81195329e-01]\n",
      "train_MSE_normalized_mean: 0.12671856141207735\n",
      "valid_MSE_normalized_mean: 0.1342031295935746\n",
      "\n"
     ]
    },
    {
     "name": "stderr",
     "output_type": "stream",
     "text": [
      "\n",
      "533it [00:19, 27.97it/s]\n",
      "533it [00:09, 56.93it/s]\n",
      "67it [00:01, 59.86it/s]"
     ]
    },
    {
     "name": "stdout",
     "output_type": "stream",
     "text": [
      "EPOCH:\t297 0.11334788350573624\n",
      "train_MAE:\n",
      "[4.58848689e-01 5.29287447e-01 4.05817152e-03 4.90009471e-03\n",
      " 6.18559874e-03 3.19914204e+01 1.31440870e-03 1.24747281e+00\n",
      " 1.24744065e+00 1.24744093e+00 1.24749515e+00 2.90520513e-01]\n",
      "valid_MAE:\n",
      "[4.84019203e-01 5.44416693e-01 4.30533015e-03 5.01334819e-03\n",
      " 6.49531216e-03 3.33825142e+01 1.33531244e-03 1.25705292e+00\n",
      " 1.25702288e+00 1.25702315e+00 1.25707046e+00 2.95878658e-01]\n",
      "train_MSE_normalized_mean: 0.12889767322151482\n",
      "valid_MSE_normalized_mean: 0.13659237672598848\n",
      "\n"
     ]
    },
    {
     "name": "stderr",
     "output_type": "stream",
     "text": [
      "\n",
      "533it [00:18, 30.95it/s]\n",
      "533it [00:09, 57.07it/s]\n",
      "67it [00:01, 62.40it/s]"
     ]
    },
    {
     "name": "stdout",
     "output_type": "stream",
     "text": [
      "EPOCH:\t298 0.11378364151738599\n",
      "train_MAE:\n",
      "[4.58173248e-01 5.76939952e-01 4.11223852e-03 5.02351238e-03\n",
      " 6.24992090e-03 3.21802900e+01 1.32009796e-03 8.54535338e-01\n",
      " 8.54523502e-01 8.54523298e-01 8.54559623e-01 2.75268979e-01]\n",
      "valid_MAE:\n",
      "[4.85396546e-01 5.90417999e-01 4.34042296e-03 5.12156872e-03\n",
      " 6.55263846e-03 3.34169954e+01 1.33073268e-03 8.73550487e-01\n",
      " 8.73537642e-01 8.73537436e-01 8.73576234e-01 2.80636022e-01]\n",
      "train_MSE_normalized_mean: 0.12719952035460166\n",
      "valid_MSE_normalized_mean: 0.13476439211255828\n",
      "\n"
     ]
    },
    {
     "name": "stderr",
     "output_type": "stream",
     "text": [
      "\n",
      "533it [00:18, 31.50it/s]\n",
      "533it [00:09, 57.03it/s]\n",
      "67it [00:01, 59.71it/s]"
     ]
    },
    {
     "name": "stdout",
     "output_type": "stream",
     "text": [
      "EPOCH:\t299 0.11348640784537367\n",
      "train_MAE:\n",
      "[4.59393903e-01 5.15614723e-01 4.03056832e-03 5.05862542e-03\n",
      " 6.24239463e-03 3.17799664e+01 1.33117246e-03 1.18908783e+00\n",
      " 1.18905767e+00 1.18905802e+00 1.18912940e+00 2.74950844e-01]\n",
      "valid_MAE:\n",
      "[4.84601219e-01 5.30190417e-01 4.28152740e-03 5.14013386e-03\n",
      " 6.54558602e-03 3.30504326e+01 1.35286767e-03 1.20209941e+00\n",
      " 1.20207139e+00 1.20207173e+00 1.20213872e+00 2.79021042e-01]\n",
      "train_MSE_normalized_mean: 0.12922606791143199\n",
      "valid_MSE_normalized_mean: 0.1366339019253193\n",
      "\n"
     ]
    },
    {
     "name": "stderr",
     "output_type": "stream",
     "text": [
      "\n"
     ]
    }
   ],
   "source": [
    "best_param ={}\n",
    "best_param[\"train_epoch\"] = 0\n",
    "best_param[\"valid_epoch\"] = 0\n",
    "best_param[\"train_MSE_normalized\"] = 9e8\n",
    "best_param[\"valid_MSE_normalized\"] = 9e8\n",
    "train_df_smiles = train_df.smiles.values\n",
    "valid_df_smiles = valid_df.smiles.values\n",
    "\n",
    "for epoch in range(300):\n",
    "    losses = train(model, train_df_smiles)\n",
    "    train_MAE_normalized, train_MAE, train_MSE_normalized, train_MSE = eval(model, train_df_smiles)\n",
    "    valid_MAE_normalized, valid_MAE, valid_MSE_normalized, valid_MSE, = eval(model, valid_df_smiles)\n",
    "    print(\"EPOCH:\\t\"+str(epoch)+' '+str(losses)+'\\n'\\\n",
    "#         +\"train_MAE_normalized: \"+str(train_MAE_normalized)+'\\n'\\\n",
    "#         +\"valid_MAE_normalized: \"+str(valid_MAE_normalized)+'\\n'\\\n",
    "        +\"train_MAE\"+\":\"+\"\\n\"+str(train_MAE)+'\\n'\\\n",
    "        +\"valid_MAE\"+\":\"+\"\\n\"+str(valid_MAE)+'\\n'\\\n",
    "          \n",
    "        +\"train_MSE_normalized_mean: \"+str(train_MSE_normalized.mean())+'\\n'\\\n",
    "        +\"valid_MSE_normalized_mean: \"+str(valid_MSE_normalized.mean())+'\\n'\\\n",
    "#         +\"train_MSE_normalized: \"+str(train_MSE_normalized)+'\\n'\\\n",
    "#         +\"valid_MSE_normalized: \"+str(valid_MSE_normalized)+'\\n'\\\n",
    "        )\n",
    "    if train_MSE_normalized.mean() < best_param[\"train_MSE_normalized\"]:\n",
    "        best_param[\"train_epoch\"] = epoch\n",
    "        best_param[\"train_MSE_normalized\"] = train_MSE_normalized.mean()\n",
    "    if valid_MSE_normalized.mean() < best_param[\"valid_MSE_normalized\"]:\n",
    "        best_param[\"valid_epoch\"] = epoch\n",
    "        best_param[\"valid_MSE_normalized\"] = valid_MSE_normalized.mean()\n",
    "        if valid_MSE_normalized.mean() < 0.06:\n",
    "             torch.save(model, 'saved_models/model_'+prefix_filename+'_'+start_time+'_'+str(epoch)+'.pt')\n",
    "#     if (epoch - best_param[\"train_epoch\"] >10) and (epoch - best_param[\"valid_epoch\"] >18):        \n",
    "#         break\n",
    "    \n"
   ]
  },
  {
   "cell_type": "markdown",
   "metadata": {},
   "source": [
    "mu, alpha, homo, lumo, gap, r2, zpve, u0, u298, h298, g298, cv"
   ]
  },
  {
   "cell_type": "code",
   "execution_count": 21,
   "metadata": {},
   "outputs": [
    {
     "ename": "FileNotFoundError",
     "evalue": "[Errno 2] No such file or directory: 'saved_models/model_gdb9_smiles_Sun_Aug_11_22-59-52_2019_280.pt'",
     "output_type": "error",
     "traceback": [
      "\u001b[0;31m---------------------------------------------------------------------------\u001b[0m",
      "\u001b[0;31mFileNotFoundError\u001b[0m                         Traceback (most recent call last)",
      "\u001b[0;32m<ipython-input-21-fbd32e6e0762>\u001b[0m in \u001b[0;36m<module>\u001b[0;34m\u001b[0m\n\u001b[1;32m      1\u001b[0m \u001b[0;31m# evaluate model\u001b[0m\u001b[0;34m\u001b[0m\u001b[0;34m\u001b[0m\u001b[0;34m\u001b[0m\u001b[0m\n\u001b[0;32m----> 2\u001b[0;31m \u001b[0mbest_model\u001b[0m \u001b[0;34m=\u001b[0m \u001b[0mtorch\u001b[0m\u001b[0;34m.\u001b[0m\u001b[0mload\u001b[0m\u001b[0;34m(\u001b[0m\u001b[0;34m'saved_models/model_'\u001b[0m\u001b[0;34m+\u001b[0m\u001b[0mprefix_filename\u001b[0m\u001b[0;34m+\u001b[0m\u001b[0;34m'_'\u001b[0m\u001b[0;34m+\u001b[0m\u001b[0mstart_time\u001b[0m\u001b[0;34m+\u001b[0m\u001b[0;34m'_'\u001b[0m\u001b[0;34m+\u001b[0m\u001b[0mstr\u001b[0m\u001b[0;34m(\u001b[0m\u001b[0mbest_param\u001b[0m\u001b[0;34m[\u001b[0m\u001b[0;34m\"valid_epoch\"\u001b[0m\u001b[0;34m]\u001b[0m\u001b[0;34m)\u001b[0m\u001b[0;34m+\u001b[0m\u001b[0;34m'.pt'\u001b[0m\u001b[0;34m)\u001b[0m\u001b[0;34m\u001b[0m\u001b[0;34m\u001b[0m\u001b[0m\n\u001b[0m\u001b[1;32m      3\u001b[0m \u001b[0;34m\u001b[0m\u001b[0m\n\u001b[1;32m      4\u001b[0m \u001b[0mtest_MAE_normalized\u001b[0m\u001b[0;34m,\u001b[0m \u001b[0mtest_MAE\u001b[0m\u001b[0;34m,\u001b[0m \u001b[0mtest_MSE_normalized\u001b[0m\u001b[0;34m,\u001b[0m \u001b[0mtest_MSE\u001b[0m\u001b[0;34m,\u001b[0m \u001b[0;34m=\u001b[0m \u001b[0meval\u001b[0m\u001b[0;34m(\u001b[0m\u001b[0mbest_model\u001b[0m\u001b[0;34m,\u001b[0m \u001b[0mtest_df\u001b[0m\u001b[0;34m)\u001b[0m\u001b[0;34m\u001b[0m\u001b[0;34m\u001b[0m\u001b[0m\n\u001b[1;32m      5\u001b[0m print(\"best epoch:\"+str(best_param[\"valid_epoch\"])+'\\n'\\\n",
      "\u001b[0;32m~/miniconda3/lib/python3.7/site-packages/torch/serialization.py\u001b[0m in \u001b[0;36mload\u001b[0;34m(f, map_location, pickle_module, **pickle_load_args)\u001b[0m\n\u001b[1;32m    380\u001b[0m             \u001b[0;34m(\u001b[0m\u001b[0msys\u001b[0m\u001b[0;34m.\u001b[0m\u001b[0mversion_info\u001b[0m\u001b[0;34m[\u001b[0m\u001b[0;36m0\u001b[0m\u001b[0;34m]\u001b[0m \u001b[0;34m==\u001b[0m \u001b[0;36m2\u001b[0m \u001b[0;32mand\u001b[0m \u001b[0misinstance\u001b[0m\u001b[0;34m(\u001b[0m\u001b[0mf\u001b[0m\u001b[0;34m,\u001b[0m \u001b[0municode\u001b[0m\u001b[0;34m)\u001b[0m\u001b[0;34m)\u001b[0m\u001b[0;34m:\u001b[0m\u001b[0;34m\u001b[0m\u001b[0;34m\u001b[0m\u001b[0m\n\u001b[1;32m    381\u001b[0m         \u001b[0mnew_fd\u001b[0m \u001b[0;34m=\u001b[0m \u001b[0;32mTrue\u001b[0m\u001b[0;34m\u001b[0m\u001b[0;34m\u001b[0m\u001b[0m\n\u001b[0;32m--> 382\u001b[0;31m         \u001b[0mf\u001b[0m \u001b[0;34m=\u001b[0m \u001b[0mopen\u001b[0m\u001b[0;34m(\u001b[0m\u001b[0mf\u001b[0m\u001b[0;34m,\u001b[0m \u001b[0;34m'rb'\u001b[0m\u001b[0;34m)\u001b[0m\u001b[0;34m\u001b[0m\u001b[0;34m\u001b[0m\u001b[0m\n\u001b[0m\u001b[1;32m    383\u001b[0m     \u001b[0;32melif\u001b[0m \u001b[0;34m(\u001b[0m\u001b[0msys\u001b[0m\u001b[0;34m.\u001b[0m\u001b[0mversion_info\u001b[0m\u001b[0;34m[\u001b[0m\u001b[0;36m0\u001b[0m\u001b[0;34m]\u001b[0m \u001b[0;34m==\u001b[0m \u001b[0;36m3\u001b[0m \u001b[0;32mand\u001b[0m \u001b[0misinstance\u001b[0m\u001b[0;34m(\u001b[0m\u001b[0mf\u001b[0m\u001b[0;34m,\u001b[0m \u001b[0mpathlib\u001b[0m\u001b[0;34m.\u001b[0m\u001b[0mPath\u001b[0m\u001b[0;34m)\u001b[0m\u001b[0;34m)\u001b[0m\u001b[0;34m:\u001b[0m\u001b[0;34m\u001b[0m\u001b[0;34m\u001b[0m\u001b[0m\n\u001b[1;32m    384\u001b[0m         \u001b[0mnew_fd\u001b[0m \u001b[0;34m=\u001b[0m \u001b[0;32mTrue\u001b[0m\u001b[0;34m\u001b[0m\u001b[0;34m\u001b[0m\u001b[0m\n",
      "\u001b[0;31mFileNotFoundError\u001b[0m: [Errno 2] No such file or directory: 'saved_models/model_gdb9_smiles_Sun_Aug_11_22-59-52_2019_280.pt'"
     ]
    }
   ],
   "source": [
    "# evaluate model\n",
    "best_model = torch.load('saved_models/model_'+prefix_filename+'_'+start_time+'_'+str(best_param[\"valid_epoch\"])+'.pt')     \n",
    "\n",
    "test_MAE_normalized, test_MAE, test_MSE_normalized, test_MSE, = eval(best_model, test_df)\n",
    "print(\"best epoch:\"+str(best_param[\"valid_epoch\"])+'\\n'\\\n",
    "    +\"test_MAE\"+\":\"+\"\\n\"+str(test_MAE)+'\\n'\\\n",
    "    +\"test_MSE_normalized_mean: \"+str(test_MSE_normalized.mean())+'\\n'\\\n",
    "    )"
   ]
  },
  {
   "cell_type": "code",
   "execution_count": null,
   "metadata": {},
   "outputs": [],
   "source": []
  }
 ],
 "metadata": {
  "kernelspec": {
   "display_name": "Python 3",
   "language": "python",
   "name": "python3"
  },
  "language_info": {
   "codemirror_mode": {
    "name": "ipython",
    "version": 3
   },
   "file_extension": ".py",
   "mimetype": "text/x-python",
   "name": "python",
   "nbconvert_exporter": "python",
   "pygments_lexer": "ipython3",
   "version": "3.7.3"
  }
 },
 "nbformat": 4,
 "nbformat_minor": 2
}
