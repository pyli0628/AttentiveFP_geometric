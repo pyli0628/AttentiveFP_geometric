{
 "cells": [
  {
   "cell_type": "code",
   "execution_count": 1,
   "metadata": {},
   "outputs": [],
   "source": [
    "import os\n",
    "os.environ[\"CUDA_DEVICE_ORDER\"]=\"PCI_BUS_ID\"   \n",
    "os.environ[\"CUDA_VISIBLE_DEVICES\"]=\"6\"\n",
    "import torch\n",
    "import torch.autograd as autograd\n",
    "import torch.nn as nn\n",
    "import torch.nn.functional as F\n",
    "import torch.optim as optim\n",
    "from torch.utils.data import Dataset, DataLoader\n",
    "from tqdm import tqdm\n",
    "\n",
    "import time\n",
    "import numpy as np\n",
    "import gc\n",
    "import sys\n",
    "sys.setrecursionlimit(50000)\n",
    "import pickle\n",
    "import random\n",
    "torch.set_default_tensor_type('torch.cuda.FloatTensor')\n",
    "torch.nn.Module.dump_patches = True\n",
    "import copy\n",
    "import pandas as pd\n",
    "from sklearn.model_selection import KFold\n",
    "\n",
    "#then import my own modules\n",
    "# from AttentiveFP import Fingerprint, Fingerprint_viz, save_smiles_dicts, get_smiles_dicts, get_smiles_array, moltosvg_highlight\n",
    "from timeit import default_timer as timer\n",
    "from AttentiveFP.featurizing import graph_dict\n",
    "from AttentiveFP.AttentiveLayers_new2 import Fingerprint, graph_dataset, null_collate, Graph, Logger, time_to_str\n",
    "\n"
   ]
  },
  {
   "cell_type": "code",
   "execution_count": 2,
   "metadata": {},
   "outputs": [],
   "source": [
    "cuda_aviable = torch.cuda.is_available()\n",
    "device = torch.device(0)\n",
    "\n",
    "SEED = 28\n",
    "random.seed(SEED)\n",
    "np.random.seed(SEED)\n",
    "torch.manual_seed(SEED)\n",
    "\n",
    "torch.cuda.manual_seed_all(SEED)\n",
    "torch.backends.cudnn.benchmark = True\n",
    "torch.backends.cudnn.enabled = True\n",
    "torch.backends.cudnn.deterministic=True\n"
   ]
  },
  {
   "cell_type": "code",
   "execution_count": 3,
   "metadata": {},
   "outputs": [],
   "source": [
    "from rdkit import Chem\n",
    "# from rdkit.Chem import AllChem\n",
    "from rdkit.Chem import QED\n",
    "from rdkit.Chem import rdMolDescriptors, MolSurf\n",
    "from rdkit.Chem.Draw import SimilarityMaps\n",
    "from rdkit import Chem\n",
    "from rdkit.Chem import AllChem\n",
    "from rdkit.Chem import rdDepictor\n",
    "from rdkit.Chem.Draw import rdMolDraw2D\n",
    "%matplotlib inline\n",
    "from numpy.polynomial.polynomial import polyfit\n",
    "import matplotlib.pyplot as plt\n",
    "from matplotlib import gridspec\n",
    "import matplotlib.cm as cm\n",
    "import matplotlib\n",
    "import seaborn as sns; sns.set_style(\"darkgrid\")\n",
    "from IPython.display import SVG, display\n",
    "import sascorer\n",
    "import itertools\n",
    "from sklearn.metrics import r2_score\n",
    "import scipy"
   ]
  },
  {
   "cell_type": "code",
   "execution_count": 4,
   "metadata": {},
   "outputs": [
    {
     "name": "stdout",
     "output_type": "stream",
     "text": [
      "number of all smiles:  133885\n",
      "number of successfully processed smiles:  133247\n"
     ]
    },
    {
     "data": {
      "image/png": "[encoded data removed]",
      "text/plain": [
       "<Figure size 360x216 with 1 Axes>"
      ]
     },
     "metadata": {},
     "output_type": "display_data"
    }
   ],
   "source": [
    "task_name = 'qm9'\n",
    "tasks = [\n",
    "   \"mu\",\"alpha\",\"homo\",\"lumo\",\"gap\",\"r2\",\"zpve\",\"u0\",\"u298\",\"h298\",\"g298\",\"cv\"\n",
    "]\n",
    "\n",
    "raw_filename = \"../data/gdb9_smiles.csv\"\n",
    "filename = raw_filename.replace('.csv','')\n",
    "prefix_filename = raw_filename.split('/')[-1].replace('.csv','')\n",
    "smiles_tasks_df = pd.read_csv(raw_filename)\n",
    "\n",
    "smilesList = smiles_tasks_df.smiles.values\n",
    "print(\"number of all smiles: \", len(smilesList))\n",
    "atom_num_dist = []\n",
    "remained_smiles = []\n",
    "canonical_smiles_list = []\n",
    "for smiles in smilesList:\n",
    "    try:        \n",
    "        mol = Chem.MolFromSmiles(smiles)\n",
    "        atom_num_dist.append(len(mol.GetAtoms()))\n",
    "        remained_smiles.append(smiles)\n",
    "        canonical_smiles_list.append(Chem.MolToSmiles(Chem.MolFromSmiles(smiles), isomericSmiles=True))\n",
    "    except:\n",
    "#         print(smiles)\n",
    "        pass\n",
    "print(\"number of successfully processed smiles: \", len(remained_smiles))\n",
    "\n",
    "smiles_tasks_df = smiles_tasks_df[smiles_tasks_df[\"smiles\"].isin(remained_smiles)].reset_index()\n",
    "smiles_tasks_df['cano_smiles'] =canonical_smiles_list\n",
    "plt.figure(figsize=(5, 3))\n",
    "sns.set(font_scale=1.5)\n",
    "ax = sns.distplot(atom_num_dist, bins=28, kde=False)\n",
    "plt.tight_layout()\n",
    "plt.show()\n",
    "plt.close()\n"
   ]
  },
  {
   "cell_type": "code",
   "execution_count": 5,
   "metadata": {},
   "outputs": [],
   "source": [
    "start_time = str(time.ctime()).replace(':','-').replace(' ','_')\n",
    "\n",
    "batch_size = 500\n",
    "epochs = 300\n",
    "\n",
    "p_dropout= 0.5\n",
    "fingerprint_dim = 280\n",
    "\n",
    "weight_decay = 4.9 # also known as l2_regularization_lambda\n",
    "learning_rate = 3.4\n",
    "K = 2\n",
    "T = 2\n",
    "per_task_output_units_num = 1 # for regression model\n",
    "output_units_num = len(tasks) * per_task_output_units_num\n"
   ]
  },
  {
   "cell_type": "code",
   "execution_count": 6,
   "metadata": {},
   "outputs": [
    {
     "name": "stdout",
     "output_type": "stream",
     "text": [
      "batch size:  503\n"
     ]
    },
    {
     "data": {
      "text/html": [
       "<div>\n",
       "<style scoped>\n",
       "    .dataframe tbody tr th:only-of-type {\n",
       "        vertical-align: middle;\n",
       "    }\n",
       "\n",
       "    .dataframe tbody tr th {\n",
       "        vertical-align: top;\n",
       "    }\n",
       "\n",
       "    .dataframe thead th {\n",
       "        text-align: right;\n",
       "    }\n",
       "</style>\n",
       "<table border=\"1\" class=\"dataframe\">\n",
       "  <thead>\n",
       "    <tr style=\"text-align: right;\">\n",
       "      <th></th>\n",
       "      <th>Task</th>\n",
       "      <th>Mean</th>\n",
       "      <th>Standard deviation</th>\n",
       "      <th>Mean absolute deviation</th>\n",
       "      <th>ratio</th>\n",
       "    </tr>\n",
       "  </thead>\n",
       "  <tbody>\n",
       "    <tr>\n",
       "      <th>0</th>\n",
       "      <td>mu</td>\n",
       "      <td>2.708713</td>\n",
       "      <td>1.531956</td>\n",
       "      <td>1.191056</td>\n",
       "      <td>1.286217</td>\n",
       "    </tr>\n",
       "    <tr>\n",
       "      <th>1</th>\n",
       "      <td>alpha</td>\n",
       "      <td>75.190920</td>\n",
       "      <td>8.197607</td>\n",
       "      <td>6.308065</td>\n",
       "      <td>1.299544</td>\n",
       "    </tr>\n",
       "    <tr>\n",
       "      <th>2</th>\n",
       "      <td>homo</td>\n",
       "      <td>-0.239974</td>\n",
       "      <td>0.022176</td>\n",
       "      <td>0.016340</td>\n",
       "      <td>1.357178</td>\n",
       "    </tr>\n",
       "    <tr>\n",
       "      <th>3</th>\n",
       "      <td>lumo</td>\n",
       "      <td>0.011026</td>\n",
       "      <td>0.046912</td>\n",
       "      <td>0.038618</td>\n",
       "      <td>1.214779</td>\n",
       "    </tr>\n",
       "    <tr>\n",
       "      <th>4</th>\n",
       "      <td>gap</td>\n",
       "      <td>0.250999</td>\n",
       "      <td>0.047505</td>\n",
       "      <td>0.039648</td>\n",
       "      <td>1.198148</td>\n",
       "    </tr>\n",
       "    <tr>\n",
       "      <th>5</th>\n",
       "      <td>r2</td>\n",
       "      <td>1190.034973</td>\n",
       "      <td>279.648930</td>\n",
       "      <td>202.109506</td>\n",
       "      <td>1.383651</td>\n",
       "    </tr>\n",
       "    <tr>\n",
       "      <th>6</th>\n",
       "      <td>zpve</td>\n",
       "      <td>0.148522</td>\n",
       "      <td>0.033298</td>\n",
       "      <td>0.026472</td>\n",
       "      <td>1.257836</td>\n",
       "    </tr>\n",
       "    <tr>\n",
       "      <th>7</th>\n",
       "      <td>u0</td>\n",
       "      <td>-411.587569</td>\n",
       "      <td>40.087880</td>\n",
       "      <td>31.106651</td>\n",
       "      <td>1.288724</td>\n",
       "    </tr>\n",
       "    <tr>\n",
       "      <th>8</th>\n",
       "      <td>u298</td>\n",
       "      <td>-411.579095</td>\n",
       "      <td>40.087661</td>\n",
       "      <td>31.106518</td>\n",
       "      <td>1.288722</td>\n",
       "    </tr>\n",
       "    <tr>\n",
       "      <th>9</th>\n",
       "      <td>h298</td>\n",
       "      <td>-411.578151</td>\n",
       "      <td>40.087661</td>\n",
       "      <td>31.106518</td>\n",
       "      <td>1.288722</td>\n",
       "    </tr>\n",
       "    <tr>\n",
       "      <th>10</th>\n",
       "      <td>g298</td>\n",
       "      <td>-411.620986</td>\n",
       "      <td>40.088392</td>\n",
       "      <td>31.107005</td>\n",
       "      <td>1.288726</td>\n",
       "    </tr>\n",
       "    <tr>\n",
       "      <th>11</th>\n",
       "      <td>cv</td>\n",
       "      <td>31.604483</td>\n",
       "      <td>4.064031</td>\n",
       "      <td>3.204093</td>\n",
       "      <td>1.268387</td>\n",
       "    </tr>\n",
       "  </tbody>\n",
       "</table>\n",
       "</div>"
      ],
      "text/plain": [
       "     Task         Mean  Standard deviation  Mean absolute deviation     ratio\n",
       "0      mu     2.708713            1.531956                 1.191056  1.286217\n",
       "1   alpha    75.190920            8.197607                 6.308065  1.299544\n",
       "2    homo    -0.239974            0.022176                 0.016340  1.357178\n",
       "3    lumo     0.011026            0.046912                 0.038618  1.214779\n",
       "4     gap     0.250999            0.047505                 0.039648  1.198148\n",
       "5      r2  1190.034973          279.648930               202.109506  1.383651\n",
       "6    zpve     0.148522            0.033298                 0.026472  1.257836\n",
       "7      u0  -411.587569           40.087880                31.106651  1.288724\n",
       "8    u298  -411.579095           40.087661                31.106518  1.288722\n",
       "9    h298  -411.578151           40.087661                31.106518  1.288722\n",
       "10   g298  -411.620986           40.088392                31.107005  1.288726\n",
       "11     cv    31.604483            4.064031                 3.204093  1.268387"
      ]
     },
     "execution_count": 6,
     "metadata": {},
     "output_type": "execute_result"
    }
   ],
   "source": [
    "test_df = smiles_tasks_df.sample(frac=1/10, random_state=SEED) # test set\n",
    "training_data = smiles_tasks_df.drop(test_df.index) # training data\n",
    "\n",
    "# get the stats of the seen dataset (the training data)\n",
    "# which will be used to noramlize the dataset. \n",
    "columns = ['Task','Mean','Standard deviation', 'Mean absolute deviation','ratio']\n",
    "mean_list=[]\n",
    "std_list=[]\n",
    "mad_list=[]\n",
    "ratio_list=[]\n",
    "training_label_list = []\n",
    "test_label_list = []\n",
    "for task in tasks:\n",
    "    mean = training_data[task].mean()\n",
    "    mean_list.append(mean)\n",
    "    std = training_data[task].std()\n",
    "    std_list.append(std)\n",
    "    mad = training_data[task].mad()\n",
    "    mad_list.append(mad)\n",
    "    ratio_list.append(std/mad)\n",
    "    training_data[task+'_normalized'] = (training_data[task]- mean)/std\n",
    "    # the mean and standard deviation of training data is also used in test set\n",
    "    test_df[task+'_normalized'] = (test_df[task]- mean)/std\n",
    "    training_label_list.append(training_data[task+'_normalized'].values)\n",
    "    test_label_list.append(test_df[task+'_normalized'].values)\n",
    "\n",
    "training_label = np.array(training_label_list).astype(np.float).transpose()\n",
    "test_label = np.array(test_label_list).astype(np.float).transpose()\n",
    "\n",
    "    \n",
    "# training data is further divided into validation set and train set\n",
    "valid_df = training_data.sample(frac=1/9, random_state=SEED) # validation set\n",
    "train_df = training_data.drop(valid_df.index) # train set\n",
    "train_df = train_df.reset_index(drop=True)\n",
    "valid_df = valid_df.reset_index(drop=True)\n",
    "test_df = test_df.reset_index(drop=True)\n",
    "\n",
    "while (len(train_df) % batch_size) / batch_size <0.8:\n",
    "    batch_size +=1\n",
    "print(\"batch size: \", batch_size)\n",
    "\n",
    "list_of_tuples = list(zip(tasks, mean_list, std_list, mad_list, ratio_list))\n",
    "stats  = pd.DataFrame(list_of_tuples, columns = columns)\n",
    "stats\n"
   ]
  },
  {
   "cell_type": "code",
   "execution_count": 7,
   "metadata": {},
   "outputs": [],
   "source": [
    "# # check the value distribution of different tasks\n",
    "# plt.figure(figsize=(28, 8),dpi=300)\n",
    "# gs = gridspec.GridSpec(2, 6)\n",
    "# sns.set(font_scale=1.8)\n",
    "# for i, task in enumerate(tasks):\n",
    "#     plt.subplot(gs[(i)])\n",
    "#     x = pd.Series(training_data[task].values, name=task)\n",
    "#     ax = sns.distplot(x, bins=28, kde=False)\n",
    "#     plt.tight_layout()\n",
    "# plt.show()\n",
    "# plt.close()"
   ]
  },
  {
   "cell_type": "code",
   "execution_count": 8,
   "metadata": {},
   "outputs": [],
   "source": [
    "# # check the distribution after normalization (should be the same)\n",
    "\n",
    "# plt.figure(figsize=(28, 8),dpi=300)\n",
    "# gs = gridspec.GridSpec(2, 6)\n",
    "# sns.set(font_scale=1.8)\n",
    "# for i, task in enumerate(tasks):\n",
    "#     plt.subplot(gs[(i)])\n",
    "#     x = pd.Series(training_data[task+\"_normalized\"].values, name=task)\n",
    "#     ax = sns.distplot(x, bins=28, kde=False)\n",
    "#     plt.tight_layout()\n",
    "# plt.show()\n",
    "# plt.close()"
   ]
  },
  {
   "cell_type": "code",
   "execution_count": 9,
   "metadata": {},
   "outputs": [
    {
     "name": "stdout",
     "output_type": "stream",
     "text": [
      "graph dicts loaded from ../data/gdb9_smiles_training_seed28.pkl\n",
      "graph dicts loaded from ../data/gdb9_smiles_test_seed28.pkl\n"
     ]
    }
   ],
   "source": [
    "training_smiles = training_data['smiles'].values\n",
    "test_smiles = test_df['smiles'].values\n",
    "training_graph_dict = graph_dict(training_smiles, list(training_label), filename+'_training_seed'+str(SEED))\n",
    "test_graph_dict = graph_dict(test_smiles, list(test_label), filename+'_test_seed'+str(SEED))\n",
    "whole_graph_dict = {**training_graph_dict, **test_graph_dict}"
   ]
  },
  {
   "cell_type": "code",
   "execution_count": 10,
   "metadata": {
    "scrolled": true
   },
   "outputs": [
    {
     "name": "stdout",
     "output_type": "stream",
     "text": [
      "2936777\n",
      "preprocess.0.linear.weight torch.Size([280, 39])\n",
      "preprocess.0.linear.bias torch.Size([280])\n",
      "preprocess.0.bn.weight torch.Size([280])\n",
      "preprocess.0.bn.bias torch.Size([280])\n",
      "encoder.0.linear.weight torch.Size([280, 49])\n",
      "encoder.0.linear.bias torch.Size([280])\n",
      "encoder.0.bn.weight torch.Size([280])\n",
      "encoder.0.bn.bias torch.Size([280])\n",
      "align.weight torch.Size([1, 560])\n",
      "align.bias torch.Size([1])\n",
      "attend.linear.weight torch.Size([280, 280])\n",
      "attend.linear.bias torch.Size([280])\n",
      "attend.bn.weight torch.Size([280])\n",
      "attend.bn.bias torch.Size([280])\n",
      "gru.weight_ih torch.Size([840, 280])\n",
      "gru.weight_hh torch.Size([840, 280])\n",
      "gru.bias_ih torch.Size([840])\n",
      "gru.bias_hh torch.Size([840])\n",
      "propagate.0.align.weight torch.Size([1, 560])\n",
      "propagate.0.align.bias torch.Size([1])\n",
      "propagate.0.attend.linear.weight torch.Size([280, 280])\n",
      "propagate.0.attend.linear.bias torch.Size([280])\n",
      "propagate.0.attend.bn.weight torch.Size([280])\n",
      "propagate.0.attend.bn.bias torch.Size([280])\n",
      "propagate.0.gru.weight_ih torch.Size([840, 280])\n",
      "propagate.0.gru.weight_hh torch.Size([840, 280])\n",
      "propagate.0.gru.bias_ih torch.Size([840])\n",
      "propagate.0.gru.bias_hh torch.Size([840])\n",
      "propagate.1.align.weight torch.Size([1, 560])\n",
      "propagate.1.align.bias torch.Size([1])\n",
      "propagate.1.attend.linear.weight torch.Size([280, 280])\n",
      "propagate.1.attend.linear.bias torch.Size([280])\n",
      "propagate.1.attend.bn.weight torch.Size([280])\n",
      "propagate.1.attend.bn.bias torch.Size([280])\n",
      "propagate.1.gru.weight_ih torch.Size([840, 280])\n",
      "propagate.1.gru.weight_hh torch.Size([840, 280])\n",
      "propagate.1.gru.bias_ih torch.Size([840])\n",
      "propagate.1.gru.bias_hh torch.Size([840])\n",
      "superGather.0.align.weight torch.Size([1, 560])\n",
      "superGather.0.align.bias torch.Size([1])\n",
      "superGather.0.attend.linear.weight torch.Size([280, 280])\n",
      "superGather.0.attend.linear.bias torch.Size([280])\n",
      "superGather.0.attend.bn.weight torch.Size([280])\n",
      "superGather.0.attend.bn.bias torch.Size([280])\n",
      "superGather.0.gru.weight_ih torch.Size([840, 280])\n",
      "superGather.0.gru.weight_hh torch.Size([840, 280])\n",
      "superGather.0.gru.bias_ih torch.Size([840])\n",
      "superGather.0.gru.bias_hh torch.Size([840])\n",
      "superGather.1.align.weight torch.Size([1, 560])\n",
      "superGather.1.align.bias torch.Size([1])\n",
      "superGather.1.attend.linear.weight torch.Size([280, 280])\n",
      "superGather.1.attend.linear.bias torch.Size([280])\n",
      "superGather.1.attend.bn.weight torch.Size([280])\n",
      "superGather.1.attend.bn.bias torch.Size([280])\n",
      "superGather.1.gru.weight_ih torch.Size([840, 280])\n",
      "superGather.1.gru.weight_hh torch.Size([840, 280])\n",
      "superGather.1.gru.bias_ih torch.Size([840])\n",
      "superGather.1.gru.bias_hh torch.Size([840])\n",
      "predict.0.linear.weight torch.Size([512, 280])\n",
      "predict.0.linear.bias torch.Size([512])\n",
      "predict.0.bn.weight torch.Size([512])\n",
      "predict.0.bn.bias torch.Size([512])\n",
      "predict.3.weight torch.Size([12, 512])\n",
      "predict.3.bias torch.Size([12])\n"
     ]
    }
   ],
   "source": [
    "ratio_array = torch.from_numpy(np.array(ratio_list).astype(np.float)).float()\n",
    "ratio_array = ratio_array.to(device)\n",
    "std_array = torch.from_numpy(np.array(std_list).astype(np.float)).float()\n",
    "std_array = ratio_array.to(device)\n",
    "\n",
    "ratio_array_square = ratio_array[None,:]**2\n",
    "loss_function = nn.MSELoss()\n",
    "model = Fingerprint(output_units_num, fingerprint_dim, K=K, T=T, p_dropout=p_dropout)\n",
    "model.to(device)\n",
    "# optimizer = optim.Adam(model.parameters(), learning_rate, weight_decay=weight_decay)\n",
    "optimizer = optim.Adam(model.parameters(), 10**-learning_rate, weight_decay=10**-weight_decay)\n",
    "# optimizer = optim.SGD(model.parameters(), 10**-learning_rate, weight_decay=10**-weight_decay)\n",
    "\n",
    "# model_parameters = filter(lambda p: p.requires_grad, model.parameters())\n",
    "params = sum([np.prod(p.size()) for p in  model.parameters()])\n",
    "print(params)\n",
    "for name, param in model.named_parameters():\n",
    "    if param.requires_grad:\n",
    "        print(name, param.data.shape)\n",
    "        "
   ]
  },
  {
   "cell_type": "code",
   "execution_count": 11,
   "metadata": {},
   "outputs": [],
   "source": [
    "# def train(model, smiles_list):\n",
    "#     model.train()\n",
    "#     train_loader = DataLoader(graph_dataset(smiles_list, whole_graph_dict), batch_size, collate_fn=null_collate, \\\n",
    "#                               num_workers=1, pin_memory=True, shuffle=True, worker_init_fn=np.random.seed(SEED))\n",
    "#     losses = []\n",
    "#     for b, (smiles, atom, bond, bond_index, mol_index, label) in tqdm(enumerate(train_loader)):\n",
    "#         atom = atom.to(device)\n",
    "#         bond = bond.to(device)\n",
    "#         bond_index = bond_index.to(device)\n",
    "#         mol_index = mol_index.to(device)\n",
    "#         label = label.to(device)\n",
    "        \n",
    "#         mol_prediction = model(atom, bond, bond_index, mol_index)\n",
    "        \n",
    "#         loss = 0.0\n",
    "#         for i,task in enumerate(tasks):\n",
    "#             y_pred = mol_prediction[:, i]\n",
    "#             loss += loss_function(y_pred, label[:,i])*ratio_list[i]**2\n",
    "#         loss.backward()\n",
    "#         optimizer.step()\n",
    "#         optimizer.zero_grad()\n",
    "#         losses.append(loss.item())\n",
    "\n",
    "#     return np.mean(losses)\n",
    "\n",
    "        \n",
    "# def eval(model, smiles_list):\n",
    "#     model.eval()\n",
    "#     eval_MAE_list = {}\n",
    "#     eval_MSE_list = {}\n",
    "#     y_val_list = {}\n",
    "#     y_pred_list = {}\n",
    "#     for i,task in enumerate(tasks):\n",
    "#         y_pred_list[task] = np.array([])\n",
    "#         y_val_list[task] = np.array([])\n",
    "#         eval_MAE_list[task] = np.array([])\n",
    "#         eval_MSE_list[task] = np.array([])\n",
    "        \n",
    "#     eval_loader = DataLoader(graph_dataset(smiles_list, whole_graph_dict), batch_size, collate_fn=null_collate, \\\n",
    "#                               num_workers=8, pin_memory=True, shuffle=False, worker_init_fn=np.random.seed(SEED))\n",
    "#     for b, (smiles, atom, bond, bond_index, mol_index, label) in tqdm(enumerate(eval_loader)):\n",
    "#         atom = atom.to(device)\n",
    "#         bond = bond.to(device)\n",
    "#         bond_index = bond_index.to(device)\n",
    "#         mol_index = mol_index.to(device)\n",
    "#         label = label.to(device)\n",
    "        \n",
    "#         mol_prediction = model(atom, bond, bond_index, mol_index)\n",
    "#         for i,task in enumerate(tasks):\n",
    "#             y_pred = mol_prediction[:, i]\n",
    "\n",
    "#             MAE = F.l1_loss(y_pred, label[:,i], reduction='none')        \n",
    "#             MSE = F.mse_loss(y_pred, label[:,i], reduction='none')\n",
    "        \n",
    "#             y_pred_list[task] = np.concatenate([y_pred_list[task], y_pred.cpu().detach().numpy()])\n",
    "#             y_val_list[task] = np.concatenate([y_val_list[task], label[:,i].cpu().detach().numpy()])\n",
    "#             eval_MAE_list[task] = np.concatenate([eval_MAE_list[task],MAE.data.squeeze().cpu().numpy()])\n",
    "#             eval_MSE_list[task] = np.concatenate([eval_MSE_list[task],MSE.data.squeeze().cpu().numpy()])\n",
    "# #     r2_score_list = [r2_score(y_val_list[task], y_pred_list[task]) for task in tasks]\n",
    "#     eval_MAE_normalized = np.array([eval_MAE_list[task].mean() for i, task in enumerate(tasks)])\n",
    "#     eval_MAE = np.multiply(eval_MAE_normalized, np.array(std_list))\n",
    "#     eval_RMSE_normalized = np.sqrt(np.array([eval_MSE_list[task].mean() for i, task in enumerate(tasks)]))\n",
    "#     eval_RMSE = np.multiply(eval_RMSE_normalized, np.array(std_list))\n",
    "\n",
    "#     return eval_MAE_normalized, eval_MAE, eval_RMSE_normalized, eval_RMSE #, r2_score_list\n",
    "\n"
   ]
  },
  {
   "cell_type": "code",
   "execution_count": 12,
   "metadata": {},
   "outputs": [],
   "source": [
    "def train(model, smiles_list):\n",
    "    model.train()\n",
    "    train_loader = DataLoader(graph_dataset(smiles_list, whole_graph_dict), batch_size, collate_fn=null_collate, \\\n",
    "                              num_workers=8, pin_memory=True, shuffle=True, worker_init_fn=np.random.seed(SEED))\n",
    "    losses = []\n",
    "    for b, (smiles, atom, bond, bond_index, mol_index, label) in tqdm(enumerate(train_loader)):\n",
    "        atom = atom.to(device)\n",
    "        bond = bond.to(device)\n",
    "        bond_index = bond_index.to(device)\n",
    "        mol_index = mol_index.to(device)\n",
    "        label = label.to(device) * ratio_array_square # set STD/MAD ratio as the weights\n",
    "        mol_prediction = model(atom, bond, bond_index, mol_index) * ratio_array_square\n",
    "        \n",
    "        loss = loss_function(mol_prediction.reshape(-1), label.reshape(-1))\n",
    "        loss.backward()\n",
    "        optimizer.step()\n",
    "        optimizer.zero_grad()\n",
    "        losses.append(loss.item())\n",
    "\n",
    "    return np.mean(losses)\n",
    "\n",
    "def eval(model, smiles_list):\n",
    "    model.eval()\n",
    "    MAE_array = np.array([])\n",
    "    MSE_array = np.array([])\n",
    "    mol_prediction_array = np.array([])\n",
    "    label_array = np.array([])\n",
    "        \n",
    "    eval_loader = DataLoader(graph_dataset(smiles_list, whole_graph_dict), batch_size, collate_fn=null_collate, \\\n",
    "                              num_workers=8, pin_memory=True, shuffle=False, worker_init_fn=np.random.seed(SEED))\n",
    "    for b, (smiles, atom, bond, bond_index, mol_index, label) in tqdm(enumerate(eval_loader)):\n",
    "        atom = atom.to(device)\n",
    "        bond = bond.to(device)\n",
    "        bond_index = bond_index.to(device)\n",
    "        mol_index = mol_index.to(device)\n",
    "        label = label.to(device)\n",
    "        \n",
    "        mol_prediction = model(atom, bond, bond_index, mol_index)\n",
    "        MAE = F.l1_loss(mol_prediction.reshape(-1), label.reshape(-1), reduction='none').cpu().detach().numpy()      \n",
    "        MSE = F.mse_loss(mol_prediction.reshape(-1), label.reshape(-1), reduction='none').cpu().detach().numpy()\n",
    "        \n",
    "#         mol_prediction_array = np.concatenate([mol_prediction_array, mol_prediction.cpu().detach().numpy()])\n",
    "        label = label.reshape(-1,12).cpu().detach().numpy()\n",
    "        label_array = np.concatenate([label_array.reshape(-1,12),label])\n",
    "#         print(label_array.shape)\n",
    "        MAE_array = np.concatenate([MAE_array.reshape(-1,12),MAE.reshape(-1,12)])\n",
    "        MSE_array = np.concatenate([MSE_array.reshape(-1,12),MSE.reshape(-1,12)])\n",
    "#     mol_prediction_array = mol_prediction_array.data.squeeze().cpu().numpy()\n",
    "#     label_array = label_array.data.squeeze().cpu().numpy()    \n",
    "#     r2_score_list = [r2_score(mol_prediction_array[:,i], label_array[:,i]) for i, task in enumerate(tasks)]\n",
    "    MAE_normalized = MAE_array.mean(0).reshape(-1)    \n",
    "    MAE_raw = MAE_normalized * np.array(std_list)\n",
    "    RMSE_normalized = np.sqrt(MAE_array.mean().reshape(-1))\n",
    "    RMSE_raw = RMSE_normalized * np.array(std_list)\n",
    "\n",
    "    return MAE_normalized, MAE_raw, RMSE_normalized, RMSE_raw #, r2_score_list\n",
    "\n",
    "\n",
    "\n",
    "\n",
    "# def eval(model, smiles_list):\n",
    "#     model.eval()\n",
    "#     MAE_array = torch.Tensor()\n",
    "#     RMSE_array = torch.Tensor()\n",
    "#     mol_prediction_array = torch.Tensor()\n",
    "#     label_array = torch.Tensor()\n",
    "        \n",
    "#     eval_loader = DataLoader(graph_dataset(smiles_list, whole_graph_dict), batch_size, collate_fn=null_collate, \\\n",
    "#                               num_workers=8, pin_memory=True, shuffle=False, worker_init_fn=np.random.seed(SEED))\n",
    "#     for b, (smiles, atom, bond, bond_index, mol_index, label) in tqdm(enumerate(eval_loader)):\n",
    "#         atom = atom.to(device)\n",
    "#         bond = bond.to(device)\n",
    "#         bond_index = bond_index.to(device)\n",
    "#         mol_index = mol_index.to(device)\n",
    "#         label = label.to(device)\n",
    "        \n",
    "#         mol_prediction = model(atom, bond, bond_index, mol_index)\n",
    "#         MAE = F.l1_loss(mol_prediction.reshape(-1), label.reshape(-1), reduction='none')        \n",
    "#         MSE = F.mse_loss(mol_prediction.reshape(-1), label.reshape(-1), reduction='none')\n",
    "        \n",
    "#         mol_prediction_array = torch.cat([mol_prediction_array.reshape(-1,12), mol_prediction.reshape(-1,12)],0)\n",
    "        \n",
    "#         label_array = torch.cat([label_array.reshape(-1,12),label.reshape(-1,12)])\n",
    "#         MAE_array = torch.cat([MAE.reshape(-1,12),MAE.reshape(-1,12)])\n",
    "#         MSE_array = torch.cat([MSE.reshape(-1,12),MSE.reshape(-1,12)])\n",
    "# #     mol_prediction_array = mol_prediction_array.data.squeeze().cpu().numpy()\n",
    "# #     label_array = label_array.data.squeeze().cpu().numpy()    \n",
    "# #     r2_score_list = [r2_score(mol_prediction_array[:,i], label_array[:,i]) for i, task in enumerate(tasks)]\n",
    "#     MAE_normalized = MAE_array.mean(0).reshape(-1)    \n",
    "#     MAE_raw = MAE_normalized * std_array\n",
    "#     RMSE_normalized = torch.sqrt(MAE_array.mean().reshape(-1))\n",
    "#     RMSE_raw = RMSE_normalized * std_array\n",
    "\n",
    "#     return MAE_normalized, MAE_raw, RMSE_normalized, RMSE_raw #, r2_score_list\n",
    "\n"
   ]
  },
  {
   "cell_type": "code",
   "execution_count": 13,
   "metadata": {},
   "outputs": [],
   "source": [
    "# log = Logger()\n",
    "# log.open(f'{prefix_filename}_{start_time}.txt')\n",
    "\n",
    "# f = '{:^5} | {:^7.4f} | {:^7.4f} | {:^7.4f} | {:^7} \\n'\n",
    "# log.write('epoch | loss | train MSE |  valid MSE |  time \\n')\n",
    "# start = timer()\n",
    "\n",
    "# best_param ={}\n",
    "# best_param[\"train_epoch\"] = 0\n",
    "# best_param[\"valid_epoch\"] = 0\n",
    "# best_param[\"train_MSE\"] = 9e8\n",
    "# best_param[\"valid_MSE\"] = 9e8\n",
    "\n",
    "# fold_index = 3\n",
    "# for epoch in range(800):\n",
    "#     losses = train(smiles_list[train_fold[fold_index]])\n",
    "#     traine_MAE, train_MSE = eval(smiles_list[train_fold[fold_index]])\n",
    "#     valid_MAE, valid_MSE = eval(smiles_list[valid_fold[fold_index]])\n",
    "\n",
    "#     timing = time_to_str((timer() - start), 'min')  \n",
    "#     log.write(f.format(epoch, losses, train_MSE, valid_MSE, timing))\n",
    "\n",
    "#     if train_MSE < best_param[\"train_MSE\"]:\n",
    "#         best_param[\"train_epoch\"] = epoch\n",
    "#         best_param[\"train_MSE\"] = train_MSE\n",
    "#     if valid_MSE < best_param[\"valid_MSE\"]:\n",
    "#         best_param[\"valid_epoch\"] = epoch\n",
    "#         best_param[\"valid_MSE\"] = valid_MSE\n",
    "# #         if valid_MSE < 0.35:\n",
    "# #              torch.save(model, 'saved_models/model_'+prefix_filename+'_'+start_time+'_'+str(epoch)+'.pt')\n",
    "#     if (epoch - best_param[\"train_epoch\"] >10) and (epoch - best_param[\"valid_epoch\"] >18):        \n",
    "#         break\n",
    "# print(best_param[\"valid_epoch\"],best_param[\"train_MSE\"],best_param[\"valid_MSE\"])"
   ]
  },
  {
   "cell_type": "code",
   "execution_count": 14,
   "metadata": {},
   "outputs": [],
   "source": [
    "# bug_list1 = ['C[NH2+]C1C[C@H](C(N)=O)O1', 'C[C@@H](O)[C@H]1CCC([NH-])O1', '[NH-]c1nc(N)c(O)[cH+]o1', 'O=CN1[C@H]2[C@H]3[C@@H]4[C@H]3[C@H]2[C@@H]41', 'C[NH2+]C1O[CH+]N=C[CH+]1C', 'C[C@H]1O[C@@H](CO)C1NO', 'CCO[C@H]1[C@@H](C)C1(C)C', 'COCc1c[nH]c(O)n1', 'O=CCCc1ccon1', 'C#CC1=C[C@@H]2[C@@H]3[C@H]1O[C@@H]32', 'CC1=C[C@H](C#N)COC1', 'C1CC12[C@H]1[C@@H]3[C@H]1[C@H]1[C@@H]3[N@H+]12', 'CCC[C@H]1C[C@@](C)(O)C1', 'C[C@H]1C[C@@]12C[C@@H](O)C2=O', 'O[C@H]1CC=C2CCO[C@H]21', 'CC(C)(O)CCCO', 'CC[C@]12C[N@H+]1C[C@@]21CN1', 'C#C[C@H]1C[C@H](COC)C1', '[NH-]c1nc(O)nc(N)[nH+]1', 'C[C@H]1C[C@]2(CN2)[C@@]12CN2', 'C[C@@]1(O)C[C@H]2OC[C@@H]1O2', 'C[C@@]12O[C@H]3[C@@H]4C[N@@H+]([C@@H]41)[C@H]32', 'C1=C[C@]2(CC1)[C@@]13C[C@]12O3', 'C[C@H]1[C@@H](O)C(=O)C1(C)C', 'C[N@H+]1[C@H]2[C@H]3C[C@H]3[C@@H]1[C@H]2O', 'O=C1C[C@H]2COC(=O)N12', 'CC[C@H]1CC2=CCO[C@H]21', 'O=C1CC[C@H]2C[C@@H](C1)O2', 'CCn1cnc(NC)c1', 'C#CC#C[C@H](O)CCC', 'Nc1[nH]c(O)cc1O', 'O=C1COCC=C[C@@H]1O', 'O=C1O[C@H]2CO[C@@H]1OC2', 'OCC[N@H+]1[C@H]2[C@H]3C[C@H]3[C@H]21', 'O=c1[nH]ncnc1F', '[NH-]c1[nH+]cc(N)[nH]c1=O', 'C[C@H]1O[C@]12C=CCC2', '[NH-]c1[nH+]c(O)cnc1O', 'O=C[C@H]1[C@@H]2C=C[C@H]1[C@H]2O', 'C[C@H]1CC12CC1(CC1)C2', 'N#CC1(N)CC1', 'C#C[C@@](C)(C=O)C(N)=O', 'C[C@H]1OC[C@H]2N[C@H]2[C@H]1O', 'Cc1c[nH+]c([NH-])nc1F', 'O=C1C[C@@H]2NC(=O)[C@@H]2C1', 'C[C@H]1C[C@H]([C@@]2(C)CO2)O1', 'c1cnc([C@H]2CN2)cn1', 'CC[C@@H]1[C@H](C)C=C[C@@H]1C', 'C[C@]12C[C@H]1[C@H]1C=CC[C@H]12', 'C[C@]12C[C@H]1C[C@H]2CCO']\n",
    "\n",
    "# bug_list2 = ['NC(=O)[C@H]1O[C@H]1C=O', 'CC(=O)c1n[nH]cc1O', 'Cc1c[nH]c(O)c1C=O', 'OC[C@@H](O)[C@H]1CCCO1', 'CCC1=CCCNC1=O', 'CNc1cnc(O)[nH]1', 'C[C@H]1C[N@H+]2[C@@H]3[C@H](O)[C@H]2[C@@H]31', 'C[N+]1=CNNC([NH-])C1=O', 'CNC(=N)CCC(=O)O', '[NH-]c1nn[nH+]c(N)c1F', 'C[NH2+]C1OCC12CC2', 'CC(C)(O)[C@H]1CCCO1', 'CC1(C)N[C@@]12COC2=O', '[NH-]c1n[cH+]occ1N', 'C#Cc1[nH]ccc1N', 'N#C[C@H]1CCC[C@H]2O[C@@H]12', 'COC[C@@H](C)[C@H]1C[C@H]1C', 'C[C@@H]1[C@@H]2C[C@H]1[C@@]2(C)CO', 'CC(C)C(=O)C[C@@H](C)O', 'Nc1oncc1NC=O', 'C[C@H]1C[C@]2(C)[C@H]1[C@@H]1N[C@@H]12', 'C[C@@H]1C=C[C@]2(CC1)CO2', 'NCC[C@@H](O)CC(=O)O', '[NH-]C1OC[C@@H]2[C@H]1[C@@H]2C=O', 'CC1(C)[C@H]2O[CH+][NH2+][C@]21C', 'CO[C@@H]1C([NH-])OC[C@@H]1O', 'C#C[C@H](C=O)CCCC', 'Cc1ccnc(C)c1', 'C[C@H]1C[N@H+](CC(N)=O)C1', 'O=CO[CH+][NH2+]C[C@H]1CO1', 'C#CC(=O)N[C@H](C)C=O', 'C#C[C@]1(CC#CC)CN1', 'C[C@@H](O)CC(=O)C1CC1', 'CC[N@@H+]1[C@H](C#N)[C@@H]2C[C@@H]21', 'C[C@]12C(=O)O[C@]13C[C@H]2C3', 'CCCCOC(=O)CN', 'CCC#C[C@@]1(C=O)CN1', 'c1nc2ocnc2[nH]1', 'N#C[C@@]1(O)C[C@@H]1N', 'O=C1CNC2(COC2)C1', 'CC[C@H]1C[C@@]2(C)O[C@@]12C', 'CC[C@@]12C[C@@H](O1)[C@H]1O[C@H]12', 'CCc1cc([NH-])nn[nH+]1', 'C#C[C@H](C)[C@@H](C)C#N', 'CCn1cnc(NC)n1', 'C1CC1[NH+]1CC1', 'CC(=O)[C@H]1COC(N)[NH2+]1', 'C#CC1(C#C)C[C@H]2C[C@H]21', 'O=C[C@@]1(O)[C@@H]2O[C@H]3[C@@H]2[C@H]31', 'C1[C@H]2C[C@]3(C[C@H]4O[C@H]43)[C@@H]12']\n",
    "\n",
    "# bug_list3 = ['c1cc2n[nH+]ccc2[nH]1', 'COCC[C@@H]1C=CCO1', 'C#C[C@@H]1C[C@@H]1CCO', 'C[C@@]12CC[C@@H](O)[C@]1(C)N2', 'C[C@@]1(O)CC(=O)[C@@]12CN2', 'Nc1cc(N2CC2)c[nH]1', '[NH-]C1CN=CN1C(N)=O', 'CNC[C@@]1(C#N)CN1', 'Cn1ccc(O)c1C#N', 'C[C@]12C([NH-])O[C@@H]3[C@]14O[C@@]324', 'O=C[C@@H]1[C@@H]2OCC[C@@]21O', 'CC1=C[C@H]2C[C@@]13OC[C@@H]23', 'Cc1n[nH+]c(O)nc1[NH-]', 'CCOC[C@H]1[C@H]2CC[C@H]21', 'CN/C=N/c1nc[nH]n1', 'CC(C)[C@H]1[C@@H](O)[C@]1(C)O', 'C[C@@]12[C@H]3[NH2+]C[C@@H]1[C@@H]2CO3', 'C[C@]12CC[C@H](CC1)O2', 'CCc1c(C)c[nH]c1C', 'C[C@@]12C[C@H]3[C@H]4[C@@H]1[C@@H]2C[N@@H+]34', 'C[C@H]1O[C@]23CO[C@H](C2)[C@@H]13', 'CCCOCCC1CC1', 'O=C1CN=CO[C@H]2C[C@@H]12', 'O=C1CCCOCCO1', 'C#C[C@]12C[C@@H]3C(=O)N1[C@@H]32', 'C[C@@]12C[C@H]3[N@@H+]1[C@@]3(C)[C@@H]2O', 'NC1=CC(=O)OC12CC2', 'C#CC[C@H](CC)[NH+]1CC1', 'C[C@H]1O[C@@]1(C=O)CC=O', 'O[C@H]1C[C@]12[C@H]1[C@@H]3C[C@H]1[C@@H]32', 'O[C@@H]1C=C[C@@H]2C[N@@H+]2CC1', 'C[C@@]12CC[C@H]3[C@H](O)[C@@H]1[C@H]32', 'CC(=O)OCC[C@@H](C)O', 'C#CC[C@]12CC[C@H]1CC2', 'C1C[C@@]23C[C@@H](O1)O[C@@H]2C3', 'c1cc2[nH]nnc2cn1', 'C[C@H]1CC2(CC2)O[C@H]1C', 'O=CN1[C@H]2[C@@H]3[C@H](O)[C@H]2[C@@H]31', 'CC(=O)CC12CC(C1)C2', 'C1=C[C@H]2[C@@H]3CC[C@H]2O[C@H]13', 'OCC[C@]12C[C@H]1[NH2+][CH+]O2', 'C[C@]12C[C@@H]3C[C@H](C1)[N@@H+]32', 'O=C1CN[C@@H]1CCCO', 'CC#C[C@]12C[N@H+](C1)[C@H]2C', 'CC[C@H]1O[C@H]2[C@@H]1C2(C)C', 'C[C@@H]1O[C@@H]2[C@H](O1)C2(C)C', 'C[C@H]1OC([NH-])[C@H]2C[C@H]21', 'N#C[C@@H]1C[C@@H]1NCC=O', 'C[C@@H](C=O)[C@@](C)(O)CO', 'CC[C@@H](C)n1nnnn1']"
   ]
  },
  {
   "cell_type": "code",
   "execution_count": 15,
   "metadata": {},
   "outputs": [],
   "source": [
    "# losses = train(model, bug_list1)\n",
    "# print(losses)"
   ]
  },
  {
   "cell_type": "code",
   "execution_count": 16,
   "metadata": {},
   "outputs": [],
   "source": [
    "# train_df_smiles = train_df.smiles.values\n",
    "# valid_df_smiles = valid_df.smiles.values\n",
    "# test_df_smiles = test_df.smiles.values\n"
   ]
  },
  {
   "cell_type": "code",
   "execution_count": 17,
   "metadata": {
    "scrolled": true
   },
   "outputs": [],
   "source": [
    "# losses = train(model, train_df_smiles)\n",
    "# print(losses)"
   ]
  },
  {
   "cell_type": "code",
   "execution_count": 18,
   "metadata": {},
   "outputs": [],
   "source": [
    "# valid_MAE_normalized, valid_MAE, valid_RMSE_normalized, valid_RMSE, = eval(model, train_df_smiles)\n",
    "# print(valid_MAE_normalized[0])"
   ]
  },
  {
   "cell_type": "code",
   "execution_count": null,
   "metadata": {
    "scrolled": true
   },
   "outputs": [
    {
     "name": "stderr",
     "output_type": "stream",
     "text": [
      "212it [00:11, 18.39it/s]\n",
      "212it [00:03, 56.92it/s]\n",
      "27it [00:00, 22.85it/s]"
     ]
    },
    {
     "name": "stdout",
     "output_type": "stream",
     "text": [
      "EPOCH:\t0 0.5740779288253695\n",
      "train_MAE:\n",
      "[7.77888796e-01 1.14027528e+00 8.44184007e-03 1.01856115e-02\n",
      " 1.21782593e-02 5.74871384e+01 3.48591111e-03 4.54217872e+00\n",
      " 5.54008819e+00 4.26285029e+00 5.80071849e+00 4.93852391e-01]\n",
      "valid_MAE:\n",
      "[7.68128926e-01 1.13944382e+00 8.38328189e-03 1.02928773e-02\n",
      " 1.22671102e-02 5.78508050e+01 3.51492180e-03 4.56599132e+00\n",
      " 5.56029147e+00 4.30224858e+00 5.81786282e+00 4.97472993e-01]\n",
      "train_MSE_normalized_mean: 0.4504947372575872\n",
      "valid_MSE_normalized_mean: 0.45055162079298827\n",
      "\n"
     ]
    },
    {
     "name": "stderr",
     "output_type": "stream",
     "text": [
      "\n",
      "212it [00:11, 18.03it/s]\n",
      "212it [00:03, 58.72it/s]\n",
      "27it [00:00, 44.65it/s]"
     ]
    },
    {
     "name": "stdout",
     "output_type": "stream",
     "text": [
      "EPOCH:\t1 0.32628662420331306\n",
      "train_MAE:\n",
      "[7.32197697e-01 9.83179687e-01 7.79810032e-03 8.66525248e-03\n",
      " 1.14514456e-02 5.22573820e+01 3.34286200e-03 4.55097321e+00\n",
      " 4.25403818e+00 3.83478871e+00 4.30827326e+00 4.57838822e-01]\n",
      "valid_MAE:\n",
      "[7.26350997e-01 9.88104336e-01 7.80963640e-03 8.67380108e-03\n",
      " 1.14901989e-02 5.23027378e+01 3.36325032e-03 4.58623095e+00\n",
      " 4.28973133e+00 3.87535364e+00 4.34088162e+00 4.60374269e-01]\n",
      "train_MSE_normalized_mean: 0.4279790286213865\n",
      "valid_MSE_normalized_mean: 0.4282997994018137\n",
      "\n"
     ]
    },
    {
     "name": "stderr",
     "output_type": "stream",
     "text": [
      "\n",
      "212it [00:11, 19.74it/s]\n",
      "212it [00:03, 59.37it/s]\n",
      "27it [00:00, 44.39it/s]"
     ]
    },
    {
     "name": "stdout",
     "output_type": "stream",
     "text": [
      "EPOCH:\t2 0.28225721812473153\n",
      "train_MAE:\n",
      "[7.00331897e-01 1.00616654e+00 6.94802327e-03 9.20508275e-03\n",
      " 1.16239464e-02 4.96638284e+01 4.44442619e-03 4.76025024e+00\n",
      " 4.54424029e+00 4.65454996e+00 4.44407376e+00 4.98212883e-01]\n",
      "valid_MAE:\n",
      "[6.94232935e-01 1.01355399e+00 6.94966399e-03 9.18503142e-03\n",
      " 1.16513049e-02 5.00355435e+01 4.47036056e-03 4.72814866e+00\n",
      " 4.50911079e+00 4.62494096e+00 4.41273367e+00 4.99342450e-01]\n",
      "train_MSE_normalized_mean: 0.43077839618973407\n",
      "valid_MSE_normalized_mean: 0.43042337222352145\n",
      "\n"
     ]
    },
    {
     "name": "stderr",
     "output_type": "stream",
     "text": [
      "\n",
      "212it [00:12, 17.28it/s]\n",
      "212it [00:04, 50.92it/s]\n",
      "27it [00:00, 43.98it/s]"
     ]
    },
    {
     "name": "stdout",
     "output_type": "stream",
     "text": [
      "EPOCH:\t3 0.2637870994941244\n",
      "train_MAE:\n",
      "[7.07083811e-01 1.57440666e+00 6.63020146e-03 1.08148215e-02\n",
      " 1.25563632e-02 5.23247991e+01 5.32832489e-03 1.67352069e+00\n",
      " 1.62622593e+00 1.65325503e+00 1.64627184e+00 6.92958930e-01]\n",
      "valid_MAE:\n",
      "[7.02404628e-01 1.57315939e+00 6.64761834e-03 1.07583218e-02\n",
      " 1.25761887e-02 5.27072064e+01 5.34474131e-03 1.66522236e+00\n",
      " 1.61668853e+00 1.64361247e+00 1.63831045e+00 6.92162489e-01]\n",
      "train_MSE_normalized_mean: 0.4212785068048909\n",
      "valid_MSE_normalized_mean: 0.4210383225564459\n",
      "\n"
     ]
    },
    {
     "name": "stderr",
     "output_type": "stream",
     "text": [
      "\n",
      "212it [00:11, 19.18it/s]\n",
      "212it [00:03, 56.87it/s]\n",
      "27it [00:00, 47.38it/s]"
     ]
    },
    {
     "name": "stdout",
     "output_type": "stream",
     "text": [
      "EPOCH:\t4 0.2508453461077978\n",
      "train_MAE:\n",
      "[6.67304792e-01 1.07946299e+00 6.57721035e-03 8.34935217e-03\n",
      " 1.05275655e-02 4.52333289e+01 2.53931302e-03 2.52112105e+00\n",
      " 2.54461901e+00 2.49543734e+00 2.42625758e+00 4.39799788e-01]\n",
      "valid_MAE:\n",
      "[6.61231592e-01 1.08079798e+00 6.59000968e-03 8.36231871e-03\n",
      " 1.06123047e-02 4.57083208e+01 2.54176897e-03 2.53026952e+00\n",
      " 2.55490136e+00 2.51011679e+00 2.43946526e+00 4.40577727e-01]\n",
      "train_MSE_normalized_mean: 0.3935754073404417\n",
      "valid_MSE_normalized_mean: 0.39378496333856144\n",
      "\n"
     ]
    },
    {
     "name": "stderr",
     "output_type": "stream",
     "text": [
      "\n",
      "212it [00:11, 18.34it/s]\n",
      "212it [00:03, 56.96it/s]\n",
      "27it [00:00, 43.05it/s]"
     ]
    },
    {
     "name": "stdout",
     "output_type": "stream",
     "text": [
      "EPOCH:\t5 0.24451538175344467\n",
      "train_MAE:\n",
      "[6.70228412e-01 7.85307305e-01 6.46150130e-03 8.13496630e-03\n",
      " 9.74395094e-03 4.74073455e+01 2.51061087e-03 1.68076387e+00\n",
      " 1.66585092e+00 1.68210486e+00 1.70119838e+00 4.14125366e-01]\n",
      "valid_MAE:\n",
      "[6.66848758e-01 7.89011809e-01 6.46350262e-03 8.13559974e-03\n",
      " 9.79627419e-03 4.77749330e+01 2.52497165e-03 1.68603374e+00\n",
      " 1.67126073e+00 1.68478132e+00 1.70382284e+00 4.13888728e-01]\n",
      "train_MSE_normalized_mean: 0.3783623121453594\n",
      "valid_MSE_normalized_mean: 0.3785315498705597\n",
      "\n"
     ]
    },
    {
     "name": "stderr",
     "output_type": "stream",
     "text": [
      "\n",
      "212it [00:11, 18.21it/s]\n",
      "212it [00:03, 60.61it/s]\n",
      "27it [00:00, 39.01it/s]"
     ]
    },
    {
     "name": "stdout",
     "output_type": "stream",
     "text": [
      "EPOCH:\t6 0.2350080133468475\n",
      "train_MAE:\n",
      "[6.63245130e-01 8.54107655e-01 6.17309101e-03 7.53980558e-03\n",
      " 9.68837629e-03 4.42784457e+01 2.47423400e-03 3.19911639e+00\n",
      " 3.20680216e+00 3.18810561e+00 3.16645229e+00 5.64677571e-01]\n",
      "valid_MAE:\n",
      "[6.56890367e-01 8.58055876e-01 6.22610037e-03 7.49360671e-03\n",
      " 9.74437569e-03 4.43979763e+01 2.47163840e-03 3.20548605e+00\n",
      " 3.21253373e+00 3.19608297e+00 3.17424624e+00 5.67027345e-01]\n",
      "train_MSE_normalized_mean: 0.39476427338701664\n",
      "valid_MSE_normalized_mean: 0.3948213550413304\n",
      "\n"
     ]
    },
    {
     "name": "stderr",
     "output_type": "stream",
     "text": [
      "\n",
      "212it [00:12, 18.35it/s]\n",
      "212it [00:03, 53.20it/s]\n",
      "27it [00:00, 35.16it/s]"
     ]
    },
    {
     "name": "stdout",
     "output_type": "stream",
     "text": [
      "EPOCH:\t7 0.22723634562121248\n",
      "train_MAE:\n",
      "[6.72344081e-01 7.77408363e-01 5.98300710e-03 7.55710038e-03\n",
      " 9.14640026e-03 4.53887424e+01 1.97395606e-03 2.92294362e+00\n",
      " 2.89052306e+00 2.88019636e+00 2.87729222e+00 3.81796683e-01]\n",
      "valid_MAE:\n",
      "[6.70271468e-01 7.77532318e-01 6.01937903e-03 7.58030984e-03\n",
      " 9.21035228e-03 4.55548768e+01 1.98856525e-03 2.91821760e+00\n",
      " 2.88586308e+00 2.87686382e+00 2.87405540e+00 3.83170897e-01]\n",
      "train_MSE_normalized_mean: 0.3831133969622099\n",
      "valid_MSE_normalized_mean: 0.3834521673247717\n",
      "\n"
     ]
    },
    {
     "name": "stderr",
     "output_type": "stream",
     "text": [
      "\n",
      "212it [00:11, 18.20it/s]\n",
      "212it [00:03, 55.77it/s]\n",
      "27it [00:00, 42.75it/s]"
     ]
    },
    {
     "name": "stdout",
     "output_type": "stream",
     "text": [
      "EPOCH:\t8 0.22108170207379\n",
      "train_MAE:\n",
      "[6.26050592e-01 6.98408153e-01 5.90634779e-03 6.81540916e-03\n",
      " 8.79505976e-03 4.13049687e+01 2.24304503e-03 1.23603602e+00\n",
      " 1.24050834e+00 1.25697407e+00 1.24903127e+00 4.08364310e-01]\n",
      "valid_MAE:\n",
      "[6.27430441e-01 6.99871589e-01 5.98467499e-03 6.81534966e-03\n",
      " 8.86207247e-03 4.16741065e+01 2.27137809e-03 1.23654631e+00\n",
      " 1.24092289e+00 1.25703778e+00 1.24917790e+00 4.09931856e-01]\n",
      "train_MSE_normalized_mean: 0.3571248873719948\n",
      "valid_MSE_normalized_mean: 0.35812751838159623\n",
      "\n"
     ]
    },
    {
     "name": "stderr",
     "output_type": "stream",
     "text": [
      "\n",
      "212it [00:11, 19.57it/s]\n",
      "212it [00:03, 56.30it/s]\n",
      "27it [00:00, 44.86it/s]"
     ]
    },
    {
     "name": "stdout",
     "output_type": "stream",
     "text": [
      "EPOCH:\t9 0.21555655379340333\n",
      "train_MAE:\n",
      "[6.08515490e-01 7.63213739e-01 6.02427759e-03 7.99016830e-03\n",
      " 8.89977539e-03 4.21557550e+01 1.89793987e-03 2.25572465e+00\n",
      " 2.26262624e+00 2.24417316e+00 2.24606423e+00 3.94503000e-01]\n",
      "valid_MAE:\n",
      "[6.11935877e-01 7.69473289e-01 6.11818641e-03 8.03225110e-03\n",
      " 8.98528818e-03 4.25636701e+01 1.92805012e-03 2.28382200e+00\n",
      " 2.29079207e+00 2.27241956e+00 2.27426266e+00 3.94628505e-01]\n",
      "train_MSE_normalized_mean: 0.3707176740256683\n",
      "valid_MSE_normalized_mean: 0.37241470993501874\n",
      "\n"
     ]
    },
    {
     "name": "stderr",
     "output_type": "stream",
     "text": [
      "\n",
      "212it [00:11, 21.13it/s]\n",
      "212it [00:04, 51.96it/s]\n",
      "27it [00:00, 39.29it/s]"
     ]
    },
    {
     "name": "stdout",
     "output_type": "stream",
     "text": [
      "EPOCH:\t10 0.2106892025836234\n",
      "train_MAE:\n",
      "[5.98965128e-01 9.67245693e-01 6.15965983e-03 7.20947348e-03\n",
      " 8.29415531e-03 4.50673711e+01 3.03733102e-03 2.35947831e+00\n",
      " 2.35485421e+00 2.33717345e+00 2.34056005e+00 5.22490817e-01]\n",
      "valid_MAE:\n",
      "[6.00330018e-01 9.68281298e-01 6.18019313e-03 7.15204508e-03\n",
      " 8.33183599e-03 4.53848150e+01 3.04828736e-03 2.34098225e+00\n",
      " 2.33648023e+00 2.32045891e+00 2.32379053e+00 5.22870488e-01]\n",
      "train_MSE_normalized_mean: 0.37971891172998307\n",
      "valid_MSE_normalized_mean: 0.37986316216612803\n",
      "\n"
     ]
    },
    {
     "name": "stderr",
     "output_type": "stream",
     "text": [
      "\n",
      "212it [00:11, 17.96it/s]\n",
      "212it [00:03, 54.23it/s]\n",
      "27it [00:00, 45.47it/s]"
     ]
    },
    {
     "name": "stdout",
     "output_type": "stream",
     "text": [
      "EPOCH:\t11 0.20740449667539237\n",
      "train_MAE:\n",
      "[5.96406399e-01 9.40898853e-01 5.54966411e-03 6.99694127e-03\n",
      " 8.46571951e-03 4.54509969e+01 2.41865160e-03 3.42747007e+00\n",
      " 3.41976070e+00 3.38806753e+00 3.39003497e+00 5.38305067e-01]\n",
      "valid_MAE:\n",
      "[5.98254765e-01 9.41607231e-01 5.59115230e-03 6.97397691e-03\n",
      " 8.59189653e-03 4.57546840e+01 2.43747867e-03 3.43944954e+00\n",
      " 3.43169742e+00 3.40094207e+00 3.40277323e+00 5.42114345e-01]\n",
      "train_MSE_normalized_mean: 0.3861357566976271\n",
      "valid_MSE_normalized_mean: 0.38712233848333555\n",
      "\n"
     ]
    },
    {
     "name": "stderr",
     "output_type": "stream",
     "text": [
      "\n",
      "212it [00:11, 18.45it/s]\n",
      "212it [00:03, 61.17it/s]\n",
      "27it [00:00, 44.78it/s]"
     ]
    },
    {
     "name": "stdout",
     "output_type": "stream",
     "text": [
      "EPOCH:\t12 0.20283180608783127\n",
      "train_MAE:\n",
      "[5.98819984e-01 6.44877456e-01 5.58856289e-03 6.25963299e-03\n",
      " 8.10689300e-03 3.86445196e+01 2.92159065e-03 1.99248222e+00\n",
      " 1.99830718e+00 2.02081217e+00 2.01698550e+00 3.69331566e-01]\n",
      "valid_MAE:\n",
      "[6.04188645e-01 6.52512280e-01 5.68880072e-03 6.26340136e-03\n",
      " 8.21800587e-03 3.91262179e+01 2.94244827e-03 1.99454055e+00\n",
      " 2.00012850e+00 2.02138972e+00 2.01779096e+00 3.71557122e-01]\n",
      "train_MSE_normalized_mean: 0.3585542267874137\n",
      "valid_MSE_normalized_mean: 0.36022407594975653\n",
      "\n"
     ]
    },
    {
     "name": "stderr",
     "output_type": "stream",
     "text": [
      "\n",
      "212it [00:11, 20.08it/s]\n",
      "212it [00:03, 56.29it/s]\n",
      "27it [00:00, 52.12it/s]"
     ]
    },
    {
     "name": "stdout",
     "output_type": "stream",
     "text": [
      "EPOCH:\t13 0.198845764868102\n",
      "train_MAE:\n",
      "[5.99778992e-01 7.22806329e-01 5.85375865e-03 6.02165561e-03\n",
      " 8.39440810e-03 3.74022423e+01 1.95745953e-03 1.28374305e+00\n",
      " 1.28752715e+00 1.29780563e+00 1.29675386e+00 3.41284362e-01]\n",
      "valid_MAE:\n",
      "[6.02226031e-01 7.20771600e-01 5.95062777e-03 5.98487094e-03\n",
      " 8.48989574e-03 3.79180715e+01 1.96807648e-03 1.29357406e+00\n",
      " 1.29735687e+00 1.30760642e+00 1.30657234e+00 3.44335861e-01]\n",
      "train_MSE_normalized_mean: 0.34810122593299414\n",
      "valid_MSE_normalized_mean: 0.34939601721146024\n",
      "\n"
     ]
    },
    {
     "name": "stderr",
     "output_type": "stream",
     "text": [
      "\n",
      "212it [00:11, 18.66it/s]\n",
      "212it [00:04, 48.33it/s]\n",
      "27it [00:00, 38.71it/s]"
     ]
    },
    {
     "name": "stdout",
     "output_type": "stream",
     "text": [
      "EPOCH:\t14 0.1959075982559402\n",
      "train_MAE:\n",
      "[5.82695883e-01 7.53042952e-01 5.29172326e-03 6.71546468e-03\n",
      " 8.05811559e-03 3.78689590e+01 2.18097965e-03 3.05040087e+00\n",
      " 3.04755192e+00 3.02841230e+00 3.03181429e+00 3.53970556e-01]\n",
      "valid_MAE:\n",
      "[5.85776603e-01 7.57326487e-01 5.40609916e-03 6.72105806e-03\n",
      " 8.15619970e-03 3.85077683e+01 2.20438379e-03 3.05069766e+00\n",
      " 3.04798541e+00 3.02993420e+00 3.03322216e+00 3.55836235e-01]\n",
      "train_MSE_normalized_mean: 0.36684759127466426\n",
      "valid_MSE_normalized_mean: 0.36836785589178656\n",
      "\n"
     ]
    },
    {
     "name": "stderr",
     "output_type": "stream",
     "text": [
      "\n",
      "212it [00:12, 17.65it/s]\n",
      "212it [00:03, 67.02it/s]\n",
      "27it [00:00, 47.46it/s]"
     ]
    },
    {
     "name": "stdout",
     "output_type": "stream",
     "text": [
      "EPOCH:\t15 0.19291303011606326\n",
      "train_MAE:\n",
      "[5.86249886e-01 6.40479465e-01 5.23926015e-03 6.57552409e-03\n",
      " 8.19979037e-03 3.94981285e+01 1.99301664e-03 2.14848576e+00\n",
      " 2.14650770e+00 2.13634670e+00 2.13640361e+00 3.84141607e-01]\n",
      "valid_MAE:\n",
      "[5.90655815e-01 6.52939768e-01 5.35450785e-03 6.54976800e-03\n",
      " 8.33210462e-03 4.02062394e+01 2.00805813e-03 2.14626509e+00\n",
      " 2.14436734e+00 2.13487164e+00 2.13484442e+00 3.87256948e-01]\n",
      "train_MSE_normalized_mean: 0.3558076191396499\n",
      "valid_MSE_normalized_mean: 0.3576059175965604\n",
      "\n"
     ]
    },
    {
     "name": "stderr",
     "output_type": "stream",
     "text": [
      "\n",
      "212it [00:11, 19.94it/s]\n",
      "212it [00:03, 59.40it/s]\n",
      "27it [00:00, 44.36it/s]"
     ]
    },
    {
     "name": "stdout",
     "output_type": "stream",
     "text": [
      "EPOCH:\t16 0.19107093296523364\n",
      "train_MAE:\n",
      "[5.73731690e-01 6.61169340e-01 5.35167501e-03 6.15744743e-03\n",
      " 7.78347049e-03 4.23457321e+01 1.92598174e-03 1.06696979e+00\n",
      " 1.06646791e+00 1.06476689e+00 1.06465293e+00 3.05064095e-01]\n",
      "valid_MAE:\n",
      "[5.75738654e-01 6.67199310e-01 5.47157799e-03 6.15112424e-03\n",
      " 7.91681022e-03 4.31938092e+01 1.93045431e-03 1.07106067e+00\n",
      " 1.07047079e+00 1.06800154e+00 1.06791914e+00 3.06925745e-01]\n",
      "train_MSE_normalized_mean: 0.33939409124984626\n",
      "valid_MSE_normalized_mean: 0.34112240001798483\n",
      "\n"
     ]
    },
    {
     "name": "stderr",
     "output_type": "stream",
     "text": [
      "\n",
      "212it [00:11, 18.39it/s]\n",
      "212it [00:03, 58.21it/s]\n",
      "27it [00:00, 47.22it/s]"
     ]
    },
    {
     "name": "stdout",
     "output_type": "stream",
     "text": [
      "EPOCH:\t17 0.18791623968841895\n",
      "train_MAE:\n",
      "[5.56369948e-01 6.70824995e-01 5.34255772e-03 5.73491758e-03\n",
      " 7.63539932e-03 3.89531525e+01 1.69603509e-03 1.68610290e+00\n",
      " 1.68751577e+00 1.69533647e+00 1.69481289e+00 3.54946037e-01]\n",
      "valid_MAE:\n",
      "[5.62962209e-01 6.78934153e-01 5.46321246e-03 5.75434529e-03\n",
      " 7.77429298e-03 3.96342253e+01 1.70307086e-03 1.69399259e+00\n",
      " 1.69536410e+00 1.70330003e+00 1.70277892e+00 3.60188615e-01]\n",
      "train_MSE_normalized_mean: 0.34341329800077947\n",
      "valid_MSE_normalized_mean: 0.3456865256024009\n",
      "\n"
     ]
    },
    {
     "name": "stderr",
     "output_type": "stream",
     "text": [
      "\n",
      "212it [00:11, 19.08it/s]\n",
      "212it [00:04, 48.48it/s]\n",
      "27it [00:00, 40.41it/s]"
     ]
    },
    {
     "name": "stdout",
     "output_type": "stream",
     "text": [
      "EPOCH:\t18 0.18505991215132317\n",
      "train_MAE:\n",
      "[5.52565923e-01 8.28179621e-01 5.09191628e-03 5.98851113e-03\n",
      " 7.47671273e-03 3.88215940e+01 2.38415920e-03 1.64332855e+00\n",
      " 1.64261403e+00 1.63285283e+00 1.63422290e+00 4.04522862e-01]\n",
      "valid_MAE:\n",
      "[5.61131598e-01 8.30852502e-01 5.24993791e-03 6.03181594e-03\n",
      " 7.58926215e-03 3.96304999e+01 2.40180358e-03 1.64260061e+00\n",
      " 1.64195785e+00 1.63277775e+00 1.63407213e+00 4.05320981e-01]\n",
      "train_MSE_normalized_mean: 0.3475874547248848\n",
      "valid_MSE_normalized_mean: 0.3499665057961832\n",
      "\n"
     ]
    },
    {
     "name": "stderr",
     "output_type": "stream",
     "text": [
      "\n",
      "212it [00:12, 17.25it/s]\n",
      "212it [00:05, 44.83it/s]\n",
      "27it [00:00, 31.81it/s]"
     ]
    },
    {
     "name": "stdout",
     "output_type": "stream",
     "text": [
      "EPOCH:\t19 0.18392945516784237\n",
      "train_MAE:\n",
      "[5.49077793e-01 6.92776245e-01 4.89720113e-03 5.90911448e-03\n",
      " 7.62685263e-03 3.47319553e+01 1.86969024e-03 3.17093594e+00\n",
      " 3.17324709e+00 3.18280736e+00 3.18226221e+00 3.02436872e-01]\n",
      "valid_MAE:\n",
      "[5.57516049e-01 6.96262441e-01 5.03205022e-03 5.92177555e-03\n",
      " 7.76780039e-03 3.54350095e+01 1.86981691e-03 3.16934024e+00\n",
      " 3.17160173e+00 3.18071100e+00 3.18021257e+00 3.03964460e-01]\n",
      "train_MSE_normalized_mean: 0.3561451044396939\n",
      "valid_MSE_normalized_mean: 0.3582402229156047\n",
      "\n"
     ]
    },
    {
     "name": "stderr",
     "output_type": "stream",
     "text": [
      "\n",
      "212it [00:14, 14.80it/s]\n",
      "212it [00:03, 58.28it/s]\n",
      "27it [00:00, 47.53it/s]"
     ]
    },
    {
     "name": "stdout",
     "output_type": "stream",
     "text": [
      "EPOCH:\t20 0.1804471510058304\n",
      "train_MAE:\n",
      "[5.44236902e-01 8.32457846e-01 5.30336794e-03 6.09732811e-03\n",
      " 7.69192302e-03 3.72705576e+01 2.35880307e-03 1.53868793e+00\n",
      " 1.53733171e+00 1.53265067e+00 1.53325522e+00 3.69262596e-01]\n",
      "valid_MAE:\n",
      "[5.54842413e-01 8.40439050e-01 5.43805665e-03 6.16143016e-03\n",
      " 7.86986210e-03 3.78623572e+01 2.40534324e-03 1.55353694e+00\n",
      " 1.55213049e+00 1.54718477e+00 1.54780978e+00 3.73102310e-01]\n",
      "train_MSE_normalized_mean: 0.3459330011097164\n",
      "valid_MSE_normalized_mean: 0.3489319221609181\n",
      "\n"
     ]
    },
    {
     "name": "stderr",
     "output_type": "stream",
     "text": [
      "\n",
      "212it [00:11, 17.74it/s]\n",
      "212it [00:05, 40.25it/s]\n",
      "27it [00:00, 32.96it/s]"
     ]
    },
    {
     "name": "stdout",
     "output_type": "stream",
     "text": [
      "EPOCH:\t21 0.17886763403438172\n",
      "train_MAE:\n",
      "[5.32947577e-01 9.77957667e-01 4.88519276e-03 5.80208221e-03\n",
      " 7.56668167e-03 4.00234777e+01 1.67967830e-03 1.24045728e+00\n",
      " 1.24057622e+00 1.24265223e+00 1.24229747e+00 3.57085715e-01]\n",
      "valid_MAE:\n",
      "[5.45361374e-01 9.85178305e-01 5.03604998e-03 5.86173563e-03\n",
      " 7.72534772e-03 4.05214088e+01 1.67582825e-03 1.26319570e+00\n",
      " 1.26329804e+00 1.26537640e+00 1.26501811e+00 3.62092190e-01]\n",
      "train_MSE_normalized_mean: 0.33859350965408\n",
      "valid_MSE_normalized_mean: 0.34172474681636666\n",
      "\n"
     ]
    },
    {
     "name": "stderr",
     "output_type": "stream",
     "text": [
      "\n",
      "212it [00:15, 15.88it/s]\n",
      "212it [00:04, 49.54it/s]\n",
      "27it [00:00, 25.47it/s]"
     ]
    },
    {
     "name": "stdout",
     "output_type": "stream",
     "text": [
      "EPOCH:\t22 0.17776012582317838\n",
      "train_MAE:\n",
      "[5.33634780e-01 6.77764070e-01 4.81840877e-03 5.53579384e-03\n",
      " 7.09721962e-03 4.27849246e+01 2.28743441e-03 1.43397411e+00\n",
      " 1.43477193e+00 1.43827754e+00 1.43838201e+00 4.30882395e-01]\n",
      "valid_MAE:\n",
      "[5.43935893e-01 6.87334670e-01 4.96450595e-03 5.53785352e-03\n",
      " 7.20948478e-03 4.40836413e+01 2.29640836e-03 1.45182643e+00\n",
      " 1.45267029e+00 1.45645574e+00 1.45654402e+00 4.29432916e-01]\n",
      "train_MSE_normalized_mean: 0.3399428314745767\n",
      "valid_MSE_normalized_mean: 0.3427797712132838\n",
      "\n"
     ]
    },
    {
     "name": "stderr",
     "output_type": "stream",
     "text": [
      "\n",
      "212it [00:11, 19.79it/s]\n",
      "212it [00:03, 58.59it/s]\n",
      "27it [00:00, 44.34it/s]"
     ]
    },
    {
     "name": "stdout",
     "output_type": "stream",
     "text": [
      "EPOCH:\t23 0.17438177715213793\n",
      "train_MAE:\n",
      "[5.35151812e-01 7.53016482e-01 4.81720574e-03 6.07541019e-03\n",
      " 7.24809362e-03 3.78946404e+01 2.69537769e-03 2.82612112e+00\n",
      " 2.82491304e+00 2.81821897e+00 2.81864347e+00 4.41954035e-01]\n",
      "valid_MAE:\n",
      "[5.52737777e-01 7.61475408e-01 4.95232794e-03 6.15358615e-03\n",
      " 7.43668018e-03 3.84197209e+01 2.72270689e-03 2.85168116e+00\n",
      " 2.85045138e+00 2.84359375e+00 2.84402864e+00 4.47894169e-01]\n",
      "train_MSE_normalized_mean: 0.35908158771628623\n",
      "valid_MSE_normalized_mean: 0.3626541855548474\n",
      "\n"
     ]
    },
    {
     "name": "stderr",
     "output_type": "stream",
     "text": [
      "\n",
      "212it [00:11, 18.93it/s]\n",
      "212it [00:03, 56.92it/s]\n",
      "27it [00:00, 48.09it/s]"
     ]
    },
    {
     "name": "stdout",
     "output_type": "stream",
     "text": [
      "EPOCH:\t24 0.17343488553503775\n",
      "train_MAE:\n",
      "[5.29314632e-01 8.69165390e-01 4.76444745e-03 6.99203696e-03\n",
      " 7.90152069e-03 3.87367777e+01 2.77282446e-03 3.91144585e+00\n",
      " 3.91011823e+00 3.89979583e+00 3.90082192e+00 3.87591536e-01]\n",
      "valid_MAE:\n",
      "[5.46156615e-01 8.75647044e-01 4.96407285e-03 7.10079264e-03\n",
      " 8.08634270e-03 3.95040489e+01 2.78815462e-03 3.94637352e+00\n",
      " 3.94506293e+00 3.93488091e+00 3.93588630e+00 3.94215304e-01]\n",
      "train_MSE_normalized_mean: 0.3751254304797437\n",
      "valid_MSE_normalized_mean: 0.3790284814419035\n",
      "\n"
     ]
    },
    {
     "name": "stderr",
     "output_type": "stream",
     "text": [
      "\n",
      "212it [00:11, 17.87it/s]\n",
      "212it [00:03, 63.80it/s]\n",
      "27it [00:00, 40.26it/s]"
     ]
    },
    {
     "name": "stdout",
     "output_type": "stream",
     "text": [
      "EPOCH:\t25 0.17271649985099738\n",
      "train_MAE:\n",
      "[5.34161514e-01 6.91331284e-01 4.80290033e-03 5.77885421e-03\n",
      " 7.13009897e-03 3.55361629e+01 1.84133124e-03 5.79639097e+00\n",
      " 5.79568731e+00 5.79057929e+00 5.79134184e+00 3.57814310e-01]\n",
      "valid_MAE:\n",
      "[5.48313402e-01 7.00351616e-01 4.98421565e-03 5.87396872e-03\n",
      " 7.35242621e-03 3.61854111e+01 1.85595816e-03 5.79818482e+00\n",
      " 5.79752013e+00 5.79267304e+00 5.79340842e+00 3.62298044e-01]\n",
      "train_MSE_normalized_mean: 0.38420570980116675\n",
      "valid_MSE_normalized_mean: 0.38736812143498905\n",
      "\n"
     ]
    },
    {
     "name": "stderr",
     "output_type": "stream",
     "text": [
      "\n",
      "212it [00:12, 17.43it/s]\n",
      "212it [00:03, 53.53it/s]\n",
      "27it [00:00, 39.29it/s]"
     ]
    },
    {
     "name": "stdout",
     "output_type": "stream",
     "text": [
      "EPOCH:\t26 0.17075504453958207\n",
      "train_MAE:\n",
      "[5.24057053e-01 7.50304206e-01 4.68161242e-03 5.81426112e-03\n",
      " 7.00513105e-03 4.24138492e+01 2.54695432e-03 2.02754364e+00\n",
      " 2.02692315e+00 2.02471566e+00 2.02545995e+00 5.22281516e-01]\n",
      "valid_MAE:\n",
      "[5.40972587e-01 7.56021900e-01 4.83953547e-03 5.88976720e-03\n",
      " 7.24403374e-03 4.29386478e+01 2.54665270e-03 2.04451150e+00\n",
      " 2.04392805e+00 2.04195654e+00 2.04266517e+00 5.23905675e-01]\n",
      "train_MSE_normalized_mean: 0.35059089272766625\n",
      "valid_MSE_normalized_mean: 0.3540763573029418\n",
      "\n"
     ]
    },
    {
     "name": "stderr",
     "output_type": "stream",
     "text": [
      "\n",
      "212it [00:11, 19.58it/s]\n",
      "212it [00:03, 56.32it/s]\n",
      "27it [00:00, 47.22it/s]"
     ]
    },
    {
     "name": "stdout",
     "output_type": "stream",
     "text": [
      "EPOCH:\t27 0.16732214777818266\n",
      "train_MAE:\n",
      "[5.10336515e-01 6.24270851e-01 4.81727253e-03 6.35251142e-03\n",
      " 7.90972389e-03 3.56796567e+01 2.67888814e-03 1.65958382e+00\n",
      " 1.65910723e+00 1.65677634e+00 1.65704477e+00 3.39639839e-01]\n",
      "valid_MAE:\n",
      "[5.29449018e-01 6.33466772e-01 4.98099009e-03 6.44231466e-03\n",
      " 8.11786296e-03 3.65667734e+01 2.69803938e-03 1.67497328e+00\n",
      " 1.67449072e+00 1.67211873e+00 1.67238822e+00 3.43335376e-01]\n",
      "train_MSE_normalized_mean: 0.33979014918495\n",
      "valid_MSE_normalized_mean: 0.34386940508484126\n",
      "\n"
     ]
    },
    {
     "name": "stderr",
     "output_type": "stream",
     "text": [
      "\n",
      "212it [00:11, 17.99it/s]\n",
      "212it [00:03, 60.41it/s]\n",
      "27it [00:00, 47.30it/s]"
     ]
    },
    {
     "name": "stdout",
     "output_type": "stream",
     "text": [
      "EPOCH:\t28 0.1681155445721914\n",
      "train_MAE:\n",
      "[5.14660203e-01 6.35056555e-01 4.88540659e-03 5.28203657e-03\n",
      " 7.16614999e-03 3.55910056e+01 2.21657380e-03 4.99915152e+00\n",
      " 4.99905247e+00 4.99723865e+00 4.99743161e+00 2.89965000e-01]\n",
      "valid_MAE:\n",
      "[5.35740959e-01 6.46218044e-01 5.04909489e-03 5.43438909e-03\n",
      " 7.40932900e-03 3.67345143e+01 2.23192170e-03 5.00088236e+00\n",
      " 5.00080347e+00 4.99911084e+00 4.99928254e+00 2.93325016e-01]\n",
      "train_MSE_normalized_mean: 0.372052799178985\n",
      "valid_MSE_normalized_mean: 0.3761101538964499\n",
      "\n"
     ]
    },
    {
     "name": "stderr",
     "output_type": "stream",
     "text": [
      "\n",
      "212it [00:11, 18.55it/s]\n",
      "212it [00:04, 49.64it/s]\n",
      "27it [00:00, 38.20it/s]"
     ]
    },
    {
     "name": "stdout",
     "output_type": "stream",
     "text": [
      "EPOCH:\t29 0.1653951036761392\n",
      "train_MAE:\n",
      "[4.97553478e-01 1.34209841e+00 4.42539639e-03 5.33835843e-03\n",
      " 6.73458704e-03 4.98264004e+01 4.98235426e-03 2.30892552e+00\n",
      " 2.30895151e+00 2.31111031e+00 2.31137792e+00 7.22527808e-01]\n",
      "valid_MAE:\n",
      "[5.20541379e-01 1.35271058e+00 4.64248721e-03 5.41077838e-03\n",
      " 6.91618277e-03 5.14423637e+01 4.99066012e-03 2.31432143e+00\n",
      " 2.31432109e+00 2.31630614e+00 2.31659768e+00 7.24349204e-01]\n",
      "train_MSE_normalized_mean: 0.37413403174245335\n",
      "valid_MSE_normalized_mean: 0.37839307179297216\n",
      "\n"
     ]
    },
    {
     "name": "stderr",
     "output_type": "stream",
     "text": [
      "\n",
      "212it [00:11, 19.12it/s]\n",
      "212it [00:03, 61.76it/s]\n",
      "27it [00:00, 48.63it/s]\n"
     ]
    },
    {
     "name": "stdout",
     "output_type": "stream",
     "text": [
      "EPOCH:\t30 0.16425517236567894\n",
      "train_MAE:\n",
      "[5.05433954e-01 7.49704232e-01 4.56280993e-03 5.39318264e-03\n",
      " 6.78005129e-03 3.52279828e+01 2.06582233e-03 1.67857262e+00\n",
      " 1.67862190e+00 1.67896524e+00 1.67892384e+00 3.97312736e-01]\n",
      "valid_MAE:\n",
      "[5.27783706e-01 7.55680541e-01 4.80011800e-03 5.50630763e-03\n",
      " 7.05882987e-03 3.62240762e+01 2.08283451e-03 1.68245544e+00\n",
      " 1.68247135e+00 1.68263880e+00 1.68262261e+00 4.01085548e-01]\n",
      "train_MSE_normalized_mean: 0.33392971368354973\n",
      "valid_MSE_normalized_mean: 0.3388443185265505\n",
      "\n"
     ]
    },
    {
     "name": "stderr",
     "output_type": "stream",
     "text": [
      "212it [00:11, 20.32it/s]\n",
      "212it [00:03, 57.86it/s]\n",
      "27it [00:00, 45.95it/s]"
     ]
    },
    {
     "name": "stdout",
     "output_type": "stream",
     "text": [
      "EPOCH:\t31 0.16349730120514924\n",
      "train_MAE:\n",
      "[4.93455313e-01 6.52018655e-01 4.43615491e-03 5.08008950e-03\n",
      " 6.75204462e-03 3.33584977e+01 2.57980853e-03 1.32264063e+00\n",
      " 1.32283423e+00 1.32412674e+00 1.32400953e+00 3.86447386e-01]\n",
      "valid_MAE:\n",
      "[5.17916529e-01 6.63181174e-01 4.64360221e-03 5.21262079e-03\n",
      " 6.96303138e-03 3.47698510e+01 2.58287946e-03 1.32706222e+00\n",
      " 1.32723621e+00 1.32840265e+00 1.32829980e+00 3.87037187e-01]\n",
      "train_MSE_normalized_mean: 0.32609005414260733\n",
      "valid_MSE_normalized_mean: 0.33111991225570614\n",
      "\n"
     ]
    },
    {
     "name": "stderr",
     "output_type": "stream",
     "text": [
      "\n",
      "212it [00:11, 17.93it/s]\n",
      "212it [00:03, 56.81it/s]\n",
      "27it [00:00, 19.07it/s]"
     ]
    },
    {
     "name": "stdout",
     "output_type": "stream",
     "text": [
      "EPOCH:\t32 0.16045001507648882\n",
      "train_MAE:\n",
      "[4.87948172e-01 5.64030423e-01 4.36766844e-03 5.16311226e-03\n",
      " 6.76007669e-03 3.15742940e+01 1.56653847e-03 1.15516136e+00\n",
      " 1.15551028e+00 1.15773129e+00 1.15761590e+00 2.67977318e-01]\n",
      "valid_MAE:\n",
      "[5.12128779e-01 5.78873663e-01 4.61247560e-03 5.24844437e-03\n",
      " 7.00692511e-03 3.29443813e+01 1.57644248e-03 1.16661490e+00\n",
      " 1.16694951e+00 1.16910675e+00 1.16901663e+00 2.71595367e-01]\n",
      "train_MSE_normalized_mean: 0.3133055097570074\n",
      "valid_MSE_normalized_mean: 0.31895659322897735\n",
      "\n"
     ]
    },
    {
     "name": "stderr",
     "output_type": "stream",
     "text": [
      "\n",
      "212it [00:11, 18.35it/s]\n",
      "212it [00:04, 47.77it/s]\n",
      "27it [00:00, 37.80it/s]"
     ]
    },
    {
     "name": "stdout",
     "output_type": "stream",
     "text": [
      "EPOCH:\t33 0.160747322412032\n",
      "train_MAE:\n",
      "[5.03405809e-01 5.73234886e-01 4.46611477e-03 5.04946124e-03\n",
      " 6.57722386e-03 3.23437191e+01 2.13051686e-03 1.23040332e+00\n",
      " 1.23002372e+00 1.22762066e+00 1.22782793e+00 3.09105870e-01]\n",
      "valid_MAE:\n",
      "[5.26215554e-01 5.84089818e-01 4.69577605e-03 5.15251721e-03\n",
      " 6.84653094e-03 3.35654507e+01 2.14001212e-03 1.24255192e+00\n",
      " 1.24218250e+00 1.23982646e+00 1.24001873e+00 3.10924660e-01]\n",
      "train_MSE_normalized_mean: 0.3194192731035249\n",
      "valid_MSE_normalized_mean: 0.3246916598185182\n",
      "\n"
     ]
    },
    {
     "name": "stderr",
     "output_type": "stream",
     "text": [
      "\n",
      "212it [00:12, 19.18it/s]\n",
      "212it [00:03, 56.27it/s]\n",
      "27it [00:00, 48.14it/s]"
     ]
    },
    {
     "name": "stdout",
     "output_type": "stream",
     "text": [
      "EPOCH:\t34 0.1586994320716498\n",
      "train_MAE:\n",
      "[4.97977542e-01 7.35706649e-01 4.40788882e-03 5.09629568e-03\n",
      " 6.40621091e-03 3.31198822e+01 2.18201829e-03 1.12740859e+00\n",
      " 1.12738307e+00 1.12718312e+00 1.12715319e+00 3.60583356e-01]\n",
      "valid_MAE:\n",
      "[5.22740730e-01 7.48516473e-01 4.64636505e-03 5.24161091e-03\n",
      " 6.71184806e-03 3.43345702e+01 2.18658369e-03 1.14305584e+00\n",
      " 1.14302202e+00 1.14278808e+00 1.14277093e+00 3.64279795e-01]\n",
      "train_MSE_normalized_mean: 0.32174463494317496\n",
      "valid_MSE_normalized_mean: 0.3275155439578174\n",
      "\n"
     ]
    },
    {
     "name": "stderr",
     "output_type": "stream",
     "text": [
      "\n",
      "212it [00:11, 18.88it/s]\n",
      "212it [00:03, 63.44it/s]\n",
      "27it [00:00, 47.22it/s]"
     ]
    },
    {
     "name": "stdout",
     "output_type": "stream",
     "text": [
      "EPOCH:\t35 0.15743297893764838\n",
      "train_MAE:\n",
      "[4.86014015e-01 6.77463910e-01 4.61165429e-03 5.35930111e-03\n",
      " 6.62130896e-03 3.40347676e+01 1.93304036e-03 2.12589944e+00\n",
      " 2.12571477e+00 2.12492111e+00 2.12509562e+00 3.16838829e-01]\n",
      "valid_MAE:\n",
      "[5.15216318e-01 6.89009293e-01 4.85991350e-03 5.49075488e-03\n",
      " 6.94091890e-03 3.54115118e+01 1.93311035e-03 2.13365535e+00\n",
      " 2.13346938e+00 2.13266745e+00 2.13283902e+00 3.21709455e-01]\n",
      "train_MSE_normalized_mean: 0.3330750809331193\n",
      "valid_MSE_normalized_mean: 0.3390379326983734\n",
      "\n"
     ]
    },
    {
     "name": "stderr",
     "output_type": "stream",
     "text": [
      "\n",
      "212it [00:11, 17.96it/s]\n",
      "212it [00:03, 60.58it/s]\n",
      "27it [00:00, 45.76it/s]"
     ]
    },
    {
     "name": "stdout",
     "output_type": "stream",
     "text": [
      "EPOCH:\t36 0.15746655026977918\n",
      "train_MAE:\n",
      "[4.79025007e-01 6.55021926e-01 4.24544225e-03 6.20470338e-03\n",
      " 7.09130133e-03 3.09551049e+01 2.57030219e-03 4.62406430e+00\n",
      " 4.62413600e+00 4.62446091e+00 4.62448250e+00 2.83779409e-01]\n",
      "valid_MAE:\n",
      "[5.07683255e-01 6.66845947e-01 4.50580576e-03 6.23636854e-03\n",
      " 7.34374149e-03 3.27110069e+01 2.59022897e-03 4.63195356e+00\n",
      " 4.63201941e+00 4.63230175e+00 4.63233175e+00 2.87233067e-01]\n",
      "train_MSE_normalized_mean: 0.36339833494138885\n",
      "valid_MSE_normalized_mean: 0.36867909894672435\n",
      "\n"
     ]
    },
    {
     "name": "stderr",
     "output_type": "stream",
     "text": [
      "\n",
      "212it [00:11, 17.83it/s]\n",
      "212it [00:04, 44.34it/s]\n",
      "27it [00:00, 18.41it/s]"
     ]
    },
    {
     "name": "stdout",
     "output_type": "stream",
     "text": [
      "EPOCH:\t37 0.1552984208430884\n",
      "train_MAE:\n",
      "[4.78565498e-01 6.30930293e-01 4.40207787e-03 5.71739104e-03\n",
      " 6.68924555e-03 3.76211222e+01 2.12923711e-03 3.77790821e+00\n",
      " 3.77761644e+00 3.77632958e+00 3.77673203e+00 3.48085894e-01]\n",
      "valid_MAE:\n",
      "[5.08554860e-01 6.42541077e-01 4.66591696e-03 5.82694026e-03\n",
      " 7.00431826e-03 3.86973327e+01 2.12653183e-03 3.78431200e+00\n",
      " 3.78402517e+00 3.78276508e+00 3.78315792e+00 3.53655398e-01]\n",
      "train_MSE_normalized_mean: 0.35491306702578035\n",
      "valid_MSE_normalized_mean: 0.36046207212317155\n",
      "\n"
     ]
    },
    {
     "name": "stderr",
     "output_type": "stream",
     "text": [
      "\n",
      "212it [00:11, 20.02it/s]\n",
      "212it [00:03, 56.72it/s]\n",
      "27it [00:00, 45.69it/s]"
     ]
    },
    {
     "name": "stdout",
     "output_type": "stream",
     "text": [
      "EPOCH:\t38 0.15428478383230712\n",
      "train_MAE:\n",
      "[4.87849517e-01 6.05684222e-01 4.20752492e-03 5.12759822e-03\n",
      " 6.57085400e-03 3.37116750e+01 1.46362691e-03 1.54545004e+00\n",
      " 1.54549443e+00 1.54593810e+00 1.54595760e+00 2.97298185e-01]\n",
      "valid_MAE:\n",
      "[5.19528489e-01 6.14984494e-01 4.49297084e-03 5.24228999e-03\n",
      " 6.86978961e-03 3.51780184e+01 1.47193897e-03 1.53456577e+00\n",
      " 1.53459917e+00 1.53496495e+00 1.53498696e+00 3.01673560e-01]\n",
      "train_MSE_normalized_mean: 0.3190587120675743\n",
      "valid_MSE_normalized_mean: 0.3253822493291259\n",
      "\n"
     ]
    },
    {
     "name": "stderr",
     "output_type": "stream",
     "text": [
      "\n",
      "212it [00:11, 19.65it/s]\n",
      "212it [00:03, 57.49it/s]\n",
      "27it [00:00, 44.25it/s]"
     ]
    },
    {
     "name": "stdout",
     "output_type": "stream",
     "text": [
      "EPOCH:\t39 0.15399925860593905\n",
      "train_MAE:\n",
      "[4.82411352e-01 7.07143966e-01 4.31894433e-03 5.36470824e-03\n",
      " 6.53881509e-03 3.59474566e+01 1.85247470e-03 1.62427881e+00\n",
      " 1.62430023e+00 1.62444581e+00 1.62441030e+00 3.19250747e-01]\n",
      "valid_MAE:\n",
      "[5.13012401e-01 7.18902872e-01 4.61279530e-03 5.52571169e-03\n",
      " 6.91196696e-03 3.72155659e+01 1.87670204e-03 1.64009547e+00\n",
      " 1.64010706e+00 1.64020674e+00 1.64018528e+00 3.22745425e-01]\n",
      "train_MSE_normalized_mean: 0.32567044718288896\n",
      "valid_MSE_normalized_mean: 0.3324630378057341\n",
      "\n"
     ]
    },
    {
     "name": "stderr",
     "output_type": "stream",
     "text": [
      "\n",
      "212it [00:11, 17.88it/s]\n",
      "212it [00:03, 56.54it/s]\n",
      "27it [00:00, 43.36it/s]"
     ]
    },
    {
     "name": "stdout",
     "output_type": "stream",
     "text": [
      "EPOCH:\t40 0.1522731805606833\n",
      "train_MAE:\n",
      "[4.72915349e-01 6.87299728e-01 4.21993577e-03 5.61963602e-03\n",
      " 7.03635969e-03 4.05992854e+01 2.81741668e-03 4.21130375e+00\n",
      " 4.21103817e+00 4.21029501e+00 4.21073238e+00 5.08623236e-01]\n",
      "valid_MAE:\n",
      "[5.06313946e-01 6.99434156e-01 4.50332012e-03 5.76303162e-03\n",
      " 7.39115057e-03 4.17295191e+01 2.83771770e-03 4.23289345e+00\n",
      " 4.23263065e+00 4.23189752e+00 4.23232429e+00 5.14503144e-01]\n",
      "train_MSE_normalized_mean: 0.3680863668317397\n",
      "valid_MSE_normalized_mean: 0.37424248941327615\n",
      "\n"
     ]
    },
    {
     "name": "stderr",
     "output_type": "stream",
     "text": [
      "\n",
      "212it [00:12, 17.39it/s]\n",
      "212it [00:04, 55.45it/s]\n",
      "27it [00:00, 46.15it/s]"
     ]
    },
    {
     "name": "stdout",
     "output_type": "stream",
     "text": [
      "EPOCH:\t41 0.1503383641675958\n",
      "train_MAE:\n",
      "[4.64634879e-01 7.86831528e-01 4.65294300e-03 5.32732974e-03\n",
      " 5.96164570e-03 3.27019752e+01 2.31535844e-03 2.35725542e+00\n",
      " 2.35719462e+00 2.35663800e+00 2.35662477e+00 3.57430490e-01]\n",
      "valid_MAE:\n",
      "[5.00482521e-01 7.94248443e-01 4.94001860e-03 5.49903732e-03\n",
      " 6.33792666e-03 3.41783906e+01 2.33385476e-03 2.38989033e+00\n",
      " 2.38982942e+00 2.38927373e+00 2.38925729e+00 3.57562532e-01]\n",
      "train_MSE_normalized_mean: 0.33637197379075523\n",
      "valid_MSE_normalized_mean: 0.3434758823332684\n",
      "\n"
     ]
    },
    {
     "name": "stderr",
     "output_type": "stream",
     "text": [
      "\n",
      "212it [00:11, 17.91it/s]\n",
      "212it [00:03, 53.84it/s]\n",
      "27it [00:00, 40.71it/s]"
     ]
    },
    {
     "name": "stdout",
     "output_type": "stream",
     "text": [
      "EPOCH:\t42 0.15041806534776148\n",
      "train_MAE:\n",
      "[4.68454994e-01 5.73777210e-01 4.05536203e-03 5.18334898e-03\n",
      " 6.53653955e-03 3.02748202e+01 2.58052898e-03 1.44042700e+00\n",
      " 1.44053584e+00 1.44094663e+00 1.44081302e+00 2.93370133e-01]\n",
      "valid_MAE:\n",
      "[5.04404354e-01 5.81012807e-01 4.36118254e-03 5.30223442e-03\n",
      " 6.88526947e-03 3.19296229e+01 2.58949537e-03 1.43322446e+00\n",
      " 1.43333281e+00 1.43373467e+00 1.43359459e+00 2.98232791e-01]\n",
      "train_MSE_normalized_mean: 0.3173379363830858\n",
      "valid_MSE_normalized_mean: 0.3244378494142791\n",
      "\n"
     ]
    },
    {
     "name": "stderr",
     "output_type": "stream",
     "text": [
      "\n",
      "212it [00:11, 19.23it/s]\n",
      "212it [00:03, 58.44it/s]\n",
      "27it [00:00, 48.87it/s]"
     ]
    },
    {
     "name": "stdout",
     "output_type": "stream",
     "text": [
      "EPOCH:\t43 0.14851057824661146\n",
      "train_MAE:\n",
      "[4.58818879e-01 5.43022619e-01 3.98828051e-03 6.57018053e-03\n",
      " 7.51558167e-03 3.15008144e+01 2.80482827e-03 1.56870280e+00\n",
      " 1.56873545e+00 1.56911746e+00 1.56921165e+00 2.82594499e-01]\n",
      "valid_MAE:\n",
      "[4.99025505e-01 5.54819430e-01 4.33220977e-03 6.64007595e-03\n",
      " 7.81011096e-03 3.33323676e+01 2.82382587e-03 1.58052133e+00\n",
      " 1.58054990e+00 1.58091165e+00 1.58101365e+00 2.86765830e-01]\n",
      "train_MSE_normalized_mean: 0.32491183558024284\n",
      "valid_MSE_normalized_mean: 0.3325432650952621\n",
      "\n"
     ]
    },
    {
     "name": "stderr",
     "output_type": "stream",
     "text": [
      "\n",
      "212it [00:11, 18.12it/s]\n",
      "212it [00:03, 57.42it/s]\n",
      "27it [00:00, 41.13it/s]"
     ]
    },
    {
     "name": "stdout",
     "output_type": "stream",
     "text": [
      "EPOCH:\t44 0.14761590114179649\n",
      "train_MAE:\n",
      "[4.47582127e-01 5.91511890e-01 4.13020319e-03 5.31174878e-03\n",
      " 6.39073010e-03 3.46715265e+01 2.06853081e-03 3.03800647e+00\n",
      " 3.03786465e+00 3.03724024e+00 3.03744798e+00 3.04768821e-01]\n",
      "valid_MAE:\n",
      "[4.91472630e-01 6.08942829e-01 4.44605173e-03 5.47620078e-03\n",
      " 6.80146273e-03 3.62733493e+01 2.08483758e-03 3.03812307e+00\n",
      " 3.03798456e+00 3.03736867e+00 3.03756357e+00 3.08987177e-01]\n",
      "train_MSE_normalized_mean: 0.33696163563387077\n",
      "valid_MSE_normalized_mean: 0.34483766676301353\n",
      "\n"
     ]
    },
    {
     "name": "stderr",
     "output_type": "stream",
     "text": [
      "\n",
      "212it [00:12, 17.20it/s]\n",
      "212it [00:04, 51.91it/s]\n",
      "27it [00:00, 46.11it/s]"
     ]
    },
    {
     "name": "stdout",
     "output_type": "stream",
     "text": [
      "EPOCH:\t45 0.1467694285202701\n",
      "train_MAE:\n",
      "[4.55498343e-01 5.83957955e-01 3.96927089e-03 5.65422926e-03\n",
      " 6.42072961e-03 3.12684743e+01 1.78455095e-03 1.12622428e+00\n",
      " 1.12625117e+00 1.12649201e+00 1.12650264e+00 2.78317170e-01]\n",
      "valid_MAE:\n",
      "[4.96205096e-01 5.95661050e-01 4.30127461e-03 5.77456138e-03\n",
      " 6.78038319e-03 3.30249061e+01 1.81378085e-03 1.13627369e+00\n",
      " 1.13630065e+00 1.13653294e+00 1.13654671e+00 2.81876322e-01]\n",
      "train_MSE_normalized_mean: 0.30950555132645824\n",
      "valid_MSE_normalized_mean: 0.31776140192937097\n",
      "\n"
     ]
    },
    {
     "name": "stderr",
     "output_type": "stream",
     "text": [
      "\n",
      "212it [00:11, 18.07it/s]\n",
      "212it [00:03, 58.68it/s]\n",
      "27it [00:00, 46.20it/s]"
     ]
    },
    {
     "name": "stdout",
     "output_type": "stream",
     "text": [
      "EPOCH:\t46 0.1464985310679899\n",
      "train_MAE:\n",
      "[4.40807236e-01 5.33781335e-01 4.06452595e-03 5.65560932e-03\n",
      " 6.40677942e-03 2.95643534e+01 1.78442870e-03 1.11006565e+00\n",
      " 1.11007910e+00 1.11032566e+00 1.11036090e+00 3.40026751e-01]\n",
      "valid_MAE:\n",
      "[4.87260608e-01 5.47041671e-01 4.42970080e-03 5.84150504e-03\n",
      " 6.78655800e-03 3.12974886e+01 1.79940385e-03 1.12225951e+00\n",
      " 1.12227512e+00 1.12252522e+00 1.12255462e+00 3.42113005e-01]\n",
      "train_MSE_normalized_mean: 0.30893893292006375\n",
      "valid_MSE_normalized_mean: 0.3180751336968493\n",
      "\n"
     ]
    },
    {
     "name": "stderr",
     "output_type": "stream",
     "text": [
      "\n",
      "212it [00:11, 19.56it/s]\n",
      "212it [00:03, 56.93it/s]\n",
      "27it [00:00, 46.43it/s]"
     ]
    },
    {
     "name": "stdout",
     "output_type": "stream",
     "text": [
      "EPOCH:\t47 0.14572464277581224\n",
      "train_MAE:\n",
      "[4.54436434e-01 5.92981899e-01 4.04112861e-03 5.12168216e-03\n",
      " 6.04615024e-03 3.36699225e+01 2.06137360e-03 1.02387681e+00\n",
      " 1.02385177e+00 1.02381649e+00 1.02385288e+00 3.31548406e-01]\n",
      "valid_MAE:\n",
      "[5.01694182e-01 6.07449468e-01 4.42364408e-03 5.29216532e-03\n",
      " 6.44163409e-03 3.53577427e+01 2.08872555e-03 1.02598280e+00\n",
      " 1.02595348e+00 1.02590929e+00 1.02595344e+00 3.37088954e-01]\n",
      "train_MSE_normalized_mean: 0.31006783185314696\n",
      "valid_MSE_normalized_mean: 0.3193686053947126\n",
      "\n"
     ]
    },
    {
     "name": "stderr",
     "output_type": "stream",
     "text": [
      "\n",
      "212it [00:11, 18.32it/s]\n",
      "212it [00:03, 54.99it/s]\n",
      "27it [00:00, 36.26it/s]"
     ]
    },
    {
     "name": "stdout",
     "output_type": "stream",
     "text": [
      "EPOCH:\t48 0.14493169020509944\n",
      "train_MAE:\n",
      "[4.40063627e-01 5.33303115e-01 3.99010743e-03 4.54878891e-03\n",
      " 5.77685730e-03 3.05259866e+01 1.36775111e-03 1.49155085e+00\n",
      " 1.49158880e+00 1.49172353e+00 1.49168343e+00 3.06079408e-01]\n",
      "valid_MAE:\n",
      "[4.88486250e-01 5.50134194e-01 4.35650021e-03 4.73318331e-03\n",
      " 6.20096998e-03 3.24009592e+01 1.40746608e-03 1.50466609e+00\n",
      " 1.50470212e+00 1.50482292e+00 1.50478931e+00 3.10636313e-01]\n",
      "train_MSE_normalized_mean: 0.30621301314572086\n",
      "valid_MSE_normalized_mean: 0.3160387141307496\n",
      "\n"
     ]
    },
    {
     "name": "stderr",
     "output_type": "stream",
     "text": [
      "\n",
      "212it [00:12, 19.61it/s]\n",
      "212it [00:04, 49.45it/s]\n",
      "27it [00:00, 42.44it/s]"
     ]
    },
    {
     "name": "stdout",
     "output_type": "stream",
     "text": [
      "EPOCH:\t49 0.14369469642076851\n",
      "train_MAE:\n",
      "[4.55340965e-01 5.45928125e-01 4.11636244e-03 5.09533967e-03\n",
      " 6.20792438e-03 2.96077831e+01 2.10136815e-03 1.62437100e+00\n",
      " 1.62430316e+00 1.62415153e+00 1.62426561e+00 3.45591081e-01]\n",
      "valid_MAE:\n",
      "[5.04040852e-01 5.61786889e-01 4.50905009e-03 5.28453033e-03\n",
      " 6.63848777e-03 3.12645856e+01 2.13334562e-03 1.64590292e+00\n",
      " 1.64583379e+00 1.64567921e+00 1.64579285e+00 3.51605747e-01]\n",
      "train_MSE_normalized_mean: 0.31686393111942013\n",
      "valid_MSE_normalized_mean: 0.326582592152658\n",
      "\n"
     ]
    },
    {
     "name": "stderr",
     "output_type": "stream",
     "text": [
      "\n",
      "212it [00:12, 17.60it/s]\n",
      "212it [00:03, 53.24it/s]\n",
      "27it [00:00, 47.20it/s]"
     ]
    },
    {
     "name": "stdout",
     "output_type": "stream",
     "text": [
      "EPOCH:\t50 0.14345654219670115\n",
      "train_MAE:\n",
      "[4.33569338e-01 6.62482596e-01 3.90616375e-03 4.50260381e-03\n",
      " 5.75547693e-03 3.16677438e+01 2.06572240e-03 1.04200530e+00\n",
      " 1.04202346e+00 1.04190618e+00 1.04182129e+00 3.71863039e-01]\n",
      "valid_MAE:\n",
      "[4.85436285e-01 6.74045148e-01 4.30489095e-03 4.70666120e-03\n",
      " 6.18634980e-03 3.35390793e+01 2.08479722e-03 1.05549368e+00\n",
      " 1.05551047e+00 1.05539285e+00 1.05531038e+00 3.72678593e-01]\n",
      "train_MSE_normalized_mean: 0.3065746224101476\n",
      "valid_MSE_normalized_mean: 0.31666678512580726\n",
      "\n"
     ]
    },
    {
     "name": "stderr",
     "output_type": "stream",
     "text": [
      "\n",
      "212it [00:11, 18.22it/s]\n",
      "212it [00:03, 58.95it/s]\n",
      "27it [00:00, 24.43it/s]"
     ]
    },
    {
     "name": "stdout",
     "output_type": "stream",
     "text": [
      "EPOCH:\t51 0.14277878477466557\n",
      "train_MAE:\n",
      "[4.29662659e-01 5.43997887e-01 3.90654018e-03 4.68431196e-03\n",
      " 5.86594793e-03 2.95493820e+01 1.71096913e-03 2.65269076e+00\n",
      " 2.65267206e+00 2.65250293e+00 2.65249103e+00 2.78085588e-01]\n",
      "valid_MAE:\n",
      "[4.83383745e-01 5.60739472e-01 4.29815314e-03 4.91721934e-03\n",
      " 6.33166843e-03 3.14964835e+01 1.72099082e-03 2.67492431e+00\n",
      " 2.67490609e+00 2.67474255e+00 2.67472615e+00 2.83638157e-01]\n",
      "train_MSE_normalized_mean: 0.32099791757411905\n",
      "valid_MSE_normalized_mean: 0.3312679591426363\n",
      "\n"
     ]
    },
    {
     "name": "stderr",
     "output_type": "stream",
     "text": [
      "\n",
      "212it [00:11, 18.84it/s]\n",
      "212it [00:04, 46.96it/s]\n",
      "27it [00:00, 35.93it/s]"
     ]
    },
    {
     "name": "stdout",
     "output_type": "stream",
     "text": [
      "EPOCH:\t52 0.14123575438587171\n",
      "train_MAE:\n",
      "[4.29516169e-01 6.72082760e-01 3.97148430e-03 4.76343421e-03\n",
      " 5.85809723e-03 3.26792794e+01 2.12061500e-03 1.38335392e+00\n",
      " 1.38334122e+00 1.38329128e+00 1.38330332e+00 3.15687607e-01]\n",
      "valid_MAE:\n",
      "[4.83383065e-01 6.90675339e-01 4.36771977e-03 4.96272949e-03\n",
      " 6.34780675e-03 3.43595863e+01 2.15646821e-03 1.39438739e+00\n",
      " 1.39437220e+00 1.39431546e+00 1.39433283e+00 3.22197701e-01]\n",
      "train_MSE_normalized_mean: 0.31125467883765884\n",
      "valid_MSE_normalized_mean: 0.32173959279369635\n",
      "\n"
     ]
    },
    {
     "name": "stderr",
     "output_type": "stream",
     "text": [
      "\n",
      "212it [00:11, 19.71it/s]\n",
      "212it [00:03, 55.62it/s]\n",
      "27it [00:00, 42.69it/s]"
     ]
    },
    {
     "name": "stdout",
     "output_type": "stream",
     "text": [
      "EPOCH:\t53 0.1411436224391438\n",
      "train_MAE:\n",
      "[4.20705395e-01 6.03206446e-01 3.91288146e-03 4.96433747e-03\n",
      " 6.32712667e-03 3.46339734e+01 1.92757948e-03 1.17274985e+00\n",
      " 1.17270393e+00 1.17269386e+00 1.17277110e+00 3.99909854e-01]\n",
      "valid_MAE:\n",
      "[4.78188821e-01 6.18576833e-01 4.30549771e-03 5.13716057e-03\n",
      " 6.72457929e-03 3.65244493e+01 1.93327683e-03 1.18349818e+00\n",
      " 1.18345432e+00 1.18344818e+00 1.18351183e+00 4.06606978e-01]\n",
      "train_MSE_normalized_mean: 0.3110221007679416\n",
      "valid_MSE_normalized_mean: 0.32140597703302\n",
      "\n"
     ]
    },
    {
     "name": "stderr",
     "output_type": "stream",
     "text": [
      "\n",
      "212it [00:11, 18.08it/s]\n",
      "212it [00:03, 57.77it/s]\n",
      "27it [00:00, 40.24it/s]"
     ]
    },
    {
     "name": "stdout",
     "output_type": "stream",
     "text": [
      "EPOCH:\t54 0.13973938775652983\n",
      "train_MAE:\n",
      "[4.26169630e-01 5.37865688e-01 3.79259613e-03 4.48606628e-03\n",
      " 5.64598463e-03 2.95023733e+01 1.44634139e-03 2.85868920e+00\n",
      " 2.85864333e+00 2.85874349e+00 2.85889182e+00 2.69482387e-01]\n",
      "valid_MAE:\n",
      "[4.83258910e-01 5.49373924e-01 4.21604943e-03 4.71002941e-03\n",
      " 6.16765148e-03 3.15528430e+01 1.47961534e-03 2.87734713e+00\n",
      " 2.87730059e+00 2.87739751e+00 2.87755282e+00 2.75151874e-01]\n",
      "train_MSE_normalized_mean: 0.3201290243194341\n",
      "valid_MSE_normalized_mean: 0.3310210773079667\n",
      "\n"
     ]
    },
    {
     "name": "stderr",
     "output_type": "stream",
     "text": [
      "\n",
      "212it [00:11, 17.92it/s]\n",
      "212it [00:03, 57.67it/s]\n",
      "27it [00:00, 43.85it/s]"
     ]
    },
    {
     "name": "stdout",
     "output_type": "stream",
     "text": [
      "EPOCH:\t55 0.139097803852187\n",
      "train_MAE:\n",
      "[4.53759535e-01 7.93838892e-01 4.00043162e-03 4.61817215e-03\n",
      " 6.25657349e-03 3.12895874e+01 2.90717415e-03 1.47545241e+00\n",
      " 1.47550493e+00 1.47553889e+00 1.47544908e+00 3.90334019e-01]\n",
      "valid_MAE:\n",
      "[5.08443117e-01 8.10914008e-01 4.40634216e-03 4.80809008e-03\n",
      " 6.70325737e-03 3.32760372e+01 2.93396136e-03 1.49038802e+00\n",
      " 1.49044069e+00 1.49046922e+00 1.49037741e+00 3.97997694e-01]\n",
      "train_MSE_normalized_mean: 0.3222375981660502\n",
      "valid_MSE_normalized_mean: 0.3325234262423838\n",
      "\n"
     ]
    },
    {
     "name": "stderr",
     "output_type": "stream",
     "text": [
      "\n",
      "212it [00:12, 17.61it/s]\n",
      "212it [00:04, 51.24it/s]\n",
      "27it [00:00, 39.80it/s]"
     ]
    },
    {
     "name": "stdout",
     "output_type": "stream",
     "text": [
      "EPOCH:\t56 0.1379688661545515\n",
      "train_MAE:\n",
      "[4.14901568e-01 5.78144793e-01 3.83059412e-03 4.54623655e-03\n",
      " 5.83905436e-03 2.98417352e+01 2.07389486e-03 9.01358364e-01\n",
      " 9.01372205e-01 9.01371462e-01 9.01348290e-01 3.07584958e-01]\n",
      "valid_MAE:\n",
      "[4.80720523e-01 5.96955816e-01 4.28287628e-03 4.78949881e-03\n",
      " 6.34914585e-03 3.17913254e+01 2.10132375e-03 8.99182004e-01\n",
      " 8.99194442e-01 8.99191602e-01 8.99174731e-01 3.12969479e-01]\n",
      "train_MSE_normalized_mean: 0.2984036258257383\n",
      "valid_MSE_normalized_mean: 0.3107808316559792\n",
      "\n"
     ]
    },
    {
     "name": "stderr",
     "output_type": "stream",
     "text": [
      "\n",
      "212it [00:11, 17.69it/s]\n",
      "212it [00:03, 55.99it/s]\n",
      "27it [00:00, 43.76it/s]\n"
     ]
    },
    {
     "name": "stdout",
     "output_type": "stream",
     "text": [
      "EPOCH:\t57 0.1359044834268543\n",
      "train_MAE:\n",
      "[4.11683801e-01 6.36710039e-01 3.66853400e-03 4.79535456e-03\n",
      " 5.70593713e-03 3.07927947e+01 2.01611770e-03 1.56257430e+00\n",
      " 1.56261629e+00 1.56254517e+00 1.56240610e+00 3.20988504e-01]\n",
      "valid_MAE:\n",
      "[4.75623850e-01 6.52992441e-01 4.11916780e-03 5.08179760e-03\n",
      " 6.25994839e-03 3.29617082e+01 2.03024992e-03 1.57379771e+00\n",
      " 1.57383858e+00 1.57376921e+00 1.57362817e+00 3.23136059e-01]\n",
      "train_MSE_normalized_mean: 0.30818242107685767\n",
      "valid_MSE_normalized_mean: 0.3203329155085257\n",
      "\n"
     ]
    },
    {
     "name": "stderr",
     "output_type": "stream",
     "text": [
      "212it [00:11, 19.27it/s]\n",
      "212it [00:03, 57.37it/s]\n",
      "27it [00:00, 43.08it/s]"
     ]
    },
    {
     "name": "stdout",
     "output_type": "stream",
     "text": [
      "EPOCH:\t58 0.1378081166097578\n",
      "train_MAE:\n",
      "[4.09283309e-01 5.53046269e-01 3.98154032e-03 4.97225116e-03\n",
      " 5.81398648e-03 3.21419832e+01 1.41979448e-03 1.29338636e+00\n",
      " 1.29333946e+00 1.29327634e+00 1.29340523e+00 2.98293139e-01]\n",
      "valid_MAE:\n",
      "[4.73447404e-01 5.70985494e-01 4.41902134e-03 5.21200702e-03\n",
      " 6.29666752e-03 3.41791138e+01 1.44429549e-03 1.30161718e+00\n",
      " 1.30156915e+00 1.30150899e+00 1.30163773e+00 3.05055320e-01]\n",
      "train_MSE_normalized_mean: 0.3031193260287869\n",
      "valid_MSE_normalized_mean: 0.3151921115708612\n",
      "\n"
     ]
    },
    {
     "name": "stderr",
     "output_type": "stream",
     "text": [
      "\n",
      "212it [00:11, 18.01it/s]\n",
      "212it [00:03, 57.40it/s]\n",
      "27it [00:00, 48.16it/s]"
     ]
    },
    {
     "name": "stdout",
     "output_type": "stream",
     "text": [
      "EPOCH:\t59 0.13601494148233026\n",
      "train_MAE:\n",
      "[4.08395033e-01 5.34099130e-01 3.71782663e-03 4.78477800e-03\n",
      " 5.93242057e-03 3.31846929e+01 1.77765098e-03 1.80745312e+00\n",
      " 1.80739399e+00 1.80745147e+00 1.80763999e+00 2.94529286e-01]\n",
      "valid_MAE:\n",
      "[4.74629812e-01 5.51396029e-01 4.18111077e-03 5.03475556e-03\n",
      " 6.43021500e-03 3.54653704e+01 1.80201483e-03 1.80795956e+00\n",
      " 1.80789898e+00 1.80795486e+00 1.80815486e+00 2.97679873e-01]\n",
      "train_MSE_normalized_mean: 0.3097229986747357\n",
      "valid_MSE_normalized_mean: 0.32183034224897716\n",
      "\n"
     ]
    },
    {
     "name": "stderr",
     "output_type": "stream",
     "text": [
      "\n",
      "212it [00:12, 17.53it/s]\n",
      "212it [00:04, 49.59it/s]\n",
      "27it [00:00, 36.74it/s]"
     ]
    },
    {
     "name": "stdout",
     "output_type": "stream",
     "text": [
      "EPOCH:\t60 0.13546674519355567\n",
      "train_MAE:\n",
      "[4.02970279e-01 5.93104271e-01 3.65485710e-03 4.29639636e-03\n",
      " 5.47899131e-03 3.53648880e+01 1.89098588e-03 1.18871481e+00\n",
      " 1.18865411e+00 1.18865373e+00 1.18880496e+00 3.61507743e-01]\n",
      "valid_MAE:\n",
      "[4.72728544e-01 6.08569160e-01 4.15552320e-03 4.56581215e-03\n",
      " 6.03080425e-03 3.76094323e+01 1.89684163e-03 1.20551556e+00\n",
      " 1.20544982e+00 1.20545002e+00 1.20562028e+00 3.62957156e-01]\n",
      "train_MSE_normalized_mean: 0.30248144145807176\n",
      "valid_MSE_normalized_mean: 0.31563869048397986\n",
      "\n"
     ]
    },
    {
     "name": "stderr",
     "output_type": "stream",
     "text": [
      "\n",
      "212it [00:11, 18.12it/s]\n",
      "212it [00:03, 48.62it/s]\n",
      "27it [00:00, 45.64it/s]"
     ]
    },
    {
     "name": "stdout",
     "output_type": "stream",
     "text": [
      "EPOCH:\t61 0.1344564355698959\n",
      "train_MAE:\n",
      "[4.05280753e-01 4.84399274e-01 3.77696788e-03 5.03989870e-03\n",
      " 5.99550908e-03 2.88039575e+01 1.48128916e-03 1.10231388e+00\n",
      " 1.10230862e+00 1.10232861e+00 1.10236912e+00 2.69197559e-01]\n",
      "valid_MAE:\n",
      "[4.76690305e-01 5.03790952e-01 4.26242905e-03 5.32261644e-03\n",
      " 6.53690949e-03 3.11653059e+01 1.50985783e-03 1.11009376e+00\n",
      " 1.11008473e+00 1.11010239e+00 1.11015165e+00 2.76517565e-01]\n",
      "train_MSE_normalized_mean: 0.2959896088859579\n",
      "valid_MSE_normalized_mean: 0.30977018938663736\n",
      "\n"
     ]
    },
    {
     "name": "stderr",
     "output_type": "stream",
     "text": [
      "\n",
      "212it [00:11, 18.40it/s]\n",
      "212it [00:03, 60.25it/s]\n",
      "27it [00:00, 40.92it/s]"
     ]
    },
    {
     "name": "stdout",
     "output_type": "stream",
     "text": [
      "EPOCH:\t62 0.13335514718772107\n",
      "train_MAE:\n",
      "[3.98176043e-01 6.29572181e-01 3.65369088e-03 4.40486396e-03\n",
      " 5.44309400e-03 2.77919197e+01 2.13009572e-03 1.24090501e+00\n",
      " 1.24089195e+00 1.24093975e+00 1.24097234e+00 3.23103840e-01]\n",
      "valid_MAE:\n",
      "[4.71790165e-01 6.42951587e-01 4.19113209e-03 4.67325204e-03\n",
      " 6.02732128e-03 3.02095677e+01 2.15162895e-03 1.25245465e+00\n",
      " 1.25244000e+00 1.25248699e+00 1.25253249e+00 3.26624436e-01]\n",
      "train_MSE_normalized_mean: 0.2995308652992202\n",
      "valid_MSE_normalized_mean: 0.31356483222934006\n",
      "\n"
     ]
    },
    {
     "name": "stderr",
     "output_type": "stream",
     "text": [
      "\n",
      "212it [00:11, 18.33it/s]\n",
      "212it [00:03, 57.29it/s]\n",
      "27it [00:00, 47.28it/s]"
     ]
    },
    {
     "name": "stdout",
     "output_type": "stream",
     "text": [
      "EPOCH:\t63 0.1334171972044234\n",
      "train_MAE:\n",
      "[3.98162592e-01 6.52136773e-01 3.57545453e-03 5.06671888e-03\n",
      " 5.90303196e-03 4.03064250e+01 1.84260809e-03 1.85128212e+00\n",
      " 1.85119945e+00 1.85117670e+00 1.85140589e+00 3.33988008e-01]\n",
      "valid_MAE:\n",
      "[4.76108183e-01 6.65469092e-01 4.05172743e-03 5.32790204e-03\n",
      " 6.44785749e-03 4.20730506e+01 1.87015785e-03 1.85833307e+00\n",
      " 1.85824812e+00 1.85822495e+00 1.85845692e+00 3.41933861e-01]\n",
      "train_MSE_normalized_mean: 0.31613898744896096\n",
      "valid_MSE_normalized_mean: 0.3291591621374194\n",
      "\n"
     ]
    },
    {
     "name": "stderr",
     "output_type": "stream",
     "text": [
      "\n",
      "212it [00:12, 17.45it/s]\n",
      "212it [00:04, 58.40it/s]\n",
      "27it [00:00, 39.68it/s]"
     ]
    },
    {
     "name": "stdout",
     "output_type": "stream",
     "text": [
      "EPOCH:\t64 0.1323123793557005\n",
      "train_MAE:\n",
      "[4.06489948e-01 5.90547775e-01 3.64585109e-03 4.41182818e-03\n",
      " 5.33878582e-03 2.87027465e+01 1.53297998e-03 1.31875650e+00\n",
      " 1.31876334e+00 1.31874276e+00 1.31869634e+00 2.79648042e-01]\n",
      "valid_MAE:\n",
      "[4.81143202e-01 6.13031339e-01 4.12875552e-03 4.66182165e-03\n",
      " 5.90705002e-03 3.10308895e+01 1.58230531e-03 1.33803770e+00\n",
      " 1.33804274e+00 1.33802154e+00 1.33797650e+00 2.87408050e-01]\n",
      "train_MSE_normalized_mean: 0.2968285671090917\n",
      "valid_MSE_normalized_mean: 0.311109139402753\n",
      "\n"
     ]
    },
    {
     "name": "stderr",
     "output_type": "stream",
     "text": [
      "\n",
      "212it [00:11, 18.15it/s]\n",
      "212it [00:03, 56.27it/s]\n",
      "27it [00:00, 43.51it/s]"
     ]
    },
    {
     "name": "stdout",
     "output_type": "stream",
     "text": [
      "EPOCH:\t65 0.13195824795314726\n",
      "train_MAE:\n",
      "[3.89397337e-01 5.60588508e-01 3.83187336e-03 5.16571974e-03\n",
      " 5.65414943e-03 2.77103682e+01 1.58125814e-03 1.28394715e+00\n",
      " 1.28392682e+00 1.28394474e+00 1.28399414e+00 2.54718291e-01]\n",
      "valid_MAE:\n",
      "[4.72509808e-01 5.77182259e-01 4.34243652e-03 5.43766628e-03\n",
      " 6.23384552e-03 3.01563989e+01 1.60761183e-03 1.28592186e+00\n",
      " 1.28590000e+00 1.28591705e+00 1.28597497e+00 2.61977158e-01]\n",
      "train_MSE_normalized_mean: 0.297470969213489\n",
      "valid_MSE_normalized_mean: 0.31234182758902046\n",
      "\n"
     ]
    },
    {
     "name": "stderr",
     "output_type": "stream",
     "text": [
      "\n",
      "212it [00:11, 19.30it/s]\n",
      "212it [00:03, 55.50it/s]\n",
      "27it [00:00, 45.06it/s]"
     ]
    },
    {
     "name": "stdout",
     "output_type": "stream",
     "text": [
      "EPOCH:\t66 0.13140474168478317\n",
      "train_MAE:\n",
      "[3.89430129e-01 4.96781743e-01 3.54536361e-03 5.17443493e-03\n",
      " 5.99748902e-03 2.81945665e+01 1.44086946e-03 2.09029584e+00\n",
      " 2.09025743e+00 2.09024404e+00 2.09029944e+00 2.76319948e-01]\n",
      "valid_MAE:\n",
      "[4.73561031e-01 5.16037837e-01 4.08299523e-03 5.40828735e-03\n",
      " 6.53630942e-03 3.04951815e+01 1.48131061e-03 2.09593036e+00\n",
      " 2.09589140e+00 2.09587808e+00 2.09592954e+00 2.82000121e-01]\n",
      "train_MSE_normalized_mean: 0.30712171825669615\n",
      "valid_MSE_normalized_mean: 0.32160062855431937\n",
      "\n"
     ]
    },
    {
     "name": "stderr",
     "output_type": "stream",
     "text": [
      "\n",
      "212it [00:11, 17.85it/s]\n",
      "212it [00:03, 54.14it/s]\n",
      "27it [00:00, 34.58it/s]"
     ]
    },
    {
     "name": "stdout",
     "output_type": "stream",
     "text": [
      "EPOCH:\t67 0.12977100304275188\n",
      "train_MAE:\n",
      "[3.88142761e-01 5.40003625e-01 3.82931549e-03 4.59531305e-03\n",
      " 5.42177414e-03 2.77661791e+01 1.80961163e-03 1.62574851e+00\n",
      " 1.62574181e+00 1.62574227e+00 1.62574805e+00 2.89648552e-01]\n",
      "valid_MAE:\n",
      "[4.71000963e-01 5.64227767e-01 4.30971614e-03 4.84803950e-03\n",
      " 6.00636936e-03 3.01383619e+01 1.84791854e-03 1.63949500e+00\n",
      " 1.63948676e+00 1.63948631e+00 1.63949584e+00 2.96957433e-01]\n",
      "train_MSE_normalized_mean: 0.3015416421869019\n",
      "valid_MSE_normalized_mean: 0.3162711688121862\n",
      "\n"
     ]
    },
    {
     "name": "stderr",
     "output_type": "stream",
     "text": [
      "\n",
      "212it [00:11, 19.68it/s]\n",
      "212it [00:04, 62.69it/s]\n",
      "27it [00:00, 47.07it/s]"
     ]
    },
    {
     "name": "stdout",
     "output_type": "stream",
     "text": [
      "EPOCH:\t68 0.12979153526138584\n",
      "train_MAE:\n",
      "[3.84714090e-01 8.34619498e-01 3.70941633e-03 4.31553973e-03\n",
      " 5.33175842e-03 3.21920941e+01 2.41131665e-03 1.96630686e+00\n",
      " 1.96634424e+00 1.96635245e+00 1.96626842e+00 3.80630136e-01]\n",
      "valid_MAE:\n",
      "[4.69660595e-01 8.52427806e-01 4.22957915e-03 4.60265476e-03\n",
      " 5.95027558e-03 3.42070203e+01 2.43667684e-03 1.97712232e+00\n",
      " 1.97715845e+00 1.97716622e+00 1.97708779e+00 3.85432479e-01]\n",
      "train_MSE_normalized_mean: 0.31646891603709837\n",
      "valid_MSE_normalized_mean: 0.330690839166649\n",
      "\n"
     ]
    },
    {
     "name": "stderr",
     "output_type": "stream",
     "text": [
      "\n",
      "212it [00:11, 18.27it/s]\n",
      "212it [00:03, 57.55it/s]\n",
      "27it [00:00, 51.68it/s]"
     ]
    },
    {
     "name": "stdout",
     "output_type": "stream",
     "text": [
      "EPOCH:\t69 0.12929436813969658\n",
      "train_MAE:\n",
      "[4.07892023e-01 6.72887685e-01 3.56502830e-03 6.03794716e-03\n",
      " 6.68564129e-03 2.75076280e+01 3.21655191e-03 1.17075211e+00\n",
      " 1.17077618e+00 1.17078687e+00 1.17075335e+00 3.41048864e-01]\n",
      "valid_MAE:\n",
      "[4.90046855e-01 6.90581276e-01 4.09118400e-03 6.25865318e-03\n",
      " 7.21693591e-03 2.99384540e+01 3.26331097e-03 1.17704007e+00\n",
      " 1.17706446e+00 1.17707475e+00 1.17704538e+00 3.47414645e-01]\n",
      "train_MSE_normalized_mean: 0.3128162269132434\n",
      "valid_MSE_normalized_mean: 0.32684595382741344\n",
      "\n"
     ]
    },
    {
     "name": "stderr",
     "output_type": "stream",
     "text": [
      "\n",
      "212it [00:11, 18.05it/s]\n",
      "212it [00:03, 62.05it/s]\n",
      "27it [00:00, 41.21it/s]"
     ]
    },
    {
     "name": "stdout",
     "output_type": "stream",
     "text": [
      "EPOCH:\t70 0.13046035462252373\n",
      "train_MAE:\n",
      "[3.97587371e-01 7.46524067e-01 3.68182007e-03 4.36289261e-03\n",
      " 5.77728733e-03 3.88032408e+01 2.13655495e-03 1.46168256e+00\n",
      " 1.46160296e+00 1.46160565e+00 1.46183051e+00 3.67612375e-01]\n",
      "valid_MAE:\n",
      "[4.85503255e-01 7.56250599e-01 4.20931857e-03 4.68310079e-03\n",
      " 6.41831799e-03 4.12279263e+01 2.14134106e-03 1.47398831e+00\n",
      " 1.47390671e+00 1.47390939e+00 1.47414871e+00 3.69227373e-01]\n",
      "train_MSE_normalized_mean: 0.3123118327940092\n",
      "valid_MSE_normalized_mean: 0.3270556787008458\n",
      "\n"
     ]
    },
    {
     "name": "stderr",
     "output_type": "stream",
     "text": [
      "\n",
      "212it [00:11, 18.62it/s]\n",
      "212it [00:04, 45.98it/s]\n",
      "27it [00:00, 41.24it/s]"
     ]
    },
    {
     "name": "stdout",
     "output_type": "stream",
     "text": [
      "EPOCH:\t71 0.1281244400537239\n",
      "train_MAE:\n",
      "[3.72000657e-01 4.96528280e-01 3.48138432e-03 4.50878444e-03\n",
      " 5.53446825e-03 2.76709099e+01 1.46222965e-03 1.04311339e+00\n",
      " 1.04312361e+00 1.04311885e+00 1.04311364e+00 2.89017646e-01]\n",
      "valid_MAE:\n",
      "[4.62236571e-01 5.15435324e-01 4.03607786e-03 4.81505238e-03\n",
      " 6.15546345e-03 3.03706873e+01 1.49167313e-03 1.04317548e+00\n",
      " 1.04318428e+00 1.04317978e+00 1.04317269e+00 2.92864750e-01]\n",
      "train_MSE_normalized_mean: 0.28738226083789004\n",
      "valid_MSE_normalized_mean: 0.3039156610515903\n",
      "\n"
     ]
    },
    {
     "name": "stderr",
     "output_type": "stream",
     "text": [
      "\n",
      "212it [00:11, 20.04it/s]\n",
      "212it [00:03, 56.08it/s]\n",
      "27it [00:00, 45.76it/s]"
     ]
    },
    {
     "name": "stdout",
     "output_type": "stream",
     "text": [
      "EPOCH:\t72 0.12785835212694024\n",
      "train_MAE:\n",
      "[3.80538615e-01 4.94698986e-01 3.56750049e-03 4.69497188e-03\n",
      " 5.94278430e-03 2.82621035e+01 2.53695004e-03 8.22953438e-01\n",
      " 8.22942211e-01 8.22941966e-01 8.22939952e-01 3.77398023e-01]\n",
      "valid_MAE:\n",
      "[4.75034602e-01 5.19019082e-01 4.10770879e-03 4.96996121e-03\n",
      " 6.53720629e-03 3.07380997e+01 2.57388730e-03 8.39861190e-01\n",
      " 8.39846377e-01 8.39846420e-01 8.39859574e-01 3.86050932e-01]\n",
      "train_MSE_normalized_mean: 0.2953851212896042\n",
      "valid_MSE_normalized_mean: 0.3120086420894587\n",
      "\n"
     ]
    },
    {
     "name": "stderr",
     "output_type": "stream",
     "text": [
      "\n",
      "212it [00:11, 18.25it/s]\n",
      "212it [00:03, 58.05it/s]\n",
      "27it [00:00, 43.83it/s]"
     ]
    },
    {
     "name": "stdout",
     "output_type": "stream",
     "text": [
      "EPOCH:\t73 0.12751091770687192\n",
      "train_MAE:\n",
      "[3.65283916e-01 4.57107745e-01 3.53208569e-03 4.13179225e-03\n",
      " 5.16428004e-03 2.77923129e+01 1.37925094e-03 2.16889684e+00\n",
      " 2.16884765e+00 2.16885330e+00 2.16897388e+00 2.56675149e-01]\n",
      "valid_MAE:\n",
      "[4.63584347e-01 4.81932496e-01 4.11336533e-03 4.45435915e-03\n",
      " 5.84238100e-03 3.08256079e+01 1.39233623e-03 2.16664912e+00\n",
      " 2.16659901e+00 2.16660450e+00 2.16673452e+00 2.62993441e-01]\n",
      "train_MSE_normalized_mean: 0.29869739075680585\n",
      "valid_MSE_normalized_mean: 0.31593370834174905\n",
      "\n"
     ]
    },
    {
     "name": "stderr",
     "output_type": "stream",
     "text": [
      "\n",
      "212it [00:11, 18.09it/s]\n",
      "212it [00:03, 56.30it/s]\n",
      "27it [00:00, 46.69it/s]"
     ]
    },
    {
     "name": "stdout",
     "output_type": "stream",
     "text": [
      "EPOCH:\t74 0.12716190386914983\n",
      "train_MAE:\n",
      "[3.73634422e-01 5.14583159e-01 3.53982506e-03 4.30113202e-03\n",
      " 5.41244757e-03 2.81217970e+01 1.51158028e-03 2.20148725e+00\n",
      " 2.20142650e+00 2.20143066e+00 2.20160180e+00 2.72105828e-01]\n",
      "valid_MAE:\n",
      "[4.68585306e-01 5.41317583e-01 4.11882648e-03 4.57866241e-03\n",
      " 6.04792459e-03 3.09754254e+01 1.54475590e-03 2.19584994e+00\n",
      " 2.19578840e+00 2.19579245e+00 2.19597205e+00 2.76970280e-01]\n",
      "train_MSE_normalized_mean: 0.3033820416760557\n",
      "valid_MSE_normalized_mean: 0.3197612503721491\n",
      "\n"
     ]
    },
    {
     "name": "stderr",
     "output_type": "stream",
     "text": [
      "\n",
      "212it [00:11, 19.02it/s]\n",
      "212it [00:04, 46.66it/s]\n",
      "27it [00:00, 37.35it/s]"
     ]
    },
    {
     "name": "stdout",
     "output_type": "stream",
     "text": [
      "EPOCH:\t75 0.12749066470928913\n",
      "train_MAE:\n",
      "[3.72872176e-01 5.75240739e-01 3.51760372e-03 4.35332195e-03\n",
      " 5.58857449e-03 2.70954195e+01 1.44513963e-03 2.08313216e+00\n",
      " 2.08315023e+00 2.08314615e+00 2.08312309e+00 2.59408270e-01]\n",
      "valid_MAE:\n",
      "[4.70621578e-01 5.94505972e-01 4.09704639e-03 4.63623563e-03\n",
      " 6.21229786e-03 2.98552271e+01 1.45862749e-03 2.11200149e+00\n",
      " 2.11201658e+00 2.11201254e+00 2.11199757e+00 2.64099717e-01]\n",
      "train_MSE_normalized_mean: 0.30202221137639407\n",
      "valid_MSE_normalized_mean: 0.3188997456267796\n",
      "\n"
     ]
    },
    {
     "name": "stderr",
     "output_type": "stream",
     "text": [
      "\n",
      "212it [00:11, 18.13it/s]\n",
      "212it [00:03, 64.30it/s]\n",
      "27it [00:00, 48.29it/s]"
     ]
    },
    {
     "name": "stdout",
     "output_type": "stream",
     "text": [
      "EPOCH:\t76 0.12614512401369382\n",
      "train_MAE:\n",
      "[3.63684389e-01 7.88031522e-01 3.54735371e-03 4.43707384e-03\n",
      " 5.23783346e-03 3.08434175e+01 2.70416039e-03 9.95348561e-01\n",
      " 9.95394167e-01 9.95389574e-01 9.95286296e-01 3.66577660e-01]\n",
      "valid_MAE:\n",
      "[4.66946266e-01 8.02726657e-01 4.15693949e-03 4.76096069e-03\n",
      " 5.94564069e-03 3.35676964e+01 2.71231636e-03 9.96610388e-01\n",
      " 9.96652050e-01 9.96647470e-01 9.96550736e-01 3.69528473e-01]\n",
      "train_MSE_normalized_mean: 0.2999106398901602\n",
      "valid_MSE_normalized_mean: 0.31737011996288006\n",
      "\n"
     ]
    },
    {
     "name": "stderr",
     "output_type": "stream",
     "text": [
      "\n",
      "212it [00:11, 19.68it/s]\n",
      "212it [00:03, 63.81it/s]\n",
      "27it [00:00, 46.02it/s]"
     ]
    },
    {
     "name": "stdout",
     "output_type": "stream",
     "text": [
      "EPOCH:\t77 0.1250711449966678\n",
      "train_MAE:\n",
      "[3.81961839e-01 5.62822458e-01 3.56870050e-03 4.57914937e-03\n",
      " 5.43336164e-03 3.02042566e+01 1.89576279e-03 1.84848196e+00\n",
      " 1.84848411e+00 1.84848495e+00 1.84846590e+00 3.10799670e-01]\n",
      "valid_MAE:\n",
      "[4.80448431e-01 5.80445987e-01 4.15691644e-03 4.90864848e-03\n",
      " 6.11874620e-03 3.27656606e+01 1.91127657e-03 1.84691778e+00\n",
      " 1.84691819e+00 1.84691887e+00 1.84690317e+00 3.18094467e-01]\n",
      "train_MSE_normalized_mean: 0.3050627351769565\n",
      "valid_MSE_normalized_mean: 0.3217708417752061\n",
      "\n"
     ]
    },
    {
     "name": "stderr",
     "output_type": "stream",
     "text": [
      "\n",
      "212it [00:11, 18.23it/s]\n",
      "212it [00:03, 57.37it/s]\n",
      "27it [00:00, 45.35it/s]"
     ]
    },
    {
     "name": "stdout",
     "output_type": "stream",
     "text": [
      "EPOCH:\t78 0.12498024661304816\n",
      "train_MAE:\n",
      "[3.64368222e-01 6.02147816e-01 3.67205660e-03 6.30193202e-03\n",
      " 6.07780448e-03 2.86515005e+01 2.49339245e-03 2.90517904e+00\n",
      " 2.90516863e+00 2.90516387e+00 2.90521122e+00 3.20497710e-01]\n",
      "valid_MAE:\n",
      "[4.67214431e-01 6.26431468e-01 4.29011878e-03 6.55436047e-03\n",
      " 6.69492894e-03 3.13093780e+01 2.49057880e-03 2.91281196e+00\n",
      " 2.91280071e+00 2.91279597e+00 2.91283903e+00 3.27945190e-01]\n",
      "train_MSE_normalized_mean: 0.3272668093990329\n",
      "valid_MSE_normalized_mean: 0.343219466582206\n",
      "\n"
     ]
    },
    {
     "name": "stderr",
     "output_type": "stream",
     "text": [
      "\n",
      "212it [00:11, 19.42it/s]\n",
      "212it [00:04, 48.74it/s]\n",
      "27it [00:00, 39.42it/s]"
     ]
    },
    {
     "name": "stdout",
     "output_type": "stream",
     "text": [
      "EPOCH:\t79 0.12416654438623842\n",
      "train_MAE:\n",
      "[3.58829364e-01 7.58037360e-01 3.58435364e-03 4.30462020e-03\n",
      " 5.21913440e-03 3.71058278e+01 2.68886878e-03 4.09942970e+00\n",
      " 4.09925930e+00 4.09925627e+00 4.09964096e+00 5.80813091e-01]\n",
      "valid_MAE:\n",
      "[4.63793092e-01 7.77951630e-01 4.17247948e-03 4.64481751e-03\n",
      " 5.92310445e-03 3.94946911e+01 2.73797903e-03 4.13405085e+00\n",
      " 4.13388025e+00 4.13387733e+00 4.13425747e+00 5.88182311e-01]\n",
      "train_MSE_normalized_mean: 0.3482519684720395\n",
      "valid_MSE_normalized_mean: 0.3640255410191299\n",
      "\n"
     ]
    },
    {
     "name": "stderr",
     "output_type": "stream",
     "text": [
      "\n",
      "212it [00:11, 18.09it/s]\n",
      "212it [00:03, 56.19it/s]\n",
      "27it [00:00, 48.95it/s]"
     ]
    },
    {
     "name": "stdout",
     "output_type": "stream",
     "text": [
      "EPOCH:\t80 0.12361211231294668\n",
      "train_MAE:\n",
      "[3.55960116e-01 6.67422954e-01 3.57423850e-03 5.38233361e-03\n",
      " 5.99311161e-03 2.80731157e+01 3.27636507e-03 3.32618942e+00\n",
      " 3.32620189e+00 3.32619976e+00 3.32622878e+00 3.44057575e-01]\n",
      "valid_MAE:\n",
      "[4.66914975e-01 6.89029716e-01 4.20237210e-03 5.66509985e-03\n",
      " 6.67013304e-03 3.08229569e+01 3.28389859e-03 3.33913561e+00\n",
      " 3.33914775e+00 3.33914578e+00 3.33916937e+00 3.49648664e-01]\n",
      "train_MSE_normalized_mean: 0.3330632872220443\n",
      "valid_MSE_normalized_mean: 0.34971029311627994\n",
      "\n"
     ]
    },
    {
     "name": "stderr",
     "output_type": "stream",
     "text": [
      "\n",
      "212it [00:11, 18.55it/s]\n",
      "212it [00:03, 53.22it/s]\n",
      "27it [00:00, 40.61it/s]"
     ]
    },
    {
     "name": "stdout",
     "output_type": "stream",
     "text": [
      "EPOCH:\t81 0.12369694072261171\n",
      "train_MAE:\n",
      "[3.60637585e-01 4.94501564e-01 3.77916751e-03 4.07077074e-03\n",
      " 5.30494327e-03 2.75594969e+01 1.52662008e-03 2.77480486e+00\n",
      " 2.77478106e+00 2.77478188e+00 2.77485991e+00 2.75103281e-01]\n",
      "valid_MAE:\n",
      "[4.69706873e-01 5.21630989e-01 4.40557341e-03 4.42240023e-03\n",
      " 6.05913278e-03 3.05052964e+01 1.56506910e-03 2.77095944e+00\n",
      " 2.77093642e+00 2.77093721e+00 2.77101570e+00 2.80997228e-01]\n",
      "train_MSE_normalized_mean: 0.31004818733506273\n",
      "valid_MSE_normalized_mean: 0.328181599027777\n",
      "\n"
     ]
    },
    {
     "name": "stderr",
     "output_type": "stream",
     "text": [
      "\n",
      "212it [00:11, 17.71it/s]\n",
      "212it [00:03, 57.28it/s]\n",
      "27it [00:00, 40.77it/s]"
     ]
    },
    {
     "name": "stdout",
     "output_type": "stream",
     "text": [
      "EPOCH:\t82 0.12300583435538805\n",
      "train_MAE:\n",
      "[3.61025387e-01 4.63226246e-01 3.71897620e-03 4.91304584e-03\n",
      " 6.75964609e-03 2.63135194e+01 1.54533579e-03 8.47987919e-01\n",
      " 8.47998152e-01 8.47998811e-01 8.47969600e-01 2.79789272e-01]\n",
      "valid_MAE:\n",
      "[4.72705332e-01 4.90856456e-01 4.34021508e-03 5.23780978e-03\n",
      " 7.37132852e-03 2.92695385e+01 1.57799400e-03 8.56185488e-01\n",
      " 8.56191168e-01 8.56191659e-01 8.56173691e-01 2.88309958e-01]\n",
      "train_MSE_normalized_mean: 0.2887991429973773\n",
      "valid_MSE_normalized_mean: 0.30814078413634927\n",
      "\n"
     ]
    },
    {
     "name": "stderr",
     "output_type": "stream",
     "text": [
      "\n",
      "212it [00:12, 16.94it/s]\n",
      "212it [00:04, 50.59it/s]\n",
      "27it [00:00, 46.33it/s]"
     ]
    },
    {
     "name": "stdout",
     "output_type": "stream",
     "text": [
      "EPOCH:\t83 0.12286698231297843\n",
      "train_MAE:\n",
      "[3.50401138e-01 4.88404220e-01 3.41570891e-03 4.31334571e-03\n",
      " 5.22501513e-03 2.72642364e+01 1.47691531e-03 1.33213175e+00\n",
      " 1.33210237e+00 1.33210395e+00 1.33219111e+00 2.79406317e-01]\n",
      "valid_MAE:\n",
      "[4.64286920e-01 5.16182052e-01 4.05230209e-03 4.66411564e-03\n",
      " 5.96980630e-03 3.03999381e+01 1.50597130e-03 1.32918466e+00\n",
      " 1.32915734e+00 1.32915876e+00 1.32924478e+00 2.85016890e-01]\n",
      "train_MSE_normalized_mean: 0.28690744454796036\n",
      "valid_MSE_normalized_mean: 0.3069409895853563\n",
      "\n"
     ]
    },
    {
     "name": "stderr",
     "output_type": "stream",
     "text": [
      "\n",
      "212it [00:11, 18.02it/s]\n",
      "212it [00:03, 56.59it/s]\n",
      "27it [00:00, 44.32it/s]"
     ]
    },
    {
     "name": "stdout",
     "output_type": "stream",
     "text": [
      "EPOCH:\t84 0.1228820125941398\n",
      "train_MAE:\n",
      "[3.49762332e-01 5.92382444e-01 3.39789361e-03 5.13633509e-03\n",
      " 5.70024796e-03 3.09299184e+01 2.04839003e-03 1.55214730e+00\n",
      " 1.55215482e+00 1.55215522e+00 1.55213003e+00 3.07613352e-01]\n",
      "valid_MAE:\n",
      "[4.63808352e-01 6.18446793e-01 4.02423525e-03 5.44530257e-03\n",
      " 6.36770456e-03 3.38193078e+01 2.06691247e-03 1.55748422e+00\n",
      " 1.55748835e+00 1.55748866e+00 1.55747145e+00 3.12910770e-01]\n",
      "train_MSE_normalized_mean: 0.300827480095363\n",
      "valid_MSE_normalized_mean: 0.3195302844647834\n",
      "\n"
     ]
    },
    {
     "name": "stderr",
     "output_type": "stream",
     "text": [
      "\n",
      "212it [00:12, 17.66it/s]\n",
      "212it [00:03, 55.73it/s]\n",
      "27it [00:00, 45.49it/s]\n"
     ]
    },
    {
     "name": "stdout",
     "output_type": "stream",
     "text": [
      "EPOCH:\t85 0.12106380854153408\n",
      "train_MAE:\n",
      "[3.55135646e-01 6.73849387e-01 3.27818206e-03 4.18336509e-03\n",
      " 5.14536503e-03 2.64555930e+01 1.85508581e-03 9.70713257e-01\n",
      " 9.70701889e-01 9.70701315e-01 9.70737818e-01 2.42039484e-01]\n",
      "valid_MAE:\n",
      "[4.73285475e-01 6.93288370e-01 3.95156837e-03 4.50207886e-03\n",
      " 5.91593461e-03 2.94539748e+01 1.88489316e-03 9.79438513e-01\n",
      " 9.79428026e-01 9.79427464e-01 9.79461133e-01 2.48755522e-01]\n",
      "train_MSE_normalized_mean: 0.28373438317195104\n",
      "valid_MSE_normalized_mean: 0.30455948940028854\n",
      "\n"
     ]
    },
    {
     "name": "stderr",
     "output_type": "stream",
     "text": [
      "212it [00:11, 17.77it/s]\n",
      "212it [00:04, 48.58it/s]\n",
      "27it [00:00, 36.44it/s]"
     ]
    },
    {
     "name": "stdout",
     "output_type": "stream",
     "text": [
      "EPOCH:\t86 0.12196393602720972\n",
      "train_MAE:\n",
      "[3.44515450e-01 5.57166782e-01 3.40153655e-03 4.52805367e-03\n",
      " 5.41684829e-03 2.75964006e+01 1.86544613e-03 1.54937044e+00\n",
      " 1.54936737e+00 1.54936737e+00 1.54937410e+00 2.72848303e-01]\n",
      "valid_MAE:\n",
      "[4.61428314e-01 5.83059874e-01 4.08154281e-03 4.86403644e-03\n",
      " 6.15364922e-03 3.06764986e+01 1.90386192e-03 1.55802167e+00\n",
      " 1.55801528e+00 1.55801524e+00 1.55803059e+00 2.81030051e-01]\n",
      "train_MSE_normalized_mean: 0.2934324675032149\n",
      "valid_MSE_normalized_mean: 0.313725779498026\n",
      "\n"
     ]
    },
    {
     "name": "stderr",
     "output_type": "stream",
     "text": [
      "\n",
      "212it [00:12, 18.29it/s]\n",
      "212it [00:03, 53.87it/s]\n",
      "27it [00:00, 44.72it/s]"
     ]
    },
    {
     "name": "stdout",
     "output_type": "stream",
     "text": [
      "EPOCH:\t87 0.12147964220845474\n",
      "train_MAE:\n",
      "[3.38934665e-01 6.06102002e-01 3.37461412e-03 4.15994502e-03\n",
      " 5.33077383e-03 3.13884722e+01 1.59691845e-03 1.77630574e+00\n",
      " 1.77622762e+00 1.77622845e+00 1.77643675e+00 3.46625307e-01]\n",
      "valid_MAE:\n",
      "[4.54617039e-01 6.30332813e-01 4.06347461e-03 4.49790794e-03\n",
      " 6.12849444e-03 3.44839217e+01 1.61368130e-03 1.77511867e+00\n",
      " 1.77504057e+00 1.77504135e+00 1.77525281e+00 3.50290201e-01]\n",
      "train_MSE_normalized_mean: 0.2987442706719376\n",
      "valid_MSE_normalized_mean: 0.31844180643838826\n",
      "\n"
     ]
    },
    {
     "name": "stderr",
     "output_type": "stream",
     "text": [
      "\n",
      "212it [00:11, 17.96it/s]\n",
      "212it [00:03, 55.56it/s]\n",
      "27it [00:00, 44.36it/s]"
     ]
    },
    {
     "name": "stdout",
     "output_type": "stream",
     "text": [
      "EPOCH:\t88 0.12033078506729512\n",
      "train_MAE:\n",
      "[3.48639503e-01 5.21070896e-01 3.39339404e-03 4.06547217e-03\n",
      " 5.10462787e-03 2.64956995e+01 1.46141805e-03 1.36354679e+00\n",
      " 1.36355821e+00 1.36355773e+00 1.36355108e+00 2.61000116e-01]\n",
      "valid_MAE:\n",
      "[4.68081547e-01 5.50356944e-01 4.03769475e-03 4.44242953e-03\n",
      " 5.85550940e-03 2.96608366e+01 1.48174179e-03 1.38907571e+00\n",
      " 1.38908776e+00 1.38908727e+00 1.38907598e+00 2.66896924e-01]\n",
      "train_MSE_normalized_mean: 0.2853643579164708\n",
      "valid_MSE_normalized_mean: 0.3065338437556008\n",
      "\n"
     ]
    },
    {
     "name": "stderr",
     "output_type": "stream",
     "text": [
      "\n",
      "212it [00:11, 18.28it/s]\n",
      "212it [00:03, 56.66it/s]\n",
      "27it [00:00, 13.30it/s]"
     ]
    },
    {
     "name": "stdout",
     "output_type": "stream",
     "text": [
      "EPOCH:\t89 0.11887181321826745\n",
      "train_MAE:\n",
      "[3.46375337e-01 4.92538201e-01 3.61729018e-03 4.25385179e-03\n",
      " 5.62389893e-03 2.60265835e+01 1.63150660e-03 1.42269597e+00\n",
      " 1.42263785e+00 1.42263871e+00 1.42276016e+00 2.62201556e-01]\n",
      "valid_MAE:\n",
      "[4.69205788e-01 5.23992124e-01 4.27633456e-03 4.59123164e-03\n",
      " 6.34977374e-03 2.91654629e+01 1.66430534e-03 1.42877372e+00\n",
      " 1.42871491e+00 1.42871573e+00 1.42884699e+00 2.69611421e-01]\n",
      "train_MSE_normalized_mean: 0.2896699750018112\n",
      "valid_MSE_normalized_mean: 0.31061095971205904\n",
      "\n"
     ]
    },
    {
     "name": "stderr",
     "output_type": "stream",
     "text": [
      "\n",
      "212it [00:11, 18.46it/s]\n",
      "212it [00:04, 47.05it/s]\n",
      "27it [00:00, 38.73it/s]"
     ]
    },
    {
     "name": "stdout",
     "output_type": "stream",
     "text": [
      "EPOCH:\t90 0.1196903749105503\n",
      "train_MAE:\n",
      "[3.41162639e-01 5.32170150e-01 3.31705927e-03 4.24733251e-03\n",
      " 5.05972172e-03 2.76209433e+01 1.63938779e-03 1.34346253e+00\n",
      " 1.34344862e+00 1.34344803e+00 1.34348742e+00 2.74935193e-01]\n",
      "valid_MAE:\n",
      "[4.63780173e-01 5.58440411e-01 4.02002301e-03 4.60232138e-03\n",
      " 5.86981177e-03 3.05911976e+01 1.67403267e-03 1.36208943e+00\n",
      " 1.36207673e+00 1.36207612e+00 1.36210814e+00 2.84944435e-01]\n",
      "train_MSE_normalized_mean: 0.2863489961972938\n",
      "valid_MSE_normalized_mean: 0.308152546524954\n",
      "\n"
     ]
    },
    {
     "name": "stderr",
     "output_type": "stream",
     "text": [
      "\n",
      "212it [00:12, 17.56it/s]\n",
      "212it [00:03, 55.25it/s]\n",
      "27it [00:00, 50.48it/s]\n"
     ]
    },
    {
     "name": "stdout",
     "output_type": "stream",
     "text": [
      "EPOCH:\t91 0.11924223651020031\n",
      "train_MAE:\n",
      "[3.38843979e-01 7.30424416e-01 3.48541699e-03 4.12089208e-03\n",
      " 5.41844755e-03 3.41698915e+01 1.78036114e-03 1.23555217e+00\n",
      " 1.23558103e+00 1.23558063e+00 1.23549537e+00 2.84695397e-01]\n",
      "valid_MAE:\n",
      "[4.67068949e-01 7.46283969e-01 4.18130908e-03 4.50390162e-03\n",
      " 6.19596300e-03 3.71814092e+01 1.80901970e-03 1.23203259e+00\n",
      " 1.23206106e+00 1.23206067e+00 1.23197813e+00 2.92784434e-01]\n",
      "train_MSE_normalized_mean: 0.2941590205765614\n",
      "valid_MSE_normalized_mean: 0.31532654444523933\n",
      "\n"
     ]
    },
    {
     "name": "stderr",
     "output_type": "stream",
     "text": [
      "212it [00:11, 18.01it/s]\n",
      "212it [00:03, 54.37it/s]\n",
      "27it [00:00, 46.46it/s]"
     ]
    },
    {
     "name": "stdout",
     "output_type": "stream",
     "text": [
      "EPOCH:\t92 0.11889613953963765\n",
      "train_MAE:\n",
      "[3.38930767e-01 4.85097905e-01 3.26853684e-03 4.51242054e-03\n",
      " 5.21956620e-03 2.58243898e+01 1.25208250e-03 1.49312172e+00\n",
      " 1.49310460e+00 1.49310578e+00 1.49314542e+00 2.34298235e-01]\n",
      "valid_MAE:\n",
      "[4.66257675e-01 5.12487414e-01 3.96528691e-03 4.88106289e-03\n",
      " 5.98172698e-03 2.91818649e+01 1.28143983e-03 1.49102062e+00\n",
      " 1.49100173e+00 1.49100289e+00 1.49105300e+00 2.44054142e-01]\n",
      "train_MSE_normalized_mean: 0.2843787558725457\n",
      "valid_MSE_normalized_mean: 0.3065004472103138\n",
      "\n"
     ]
    },
    {
     "name": "stderr",
     "output_type": "stream",
     "text": [
      "\n",
      "212it [00:11, 18.90it/s]\n",
      "212it [00:03, 56.57it/s]\n",
      "27it [00:00, 40.39it/s]"
     ]
    },
    {
     "name": "stdout",
     "output_type": "stream",
     "text": [
      "EPOCH:\t93 0.11748053302180092\n",
      "train_MAE:\n",
      "[3.32444069e-01 5.67806571e-01 3.30849290e-03 4.41141065e-03\n",
      " 5.05879389e-03 2.69763553e+01 1.96152466e-03 1.07288805e+00\n",
      " 1.07288202e+00 1.07288208e+00 1.07288976e+00 2.61873107e-01]\n",
      "valid_MAE:\n",
      "[4.60150381e-01 5.96278294e-01 4.01339207e-03 4.76814130e-03\n",
      " 5.85872956e-03 3.02984891e+01 1.99685651e-03 1.08409950e+00\n",
      " 1.08409351e+00 1.08409354e+00 1.08409410e+00 2.72104574e-01]\n",
      "train_MSE_normalized_mean: 0.28326281437157325\n",
      "valid_MSE_normalized_mean: 0.3058451879248161\n",
      "\n"
     ]
    },
    {
     "name": "stderr",
     "output_type": "stream",
     "text": [
      "\n",
      "212it [00:11, 18.92it/s]\n",
      "212it [00:04, 48.34it/s]\n",
      "27it [00:00, 38.78it/s]"
     ]
    },
    {
     "name": "stdout",
     "output_type": "stream",
     "text": [
      "EPOCH:\t94 0.11849893815815449\n",
      "train_MAE:\n",
      "[3.31444995e-01 4.67255123e-01 3.23007439e-03 4.53052200e-03\n",
      " 5.32296327e-03 2.54583159e+01 1.75450008e-03 1.37222681e+00\n",
      " 1.37222081e+00 1.37222114e+00 1.37224834e+00 2.97956477e-01]\n",
      "valid_MAE:\n",
      "[4.63646156e-01 4.96699200e-01 3.97904098e-03 4.84826724e-03\n",
      " 6.13652447e-03 2.87597701e+01 1.78658605e-03 1.38355232e+00\n",
      " 1.38354388e+00 1.38354417e+00 1.38357581e+00 3.07148736e-01]\n",
      "train_MSE_normalized_mean: 0.2860071767742649\n",
      "valid_MSE_normalized_mean: 0.30893941074599474\n",
      "\n"
     ]
    },
    {
     "name": "stderr",
     "output_type": "stream",
     "text": [
      "\n",
      "212it [00:11, 19.04it/s]\n",
      "212it [00:03, 59.53it/s]\n",
      "27it [00:00, 41.82it/s]"
     ]
    },
    {
     "name": "stdout",
     "output_type": "stream",
     "text": [
      "EPOCH:\t95 0.11835455107239057\n",
      "train_MAE:\n",
      "[3.33012617e-01 5.16476831e-01 3.27953330e-03 3.95494144e-03\n",
      " 4.85070292e-03 2.82666502e+01 1.84140459e-03 8.14244270e-01\n",
      " 8.14244784e-01 8.14245122e-01 8.14238267e-01 2.77855991e-01]\n",
      "valid_MAE:\n",
      "[4.61606500e-01 5.39302880e-01 4.01171573e-03 4.36028361e-03\n",
      " 5.70322519e-03 3.15574892e+01 1.85644827e-03 8.29196246e-01\n",
      " 8.29196055e-01 8.29196409e-01 8.29186732e-01 2.85106349e-01]\n",
      "train_MSE_normalized_mean: 0.27698954664532993\n",
      "valid_MSE_normalized_mean: 0.3003473994197406\n",
      "\n"
     ]
    },
    {
     "name": "stderr",
     "output_type": "stream",
     "text": [
      "\n",
      "212it [00:11, 19.82it/s]\n",
      "212it [00:03, 56.47it/s]\n",
      "27it [00:00, 44.27it/s]"
     ]
    },
    {
     "name": "stdout",
     "output_type": "stream",
     "text": [
      "EPOCH:\t96 0.11714550220179108\n",
      "train_MAE:\n",
      "[3.29516932e-01 6.72515478e-01 3.62844675e-03 4.17333821e-03\n",
      " 5.27017638e-03 3.16152753e+01 2.08973182e-03 1.22766302e+00\n",
      " 1.22767096e+00 1.22767104e+00 1.22765145e+00 3.20890535e-01]\n",
      "valid_MAE:\n",
      "[4.68133982e-01 6.91734276e-01 4.34383137e-03 4.58469064e-03\n",
      " 6.15158069e-03 3.45415577e+01 2.10584078e-03 1.22895608e+00\n",
      " 1.22896532e+00 1.22896536e+00 1.22894132e+00 3.29073565e-01]\n",
      "train_MSE_normalized_mean: 0.29409798367224865\n",
      "valid_MSE_normalized_mean: 0.3166786091810315\n",
      "\n"
     ]
    },
    {
     "name": "stderr",
     "output_type": "stream",
     "text": [
      "\n",
      "212it [00:11, 17.94it/s]\n",
      "212it [00:03, 55.71it/s]\n",
      "27it [00:00, 50.50it/s]"
     ]
    },
    {
     "name": "stdout",
     "output_type": "stream",
     "text": [
      "EPOCH:\t97 0.11711346607584998\n",
      "train_MAE:\n",
      "[3.23816051e-01 5.02496016e-01 3.59620290e-03 4.15982447e-03\n",
      " 5.28784444e-03 2.95337887e+01 1.40791997e-03 1.11168613e+00\n",
      " 1.11165224e+00 1.11165241e+00 1.11176623e+00 2.55158272e-01]\n",
      "valid_MAE:\n",
      "[4.60737293e-01 5.22165853e-01 4.30168602e-03 4.56600129e-03\n",
      " 6.13096240e-03 3.28192856e+01 1.44778236e-03 1.11298100e+00\n",
      " 1.11294709e+00 1.11294727e+00 1.11306657e+00 2.65875190e-01]\n",
      "train_MSE_normalized_mean: 0.28231575876431275\n",
      "valid_MSE_normalized_mean: 0.30579593709927494\n",
      "\n"
     ]
    },
    {
     "name": "stderr",
     "output_type": "stream",
     "text": [
      "\n",
      "212it [00:12, 17.32it/s]\n",
      "212it [00:04, 49.87it/s]\n",
      "27it [00:00, 48.94it/s]"
     ]
    },
    {
     "name": "stdout",
     "output_type": "stream",
     "text": [
      "EPOCH:\t98 0.11565931830203759\n",
      "train_MAE:\n",
      "[3.27302260e-01 5.25617506e-01 3.12999065e-03 4.23148665e-03\n",
      " 5.07330668e-03 3.28777097e+01 1.46836019e-03 9.18392388e-01\n",
      " 9.18370165e-01 9.18370125e-01 9.18425819e-01 3.01210669e-01]\n",
      "valid_MAE:\n",
      "[4.69562651e-01 5.54700862e-01 3.91401237e-03 4.65420339e-03\n",
      " 5.93584110e-03 3.56798004e+01 1.48658941e-03 9.21290897e-01\n",
      " 9.21267260e-01 9.21267212e-01 9.21322997e-01 3.12007148e-01]\n",
      "train_MSE_normalized_mean: 0.28037586616185045\n",
      "valid_MSE_normalized_mean: 0.3049279381533719\n",
      "\n"
     ]
    },
    {
     "name": "stderr",
     "output_type": "stream",
     "text": [
      "\n",
      "212it [00:11, 18.05it/s]\n",
      "212it [00:03, 53.88it/s]\n",
      "27it [00:00, 45.55it/s]"
     ]
    },
    {
     "name": "stdout",
     "output_type": "stream",
     "text": [
      "EPOCH:\t99 0.11594364556642074\n",
      "train_MAE:\n",
      "[3.23234382e-01 4.96937399e-01 3.28534471e-03 4.04098277e-03\n",
      " 4.87136227e-03 2.54616679e+01 1.24679090e-03 1.73189601e+00\n",
      " 1.73187752e+00 1.73187771e+00 1.73190803e+00 2.49647364e-01]\n",
      "valid_MAE:\n",
      "[4.65060847e-01 5.20539179e-01 4.07356290e-03 4.49838033e-03\n",
      " 5.82493854e-03 2.90242105e+01 1.28859102e-03 1.73269858e+00\n",
      " 1.73267826e+00 1.73267848e+00 1.73271344e+00 2.58723469e-01]\n",
      "train_MSE_normalized_mean: 0.2844845809224933\n",
      "valid_MSE_normalized_mean: 0.30934213371063213\n",
      "\n"
     ]
    },
    {
     "name": "stderr",
     "output_type": "stream",
     "text": [
      "\n",
      "212it [00:11, 19.98it/s]\n",
      "212it [00:03, 58.52it/s]\n",
      "27it [00:00, 46.57it/s]"
     ]
    },
    {
     "name": "stdout",
     "output_type": "stream",
     "text": [
      "EPOCH:\t100 0.11541208231224204\n",
      "train_MAE:\n",
      "[3.30721647e-01 5.33187526e-01 3.31365379e-03 4.27841819e-03\n",
      " 5.14057143e-03 2.70705379e+01 1.88047835e-03 1.27505178e+00\n",
      " 1.27503603e+00 1.27503594e+00 1.27506025e+00 3.47372060e-01]\n",
      "valid_MAE:\n",
      "[4.67463407e-01 5.62374256e-01 4.05509823e-03 4.69102861e-03\n",
      " 5.99644449e-03 3.04065774e+01 1.92198566e-03 1.27942967e+00\n",
      " 1.27941094e+00 1.27941080e+00 1.27944643e+00 3.56432818e-01]\n",
      "train_MSE_normalized_mean: 0.288059341166667\n",
      "valid_MSE_normalized_mean: 0.3115347803915074\n",
      "\n"
     ]
    },
    {
     "name": "stderr",
     "output_type": "stream",
     "text": [
      "\n",
      "212it [00:11, 18.04it/s]\n",
      "212it [00:03, 59.05it/s]\n",
      "27it [00:00, 22.49it/s]"
     ]
    },
    {
     "name": "stdout",
     "output_type": "stream",
     "text": [
      "EPOCH:\t101 0.11493208020363214\n",
      "train_MAE:\n",
      "[3.22447084e-01 4.60443288e-01 3.43914907e-03 4.37469451e-03\n",
      " 5.85480315e-03 2.68368389e+01 1.50873547e-03 2.31363447e+00\n",
      " 2.31359083e+00 2.31359072e+00 2.31372456e+00 2.53963140e-01]\n",
      "valid_MAE:\n",
      "[4.66162033e-01 4.89455227e-01 4.17718052e-03 4.75826734e-03\n",
      " 6.64214353e-03 3.02775548e+01 1.53209321e-03 2.31950736e+00\n",
      " 2.31946262e+00 2.31946252e+00 2.31960624e+00 2.64065217e-01]\n",
      "train_MSE_normalized_mean: 0.29900618505942117\n",
      "valid_MSE_normalized_mean: 0.32201383489539664\n",
      "\n"
     ]
    },
    {
     "name": "stderr",
     "output_type": "stream",
     "text": [
      "\n",
      "212it [00:12, 17.26it/s]\n",
      "212it [00:04, 50.33it/s]\n",
      "27it [00:00, 42.62it/s]"
     ]
    },
    {
     "name": "stdout",
     "output_type": "stream",
     "text": [
      "EPOCH:\t102 0.1149295744187427\n",
      "train_MAE:\n",
      "[3.21025463e-01 6.70580053e-01 3.60164990e-03 4.18138522e-03\n",
      " 4.76029702e-03 2.55618262e+01 1.91035160e-03 1.23351721e+00\n",
      " 1.23353471e+00 1.23353405e+00 1.23351832e+00 2.78055746e-01]\n",
      "valid_MAE:\n",
      "[4.67437032e-01 6.87062808e-01 4.33465983e-03 4.60724860e-03\n",
      " 5.68314091e-03 2.92125127e+01 1.91285066e-03 1.23675220e+00\n",
      " 1.23676940e+00 1.23676873e+00 1.23675119e+00 2.82406500e-01]\n",
      "train_MSE_normalized_mean: 0.28626700180062276\n",
      "valid_MSE_normalized_mean: 0.3105169361716143\n",
      "\n"
     ]
    },
    {
     "name": "stderr",
     "output_type": "stream",
     "text": [
      "\n",
      "212it [00:11, 17.69it/s]\n",
      "212it [00:03, 55.07it/s]\n",
      "27it [00:00, 45.62it/s]"
     ]
    },
    {
     "name": "stdout",
     "output_type": "stream",
     "text": [
      "EPOCH:\t103 0.1151666798681583\n",
      "train_MAE:\n",
      "[3.27893497e-01 5.56598737e-01 3.25376626e-03 4.19587578e-03\n",
      " 5.11530240e-03 2.90398080e+01 1.62926717e-03 2.97270567e+00\n",
      " 2.97261339e+00 2.97261283e+00 2.97284750e+00 3.39456884e-01]\n",
      "valid_MAE:\n",
      "[4.75350482e-01 5.82537570e-01 4.04171264e-03 4.63259543e-03\n",
      " 6.01956492e-03 3.23529194e+01 1.68549908e-03 2.97865964e+00\n",
      " 2.97856683e+00 2.97856634e+00 2.97879614e+00 3.52433615e-01]\n",
      "train_MSE_normalized_mean: 0.31073817248809493\n",
      "valid_MSE_normalized_mean: 0.3340803263969887\n",
      "\n"
     ]
    },
    {
     "name": "stderr",
     "output_type": "stream",
     "text": [
      "\n",
      "212it [00:11, 19.29it/s]\n",
      "212it [00:03, 56.85it/s]\n",
      "27it [00:00, 44.23it/s]"
     ]
    },
    {
     "name": "stdout",
     "output_type": "stream",
     "text": [
      "EPOCH:\t104 0.11451793553413085\n",
      "train_MAE:\n",
      "[3.13883247e-01 4.78438200e-01 3.12272253e-03 3.91209719e-03\n",
      " 4.73542765e-03 2.55046515e+01 1.36588472e-03 1.40961138e+00\n",
      " 1.40957297e+00 1.40957344e+00 1.40966833e+00 2.67027785e-01]\n",
      "valid_MAE:\n",
      "[4.63341971e-01 5.02000128e-01 3.91122951e-03 4.35035951e-03\n",
      " 5.69652248e-03 2.91867816e+01 1.38709066e-03 1.40497572e+00\n",
      " 1.40493821e+00 1.40493867e+00 1.40503458e+00 2.76610302e-01]\n",
      "train_MSE_normalized_mean: 0.2777475187005255\n",
      "valid_MSE_normalized_mean: 0.3037253369994309\n",
      "\n"
     ]
    },
    {
     "name": "stderr",
     "output_type": "stream",
     "text": [
      "\n",
      "212it [00:11, 18.11it/s]\n",
      "212it [00:04, 48.22it/s]\n",
      "27it [00:00, 38.03it/s]"
     ]
    },
    {
     "name": "stdout",
     "output_type": "stream",
     "text": [
      "EPOCH:\t105 0.11468439032587241\n",
      "train_MAE:\n",
      "[3.11902919e-01 5.11414555e-01 3.24779018e-03 4.02250218e-03\n",
      " 4.80028807e-03 2.55693140e+01 1.78362514e-03 1.71466335e+00\n",
      " 1.71460217e+00 1.71460159e+00 1.71472393e+00 3.17024093e-01]\n",
      "valid_MAE:\n",
      "[4.60782073e-01 5.38206801e-01 4.04698360e-03 4.44182064e-03\n",
      " 5.75337727e-03 2.92243568e+01 1.80050908e-03 1.72299280e+00\n",
      " 1.72293114e+00 1.72293054e+00 1.72305692e+00 3.24786921e-01]\n",
      "train_MSE_normalized_mean: 0.28771064735965735\n",
      "valid_MSE_normalized_mean: 0.3129347993917614\n",
      "\n"
     ]
    },
    {
     "name": "stderr",
     "output_type": "stream",
     "text": [
      "\n",
      "212it [00:12, 16.74it/s]\n",
      "212it [00:04, 52.86it/s]\n",
      "27it [00:00, 46.21it/s]"
     ]
    },
    {
     "name": "stdout",
     "output_type": "stream",
     "text": [
      "EPOCH:\t106 0.11447767828995327\n",
      "train_MAE:\n",
      "[3.17798194e-01 5.18975284e-01 3.27289546e-03 4.46365691e-03\n",
      " 5.07556426e-03 2.65317144e+01 1.74699782e-03 1.52683277e+00\n",
      " 1.52681121e+00 1.52681133e+00 1.52686595e+00 2.64773669e-01]\n",
      "valid_MAE:\n",
      "[4.67099421e-01 5.48175905e-01 4.05934751e-03 4.86760146e-03\n",
      " 5.96659587e-03 3.01587536e+01 1.76812825e-03 1.54256526e+00\n",
      " 1.54254375e+00 1.54254385e+00 1.54259650e+00 2.74364945e-01]\n",
      "train_MSE_normalized_mean: 0.2865272446863333\n",
      "valid_MSE_normalized_mean: 0.31179054923123184\n",
      "\n"
     ]
    },
    {
     "name": "stderr",
     "output_type": "stream",
     "text": [
      "\n",
      "212it [00:11, 18.08it/s]\n",
      "212it [00:03, 54.85it/s]\n",
      "27it [00:00, 40.49it/s]"
     ]
    },
    {
     "name": "stdout",
     "output_type": "stream",
     "text": [
      "EPOCH:\t107 0.1142003946709183\n",
      "train_MAE:\n",
      "[3.17693875e-01 6.04205321e-01 3.07320756e-03 3.97500776e-03\n",
      " 4.94156361e-03 2.77296143e+01 1.33416926e-03 1.31358771e+00\n",
      " 1.31355004e+00 1.31355004e+00 1.31364874e+00 2.83195215e-01]\n",
      "valid_MAE:\n",
      "[4.65626521e-01 6.30073728e-01 3.94384138e-03 4.43027581e-03\n",
      " 5.92494701e-03 3.11059724e+01 1.36763168e-03 1.33291076e+00\n",
      " 1.33287250e+00 1.33287248e+00 1.33297156e+00 2.95608294e-01]\n",
      "train_MSE_normalized_mean: 0.2811289542750535\n",
      "valid_MSE_normalized_mean: 0.30765897815903087\n",
      "\n"
     ]
    },
    {
     "name": "stderr",
     "output_type": "stream",
     "text": [
      "\n",
      "212it [00:11, 17.94it/s]\n",
      "212it [00:03, 55.69it/s]\n",
      "27it [00:00, 46.17it/s]"
     ]
    },
    {
     "name": "stdout",
     "output_type": "stream",
     "text": [
      "EPOCH:\t108 0.11341096541651015\n",
      "train_MAE:\n",
      "[3.12991993e-01 5.37933291e-01 3.07146321e-03 3.83645906e-03\n",
      " 4.65103543e-03 2.77255401e+01 1.61978467e-03 1.50881892e+00\n",
      " 1.50879035e+00 1.50879031e+00 1.50885523e+00 2.74633140e-01]\n",
      "valid_MAE:\n",
      "[4.59709992e-01 5.69679680e-01 3.90755307e-03 4.27262512e-03\n",
      " 5.65936780e-03 3.12300143e+01 1.64665472e-03 1.52949429e+00\n",
      " 1.52946413e+00 1.52946408e+00 1.52953346e+00 2.85696503e-01]\n",
      "train_MSE_normalized_mean: 0.2819629001027554\n",
      "valid_MSE_normalized_mean: 0.30822490059542934\n",
      "\n"
     ]
    },
    {
     "name": "stderr",
     "output_type": "stream",
     "text": [
      "\n",
      "212it [00:11, 18.89it/s]\n",
      "212it [00:04, 46.23it/s]\n",
      "27it [00:00, 37.71it/s]"
     ]
    },
    {
     "name": "stdout",
     "output_type": "stream",
     "text": [
      "EPOCH:\t109 0.114035973079362\n",
      "train_MAE:\n",
      "[3.16672046e-01 5.45891845e-01 3.18962939e-03 4.24399899e-03\n",
      " 4.98771645e-03 2.74925140e+01 1.89716898e-03 1.73090196e+00\n",
      " 1.73089065e+00 1.73089036e+00 1.73092683e+00 3.00866283e-01]\n",
      "valid_MAE:\n",
      "[4.63741293e-01 5.73664085e-01 3.99560371e-03 4.69709892e-03\n",
      " 5.95341741e-03 3.09705056e+01 1.92736408e-03 1.74986476e+00\n",
      " 1.74985151e+00 1.74985119e+00 1.74989624e+00 3.13262843e-01]\n",
      "train_MSE_normalized_mean: 0.2907784778851468\n",
      "valid_MSE_normalized_mean: 0.31604747128244615\n",
      "\n"
     ]
    },
    {
     "name": "stderr",
     "output_type": "stream",
     "text": [
      "\n",
      "212it [00:12, 17.36it/s]\n",
      "212it [00:03, 55.51it/s]\n",
      "27it [00:00, 46.03it/s]"
     ]
    },
    {
     "name": "stdout",
     "output_type": "stream",
     "text": [
      "EPOCH:\t110 0.11224734856975528\n",
      "train_MAE:\n",
      "[3.06591839e-01 4.51770250e-01 3.19206499e-03 3.81043650e-03\n",
      " 4.78954178e-03 2.48783393e+01 1.65840652e-03 1.21150593e+00\n",
      " 1.21153030e+00 1.21153023e+00 1.21149233e+00 2.80090215e-01]\n",
      "valid_MAE:\n",
      "[4.61354494e-01 4.84306724e-01 4.02888491e-03 4.29074889e-03\n",
      " 5.77303997e-03 2.87657102e+01 1.67583456e-03 1.21541273e+00\n",
      " 1.21543355e+00 1.21543349e+00 1.21540454e+00 2.88897065e-01]\n",
      "train_MSE_normalized_mean: 0.27534891799381284\n",
      "valid_MSE_normalized_mean: 0.3028275721458079\n",
      "\n"
     ]
    },
    {
     "name": "stderr",
     "output_type": "stream",
     "text": [
      "\n",
      "212it [00:11, 17.95it/s]\n",
      "212it [00:03, 59.85it/s]\n",
      "27it [00:00, 49.55it/s]"
     ]
    },
    {
     "name": "stdout",
     "output_type": "stream",
     "text": [
      "EPOCH:\t111 0.11204332352246878\n",
      "train_MAE:\n",
      "[3.01803154e-01 6.85998245e-01 3.13127452e-03 4.33407284e-03\n",
      " 4.85913944e-03 2.76233282e+01 2.63653686e-03 1.43538818e+00\n",
      " 1.43539245e+00 1.43539248e+00 1.43537121e+00 3.44198719e-01]\n",
      "valid_MAE:\n",
      "[4.60468780e-01 7.10462893e-01 3.93827330e-03 4.74563001e-03\n",
      " 5.77277609e-03 3.13026158e+01 2.68147444e-03 1.45471436e+00\n",
      " 1.45471631e+00 1.45471634e+00 1.45469677e+00 3.53552972e-01]\n",
      "train_MSE_normalized_mean: 0.2918962323482085\n",
      "valid_MSE_normalized_mean: 0.3178218006898172\n",
      "\n"
     ]
    },
    {
     "name": "stderr",
     "output_type": "stream",
     "text": [
      "\n",
      "212it [00:11, 19.01it/s]\n",
      "212it [00:03, 54.40it/s]\n",
      "27it [00:00, 43.66it/s]"
     ]
    },
    {
     "name": "stdout",
     "output_type": "stream",
     "text": [
      "EPOCH:\t112 0.1130591732502546\n",
      "train_MAE:\n",
      "[3.13863986e-01 5.43487656e-01 3.04537279e-03 4.09374392e-03\n",
      " 5.06540628e-03 2.55471772e+01 1.49099030e-03 1.68412777e+00\n",
      " 1.68410972e+00 1.68410999e+00 1.68417426e+00 2.36660679e-01]\n",
      "valid_MAE:\n",
      "[4.73245461e-01 5.68269487e-01 3.93765205e-03 4.52745561e-03\n",
      " 6.03834118e-03 2.97753396e+01 1.51218941e-03 1.68958270e+00\n",
      " 1.68956526e+00 1.68956555e+00 1.68963323e+00 2.45743647e-01]\n",
      "train_MSE_normalized_mean: 0.283549886689009\n",
      "valid_MSE_normalized_mean: 0.31096157756867193\n",
      "\n"
     ]
    },
    {
     "name": "stderr",
     "output_type": "stream",
     "text": [
      "\n",
      "212it [00:12, 17.62it/s]\n",
      "212it [00:04, 49.12it/s]\n",
      "27it [00:00, 39.94it/s]"
     ]
    },
    {
     "name": "stdout",
     "output_type": "stream",
     "text": [
      "EPOCH:\t113 0.11240837023646202\n",
      "train_MAE:\n",
      "[3.03553413e-01 5.23982503e-01 3.31803532e-03 5.00299744e-03\n",
      " 5.63229978e-03 2.64649447e+01 2.01830097e-03 1.01020725e+00\n",
      " 1.01021066e+00 1.01021077e+00 1.01021644e+00 2.79356742e-01]\n",
      "valid_MAE:\n",
      "[4.65273103e-01 5.47728964e-01 4.10957316e-03 5.37890007e-03\n",
      " 6.50246476e-03 3.03701949e+01 2.05495452e-03 1.02723300e+00\n",
      " 1.02723670e+00 1.02723678e+00 1.02723973e+00 2.89801559e-01]\n",
      "train_MSE_normalized_mean: 0.2830911964312894\n",
      "valid_MSE_normalized_mean: 0.30977232293690404\n",
      "\n"
     ]
    },
    {
     "name": "stderr",
     "output_type": "stream",
     "text": [
      "\n",
      "212it [00:12, 18.33it/s]\n",
      "212it [00:03, 56.32it/s]\n",
      "27it [00:00, 21.32it/s]"
     ]
    },
    {
     "name": "stdout",
     "output_type": "stream",
     "text": [
      "EPOCH:\t114 0.11060394803589245\n",
      "train_MAE:\n",
      "[3.04623066e-01 5.58686961e-01 3.12394196e-03 4.31768760e-03\n",
      " 4.78683085e-03 2.60064622e+01 2.19110478e-03 1.19268757e+00\n",
      " 1.19267789e+00 1.19267776e+00 1.19270190e+00 2.88250573e-01]\n",
      "valid_MAE:\n",
      "[4.61460755e-01 5.89226766e-01 3.97080996e-03 4.74250036e-03\n",
      " 5.74722194e-03 3.00213795e+01 2.24365486e-03 1.20701173e+00\n",
      " 1.20700197e+00 1.20700184e+00 1.20702675e+00 2.99685955e-01]\n",
      "train_MSE_normalized_mean: 0.28127786226848794\n",
      "valid_MSE_normalized_mean: 0.30864606179853676\n",
      "\n"
     ]
    },
    {
     "name": "stderr",
     "output_type": "stream",
     "text": [
      "\n",
      "212it [00:11, 17.70it/s]\n",
      "212it [00:03, 54.87it/s]\n",
      "27it [00:00, 44.80it/s]"
     ]
    },
    {
     "name": "stdout",
     "output_type": "stream",
     "text": [
      "EPOCH:\t115 0.11040371955143956\n",
      "train_MAE:\n",
      "[2.94338226e-01 4.68121392e-01 3.29440769e-03 4.06226971e-03\n",
      " 5.06467303e-03 2.74509471e+01 1.38029279e-03 1.11616575e+00\n",
      " 1.11614768e+00 1.11614767e+00 1.11620386e+00 2.28322852e-01]\n",
      "valid_MAE:\n",
      "[4.59860671e-01 4.98056730e-01 4.12007178e-03 4.52577172e-03\n",
      " 6.00372870e-03 3.13294443e+01 1.39808613e-03 1.10513209e+00\n",
      " 1.10511402e+00 1.10511403e+00 1.10516989e+00 2.38230162e-01]\n",
      "train_MSE_normalized_mean: 0.273582769874236\n",
      "valid_MSE_normalized_mean: 0.3017296157922136\n",
      "\n"
     ]
    },
    {
     "name": "stderr",
     "output_type": "stream",
     "text": [
      "\n",
      "212it [00:11, 19.77it/s]\n",
      "212it [00:03, 55.09it/s]\n",
      "27it [00:00, 48.35it/s]"
     ]
    },
    {
     "name": "stdout",
     "output_type": "stream",
     "text": [
      "EPOCH:\t116 0.11102911956467719\n",
      "train_MAE:\n",
      "[3.19473268e-01 4.34016443e-01 3.06809261e-03 5.03779865e-03\n",
      " 5.64402757e-03 2.60320260e+01 1.69964951e-03 2.98443810e+00\n",
      " 2.98439269e+00 2.98439281e+00 2.98452270e+00 2.27327205e-01]\n",
      "valid_MAE:\n",
      "[4.78728179e-01 4.63247080e-01 3.92336236e-03 5.38544938e-03\n",
      " 6.49406589e-03 3.00200812e+01 1.74075706e-03 2.98965573e+00\n",
      " 2.98961005e+00 2.98961017e+00 2.98974625e+00 2.37487598e-01]\n",
      "train_MSE_normalized_mean: 0.30603539335442326\n",
      "valid_MSE_normalized_mean: 0.33088279116839386\n",
      "\n"
     ]
    },
    {
     "name": "stderr",
     "output_type": "stream",
     "text": [
      "\n",
      "212it [00:12, 17.23it/s]\n",
      "212it [00:04, 48.74it/s]\n",
      "27it [00:00, 48.88it/s]"
     ]
    },
    {
     "name": "stdout",
     "output_type": "stream",
     "text": [
      "EPOCH:\t117 0.11110484698471033\n",
      "train_MAE:\n",
      "[3.33593172e-01 6.72706481e-01 3.18542115e-03 4.77116960e-03\n",
      " 5.00395299e-03 2.60166892e+01 3.26256088e-03 1.45678036e+00\n",
      " 1.45684162e+00 1.45684132e+00 1.45671987e+00 3.67455466e-01]\n",
      "valid_MAE:\n",
      "[4.93885771e-01 6.99766462e-01 4.04860717e-03 5.12550291e-03\n",
      " 5.90599411e-03 2.98064700e+01 3.30270702e-03 1.47483268e+00\n",
      " 1.47489353e+00 1.47489325e+00 1.47477905e+00 3.75544960e-01]\n",
      "train_MSE_normalized_mean: 0.2996237535920657\n",
      "valid_MSE_normalized_mean: 0.32522322363872336\n",
      "\n"
     ]
    },
    {
     "name": "stderr",
     "output_type": "stream",
     "text": [
      "\n",
      "212it [00:12, 17.64it/s]\n",
      "212it [00:03, 58.16it/s]\n",
      "27it [00:00, 46.18it/s]"
     ]
    },
    {
     "name": "stdout",
     "output_type": "stream",
     "text": [
      "EPOCH:\t118 0.11019892294733029\n",
      "train_MAE:\n",
      "[2.93181408e-01 4.91516172e-01 3.02541906e-03 3.82829042e-03\n",
      " 4.71901490e-03 3.06189507e+01 1.61531886e-03 1.14253902e+00\n",
      " 1.14249808e+00 1.14249806e+00 1.14260331e+00 3.00595990e-01]\n",
      "valid_MAE:\n",
      "[4.64174259e-01 5.19472886e-01 3.93540917e-03 4.29886736e-03\n",
      " 5.75362238e-03 3.41914027e+01 1.63947697e-03 1.14976829e+00\n",
      " 1.14972932e+00 1.14972924e+00 1.14982776e+00 3.10518434e-01]\n",
      "train_MSE_normalized_mean: 0.27608528035197355\n",
      "valid_MSE_normalized_mean: 0.3053976622821679\n",
      "\n"
     ]
    },
    {
     "name": "stderr",
     "output_type": "stream",
     "text": [
      "\n",
      "212it [00:11, 17.84it/s]\n",
      "212it [00:03, 54.71it/s]\n",
      "27it [00:00, 42.95it/s]"
     ]
    },
    {
     "name": "stdout",
     "output_type": "stream",
     "text": [
      "EPOCH:\t119 0.10995332640156431\n",
      "train_MAE:\n",
      "[2.95740429e-01 4.96929087e-01 3.01171848e-03 4.02069502e-03\n",
      " 4.86856749e-03 2.60483305e+01 1.58403266e-03 1.02538398e+00\n",
      " 1.02537873e+00 1.02537874e+00 1.02539066e+00 2.59782996e-01]\n",
      "valid_MAE:\n",
      "[4.70285116e-01 5.29316067e-01 3.90789546e-03 4.49245038e-03\n",
      " 5.87133284e-03 2.98145893e+01 1.62529156e-03 1.03461246e+00\n",
      " 1.03460369e+00 1.03460371e+00 1.03462459e+00 2.71268200e-01]\n",
      "train_MSE_normalized_mean: 0.2715117861214771\n",
      "valid_MSE_normalized_mean: 0.30173678972099227\n",
      "\n"
     ]
    },
    {
     "name": "stderr",
     "output_type": "stream",
     "text": [
      "\n",
      "212it [00:11, 17.85it/s]\n",
      "212it [00:03, 56.79it/s]\n",
      "27it [00:00, 24.68it/s]"
     ]
    },
    {
     "name": "stdout",
     "output_type": "stream",
     "text": [
      "EPOCH:\t120 0.10977671393808329\n",
      "train_MAE:\n",
      "[2.89517030e-01 5.11160357e-01 3.81367599e-03 4.08069685e-03\n",
      " 4.62156877e-03 2.65338521e+01 1.67886134e-03 1.97213372e+00\n",
      " 1.97210393e+00 1.97210386e+00 1.97218423e+00 2.58049881e-01]\n",
      "valid_MAE:\n",
      "[4.60325159e-01 5.37729305e-01 4.59168676e-03 4.57303154e-03\n",
      " 5.69998018e-03 3.05996469e+01 1.69649927e-03 1.98762191e+00\n",
      " 1.98759108e+00 1.98759099e+00 1.98767716e+00 2.68121712e-01]\n",
      "train_MSE_normalized_mean: 0.2905691303608339\n",
      "valid_MSE_normalized_mean: 0.3182340213523615\n",
      "\n"
     ]
    },
    {
     "name": "stderr",
     "output_type": "stream",
     "text": [
      "\n",
      "212it [00:12, 18.82it/s]\n",
      "212it [00:04, 51.34it/s]\n",
      "27it [00:00, 35.44it/s]\n"
     ]
    },
    {
     "name": "stdout",
     "output_type": "stream",
     "text": [
      "EPOCH:\t121 0.10941268753190085\n",
      "train_MAE:\n",
      "[2.89157928e-01 8.91654807e-01 2.96678260e-03 3.81670687e-03\n",
      " 4.59643362e-03 2.95377807e+01 2.97213880e-03 3.13292202e+00\n",
      " 3.13284508e+00 3.13284462e+00 3.13302683e+00 3.97949208e-01]\n",
      "valid_MAE:\n",
      "[4.61019840e-01 9.01415683e-01 3.89110187e-03 4.31931667e-03\n",
      " 5.68578839e-03 3.35201157e+01 2.95909859e-03 3.14917102e+00\n",
      " 3.14909505e+00 3.14909458e+00 3.14927891e+00 4.01370276e-01]\n",
      "train_MSE_normalized_mean: 0.31817561808869305\n",
      "valid_MSE_normalized_mean: 0.3439770515798426\n",
      "\n"
     ]
    },
    {
     "name": "stderr",
     "output_type": "stream",
     "text": [
      "212it [00:11, 17.90it/s]\n",
      "212it [00:03, 55.43it/s]\n",
      "27it [00:00, 42.97it/s]"
     ]
    },
    {
     "name": "stdout",
     "output_type": "stream",
     "text": [
      "EPOCH:\t122 0.11015696138284116\n",
      "train_MAE:\n",
      "[2.87901084e-01 5.14893779e-01 2.94030151e-03 4.06313435e-03\n",
      " 4.85001316e-03 2.64774966e+01 1.65536973e-03 1.59660591e+00\n",
      " 1.59660260e+00 1.59660291e+00 1.59662565e+00 2.46347264e-01]\n",
      "valid_MAE:\n",
      "[4.59639934e-01 5.41199964e-01 3.87404878e-03 4.55720873e-03\n",
      " 5.87331386e-03 3.05280383e+01 1.67002920e-03 1.60335556e+00\n",
      " 1.60335227e+00 1.60335258e+00 1.60338032e+00 2.58354003e-01]\n",
      "train_MSE_normalized_mean: 0.279338519151506\n",
      "valid_MSE_normalized_mean: 0.3088156384129572\n",
      "\n"
     ]
    },
    {
     "name": "stderr",
     "output_type": "stream",
     "text": [
      "\n",
      "212it [00:11, 19.62it/s]\n",
      "212it [00:03, 47.94it/s]\n",
      "27it [00:00, 43.42it/s]"
     ]
    },
    {
     "name": "stdout",
     "output_type": "stream",
     "text": [
      "EPOCH:\t123 0.10942589871163638\n",
      "train_MAE:\n",
      "[2.93390813e-01 4.47947092e-01 2.88126052e-03 4.48165340e-03\n",
      " 5.08917981e-03 2.99543691e+01 1.47406585e-03 1.66162649e+00\n",
      " 1.66156414e+00 1.66156409e+00 1.66176720e+00 2.49665925e-01]\n",
      "valid_MAE:\n",
      "[4.67881926e-01 4.77836392e-01 3.83868428e-03 4.91527655e-03\n",
      " 6.10921601e-03 3.37193344e+01 1.50402288e-03 1.66673536e+00\n",
      " 1.66667348e+00 1.66667341e+00 1.66687895e+00 2.58564378e-01]\n",
      "train_MSE_normalized_mean: 0.28245399390708975\n",
      "valid_MSE_normalized_mean: 0.3116972111421763\n",
      "\n"
     ]
    },
    {
     "name": "stderr",
     "output_type": "stream",
     "text": [
      "\n",
      "212it [00:11, 18.28it/s]\n",
      "212it [00:04, 45.13it/s]\n",
      "27it [00:00, 38.94it/s]"
     ]
    },
    {
     "name": "stdout",
     "output_type": "stream",
     "text": [
      "EPOCH:\t124 0.10899037804524854\n",
      "train_MAE:\n",
      "[2.90966624e-01 4.57357645e-01 2.99164358e-03 3.80228985e-03\n",
      " 4.47797468e-03 2.68599667e+01 1.32744236e-03 3.24242759e+00\n",
      " 3.24235434e+00 3.24235440e+00 3.24249478e+00 3.05088116e-01]\n",
      "valid_MAE:\n",
      "[4.66694368e-01 4.84888782e-01 3.90715827e-03 4.27162518e-03\n",
      " 5.54689895e-03 3.09189805e+01 1.35690446e-03 3.23311675e+00\n",
      " 3.23304416e+00 3.23304420e+00 3.23318786e+00 3.14865044e-01]\n",
      "train_MSE_normalized_mean: 0.30144898955923377\n",
      "valid_MSE_normalized_mean: 0.32903783454633323\n",
      "\n"
     ]
    },
    {
     "name": "stderr",
     "output_type": "stream",
     "text": [
      "\n",
      "212it [00:12, 17.25it/s]\n",
      "212it [00:03, 55.31it/s]\n",
      "27it [00:00, 45.49it/s]"
     ]
    },
    {
     "name": "stdout",
     "output_type": "stream",
     "text": [
      "EPOCH:\t125 0.10904479722650547\n",
      "train_MAE:\n",
      "[3.08025997e-01 5.85340193e-01 3.03609496e-03 4.36637807e-03\n",
      " 4.89021083e-03 2.83826912e+01 1.66284635e-03 1.95108306e+00\n",
      " 1.95103891e+00 1.95103866e+00 1.95114890e+00 2.97915809e-01]\n",
      "valid_MAE:\n",
      "[4.75598914e-01 6.12406031e-01 3.93844989e-03 4.81967456e-03\n",
      " 5.88852117e-03 3.21511389e+01 1.69902734e-03 1.96843649e+00\n",
      " 1.96839104e+00 1.96839077e+00 1.96850100e+00 3.09971991e-01]\n",
      "train_MSE_normalized_mean: 0.29223503712375737\n",
      "valid_MSE_normalized_mean: 0.31991286359792714\n",
      "\n"
     ]
    },
    {
     "name": "stderr",
     "output_type": "stream",
     "text": [
      "\n",
      "212it [00:11, 18.21it/s]\n",
      "212it [00:03, 54.88it/s]\n",
      "27it [00:00, 43.97it/s]"
     ]
    },
    {
     "name": "stdout",
     "output_type": "stream",
     "text": [
      "EPOCH:\t126 0.10854659623132562\n",
      "train_MAE:\n",
      "[2.90695537e-01 4.65193746e-01 2.98227114e-03 4.09526157e-03\n",
      " 4.97353983e-03 2.43535028e+01 1.71728511e-03 1.20739025e+00\n",
      " 1.20737138e+00 1.20737124e+00 1.20741324e+00 2.48757088e-01]\n",
      "valid_MAE:\n",
      "[4.62382256e-01 4.96791669e-01 3.90327927e-03 4.53333767e-03\n",
      " 5.95260818e-03 2.86736149e+01 1.76526370e-03 1.20388205e+00\n",
      " 1.20386330e+00 1.20386316e+00 1.20389885e+00 2.59682072e-01]\n",
      "train_MSE_normalized_mean: 0.2728429709304822\n",
      "valid_MSE_normalized_mean: 0.30275834270303953\n",
      "\n"
     ]
    },
    {
     "name": "stderr",
     "output_type": "stream",
     "text": [
      "\n",
      "212it [00:11, 18.07it/s]\n",
      "212it [00:03, 62.46it/s]\n",
      "27it [00:00, 42.08it/s]"
     ]
    },
    {
     "name": "stdout",
     "output_type": "stream",
     "text": [
      "EPOCH:\t127 0.10764237366757302\n",
      "train_MAE:\n",
      "[2.79659510e-01 4.60424440e-01 2.88872128e-03 4.03351517e-03\n",
      " 4.73586223e-03 2.47378670e+01 1.46289207e-03 8.50992868e-01\n",
      " 8.50980712e-01 8.50980636e-01 8.51009779e-01 2.30712284e-01]\n",
      "valid_MAE:\n",
      "[4.59174131e-01 4.93466185e-01 3.83387271e-03 4.52965750e-03\n",
      " 5.78558598e-03 2.89522264e+01 1.48147410e-03 8.48777529e-01\n",
      " 8.48762560e-01 8.48762526e-01 8.48799360e-01 2.42647001e-01]\n",
      "train_MSE_normalized_mean: 0.2627940811862756\n",
      "valid_MSE_normalized_mean: 0.29489785771552157\n",
      "\n"
     ]
    },
    {
     "name": "stderr",
     "output_type": "stream",
     "text": [
      "\n",
      "212it [00:12, 17.55it/s]\n",
      "212it [00:04, 47.15it/s]\n",
      "27it [00:00, 39.03it/s]"
     ]
    },
    {
     "name": "stdout",
     "output_type": "stream",
     "text": [
      "EPOCH:\t128 0.10787727462373814\n",
      "train_MAE:\n",
      "[2.86963352e-01 5.22417254e-01 2.96574389e-03 4.03429245e-03\n",
      " 4.67355757e-03 2.49008102e+01 1.41750390e-03 1.06216390e+00\n",
      " 1.06213976e+00 1.06213972e+00 1.06220753e+00 2.58318220e-01]\n",
      "valid_MAE:\n",
      "[4.60624787e-01 5.50873072e-01 3.92848619e-03 4.52937384e-03\n",
      " 5.73227868e-03 2.90983013e+01 1.45200696e-03 1.07395389e+00\n",
      " 1.07392853e+00 1.07392846e+00 1.07399876e+00 2.70863737e-01]\n",
      "train_MSE_normalized_mean: 0.26930777700596625\n",
      "valid_MSE_normalized_mean: 0.300515361166087\n",
      "\n"
     ]
    },
    {
     "name": "stderr",
     "output_type": "stream",
     "text": [
      "\n",
      "212it [00:12, 17.65it/s]\n",
      "212it [00:03, 57.32it/s]\n",
      "27it [00:00, 40.85it/s]"
     ]
    },
    {
     "name": "stdout",
     "output_type": "stream",
     "text": [
      "EPOCH:\t129 0.10759245463699665\n",
      "train_MAE:\n",
      "[2.82253515e-01 4.48173496e-01 3.23871474e-03 3.93789542e-03\n",
      " 4.91557883e-03 2.59393299e+01 1.40751001e-03 4.31720939e+00\n",
      " 4.31718641e+00 4.31718601e+00 4.31723985e+00 2.76770781e-01]\n",
      "valid_MAE:\n",
      "[4.57301946e-01 4.77546353e-01 4.13349538e-03 4.42209411e-03\n",
      " 5.97348157e-03 3.00184823e+01 1.43348357e-03 4.32564277e+00\n",
      " 4.32561990e+00 4.32561949e+00 4.32567658e+00 2.87995356e-01]\n",
      "train_MSE_normalized_mean: 0.3170544909980761\n",
      "valid_MSE_normalized_mean: 0.34351619049178606\n",
      "\n"
     ]
    },
    {
     "name": "stderr",
     "output_type": "stream",
     "text": [
      "\n",
      "212it [00:11, 18.09it/s]\n",
      "212it [00:03, 57.97it/s]\n",
      "27it [00:00, 44.27it/s]"
     ]
    },
    {
     "name": "stdout",
     "output_type": "stream",
     "text": [
      "EPOCH:\t130 0.10798899804786691\n",
      "train_MAE:\n",
      "[2.84100798e-01 6.46148257e-01 2.89499196e-03 3.91594301e-03\n",
      " 4.61035609e-03 2.60266263e+01 1.79601596e-03 1.37846010e+00\n",
      " 1.37843260e+00 1.37843304e+00 1.37847792e+00 3.14188882e-01]\n",
      "valid_MAE:\n",
      "[4.64544530e-01 6.72563233e-01 3.88263758e-03 4.42859632e-03\n",
      " 5.73883440e-03 3.01067267e+01 1.82050823e-03 1.38492845e+00\n",
      " 1.38490273e+00 1.38490316e+00 1.38494528e+00 3.24771579e-01]\n",
      "train_MSE_normalized_mean: 0.2794640457415646\n",
      "valid_MSE_normalized_mean: 0.3103768437328133\n",
      "\n"
     ]
    },
    {
     "name": "stderr",
     "output_type": "stream",
     "text": [
      "\n",
      "212it [00:11, 18.76it/s]\n",
      "212it [00:03, 57.80it/s]\n",
      "27it [00:00, 46.05it/s]"
     ]
    },
    {
     "name": "stdout",
     "output_type": "stream",
     "text": [
      "EPOCH:\t131 0.10707556849943017\n",
      "train_MAE:\n",
      "[2.98057737e-01 5.29449592e-01 3.02168196e-03 3.85057924e-03\n",
      " 4.49722887e-03 2.97619180e+01 1.44135052e-03 2.12619130e+00\n",
      " 2.12613889e+00 2.12613883e+00 2.12629127e+00 3.03154475e-01]\n",
      "valid_MAE:\n",
      "[4.73251961e-01 5.60713542e-01 3.98128154e-03 4.36327027e-03\n",
      " 5.64788778e-03 3.36516622e+01 1.46285765e-03 2.14344967e+00\n",
      " 2.14339592e+00 2.14339585e+00 2.14354887e+00 3.16105317e-01]\n",
      "train_MSE_normalized_mean: 0.28991599436367593\n",
      "valid_MSE_normalized_mean: 0.31946253079071785\n",
      "\n"
     ]
    },
    {
     "name": "stderr",
     "output_type": "stream",
     "text": [
      "\n",
      "212it [00:12, 17.64it/s]\n",
      "212it [00:04, 46.46it/s]\n",
      "27it [00:00, 42.00it/s]"
     ]
    },
    {
     "name": "stdout",
     "output_type": "stream",
     "text": [
      "EPOCH:\t132 0.10715897697603928\n",
      "train_MAE:\n",
      "[2.88091649e-01 5.75023826e-01 3.12025657e-03 4.46283375e-03\n",
      " 5.27052796e-03 2.70671414e+01 1.98435057e-03 1.77783093e+00\n",
      " 1.77779709e+00 1.77779696e+00 1.77788566e+00 3.17448624e-01]\n",
      "valid_MAE:\n",
      "[4.60113179e-01 6.04342892e-01 4.03818726e-03 4.93274866e-03\n",
      " 6.25686269e-03 3.12988325e+01 2.00865177e-03 1.79933197e+00\n",
      " 1.79929669e+00 1.79929654e+00 1.79938902e+00 3.30638500e-01]\n",
      "train_MSE_normalized_mean: 0.2911002964895884\n",
      "valid_MSE_normalized_mean: 0.3196565306048685\n",
      "\n"
     ]
    },
    {
     "name": "stderr",
     "output_type": "stream",
     "text": [
      "\n",
      "212it [00:12, 19.11it/s]\n",
      "212it [00:03, 54.31it/s]\n",
      "27it [00:00, 49.27it/s]"
     ]
    },
    {
     "name": "stdout",
     "output_type": "stream",
     "text": [
      "EPOCH:\t133 0.10681472550023277\n",
      "train_MAE:\n",
      "[2.74513964e-01 4.67202608e-01 3.05402683e-03 4.01590179e-03\n",
      " 4.62890480e-03 2.54996417e+01 1.21147488e-03 1.39276532e+00\n",
      " 1.39275617e+00 1.39275639e+00 1.39278111e+00 2.39496179e-01]\n",
      "valid_MAE:\n",
      "[4.61341325e-01 5.01960004e-01 4.01521950e-03 4.51774006e-03\n",
      " 5.75364869e-03 2.97397549e+01 1.24786660e-03 1.39650162e+00\n",
      " 1.39649259e+00 1.39649278e+00 1.39651953e+00 2.53287660e-01]\n",
      "train_MSE_normalized_mean: 0.27117298398990003\n",
      "valid_MSE_normalized_mean: 0.3036376914832484\n",
      "\n"
     ]
    },
    {
     "name": "stderr",
     "output_type": "stream",
     "text": [
      "\n",
      "212it [00:11, 18.85it/s]\n",
      "212it [00:03, 56.37it/s]\n",
      "27it [00:00, 47.01it/s]"
     ]
    },
    {
     "name": "stdout",
     "output_type": "stream",
     "text": [
      "EPOCH:\t134 0.1061509193606534\n",
      "train_MAE:\n",
      "[2.74203438e-01 4.32264941e-01 2.83867623e-03 3.93841315e-03\n",
      " 4.68480966e-03 2.38714711e+01 1.36418518e-03 1.38047619e+00\n",
      " 1.38046110e+00 1.38046107e+00 1.38049843e+00 2.20261748e-01]\n",
      "valid_MAE:\n",
      "[4.62199522e-01 4.66694826e-01 3.84712300e-03 4.40864867e-03\n",
      " 5.75118144e-03 2.81277866e+01 1.40936989e-03 1.38990658e+00\n",
      " 1.38989234e+00 1.38989234e+00 1.38993547e+00 2.30960364e-01]\n",
      "train_MSE_normalized_mean: 0.267795277506974\n",
      "valid_MSE_normalized_mean: 0.3007747095094872\n",
      "\n"
     ]
    },
    {
     "name": "stderr",
     "output_type": "stream",
     "text": [
      "\n",
      "212it [00:11, 17.71it/s]\n",
      "212it [00:03, 56.08it/s]\n",
      "27it [00:00, 45.31it/s]"
     ]
    },
    {
     "name": "stdout",
     "output_type": "stream",
     "text": [
      "EPOCH:\t135 0.10675594182509296\n",
      "train_MAE:\n",
      "[2.76615299e-01 5.28153420e-01 2.94452924e-03 4.20925771e-03\n",
      " 4.66636177e-03 2.79014075e+01 1.50821183e-03 1.46774882e+00\n",
      " 1.46771808e+00 1.46771804e+00 1.46778695e+00 2.78710784e-01]\n",
      "valid_MAE:\n",
      "[4.59711124e-01 5.61712943e-01 3.90948517e-03 4.69725821e-03\n",
      " 5.80058661e-03 3.19700518e+01 1.52701330e-03 1.47426377e+00\n",
      " 1.47423285e+00 1.47423274e+00 1.47430106e+00 2.93067404e-01]\n",
      "train_MSE_normalized_mean: 0.27776302165115785\n",
      "valid_MSE_normalized_mean: 0.3091018515090419\n",
      "\n"
     ]
    },
    {
     "name": "stderr",
     "output_type": "stream",
     "text": [
      "\n",
      "212it [00:12, 17.14it/s]\n",
      "212it [00:04, 47.22it/s]\n",
      "27it [00:00, 45.91it/s]"
     ]
    },
    {
     "name": "stdout",
     "output_type": "stream",
     "text": [
      "EPOCH:\t136 0.10664305579409285\n",
      "train_MAE:\n",
      "[2.72537807e-01 4.74386286e-01 2.99279904e-03 4.10714845e-03\n",
      " 4.67486550e-03 2.58510576e+01 2.22176223e-03 7.61093911e-01\n",
      " 7.61077246e-01 7.61077249e-01 7.61127948e-01 2.87799197e-01]\n",
      "valid_MAE:\n",
      "[4.64325651e-01 5.07099691e-01 3.98714903e-03 4.63256508e-03\n",
      " 5.81309280e-03 3.02137802e+01 2.23055667e-03 7.63640183e-01\n",
      " 7.63626960e-01 7.63626914e-01 7.63663476e-01 2.98362093e-01]\n",
      "train_MSE_normalized_mean: 0.2681122268547207\n",
      "valid_MSE_normalized_mean: 0.30145609445707555\n",
      "\n"
     ]
    },
    {
     "name": "stderr",
     "output_type": "stream",
     "text": [
      "\n",
      "212it [00:11, 17.85it/s]\n",
      "212it [00:03, 54.98it/s]\n",
      "27it [00:00, 44.70it/s]"
     ]
    },
    {
     "name": "stdout",
     "output_type": "stream",
     "text": [
      "EPOCH:\t137 0.1063307385610522\n",
      "train_MAE:\n",
      "[2.83261828e-01 5.36854694e-01 2.99504833e-03 3.85822424e-03\n",
      " 4.67993091e-03 2.66889693e+01 2.06997104e-03 7.99233350e-01\n",
      " 7.99232419e-01 7.99232382e-01 7.99230593e-01 3.13572313e-01]\n",
      "valid_MAE:\n",
      "[4.66161619e-01 5.65658003e-01 3.99991867e-03 4.39817247e-03\n",
      " 5.82687058e-03 3.11807001e+01 2.06791976e-03 7.95326710e-01\n",
      " 7.95327177e-01 7.95327079e-01 7.95320332e-01 3.20536962e-01]\n",
      "train_MSE_normalized_mean: 0.2709116217131269\n",
      "valid_MSE_normalized_mean: 0.30302802938622125\n",
      "\n"
     ]
    },
    {
     "name": "stderr",
     "output_type": "stream",
     "text": [
      "\n",
      "212it [00:11, 20.44it/s]\n",
      "212it [00:03, 57.18it/s]\n",
      "27it [00:00, 46.42it/s]"
     ]
    },
    {
     "name": "stdout",
     "output_type": "stream",
     "text": [
      "EPOCH:\t138 0.10690448236352992\n",
      "train_MAE:\n",
      "[2.73398215e-01 5.05652410e-01 2.88174055e-03 6.14580422e-03\n",
      " 6.43278698e-03 2.52602730e+01 3.12794438e-03 2.25554168e+00\n",
      " 2.25557258e+00 2.25557245e+00 2.25556061e+00 2.75103083e-01]\n",
      "valid_MAE:\n",
      "[4.64899113e-01 5.34931556e-01 3.92994833e-03 6.40679324e-03\n",
      " 7.17976726e-03 2.96630380e+01 3.14697999e-03 2.27529536e+00\n",
      " 2.27532557e+00 2.27532540e+00 2.27532179e+00 2.85181594e-01]\n",
      "train_MSE_normalized_mean: 0.3046223309829657\n",
      "valid_MSE_normalized_mean: 0.3330959572523484\n",
      "\n"
     ]
    },
    {
     "name": "stderr",
     "output_type": "stream",
     "text": [
      "\n",
      "212it [00:11, 20.52it/s]\n",
      "212it [00:03, 59.53it/s]\n",
      "27it [00:00, 38.43it/s]\n"
     ]
    },
    {
     "name": "stdout",
     "output_type": "stream",
     "text": [
      "EPOCH:\t139 0.10646724936394196\n",
      "train_MAE:\n",
      "[2.75704100e-01 4.32113540e-01 3.06104526e-03 4.07144686e-03\n",
      " 5.29394497e-03 2.34240143e+01 1.38178934e-03 2.01573026e+00\n",
      " 2.01572195e+00 2.01572205e+00 2.01573962e+00 2.34932929e-01]\n",
      "valid_MAE:\n",
      "[4.67717717e-01 4.69221252e-01 4.08494128e-03 4.55788158e-03\n",
      " 6.32220487e-03 2.80889021e+01 1.40416434e-03 2.02318102e+00\n",
      " 2.02317402e+00 2.02317408e+00 2.02319439e+00 2.47044289e-01]\n",
      "train_MSE_normalized_mean: 0.28183084799301955\n",
      "valid_MSE_normalized_mean: 0.31388317736970245\n",
      "\n"
     ]
    },
    {
     "name": "stderr",
     "output_type": "stream",
     "text": [
      "212it [00:12, 16.95it/s]\n",
      "212it [00:03, 62.22it/s]\n",
      "27it [00:00, 39.83it/s]"
     ]
    },
    {
     "name": "stdout",
     "output_type": "stream",
     "text": [
      "EPOCH:\t140 0.10563986621937661\n",
      "train_MAE:\n",
      "[2.77133325e-01 4.82523788e-01 3.00378927e-03 4.36673854e-03\n",
      " 4.84349041e-03 2.54070266e+01 1.57416626e-03 1.36462364e+00\n",
      " 1.36458600e+00 1.36458595e+00 1.36466529e+00 2.65561945e-01]\n",
      "valid_MAE:\n",
      "[4.69255810e-01 5.18816136e-01 4.00304226e-03 4.84480586e-03\n",
      " 5.92119989e-03 2.97979101e+01 1.60031155e-03 1.36960439e+00\n",
      " 1.36956695e+00 1.36956691e+00 1.36964338e+00 2.79427242e-01]\n",
      "train_MSE_normalized_mean: 0.2753623122621365\n",
      "valid_MSE_normalized_mean: 0.3079586486112048\n",
      "\n"
     ]
    },
    {
     "name": "stderr",
     "output_type": "stream",
     "text": [
      "\n",
      "212it [00:11, 19.27it/s]\n",
      "212it [00:03, 56.58it/s]\n",
      "27it [00:00, 47.63it/s]"
     ]
    },
    {
     "name": "stdout",
     "output_type": "stream",
     "text": [
      "EPOCH:\t141 0.10559881601552919\n",
      "train_MAE:\n",
      "[2.67003900e-01 4.94592500e-01 2.83652243e-03 4.08031814e-03\n",
      " 4.62829565e-03 2.42914249e+01 1.19554307e-03 1.00934390e+00\n",
      " 1.00937145e+00 1.00937151e+00 1.00931513e+00 2.29246200e-01]\n",
      "valid_MAE:\n",
      "[4.60767843e-01 5.22209402e-01 3.88408468e-03 4.64116374e-03\n",
      " 5.79411687e-03 2.88252043e+01 1.22477253e-03 1.00627641e+00\n",
      " 1.00630099e+00 1.00630104e+00 1.00625364e+00 2.42930939e-01]\n",
      "train_MSE_normalized_mean: 0.2624928913989998\n",
      "valid_MSE_normalized_mean: 0.2972887053337217\n",
      "\n"
     ]
    },
    {
     "name": "stderr",
     "output_type": "stream",
     "text": [
      "\n",
      "212it [00:11, 19.55it/s]\n",
      "212it [00:03, 56.03it/s]\n",
      "27it [00:00, 51.08it/s]"
     ]
    },
    {
     "name": "stdout",
     "output_type": "stream",
     "text": [
      "EPOCH:\t142 0.1061749897967532\n",
      "train_MAE:\n",
      "[2.80334598e-01 5.11644733e-01 3.33875032e-03 3.96000988e-03\n",
      " 4.96409068e-03 2.56614127e+01 1.73517677e-03 2.07343647e+00\n",
      " 2.07342959e+00 2.07342956e+00 2.07344281e+00 2.79880672e-01]\n",
      "valid_MAE:\n",
      "[4.69576176e-01 5.48161112e-01 4.26772748e-03 4.52698849e-03\n",
      " 6.08040983e-03 2.99794099e+01 1.75544950e-03 2.09385401e+00\n",
      " 2.09384597e+00 2.09384593e+00 2.09386619e+00 2.92185048e-01]\n",
      "train_MSE_normalized_mean: 0.2893243666786988\n",
      "valid_MSE_normalized_mean: 0.32029644843983746\n",
      "\n"
     ]
    },
    {
     "name": "stderr",
     "output_type": "stream",
     "text": [
      "\n",
      "212it [00:11, 20.04it/s]\n",
      "212it [00:04, 46.71it/s]\n",
      "27it [00:00, 38.24it/s]"
     ]
    },
    {
     "name": "stdout",
     "output_type": "stream",
     "text": [
      "EPOCH:\t143 0.10627784956035749\n",
      "train_MAE:\n",
      "[2.72558671e-01 5.21887585e-01 2.97957034e-03 4.18477562e-03\n",
      " 4.69707465e-03 2.44955797e+01 2.05930335e-03 2.95534847e+00\n",
      " 2.95537407e+00 2.95537401e+00 2.95532587e+00 2.59333223e-01]\n",
      "valid_MAE:\n",
      "[4.63378529e-01 5.54812165e-01 3.99224951e-03 4.72036024e-03\n",
      " 5.83140105e-03 2.88750069e+01 2.08964621e-03 2.97043460e+00\n",
      " 2.97046055e+00 2.97046048e+00 2.97041702e+00 2.71936061e-01]\n",
      "train_MSE_normalized_mean: 0.2989089168478792\n",
      "valid_MSE_normalized_mean: 0.32950381597409595\n",
      "\n"
     ]
    },
    {
     "name": "stderr",
     "output_type": "stream",
     "text": [
      "\n",
      "212it [00:12, 17.37it/s]\n",
      "212it [00:03, 53.53it/s]\n",
      "27it [00:00, 39.62it/s]"
     ]
    },
    {
     "name": "stdout",
     "output_type": "stream",
     "text": [
      "EPOCH:\t144 0.1063843789809155\n",
      "train_MAE:\n",
      "[2.69331708e-01 4.31421432e-01 2.99411678e-03 4.16058498e-03\n",
      " 4.90476001e-03 2.67187039e+01 1.27949568e-03 1.78028192e+00\n",
      " 1.78021954e+00 1.78021965e+00 1.78040753e+00 2.57774469e-01]\n",
      "valid_MAE:\n",
      "[4.65749490e-01 4.65470701e-01 4.03723276e-03 4.65672536e-03\n",
      " 6.06624133e-03 3.09803765e+01 1.31198658e-03 1.77878656e+00\n",
      " 1.77872488e+00 1.77872498e+00 1.77891726e+00 2.66778687e-01]\n",
      "train_MSE_normalized_mean: 0.27845193669037693\n",
      "valid_MSE_normalized_mean: 0.3113329589916474\n",
      "\n"
     ]
    },
    {
     "name": "stderr",
     "output_type": "stream",
     "text": [
      "\n",
      "212it [00:12, 17.58it/s]\n",
      "212it [00:03, 56.50it/s]\n",
      "27it [00:00, 42.99it/s]"
     ]
    },
    {
     "name": "stdout",
     "output_type": "stream",
     "text": [
      "EPOCH:\t145 0.10491615438939265\n",
      "train_MAE:\n",
      "[2.74112050e-01 5.75950058e-01 2.94533416e-03 4.81422628e-03\n",
      " 5.50553665e-03 2.60450689e+01 2.11789639e-03 1.74249661e+00\n",
      " 1.74247416e+00 1.74247420e+00 1.74253253e+00 3.14436184e-01]\n",
      "valid_MAE:\n",
      "[4.61047121e-01 6.08263765e-01 3.96294580e-03 5.23506786e-03\n",
      " 6.46710722e-03 3.04968109e+01 2.16435155e-03 1.75906399e+00\n",
      " 1.75903927e+00 1.75903930e+00 1.75910637e+00 3.27221733e-01]\n",
      "train_MSE_normalized_mean: 0.2898992533402804\n",
      "valid_MSE_normalized_mean: 0.3203745567809097\n",
      "\n"
     ]
    },
    {
     "name": "stderr",
     "output_type": "stream",
     "text": [
      "\n",
      "212it [00:11, 17.90it/s]\n",
      "212it [00:03, 54.65it/s]\n",
      "27it [00:00, 46.58it/s]"
     ]
    },
    {
     "name": "stdout",
     "output_type": "stream",
     "text": [
      "EPOCH:\t146 0.10377573963465556\n",
      "train_MAE:\n",
      "[2.68629883e-01 7.45364471e-01 2.92727037e-03 3.80081306e-03\n",
      " 4.38715272e-03 2.98682120e+01 2.38364754e-03 1.04194043e+00\n",
      " 1.04184999e+00 1.04185002e+00 1.04205791e+00 3.92916095e-01]\n",
      "valid_MAE:\n",
      "[4.62881672e-01 7.61420254e-01 3.93395576e-03 4.36117263e-03\n",
      " 5.58238160e-03 3.37821464e+01 2.38801654e-03 1.05790891e+00\n",
      " 1.05781673e+00 1.05781675e+00 1.05803598e+00 3.98475096e-01]\n",
      "train_MSE_normalized_mean: 0.28146739691168177\n",
      "valid_MSE_normalized_mean: 0.31345307883186846\n",
      "\n"
     ]
    },
    {
     "name": "stderr",
     "output_type": "stream",
     "text": [
      "\n",
      "212it [00:12, 18.40it/s]\n",
      "212it [00:04, 44.32it/s]\n",
      "27it [00:00, 36.04it/s]"
     ]
    },
    {
     "name": "stdout",
     "output_type": "stream",
     "text": [
      "EPOCH:\t147 0.10481810907147965\n",
      "train_MAE:\n",
      "[2.68327695e-01 4.55411823e-01 2.78599136e-03 4.11219279e-03\n",
      " 4.76187790e-03 2.38441681e+01 1.62430066e-03 1.14859595e+00\n",
      " 1.14857321e+00 1.14857313e+00 1.14865113e+00 2.46855827e-01]\n",
      "valid_MAE:\n",
      "[4.66755616e-01 4.90123617e-01 3.85979027e-03 4.66709488e-03\n",
      " 5.95655857e-03 2.85464825e+01 1.64023805e-03 1.15269308e+00\n",
      " 1.15266772e+00 1.15266762e+00 1.15274793e+00 2.59450711e-01]\n",
      "train_MSE_normalized_mean: 0.2667133394732814\n",
      "valid_MSE_normalized_mean: 0.30188196657140554\n",
      "\n"
     ]
    },
    {
     "name": "stderr",
     "output_type": "stream",
     "text": [
      "\n",
      "212it [00:12, 17.11it/s]\n",
      "212it [00:03, 59.52it/s]\n",
      "27it [00:00, 44.19it/s]"
     ]
    },
    {
     "name": "stdout",
     "output_type": "stream",
     "text": [
      "EPOCH:\t148 0.10442826317025805\n",
      "train_MAE:\n",
      "[2.61140128e-01 5.15314161e-01 2.96245807e-03 4.10819595e-03\n",
      " 4.60162071e-03 2.62846823e+01 1.46865628e-03 1.12671573e+00\n",
      " 1.12668753e+00 1.12668753e+00 1.12674758e+00 2.82648904e-01]\n",
      "valid_MAE:\n",
      "[4.58333447e-01 5.45304020e-01 3.97981321e-03 4.64844020e-03\n",
      " 5.76379721e-03 3.06690582e+01 1.50135645e-03 1.14292600e+00\n",
      " 1.14289564e+00 1.14289566e+00 1.14295911e+00 2.95924148e-01]\n",
      "train_MSE_normalized_mean: 0.269478254236385\n",
      "valid_MSE_normalized_mean: 0.3037545238303527\n",
      "\n"
     ]
    },
    {
     "name": "stderr",
     "output_type": "stream",
     "text": [
      "\n",
      "212it [00:11, 20.29it/s]\n",
      "212it [00:03, 54.56it/s]\n",
      "27it [00:00, 42.53it/s]"
     ]
    },
    {
     "name": "stdout",
     "output_type": "stream",
     "text": [
      "EPOCH:\t149 0.10364846459958914\n",
      "train_MAE:\n",
      "[2.65616865e-01 4.44493162e-01 2.94414648e-03 3.84945811e-03\n",
      " 4.81087327e-03 2.46395531e+01 1.32518987e-03 8.15714670e-01\n",
      " 8.15720123e-01 8.15720064e-01 8.15707165e-01 2.29913288e-01]\n",
      "valid_MAE:\n",
      "[4.60333551e-01 4.78942480e-01 3.96921437e-03 4.40998592e-03\n",
      " 5.96488822e-03 2.93021384e+01 1.36475009e-03 8.14788653e-01\n",
      " 8.14792807e-01 8.14792746e-01 8.14779659e-01 2.43813784e-01]\n",
      "train_MSE_normalized_mean: 0.25973869613122147\n",
      "valid_MSE_normalized_mean: 0.2950325120699352\n",
      "\n"
     ]
    },
    {
     "name": "stderr",
     "output_type": "stream",
     "text": [
      "\n",
      "212it [00:11, 18.41it/s]\n",
      "212it [00:03, 53.57it/s]\n",
      "27it [00:00, 47.28it/s]"
     ]
    },
    {
     "name": "stdout",
     "output_type": "stream",
     "text": [
      "EPOCH:\t150 0.10336215238807336\n",
      "train_MAE:\n",
      "[2.57526314e-01 5.01622298e-01 2.75405163e-03 3.91910094e-03\n",
      " 4.65922803e-03 2.74079257e+01 1.51701483e-03 1.76677004e+00\n",
      " 1.76681670e+00 1.76681679e+00 1.76669088e+00 2.60090845e-01]\n",
      "valid_MAE:\n",
      "[4.61660445e-01 5.31606954e-01 3.88369193e-03 4.49227547e-03\n",
      " 5.87879353e-03 3.15890441e+01 1.54766759e-03 1.77254236e+00\n",
      " 1.77258712e+00 1.77258718e+00 1.77247089e+00 2.72777967e-01]\n",
      "train_MSE_normalized_mean: 0.27673114420639\n",
      "valid_MSE_normalized_mean: 0.311484342949993\n",
      "\n"
     ]
    },
    {
     "name": "stderr",
     "output_type": "stream",
     "text": [
      "\n",
      "212it [00:12, 17.43it/s]\n",
      "212it [00:04, 48.16it/s]\n",
      "27it [00:00, 39.73it/s]"
     ]
    },
    {
     "name": "stdout",
     "output_type": "stream",
     "text": [
      "EPOCH:\t151 0.10486277108484844\n",
      "train_MAE:\n",
      "[2.77168972e-01 6.77558380e-01 3.05792122e-03 4.26682707e-03\n",
      " 4.73546528e-03 2.48969328e+01 2.46171494e-03 1.99246155e+00\n",
      " 1.99248037e+00 1.99248038e+00 1.99243519e+00 2.85978696e-01]\n",
      "valid_MAE:\n",
      "[4.70358789e-01 7.08589794e-01 4.07525693e-03 4.77937521e-03\n",
      " 5.91229024e-03 2.95700984e+01 2.48214904e-03 1.99929105e+00\n",
      " 1.99930816e+00 1.99930818e+00 1.99927183e+00 2.99695496e-01]\n",
      "train_MSE_normalized_mean: 0.29215391260478285\n",
      "valid_MSE_normalized_mean: 0.32366317531613314\n",
      "\n"
     ]
    },
    {
     "name": "stderr",
     "output_type": "stream",
     "text": [
      "\n",
      "212it [00:11, 17.75it/s]\n",
      "212it [00:03, 55.78it/s]\n",
      "27it [00:00, 42.66it/s]"
     ]
    },
    {
     "name": "stdout",
     "output_type": "stream",
     "text": [
      "EPOCH:\t152 0.10339354010263704\n",
      "train_MAE:\n",
      "[2.61650054e-01 5.88772534e-01 3.53093814e-03 4.10852068e-03\n",
      " 5.12711506e-03 2.70494361e+01 1.98481468e-03 1.44400809e+00\n",
      " 1.44396191e+00 1.44396194e+00 1.44408898e+00 3.53567529e-01]\n",
      "valid_MAE:\n",
      "[4.62985606e-01 6.24480748e-01 4.48247231e-03 4.66060896e-03\n",
      " 6.30000764e-03 3.14310922e+01 2.01129359e-03 1.45743972e+00\n",
      " 1.45739448e+00 1.45739448e+00 1.45751541e+00 3.67118682e-01]\n",
      "train_MSE_normalized_mean: 0.2864678868883771\n",
      "valid_MSE_normalized_mean: 0.31898942530866015\n",
      "\n"
     ]
    },
    {
     "name": "stderr",
     "output_type": "stream",
     "text": [
      "\n",
      "212it [00:11, 19.55it/s]\n",
      "212it [00:03, 58.67it/s]\n",
      "27it [00:00, 46.63it/s]"
     ]
    },
    {
     "name": "stdout",
     "output_type": "stream",
     "text": [
      "EPOCH:\t153 0.1043021635345693\n",
      "train_MAE:\n",
      "[2.59316116e-01 5.95978998e-01 2.93665217e-03 4.24183369e-03\n",
      " 4.74058809e-03 2.61655310e+01 2.71294574e-03 1.37939286e+00\n",
      " 1.37939303e+00 1.37939303e+00 1.37940722e+00 3.23121171e-01]\n",
      "valid_MAE:\n",
      "[4.62737910e-01 6.26480245e-01 3.99244443e-03 4.77010938e-03\n",
      " 5.90594716e-03 3.07885713e+01 2.75619017e-03 1.39168121e+00\n",
      " 1.39167913e+00 1.39167911e+00 1.39169883e+00 3.35195301e-01]\n",
      "train_MSE_normalized_mean: 0.28237041331637064\n",
      "valid_MSE_normalized_mean: 0.3160607103516228\n",
      "\n"
     ]
    },
    {
     "name": "stderr",
     "output_type": "stream",
     "text": [
      "\n",
      "212it [00:11, 17.13it/s]\n",
      "212it [00:05, 40.88it/s]\n",
      "27it [00:00, 31.25it/s]"
     ]
    },
    {
     "name": "stdout",
     "output_type": "stream",
     "text": [
      "EPOCH:\t154 0.10328761182444275\n",
      "train_MAE:\n",
      "[2.56469128e-01 4.77106227e-01 2.80205992e-03 3.76789751e-03\n",
      " 4.48316385e-03 2.51180043e+01 1.73872840e-03 1.38045661e+00\n",
      " 1.38041957e+00 1.38041969e+00 1.38051114e+00 2.82542826e-01]\n",
      "valid_MAE:\n",
      "[4.57180723e-01 5.18010484e-01 3.89475382e-03 4.36647609e-03\n",
      " 5.74313116e-03 2.97231819e+01 1.76801753e-03 1.39682520e+00\n",
      " 1.39678907e+00 1.39678915e+00 1.39688036e+00 2.95317399e-01]\n",
      "train_MSE_normalized_mean: 0.27017946178863106\n",
      "valid_MSE_normalized_mean: 0.30586624035309723\n",
      "\n"
     ]
    },
    {
     "name": "stderr",
     "output_type": "stream",
     "text": [
      "\n",
      "212it [00:15, 14.86it/s]\n",
      "212it [00:05, 36.47it/s]\n",
      "27it [00:00, 38.33it/s]"
     ]
    },
    {
     "name": "stdout",
     "output_type": "stream",
     "text": [
      "EPOCH:\t155 0.10366579753188591\n",
      "train_MAE:\n",
      "[2.53137280e-01 4.64929810e-01 2.71670266e-03 3.67560955e-03\n",
      " 4.28432053e-03 2.74709372e+01 1.56539709e-03 7.34610161e-01\n",
      " 7.34596571e-01 7.34596477e-01 7.34618747e-01 2.77948647e-01]\n",
      "valid_MAE:\n",
      "[4.58292774e-01 5.01513345e-01 3.88800545e-03 4.27055034e-03\n",
      " 5.57968086e-03 3.16307307e+01 1.58685619e-03 7.45586146e-01\n",
      " 7.45571421e-01 7.45571294e-01 7.45599444e-01 2.88411041e-01]\n",
      "train_MSE_normalized_mean: 0.25818853724679464\n",
      "valid_MSE_normalized_mean: 0.2958425256764714\n",
      "\n"
     ]
    },
    {
     "name": "stderr",
     "output_type": "stream",
     "text": [
      "\n",
      "212it [00:11, 20.06it/s]\n",
      "212it [00:03, 59.69it/s]\n",
      "27it [00:01, 26.92it/s]"
     ]
    },
    {
     "name": "stdout",
     "output_type": "stream",
     "text": [
      "EPOCH:\t156 0.10370589971964089\n",
      "train_MAE:\n",
      "[2.65543803e-01 4.36789540e-01 2.86012839e-03 4.54459558e-03\n",
      " 5.51781003e-03 2.54263393e+01 1.67580896e-03 3.85465334e+00\n",
      " 3.85457478e+00 3.85457477e+00 3.85480617e+00 2.90415447e-01]\n",
      "valid_MAE:\n",
      "[4.71046627e-01 4.75252200e-01 3.95585238e-03 5.05301615e-03\n",
      " 6.61278292e-03 3.00584552e+01 1.71304861e-03 3.85750860e+00\n",
      " 3.85743078e+00 3.85743078e+00 3.85766483e+00 3.01782983e-01]\n",
      "train_MSE_normalized_mean: 0.31170919346429793\n",
      "valid_MSE_normalized_mean: 0.34264289464162456\n",
      "\n"
     ]
    },
    {
     "name": "stderr",
     "output_type": "stream",
     "text": [
      "\n",
      "212it [00:15, 14.09it/s]\n",
      "212it [00:05, 37.55it/s]\n",
      "27it [00:00, 29.97it/s]"
     ]
    },
    {
     "name": "stdout",
     "output_type": "stream",
     "text": [
      "EPOCH:\t157 0.10310132776931771\n",
      "train_MAE:\n",
      "[2.69726493e-01 5.94299236e-01 2.90396107e-03 3.96378354e-03\n",
      " 4.43276271e-03 3.12676906e+01 2.80657239e-03 2.15707536e+00\n",
      " 2.15692979e+00 2.15692984e+00 2.15728477e+00 4.57287937e-01]\n",
      "valid_MAE:\n",
      "[4.74072255e-01 6.26197688e-01 3.95577633e-03 4.51224930e-03\n",
      " 5.66297308e-03 3.55528376e+01 2.84526781e-03 2.16698892e+00\n",
      " 2.16684337e+00 2.16684344e+00 2.16719407e+00 4.66650721e-01]\n",
      "train_MSE_normalized_mean: 0.30016263042304875\n",
      "valid_MSE_normalized_mean: 0.33207025096834236\n",
      "\n"
     ]
    },
    {
     "name": "stderr",
     "output_type": "stream",
     "text": [
      "\n",
      "212it [00:11, 18.85it/s]\n",
      "212it [00:03, 53.82it/s]\n",
      "27it [00:00, 46.19it/s]"
     ]
    },
    {
     "name": "stdout",
     "output_type": "stream",
     "text": [
      "EPOCH:\t158 0.1028296541914625\n",
      "train_MAE:\n",
      "[2.57379099e-01 6.08660538e-01 3.06571685e-03 4.46209713e-03\n",
      " 4.97268818e-03 2.94012451e+01 1.94822082e-03 2.07674517e+00\n",
      " 2.07667554e+00 2.07667564e+00 2.07683953e+00 3.79654979e-01]\n",
      "valid_MAE:\n",
      "[4.65709696e-01 6.43963921e-01 4.12091679e-03 4.99030698e-03\n",
      " 6.14653258e-03 3.39456322e+01 1.97239284e-03 2.09541026e+00\n",
      " 2.09534053e+00 2.09534061e+00 2.09550192e+00 3.93692729e-01]\n",
      "train_MSE_normalized_mean: 0.29503901388343007\n",
      "valid_MSE_normalized_mean: 0.3279631643406903\n",
      "\n"
     ]
    },
    {
     "name": "stderr",
     "output_type": "stream",
     "text": [
      "\n",
      "212it [00:11, 19.95it/s]\n",
      "212it [00:03, 59.74it/s]\n",
      "27it [00:00, 37.81it/s]"
     ]
    },
    {
     "name": "stdout",
     "output_type": "stream",
     "text": [
      "EPOCH:\t159 0.10274459136966264\n",
      "train_MAE:\n",
      "[2.51590944e-01 7.43580999e-01 2.82349140e-03 3.96521868e-03\n",
      " 4.49573623e-03 2.38091225e+01 1.86813384e-03 2.03862373e+00\n",
      " 2.03861831e+00 2.03861811e+00 2.03864368e+00 2.38661518e-01]\n",
      "valid_MAE:\n",
      "[4.66317800e-01 7.61084234e-01 3.93871344e-03 4.56904479e-03\n",
      " 5.75071937e-03 2.84208025e+01 1.88940865e-03 2.05318248e+00\n",
      " 2.05317702e+00 2.05317685e+00 2.05319845e+00 2.52423181e-01]\n",
      "train_MSE_normalized_mean: 0.2835495557061516\n",
      "valid_MSE_normalized_mean: 0.3186759452365403\n",
      "\n"
     ]
    },
    {
     "name": "stderr",
     "output_type": "stream",
     "text": [
      "\n",
      "212it [00:10, 19.49it/s]\n",
      "212it [00:03, 61.97it/s]\n",
      "27it [00:00, 51.57it/s]"
     ]
    },
    {
     "name": "stdout",
     "output_type": "stream",
     "text": [
      "EPOCH:\t160 0.10318549311245387\n",
      "train_MAE:\n",
      "[2.76621111e-01 4.67435519e-01 2.86539076e-03 4.47970677e-03\n",
      " 4.56055423e-03 2.51296972e+01 1.44779647e-03 8.70298343e-01\n",
      " 8.70270175e-01 8.70270210e-01 8.70371381e-01 2.41405876e-01]\n",
      "valid_MAE:\n",
      "[4.75593003e-01 5.03490656e-01 4.00022301e-03 5.02616599e-03\n",
      " 5.84179771e-03 2.98032689e+01 1.48069233e-03 8.79894961e-01\n",
      " 8.79866711e-01 8.79866722e-01 8.79968684e-01 2.54741352e-01]\n",
      "train_MSE_normalized_mean: 0.26424034672373875\n",
      "valid_MSE_normalized_mean: 0.30053939877658786\n",
      "\n"
     ]
    },
    {
     "name": "stderr",
     "output_type": "stream",
     "text": [
      "\n",
      "212it [00:11, 19.25it/s]\n",
      "212it [00:03, 63.97it/s]\n",
      "27it [00:00, 51.20it/s]"
     ]
    },
    {
     "name": "stdout",
     "output_type": "stream",
     "text": [
      "EPOCH:\t161 0.10215257413966476\n",
      "train_MAE:\n",
      "[2.72073222e-01 5.99319915e-01 2.80700054e-03 3.68657704e-03\n",
      " 4.28601486e-03 4.49560746e+01 2.16874603e-03 4.33427568e+00\n",
      " 4.33407193e+00 4.33407196e+00 4.33458175e+00 5.40982507e-01]\n",
      "valid_MAE:\n",
      "[4.80531725e-01 6.27897504e-01 3.95401899e-03 4.29231515e-03\n",
      " 5.64924330e-03 4.86467157e+01 2.19621038e-03 4.33917164e+00\n",
      " 4.33896825e+00 4.33896828e+00 4.33948219e+00 5.44987157e-01]\n",
      "train_MSE_normalized_mean: 0.333863042822311\n",
      "valid_MSE_normalized_mean: 0.363543033144488\n",
      "\n"
     ]
    },
    {
     "name": "stderr",
     "output_type": "stream",
     "text": [
      "\n",
      "212it [00:10, 19.55it/s]\n",
      "212it [00:03, 55.35it/s]\n",
      "27it [00:00, 47.06it/s]"
     ]
    },
    {
     "name": "stdout",
     "output_type": "stream",
     "text": [
      "EPOCH:\t162 0.10235937002975985\n",
      "train_MAE:\n",
      "[2.53852128e-01 5.23110519e-01 2.72455946e-03 3.71547614e-03\n",
      " 4.29762507e-03 2.50737138e+01 1.39491371e-03 1.52052704e+00\n",
      " 1.52056083e+00 1.52056074e+00 1.52045848e+00 2.52934090e-01]\n",
      "valid_MAE:\n",
      "[4.63405198e-01 5.60177796e-01 3.91114718e-03 4.29647544e-03\n",
      " 5.58493647e-03 2.98679050e+01 1.43118766e-03 1.53555023e+00\n",
      " 1.53558266e+00 1.53558258e+00 1.53548486e+00 2.68307836e-01]\n",
      "train_MSE_normalized_mean: 0.26887983604760346\n",
      "valid_MSE_normalized_mean: 0.3062368501035712\n",
      "\n"
     ]
    },
    {
     "name": "stderr",
     "output_type": "stream",
     "text": [
      "\n",
      "212it [00:11, 18.73it/s]\n",
      "212it [00:03, 63.13it/s]\n",
      "27it [00:00, 49.57it/s]"
     ]
    },
    {
     "name": "stdout",
     "output_type": "stream",
     "text": [
      "EPOCH:\t163 0.10199860992999572\n",
      "train_MAE:\n",
      "[2.51507670e-01 6.61055479e-01 2.88505431e-03 3.94572017e-03\n",
      " 4.43635705e-03 2.36789265e+01 1.46518685e-03 1.30851502e+00\n",
      " 1.30850543e+00 1.30850538e+00 1.30853650e+00 2.46070465e-01]\n",
      "valid_MAE:\n",
      "[4.68542353e-01 6.92165808e-01 3.99921840e-03 4.52482446e-03\n",
      " 5.72384815e-03 2.86614679e+01 1.48999021e-03 1.32118212e+00\n",
      " 1.32117098e+00 1.32117095e+00 1.32120853e+00 2.56634009e-01]\n",
      "train_MSE_normalized_mean: 0.2695982349168988\n",
      "valid_MSE_normalized_mean: 0.306835889581298\n",
      "\n"
     ]
    },
    {
     "name": "stderr",
     "output_type": "stream",
     "text": [
      "\n",
      "212it [00:10, 19.38it/s]\n",
      "212it [00:03, 63.91it/s]\n",
      "27it [00:00, 53.64it/s]"
     ]
    },
    {
     "name": "stdout",
     "output_type": "stream",
     "text": [
      "EPOCH:\t164 0.10148963996402498\n",
      "train_MAE:\n",
      "[2.51515266e-01 1.24432349e+00 2.81941586e-03 5.24287249e-03\n",
      " 5.10792046e-03 2.76736392e+01 3.34052087e-03 1.00033553e+00\n",
      " 1.00033917e+00 1.00033912e+00 1.00034191e+00 4.48652536e-01]\n",
      "valid_MAE:\n",
      "[4.66490735e-01 1.25261173e+00 3.94297351e-03 5.76640338e-03\n",
      " 6.35746307e-03 3.24332810e+01 3.35476788e-03 9.92231541e-01\n",
      " 9.92235104e-01 9.92235062e-01 9.92234455e-01 4.53923385e-01]\n",
      "train_MSE_normalized_mean: 0.29887074674846914\n",
      "valid_MSE_normalized_mean: 0.3315730400090218\n",
      "\n"
     ]
    },
    {
     "name": "stderr",
     "output_type": "stream",
     "text": [
      "\n",
      "212it [00:11, 18.15it/s]\n",
      "212it [00:03, 56.12it/s]\n",
      "27it [00:00, 46.07it/s]"
     ]
    },
    {
     "name": "stdout",
     "output_type": "stream",
     "text": [
      "EPOCH:\t165 0.10190905669247205\n",
      "train_MAE:\n",
      "[2.50039603e-01 4.26833506e-01 2.89919053e-03 3.62995282e-03\n",
      " 4.20069804e-03 2.49436020e+01 1.60400850e-03 2.33122624e+00\n",
      " 2.33119769e+00 2.33119763e+00 2.33128115e+00 2.53559020e-01]\n",
      "valid_MAE:\n",
      "[4.66505360e-01 4.62512250e-01 4.02664414e-03 4.23682682e-03\n",
      " 5.54840643e-03 2.98477621e+01 1.63305010e-03 2.33345255e+00\n",
      " 2.33342206e+00 2.33342199e+00 2.33351529e+00 2.66124966e-01]\n",
      "train_MSE_normalized_mean: 0.2805047083539356\n",
      "valid_MSE_normalized_mean: 0.3167172875404565\n",
      "\n"
     ]
    },
    {
     "name": "stderr",
     "output_type": "stream",
     "text": [
      "\n",
      "212it [00:11, 18.98it/s]\n",
      "212it [00:03, 56.50it/s]\n",
      "27it [00:00, 45.48it/s]"
     ]
    },
    {
     "name": "stdout",
     "output_type": "stream",
     "text": [
      "EPOCH:\t166 0.10219819179542784\n",
      "train_MAE:\n",
      "[2.53640533e-01 5.91543166e-01 2.70189368e-03 3.83006642e-03\n",
      " 4.41356552e-03 2.85043673e+01 1.38453647e-03 1.59731172e+00\n",
      " 1.59732869e+00 1.59732872e+00 1.59725960e+00 2.59005605e-01]\n",
      "valid_MAE:\n",
      "[4.64788865e-01 6.19934879e-01 3.88627341e-03 4.45751851e-03\n",
      " 5.73017633e-03 3.29389607e+01 1.41255884e-03 1.58581717e+00\n",
      " 1.58583326e+00 1.58583330e+00 1.58576455e+00 2.73483464e-01]\n",
      "train_MSE_normalized_mean: 0.2739736298757485\n",
      "valid_MSE_normalized_mean: 0.3103283971398265\n",
      "\n"
     ]
    },
    {
     "name": "stderr",
     "output_type": "stream",
     "text": [
      "\n",
      "212it [00:11, 20.41it/s]\n",
      "11it [00:00, 29.79it/s]"
     ]
    }
   ],
   "source": [
    "best_param ={}\n",
    "best_param[\"train_epoch\"] = 0\n",
    "best_param[\"valid_epoch\"] = 0\n",
    "best_param[\"train_MSE_normalized\"] = 800\n",
    "best_param[\"valid_MSE_normalized\"] = 800\n",
    "train_df_smiles = train_df.smiles.values\n",
    "valid_df_smiles = valid_df.smiles.values\n",
    "\n",
    "for epoch in range(300):\n",
    "    losses = train(model, train_df_smiles)\n",
    "    train_MAE_normalized, train_MAE, train_MSE_normalized, train_MSE = eval(model, train_df_smiles)\n",
    "    valid_MAE_normalized, valid_MAE, valid_MSE_normalized, valid_MSE, = eval(model, valid_df_smiles)\n",
    "    print(\"EPOCH:\\t\"+str(epoch)+' '+str(losses)+'\\n'\\\n",
    "#         +\"train_MAE_normalized: \"+str(train_MAE_normalized)+'\\n'\\\n",
    "#         +\"valid_MAE_normalized: \"+str(valid_MAE_normalized)+'\\n'\\\n",
    "        +\"train_MAE\"+\":\"+\"\\n\"+str(train_MAE)+'\\n'\\\n",
    "        +\"valid_MAE\"+\":\"+\"\\n\"+str(valid_MAE)+'\\n'\\\n",
    "          \n",
    "        +\"train_MSE_normalized_mean: \"+str(train_MSE_normalized.mean())+'\\n'\\\n",
    "        +\"valid_MSE_normalized_mean: \"+str(valid_MSE_normalized.mean())+'\\n'\\\n",
    "#         +\"train_MSE_normalized: \"+str(train_MSE_normalized)+'\\n'\\\n",
    "#         +\"valid_MSE_normalized: \"+str(valid_MSE_normalized)+'\\n'\\\n",
    "        )\n",
    "    if train_MSE_normalized.mean() < best_param[\"train_MSE_normalized\"]:\n",
    "        best_param[\"train_epoch\"] = epoch\n",
    "        best_param[\"train_MSE_normalized\"] = train_MSE_normalized.mean()\n",
    "    if valid_MSE_normalized.mean() < best_param[\"valid_MSE_normalized\"]:\n",
    "        best_param[\"valid_epoch\"] = epoch\n",
    "        best_param[\"valid_MSE_normalized\"] = valid_MSE_normalized.mean()\n",
    "        if valid_MSE_normalized.mean() < 0.06:\n",
    "             torch.save(model, 'saved_models/model_'+prefix_filename+'_'+start_time+'_'+str(epoch)+'.pt')\n",
    "#     if (epoch - best_param[\"train_epoch\"] >10) and (epoch - best_param[\"valid_epoch\"] >18):        \n",
    "#         break\n",
    "    \n"
   ]
  },
  {
   "cell_type": "markdown",
   "metadata": {},
   "source": [
    "mu, alpha, homo, lumo, gap, r2, zpve, u0, u298, h298, g298, cv"
   ]
  },
  {
   "cell_type": "code",
   "execution_count": null,
   "metadata": {},
   "outputs": [],
   "source": [
    "# evaluate model\n",
    "best_model = torch.load('saved_models/model_'+prefix_filename+'_'+start_time+'_'+str(best_param[\"valid_epoch\"])+'.pt')     \n",
    "\n",
    "test_MAE_normalized, test_MAE, test_MSE_normalized, test_MSE, = eval(best_model, test_df)\n",
    "print(\"best epoch:\"+str(best_param[\"valid_epoch\"])+'\\n'\\\n",
    "    +\"test_MAE\"+\":\"+\"\\n\"+str(test_MAE)+'\\n'\\\n",
    "    +\"test_MSE_normalized_mean: \"+str(test_MSE_normalized.mean())+'\\n'\\\n",
    "    )"
   ]
  },
  {
   "cell_type": "code",
   "execution_count": null,
   "metadata": {},
   "outputs": [],
   "source": []
  }
 ],
 "metadata": {
  "kernelspec": {
   "display_name": "Python 3",
   "language": "python",
   "name": "python3"
  },
  "language_info": {
   "codemirror_mode": {
    "name": "ipython",
    "version": 3
   },
   "file_extension": ".py",
   "mimetype": "text/x-python",
   "name": "python",
   "nbconvert_exporter": "python",
   "pygments_lexer": "ipython3",
   "version": "3.7.3"
  }
 },
 "nbformat": 4,
 "nbformat_minor": 2
}
